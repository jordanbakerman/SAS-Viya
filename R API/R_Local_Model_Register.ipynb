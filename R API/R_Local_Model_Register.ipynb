{
 "cells": [
  {
   "cell_type": "markdown",
   "metadata": {},
   "source": [
    "# Register R Model with SASCTL"
   ]
  },
  {
   "cell_type": "markdown",
   "metadata": {},
   "source": [
    "Excludes Preprocessing"
   ]
  },
  {
   "cell_type": "markdown",
   "metadata": {},
   "source": [
    "# Data"
   ]
  },
  {
   "cell_type": "markdown",
   "metadata": {},
   "source": [
    "| Name      | Model Role | Measurement Level | Description                                                            |\n",
    "|:----------|:-----------|:------------------|:-----------------------------------------------------------------------|\n",
    "| BAD       | Target     | Binary            | 1 = applicant defaulted on loan or delinquent, 0 = applicant paid loan |\n",
    "| CLAGE     | Input      | Interval          | Age of oldest credit line in months                                    |\n",
    "| CLNO      | Input      | Interval          | Number of credit lines                                                 |\n",
    "| DEBTINC   | Input      | Interval          | Debt-to-income ratio                                                   |\n",
    "| DELINQ    | Input      | Interval          | Number of delinquent credit lines                                      |\n",
    "| DEROG     | Input      | Interval          | Number of derogatory reports                                           |\n",
    "| JOB       | Input      | Nominal           | Occupational categories                                                |\n",
    "| LOAN      | Input      | Interval          | Amount of loan request                                                 |\n",
    "| MORTDUE   | Input      | Interval          | Amount due on existing mortgage                                        |\n",
    "| NINQ      | Input      | Interval          | Number of recent credit inquiries                                      |\n",
    "| REASON    | Input      | Binary            | DebtCon = debt consolidation, HomeImp = home improvement               |\n",
    "| VALUE     | Input      | Interval          | Value of current property                                              |\n",
    "| YOJ       | Input      | Interval          | Years at present job                                                   |"
   ]
  },
  {
   "cell_type": "markdown",
   "metadata": {},
   "source": [
    "# Load Packages"
   ]
  },
  {
   "cell_type": "code",
   "execution_count": 1,
   "metadata": {},
   "outputs": [
    {
     "name": "stderr",
     "output_type": "stream",
     "text": [
      "Loading required package: XML\n",
      "\n",
      "\n",
      "Attaching package: 'zip'\n",
      "\n",
      "\n",
      "The following objects are masked from 'package:utils':\n",
      "\n",
      "    unzip, zip\n",
      "\n",
      "\n"
     ]
    }
   ],
   "source": [
    "library(sasctl)\n",
    "library(pmml)\n",
    "library(XML)\n",
    "library(zip)"
   ]
  },
  {
   "cell_type": "markdown",
   "metadata": {},
   "source": [
    "# Load Data"
   ]
  },
  {
   "cell_type": "code",
   "execution_count": 2,
   "metadata": {},
   "outputs": [],
   "source": [
    "df = read.csv(paste0(dirname(getwd()),\"/Data/hmeq.csv\"))"
   ]
  },
  {
   "cell_type": "markdown",
   "metadata": {},
   "source": [
    "# View Data"
   ]
  },
  {
   "cell_type": "code",
   "execution_count": 3,
   "metadata": {},
   "outputs": [
    {
     "data": {
      "text/html": [
       "<style>\n",
       ".list-inline {list-style: none; margin:0; padding: 0}\n",
       ".list-inline>li {display: inline-block}\n",
       ".list-inline>li:not(:last-child)::after {content: \"\\00b7\"; padding: 0 .5ex}\n",
       "</style>\n",
       "<ol class=list-inline><li>5960</li><li>13</li></ol>\n"
      ],
      "text/latex": [
       "\\begin{enumerate*}\n",
       "\\item 5960\n",
       "\\item 13\n",
       "\\end{enumerate*}\n"
      ],
      "text/markdown": [
       "1. 5960\n",
       "2. 13\n",
       "\n",
       "\n"
      ],
      "text/plain": [
       "[1] 5960   13"
      ]
     },
     "metadata": {},
     "output_type": "display_data"
    }
   ],
   "source": [
    "dim(df)"
   ]
  },
  {
   "cell_type": "code",
   "execution_count": 4,
   "metadata": {},
   "outputs": [
    {
     "data": {
      "text/html": [
       "<table class=\"dataframe\">\n",
       "<caption>A data.frame: 6 × 13</caption>\n",
       "<thead>\n",
       "\t<tr><th></th><th scope=col>BAD</th><th scope=col>LOAN</th><th scope=col>MORTDUE</th><th scope=col>VALUE</th><th scope=col>REASON</th><th scope=col>JOB</th><th scope=col>YOJ</th><th scope=col>DEROG</th><th scope=col>DELINQ</th><th scope=col>CLAGE</th><th scope=col>NINQ</th><th scope=col>CLNO</th><th scope=col>DEBTINC</th></tr>\n",
       "\t<tr><th></th><th scope=col>&lt;int&gt;</th><th scope=col>&lt;int&gt;</th><th scope=col>&lt;dbl&gt;</th><th scope=col>&lt;dbl&gt;</th><th scope=col>&lt;chr&gt;</th><th scope=col>&lt;chr&gt;</th><th scope=col>&lt;dbl&gt;</th><th scope=col>&lt;int&gt;</th><th scope=col>&lt;int&gt;</th><th scope=col>&lt;dbl&gt;</th><th scope=col>&lt;int&gt;</th><th scope=col>&lt;int&gt;</th><th scope=col>&lt;dbl&gt;</th></tr>\n",
       "</thead>\n",
       "<tbody>\n",
       "\t<tr><th scope=row>1</th><td>1</td><td>1100</td><td>25860</td><td> 39025</td><td>HomeImp</td><td>Other </td><td>10.5</td><td> 0</td><td> 0</td><td> 94.36667</td><td> 1</td><td> 9</td><td>      NA</td></tr>\n",
       "\t<tr><th scope=row>2</th><td>1</td><td>1300</td><td>70053</td><td> 68400</td><td>HomeImp</td><td>Other </td><td> 7.0</td><td> 0</td><td> 2</td><td>121.83333</td><td> 0</td><td>14</td><td>      NA</td></tr>\n",
       "\t<tr><th scope=row>3</th><td>1</td><td>1500</td><td>13500</td><td> 16700</td><td>HomeImp</td><td>Other </td><td> 4.0</td><td> 0</td><td> 0</td><td>149.46667</td><td> 1</td><td>10</td><td>      NA</td></tr>\n",
       "\t<tr><th scope=row>4</th><td>1</td><td>1500</td><td>   NA</td><td>    NA</td><td>       </td><td>      </td><td>  NA</td><td>NA</td><td>NA</td><td>       NA</td><td>NA</td><td>NA</td><td>      NA</td></tr>\n",
       "\t<tr><th scope=row>5</th><td>0</td><td>1700</td><td>97800</td><td>112000</td><td>HomeImp</td><td>Office</td><td> 3.0</td><td> 0</td><td> 0</td><td> 93.33333</td><td> 0</td><td>14</td><td>      NA</td></tr>\n",
       "\t<tr><th scope=row>6</th><td>1</td><td>1700</td><td>30548</td><td> 40320</td><td>HomeImp</td><td>Other </td><td> 9.0</td><td> 0</td><td> 0</td><td>101.46600</td><td> 1</td><td> 8</td><td>37.11361</td></tr>\n",
       "</tbody>\n",
       "</table>\n"
      ],
      "text/latex": [
       "A data.frame: 6 × 13\n",
       "\\begin{tabular}{r|lllllllllllll}\n",
       "  & BAD & LOAN & MORTDUE & VALUE & REASON & JOB & YOJ & DEROG & DELINQ & CLAGE & NINQ & CLNO & DEBTINC\\\\\n",
       "  & <int> & <int> & <dbl> & <dbl> & <chr> & <chr> & <dbl> & <int> & <int> & <dbl> & <int> & <int> & <dbl>\\\\\n",
       "\\hline\n",
       "\t1 & 1 & 1100 & 25860 &  39025 & HomeImp & Other  & 10.5 &  0 &  0 &  94.36667 &  1 &  9 &       NA\\\\\n",
       "\t2 & 1 & 1300 & 70053 &  68400 & HomeImp & Other  &  7.0 &  0 &  2 & 121.83333 &  0 & 14 &       NA\\\\\n",
       "\t3 & 1 & 1500 & 13500 &  16700 & HomeImp & Other  &  4.0 &  0 &  0 & 149.46667 &  1 & 10 &       NA\\\\\n",
       "\t4 & 1 & 1500 &    NA &     NA &         &        &   NA & NA & NA &        NA & NA & NA &       NA\\\\\n",
       "\t5 & 0 & 1700 & 97800 & 112000 & HomeImp & Office &  3.0 &  0 &  0 &  93.33333 &  0 & 14 &       NA\\\\\n",
       "\t6 & 1 & 1700 & 30548 &  40320 & HomeImp & Other  &  9.0 &  0 &  0 & 101.46600 &  1 &  8 & 37.11361\\\\\n",
       "\\end{tabular}\n"
      ],
      "text/markdown": [
       "\n",
       "A data.frame: 6 × 13\n",
       "\n",
       "| <!--/--> | BAD &lt;int&gt; | LOAN &lt;int&gt; | MORTDUE &lt;dbl&gt; | VALUE &lt;dbl&gt; | REASON &lt;chr&gt; | JOB &lt;chr&gt; | YOJ &lt;dbl&gt; | DEROG &lt;int&gt; | DELINQ &lt;int&gt; | CLAGE &lt;dbl&gt; | NINQ &lt;int&gt; | CLNO &lt;int&gt; | DEBTINC &lt;dbl&gt; |\n",
       "|---|---|---|---|---|---|---|---|---|---|---|---|---|---|\n",
       "| 1 | 1 | 1100 | 25860 |  39025 | HomeImp | Other  | 10.5 |  0 |  0 |  94.36667 |  1 |  9 |       NA |\n",
       "| 2 | 1 | 1300 | 70053 |  68400 | HomeImp | Other  |  7.0 |  0 |  2 | 121.83333 |  0 | 14 |       NA |\n",
       "| 3 | 1 | 1500 | 13500 |  16700 | HomeImp | Other  |  4.0 |  0 |  0 | 149.46667 |  1 | 10 |       NA |\n",
       "| 4 | 1 | 1500 |    NA |     NA | <!----> | <!----> |   NA | NA | NA |        NA | NA | NA |       NA |\n",
       "| 5 | 0 | 1700 | 97800 | 112000 | HomeImp | Office |  3.0 |  0 |  0 |  93.33333 |  0 | 14 |       NA |\n",
       "| 6 | 1 | 1700 | 30548 |  40320 | HomeImp | Other  |  9.0 |  0 |  0 | 101.46600 |  1 |  8 | 37.11361 |\n",
       "\n"
      ],
      "text/plain": [
       "  BAD LOAN MORTDUE VALUE  REASON  JOB    YOJ  DEROG DELINQ CLAGE     NINQ CLNO\n",
       "1 1   1100 25860    39025 HomeImp Other  10.5  0     0      94.36667  1    9  \n",
       "2 1   1300 70053    68400 HomeImp Other   7.0  0     2     121.83333  0   14  \n",
       "3 1   1500 13500    16700 HomeImp Other   4.0  0     0     149.46667  1   10  \n",
       "4 1   1500    NA       NA                  NA NA    NA            NA NA   NA  \n",
       "5 0   1700 97800   112000 HomeImp Office  3.0  0     0      93.33333  0   14  \n",
       "6 1   1700 30548    40320 HomeImp Other   9.0  0     0     101.46600  1    8  \n",
       "  DEBTINC \n",
       "1       NA\n",
       "2       NA\n",
       "3       NA\n",
       "4       NA\n",
       "5       NA\n",
       "6 37.11361"
      ]
     },
     "metadata": {},
     "output_type": "display_data"
    }
   ],
   "source": [
    "head(df)"
   ]
  },
  {
   "cell_type": "code",
   "execution_count": 5,
   "metadata": {},
   "outputs": [
    {
     "data": {
      "text/plain": [
       "      BAD              LOAN          MORTDUE           VALUE       \n",
       " Min.   :0.0000   Min.   : 1100   Min.   :  2063   Min.   :  8000  \n",
       " 1st Qu.:0.0000   1st Qu.:11100   1st Qu.: 46276   1st Qu.: 66076  \n",
       " Median :0.0000   Median :16300   Median : 65019   Median : 89236  \n",
       " Mean   :0.1995   Mean   :18608   Mean   : 73761   Mean   :101776  \n",
       " 3rd Qu.:0.0000   3rd Qu.:23300   3rd Qu.: 91488   3rd Qu.:119824  \n",
       " Max.   :1.0000   Max.   :89900   Max.   :399550   Max.   :855909  \n",
       "                                  NA's   :518      NA's   :112     \n",
       "    REASON              JOB                 YOJ             DEROG        \n",
       " Length:5960        Length:5960        Min.   : 0.000   Min.   : 0.0000  \n",
       " Class :character   Class :character   1st Qu.: 3.000   1st Qu.: 0.0000  \n",
       " Mode  :character   Mode  :character   Median : 7.000   Median : 0.0000  \n",
       "                                       Mean   : 8.922   Mean   : 0.2546  \n",
       "                                       3rd Qu.:13.000   3rd Qu.: 0.0000  \n",
       "                                       Max.   :41.000   Max.   :10.0000  \n",
       "                                       NA's   :515      NA's   :708      \n",
       "     DELINQ            CLAGE             NINQ             CLNO     \n",
       " Min.   : 0.0000   Min.   :   0.0   Min.   : 0.000   Min.   : 0.0  \n",
       " 1st Qu.: 0.0000   1st Qu.: 115.1   1st Qu.: 0.000   1st Qu.:15.0  \n",
       " Median : 0.0000   Median : 173.5   Median : 1.000   Median :20.0  \n",
       " Mean   : 0.4494   Mean   : 179.8   Mean   : 1.186   Mean   :21.3  \n",
       " 3rd Qu.: 0.0000   3rd Qu.: 231.6   3rd Qu.: 2.000   3rd Qu.:26.0  \n",
       " Max.   :15.0000   Max.   :1168.2   Max.   :17.000   Max.   :71.0  \n",
       " NA's   :580       NA's   :308      NA's   :510      NA's   :222   \n",
       "    DEBTINC        \n",
       " Min.   :  0.5245  \n",
       " 1st Qu.: 29.1400  \n",
       " Median : 34.8183  \n",
       " Mean   : 33.7799  \n",
       " 3rd Qu.: 39.0031  \n",
       " Max.   :203.3121  \n",
       " NA's   :1267      "
      ]
     },
     "metadata": {},
     "output_type": "display_data"
    }
   ],
   "source": [
    "summary(df)"
   ]
  },
  {
   "cell_type": "code",
   "execution_count": 6,
   "metadata": {},
   "outputs": [
    {
     "data": {
      "text/plain": [
       "\n",
       "   0    1 \n",
       "4771 1189 "
      ]
     },
     "metadata": {},
     "output_type": "display_data"
    }
   ],
   "source": [
    "table(df$BAD)"
   ]
  },
  {
   "cell_type": "code",
   "execution_count": 7,
   "metadata": {},
   "outputs": [
    {
     "data": {
      "text/plain": [
       "\n",
       "            Mgr  Office   Other ProfExe   Sales    Self \n",
       "    279     767     948    2388    1276     109     193 "
      ]
     },
     "metadata": {},
     "output_type": "display_data"
    }
   ],
   "source": [
    "table(df$JOB)"
   ]
  },
  {
   "cell_type": "code",
   "execution_count": 8,
   "metadata": {},
   "outputs": [
    {
     "data": {
      "text/plain": [
       "\n",
       "        DebtCon HomeImp \n",
       "    252    3928    1780 "
      ]
     },
     "metadata": {},
     "output_type": "display_data"
    }
   ],
   "source": [
    "table(df$REASON)"
   ]
  },
  {
   "cell_type": "markdown",
   "metadata": {},
   "source": [
    "# Drop Missing"
   ]
  },
  {
   "cell_type": "code",
   "execution_count": 9,
   "metadata": {},
   "outputs": [
    {
     "data": {
      "text/html": [
       "<style>\n",
       ".list-inline {list-style: none; margin:0; padding: 0}\n",
       ".list-inline>li {display: inline-block}\n",
       ".list-inline>li:not(:last-child)::after {content: \"\\00b7\"; padding: 0 .5ex}\n",
       "</style>\n",
       "<ol class=list-inline><li>3515</li><li>13</li></ol>\n"
      ],
      "text/latex": [
       "\\begin{enumerate*}\n",
       "\\item 3515\n",
       "\\item 13\n",
       "\\end{enumerate*}\n"
      ],
      "text/markdown": [
       "1. 3515\n",
       "2. 13\n",
       "\n",
       "\n"
      ],
      "text/plain": [
       "[1] 3515   13"
      ]
     },
     "metadata": {},
     "output_type": "display_data"
    }
   ],
   "source": [
    "df = df[complete.cases(df),]\n",
    "dim(df)"
   ]
  },
  {
   "cell_type": "markdown",
   "metadata": {},
   "source": [
    "# Get Variables"
   ]
  },
  {
   "cell_type": "code",
   "execution_count": 10,
   "metadata": {},
   "outputs": [],
   "source": [
    "target = \"BAD\"\n",
    "inputs = c(\"LOAN\",\"MORTDUE\",\"VALUE\",\"YOJ\",\"DEROG\",\"DELINQ\",\"CLAGE\",\"NINQ\",\"CLNO\",\"DEBTINC\")\n",
    "df = df[c(target,inputs)]"
   ]
  },
  {
   "cell_type": "markdown",
   "metadata": {},
   "source": [
    "# Partition Data"
   ]
  },
  {
   "cell_type": "code",
   "execution_count": 11,
   "metadata": {},
   "outputs": [
    {
     "name": "stdout",
     "output_type": "stream",
     "text": [
      "Training Data Shape = 2460 11 \n",
      "Valid Data Shape = 703 11 \n",
      "Test Data Shape = 352 11 \n"
     ]
    }
   ],
   "source": [
    "train_pct = 0.70\n",
    "valid_pct = 0.20\n",
    "test_pct = 0.10\n",
    "nrows = nrow(df)\n",
    "myseq = seq(nrows)\n",
    "\n",
    "set.seed(802)\n",
    "train_index = sample(myseq, round(nrows*train_pct))\n",
    "valid_test_index = setdiff(myseq, train_index)\n",
    "\n",
    "valid_index = sample(valid_test_index, round(nrows*valid_pct))\n",
    "test_index = setdiff(valid_test_index, valid_index)\n",
    "\n",
    "df_train = df[train_index, ]\n",
    "cat(\"Training Data Shape =\", dim(df_train), \"\\n\")\n",
    "df_valid = df[valid_index, ]\n",
    "cat(\"Valid Data Shape =\", dim(df_valid), \"\\n\")\n",
    "df_test = df[test_index, ]\n",
    "cat(\"Test Data Shape =\", dim(df_test), \"\\n\")"
   ]
  },
  {
   "cell_type": "markdown",
   "metadata": {},
   "source": [
    "# Build Model"
   ]
  },
  {
   "cell_type": "code",
   "execution_count": 12,
   "metadata": {},
   "outputs": [
    {
     "data": {
      "text/plain": [
       "\n",
       "Call:\n",
       "glm(formula = BAD ~ ., family = \"binomial\", data = df_train)\n",
       "\n",
       "Deviance Residuals: \n",
       "    Min       1Q   Median       3Q      Max  \n",
       "-1.5150  -0.4028  -0.3035  -0.1996   3.5535  \n",
       "\n",
       "Coefficients:\n",
       "              Estimate Std. Error z value Pr(>|z|)    \n",
       "(Intercept) -5.531e+00  5.239e-01 -10.556  < 2e-16 ***\n",
       "LOAN        -1.844e-05  9.102e-06  -2.026 0.042803 *  \n",
       "MORTDUE     -2.828e-06  4.099e-06  -0.690 0.490213    \n",
       "VALUE        3.600e-06  3.497e-06   1.029 0.303282    \n",
       "YOJ         -1.460e-02  1.164e-02  -1.255 0.209636    \n",
       "DEROG        6.312e-01  1.188e-01   5.314 1.07e-07 ***\n",
       "DELINQ       5.961e-01  7.901e-02   7.544 4.54e-14 ***\n",
       "CLAGE       -4.051e-03  1.233e-03  -3.284 0.001023 ** \n",
       "NINQ         1.492e-01  4.267e-02   3.497 0.000471 ***\n",
       "CLNO        -2.100e-02  9.549e-03  -2.199 0.027889 *  \n",
       "DEBTINC      1.108e-01  1.260e-02   8.793  < 2e-16 ***\n",
       "---\n",
       "Signif. codes:  0 '***' 0.001 '**' 0.01 '*' 0.05 '.' 0.1 ' ' 1\n",
       "\n",
       "(Dispersion parameter for binomial family taken to be 1)\n",
       "\n",
       "    Null deviance: 1458.7  on 2459  degrees of freedom\n",
       "Residual deviance: 1141.7  on 2449  degrees of freedom\n",
       "AIC: 1163.7\n",
       "\n",
       "Number of Fisher Scoring iterations: 6\n"
      ]
     },
     "metadata": {},
     "output_type": "display_data"
    },
    {
     "name": "stdout",
     "output_type": "stream",
     "text": [
      "[1] \"Odds Ratios\"\n"
     ]
    },
    {
     "data": {
      "text/html": [
       "<style>\n",
       ".dl-inline {width: auto; margin:0; padding: 0}\n",
       ".dl-inline>dt, .dl-inline>dd {float: none; width: auto; display: inline-block}\n",
       ".dl-inline>dt::after {content: \":\\0020\"; padding-right: .5ex}\n",
       ".dl-inline>dt:not(:first-of-type) {padding-left: .5ex}\n",
       "</style><dl class=dl-inline><dt>(Intercept)</dt><dd>0.00396254964848569</dd><dt>LOAN</dt><dd>0.999981563063648</dd><dt>MORTDUE</dt><dd>0.999997172086359</dd><dt>VALUE</dt><dd>1.00000359963962</dd><dt>YOJ</dt><dd>0.985502831562059</dd><dt>DEROG</dt><dd>1.8799435379296</dd><dt>DELINQ</dt><dd>1.81499232161364</dd><dt>CLAGE</dt><dd>0.995957346856099</dd><dt>NINQ</dt><dd>1.16092264381296</dd><dt>CLNO</dt><dd>0.979222817361085</dd><dt>DEBTINC</dt><dd>1.11715080656009</dd></dl>\n"
      ],
      "text/latex": [
       "\\begin{description*}\n",
       "\\item[(Intercept)] 0.00396254964848569\n",
       "\\item[LOAN] 0.999981563063648\n",
       "\\item[MORTDUE] 0.999997172086359\n",
       "\\item[VALUE] 1.00000359963962\n",
       "\\item[YOJ] 0.985502831562059\n",
       "\\item[DEROG] 1.8799435379296\n",
       "\\item[DELINQ] 1.81499232161364\n",
       "\\item[CLAGE] 0.995957346856099\n",
       "\\item[NINQ] 1.16092264381296\n",
       "\\item[CLNO] 0.979222817361085\n",
       "\\item[DEBTINC] 1.11715080656009\n",
       "\\end{description*}\n"
      ],
      "text/markdown": [
       "(Intercept)\n",
       ":   0.00396254964848569LOAN\n",
       ":   0.999981563063648MORTDUE\n",
       ":   0.999997172086359VALUE\n",
       ":   1.00000359963962YOJ\n",
       ":   0.985502831562059DEROG\n",
       ":   1.8799435379296DELINQ\n",
       ":   1.81499232161364CLAGE\n",
       ":   0.995957346856099NINQ\n",
       ":   1.16092264381296CLNO\n",
       ":   0.979222817361085DEBTINC\n",
       ":   1.11715080656009\n",
       "\n"
      ],
      "text/plain": [
       "(Intercept)        LOAN     MORTDUE       VALUE         YOJ       DEROG \n",
       " 0.00396255  0.99998156  0.99999717  1.00000360  0.98550283  1.87994354 \n",
       "     DELINQ       CLAGE        NINQ        CLNO     DEBTINC \n",
       " 1.81499232  0.99595735  1.16092264  0.97922282  1.11715081 "
      ]
     },
     "metadata": {},
     "output_type": "display_data"
    }
   ],
   "source": [
    "lr = glm(BAD ~ ., df_train, family = \"binomial\")\n",
    "summary(lr)\n",
    "print(\"Odds Ratios\")\n",
    "exp(coef(lr))"
   ]
  },
  {
   "cell_type": "markdown",
   "metadata": {},
   "source": [
    "# Score Data"
   ]
  },
  {
   "cell_type": "code",
   "execution_count": 13,
   "metadata": {},
   "outputs": [
    {
     "name": "stdout",
     "output_type": "stream",
     "text": [
      "Logistic Regression Train Accuracy = 0.9297 \n",
      "Logistic Regression Valid Accuracy = 0.9289 \n",
      "Logistic Regression Test Accuracy = 0.9205 \n"
     ]
    }
   ],
   "source": [
    "lr_probs_train = predict(lr, newdata = df_train, type = \"response\")\n",
    "lr_preds_train = as.numeric(lr_probs_train > 0.5)\n",
    "lr_score_train = sum(lr_preds_train==df_train[target]) / nrow(df_train)\n",
    "cat(\"Logistic Regression Train Accuracy =\", round(lr_score_train, 4), \"\\n\")\n",
    "\n",
    "lr_probs_valid = predict(lr, newdata = df_valid, type = \"response\")\n",
    "lr_preds_valid = as.numeric(lr_probs_valid > 0.5)\n",
    "lr_score_valid = sum(lr_preds_valid==df_valid[target]) / nrow(df_valid)\n",
    "cat(\"Logistic Regression Valid Accuracy =\", round(lr_score_valid, 4), \"\\n\")\n",
    "\n",
    "lr_probs_test = predict(lr, newdata = df_test, type = \"response\")\n",
    "lr_preds_test = as.numeric(lr_probs_test > 0.5)\n",
    "lr_score_test = sum(lr_preds_test==df_test[target]) / nrow(df_test)\n",
    "cat(\"Logistic Regression Test Accuracy =\", round(lr_score_test, 4), \"\\n\")"
   ]
  },
  {
   "cell_type": "code",
   "execution_count": 14,
   "metadata": {},
   "outputs": [
    {
     "data": {
      "text/html": [
       "<table class=\"dataframe\">\n",
       "<caption>A data.frame: 6 × 4</caption>\n",
       "<thead>\n",
       "\t<tr><th></th><th scope=col>BAD</th><th scope=col>P_BAD1</th><th scope=col>P_BAD0</th><th scope=col>EM_CLASSIFICATION</th></tr>\n",
       "\t<tr><th></th><th scope=col>&lt;int&gt;</th><th scope=col>&lt;dbl&gt;</th><th scope=col>&lt;dbl&gt;</th><th scope=col>&lt;dbl&gt;</th></tr>\n",
       "</thead>\n",
       "<tbody>\n",
       "\t<tr><th scope=row>27</th><td>0</td><td>0.054431441</td><td>0.9455686</td><td>0</td></tr>\n",
       "\t<tr><th scope=row>103</th><td>0</td><td>0.007767325</td><td>0.9922327</td><td>0</td></tr>\n",
       "\t<tr><th scope=row>126</th><td>0</td><td>0.064837052</td><td>0.9351629</td><td>0</td></tr>\n",
       "\t<tr><th scope=row>341</th><td>0</td><td>0.006324597</td><td>0.9936754</td><td>0</td></tr>\n",
       "\t<tr><th scope=row>416</th><td>0</td><td>0.174562803</td><td>0.8254372</td><td>0</td></tr>\n",
       "\t<tr><th scope=row>439</th><td>0</td><td>0.007290371</td><td>0.9927096</td><td>0</td></tr>\n",
       "</tbody>\n",
       "</table>\n"
      ],
      "text/latex": [
       "A data.frame: 6 × 4\n",
       "\\begin{tabular}{r|llll}\n",
       "  & BAD & P\\_BAD1 & P\\_BAD0 & EM\\_CLASSIFICATION\\\\\n",
       "  & <int> & <dbl> & <dbl> & <dbl>\\\\\n",
       "\\hline\n",
       "\t27 & 0 & 0.054431441 & 0.9455686 & 0\\\\\n",
       "\t103 & 0 & 0.007767325 & 0.9922327 & 0\\\\\n",
       "\t126 & 0 & 0.064837052 & 0.9351629 & 0\\\\\n",
       "\t341 & 0 & 0.006324597 & 0.9936754 & 0\\\\\n",
       "\t416 & 0 & 0.174562803 & 0.8254372 & 0\\\\\n",
       "\t439 & 0 & 0.007290371 & 0.9927096 & 0\\\\\n",
       "\\end{tabular}\n"
      ],
      "text/markdown": [
       "\n",
       "A data.frame: 6 × 4\n",
       "\n",
       "| <!--/--> | BAD &lt;int&gt; | P_BAD1 &lt;dbl&gt; | P_BAD0 &lt;dbl&gt; | EM_CLASSIFICATION &lt;dbl&gt; |\n",
       "|---|---|---|---|---|\n",
       "| 27 | 0 | 0.054431441 | 0.9455686 | 0 |\n",
       "| 103 | 0 | 0.007767325 | 0.9922327 | 0 |\n",
       "| 126 | 0 | 0.064837052 | 0.9351629 | 0 |\n",
       "| 341 | 0 | 0.006324597 | 0.9936754 | 0 |\n",
       "| 416 | 0 | 0.174562803 | 0.8254372 | 0 |\n",
       "| 439 | 0 | 0.007290371 | 0.9927096 | 0 |\n",
       "\n"
      ],
      "text/plain": [
       "    BAD P_BAD1      P_BAD0    EM_CLASSIFICATION\n",
       "27  0   0.054431441 0.9455686 0                \n",
       "103 0   0.007767325 0.9922327 0                \n",
       "126 0   0.064837052 0.9351629 0                \n",
       "341 0   0.006324597 0.9936754 0                \n",
       "416 0   0.174562803 0.8254372 0                \n",
       "439 0   0.007290371 0.9927096 0                "
      ]
     },
     "metadata": {},
     "output_type": "display_data"
    }
   ],
   "source": [
    "df_train_scored = data.frame(BAD=df_train$BAD, P_BAD1=lr_probs_train, P_BAD0=1-lr_probs_train, EM_CLASSIFICATION=lr_preds_train)\n",
    "df_valid_scored = data.frame(BAD=df_valid$BAD, P_BAD1=lr_probs_valid, P_BAD0=1-lr_probs_valid, EM_CLASSIFICATION=lr_preds_valid)\n",
    "df_test_scored  = data.frame(BAD=df_test$BAD, P_BAD1=lr_probs_test, P_BAD0=1-lr_probs_test, EM_CLASSIFICATION=lr_preds_test)\n",
    "head(df_test_scored)"
   ]
  },
  {
   "cell_type": "markdown",
   "metadata": {},
   "source": [
    "# Create Metadata Directory"
   ]
  },
  {
   "cell_type": "code",
   "execution_count": 15,
   "metadata": {},
   "outputs": [],
   "source": [
    "output_dir = paste0(dirname(getwd()),\"/Model_Manager/Metadata\")\n",
    "model_name = \"R_LR_Model\"\n",
    "data_name = \"HMEQ\"\n",
    "zip_folder = paste0(output_dir, \"/\", data_name, \"_\", model_name)"
   ]
  },
  {
   "cell_type": "code",
   "execution_count": 16,
   "metadata": {},
   "outputs": [],
   "source": [
    "if (file.exists(zip_folder)){\n",
    "    unlink(zip_folder, recursive=TRUE) \n",
    "}\n",
    "\n",
    "dir.create(zip_folder)"
   ]
  },
  {
   "cell_type": "markdown",
   "metadata": {},
   "source": [
    "# Save R Model"
   ]
  },
  {
   "cell_type": "code",
   "execution_count": 17,
   "metadata": {},
   "outputs": [],
   "source": [
    "saveRDS(lr, paste0(zip_folder, \"/\",model_name,\".rds\"))"
   ]
  },
  {
   "cell_type": "markdown",
   "metadata": {},
   "source": [
    "# Get Sample R Score Code"
   ]
  },
  {
   "cell_type": "code",
   "execution_count": 18,
   "metadata": {},
   "outputs": [
    {
     "name": "stderr",
     "output_type": "stream",
     "text": [
      "Example file copied to C:/Users/jobake/FSBU/Model_Manager/Metadata/HMEQ_R_LR_Model/scoreCode.R\n",
      "\n"
     ]
    }
   ],
   "source": [
    "create_scoreSample(zip_folder, openFile = FALSE)\n",
    "file.show(paste0(zip_folder,\"/scoreCode.R\"), title=NULL)"
   ]
  },
  {
   "cell_type": "markdown",
   "metadata": {},
   "source": [
    "# Model Properties"
   ]
  },
  {
   "cell_type": "code",
   "execution_count": 19,
   "metadata": {},
   "outputs": [
    {
     "name": "stdout",
     "output_type": "stream",
     "text": [
      "[1] \"File written to C:/Users/jobake/FSBU/Model_Manager/Metadata/HMEQ_R_LR_Model/ModelProperties.json\"\n"
     ]
    },
    {
     "data": {
      "text/html": [
       "<dl>\n",
       "\t<dt>$name</dt>\n",
       "\t\t<dd>'R Logistic'</dd>\n",
       "\t<dt>$description</dt>\n",
       "\t\t<dd>'R model'</dd>\n",
       "\t<dt>$`function`</dt>\n",
       "\t\t<dd>'Classification'</dd>\n",
       "\t<dt>$scoreCodeType</dt>\n",
       "\t\t<dd>'R'</dd>\n",
       "\t<dt>$trainTable</dt>\n",
       "\t\t<dd>'HMEQ'</dd>\n",
       "\t<dt>$trainCodeType</dt>\n",
       "\t\t<dd>'R'</dd>\n",
       "\t<dt>$algorithm</dt>\n",
       "\t\t<dd>'Logistic Regression'</dd>\n",
       "\t<dt>$targetVariable</dt>\n",
       "\t\t<dd>'BAD'</dd>\n",
       "\t<dt>$targetEvent</dt>\n",
       "\t\t<dd>'1'</dd>\n",
       "\t<dt>$targetLevel</dt>\n",
       "\t\t<dd>'Binary'</dd>\n",
       "\t<dt>$eventProbVar</dt>\n",
       "\t\t<dd>'P_BAD1'</dd>\n",
       "\t<dt>$modeler</dt>\n",
       "\t\t<dd>'jobake'</dd>\n",
       "\t<dt>$tool</dt>\n",
       "\t\t<dd>'R'</dd>\n",
       "\t<dt>$toolVersion</dt>\n",
       "\t\t<dd>'4.2.2'</dd>\n",
       "</dl>\n"
      ],
      "text/latex": [
       "\\begin{description}\n",
       "\\item[\\$name] 'R Logistic'\n",
       "\\item[\\$description] 'R model'\n",
       "\\item[\\$`function`] 'Classification'\n",
       "\\item[\\$scoreCodeType] 'R'\n",
       "\\item[\\$trainTable] 'HMEQ'\n",
       "\\item[\\$trainCodeType] 'R'\n",
       "\\item[\\$algorithm] 'Logistic Regression'\n",
       "\\item[\\$targetVariable] 'BAD'\n",
       "\\item[\\$targetEvent] '1'\n",
       "\\item[\\$targetLevel] 'Binary'\n",
       "\\item[\\$eventProbVar] 'P\\_BAD1'\n",
       "\\item[\\$modeler] 'jobake'\n",
       "\\item[\\$tool] 'R'\n",
       "\\item[\\$toolVersion] '4.2.2'\n",
       "\\end{description}\n"
      ],
      "text/markdown": [
       "$name\n",
       ":   'R Logistic'\n",
       "$description\n",
       ":   'R model'\n",
       "$`function`\n",
       ":   'Classification'\n",
       "$scoreCodeType\n",
       ":   'R'\n",
       "$trainTable\n",
       ":   'HMEQ'\n",
       "$trainCodeType\n",
       ":   'R'\n",
       "$algorithm\n",
       ":   'Logistic Regression'\n",
       "$targetVariable\n",
       ":   'BAD'\n",
       "$targetEvent\n",
       ":   '1'\n",
       "$targetLevel\n",
       ":   'Binary'\n",
       "$eventProbVar\n",
       ":   'P_BAD1'\n",
       "$modeler\n",
       ":   'jobake'\n",
       "$tool\n",
       ":   'R'\n",
       "$toolVersion\n",
       ":   '4.2.2'\n",
       "\n",
       "\n"
      ],
      "text/plain": [
       "$name\n",
       "[1] \"R Logistic\"\n",
       "\n",
       "$description\n",
       "[1] \"R model\"\n",
       "\n",
       "$`function`\n",
       "[1] \"Classification\"\n",
       "\n",
       "$scoreCodeType\n",
       "[1] \"R\"\n",
       "\n",
       "$trainTable\n",
       "[1] \"HMEQ\"\n",
       "\n",
       "$trainCodeType\n",
       "[1] \"R\"\n",
       "\n",
       "$algorithm\n",
       "[1] \"Logistic Regression\"\n",
       "\n",
       "$targetVariable\n",
       "[1] \"BAD\"\n",
       "\n",
       "$targetEvent\n",
       "[1] \"1\"\n",
       "\n",
       "$targetLevel\n",
       "[1] \"Binary\"\n",
       "\n",
       "$eventProbVar\n",
       "[1] \"P_BAD1\"\n",
       "\n",
       "$modeler\n",
       "[1] \"jobake\"\n",
       "\n",
       "$tool\n",
       "[1] \"R\"\n",
       "\n",
       "$toolVersion\n",
       "[1] \"4.2.2\"\n"
      ]
     },
     "metadata": {},
     "output_type": "display_data"
    }
   ],
   "source": [
    "write_ModelProperties_json(modelName = \"R Logistic\", \n",
    "                           modelDescription = \"R model\", \n",
    "                           modelFunction = \"Classification\",\n",
    "                           trainTable = \"HMEQ\",\n",
    "                           algorithm = \"Logistic Regression\",\n",
    "                           numTargetCategories = 2,\n",
    "                           targetEvent = \"1\",\n",
    "                           targetVariable = \"BAD\",\n",
    "                           eventProbVar = \"P_BAD1\",\n",
    "                           modeler = \"jobake\",\n",
    "                           tool = \"R\",\n",
    "                           toolVersion = \"default\",\n",
    "                           path = zip_folder)"
   ]
  },
  {
   "cell_type": "markdown",
   "metadata": {},
   "source": [
    "# Model Variables"
   ]
  },
  {
   "cell_type": "code",
   "execution_count": 20,
   "metadata": {},
   "outputs": [
    {
     "name": "stdout",
     "output_type": "stream",
     "text": [
      "[1] \"File written to C:/Users/jobake/FSBU/Model_Manager/Metadata/HMEQ_R_LR_Model/inputVar.json\"\n"
     ]
    },
    {
     "data": {
      "text/html": [
       "<table class=\"dataframe\">\n",
       "<caption>A data.frame: 10 × 5</caption>\n",
       "<thead>\n",
       "\t<tr><th scope=col>name</th><th scope=col>length</th><th scope=col>type</th><th scope=col>level</th><th scope=col>role</th></tr>\n",
       "\t<tr><th scope=col>&lt;chr&gt;</th><th scope=col>&lt;dbl&gt;</th><th scope=col>&lt;chr&gt;</th><th scope=col>&lt;chr&gt;</th><th scope=col>&lt;chr&gt;</th></tr>\n",
       "</thead>\n",
       "<tbody>\n",
       "\t<tr><td>LOAN   </td><td>8</td><td>decimal</td><td>interval</td><td>input</td></tr>\n",
       "\t<tr><td>MORTDUE</td><td>8</td><td>decimal</td><td>interval</td><td>input</td></tr>\n",
       "\t<tr><td>VALUE  </td><td>8</td><td>decimal</td><td>interval</td><td>input</td></tr>\n",
       "\t<tr><td>YOJ    </td><td>8</td><td>decimal</td><td>interval</td><td>input</td></tr>\n",
       "\t<tr><td>DEROG  </td><td>8</td><td>decimal</td><td>interval</td><td>input</td></tr>\n",
       "\t<tr><td>DELINQ </td><td>8</td><td>decimal</td><td>interval</td><td>input</td></tr>\n",
       "\t<tr><td>CLAGE  </td><td>8</td><td>decimal</td><td>interval</td><td>input</td></tr>\n",
       "\t<tr><td>NINQ   </td><td>8</td><td>decimal</td><td>interval</td><td>input</td></tr>\n",
       "\t<tr><td>CLNO   </td><td>8</td><td>decimal</td><td>interval</td><td>input</td></tr>\n",
       "\t<tr><td>DEBTINC</td><td>8</td><td>decimal</td><td>interval</td><td>input</td></tr>\n",
       "</tbody>\n",
       "</table>\n"
      ],
      "text/latex": [
       "A data.frame: 10 × 5\n",
       "\\begin{tabular}{lllll}\n",
       " name & length & type & level & role\\\\\n",
       " <chr> & <dbl> & <chr> & <chr> & <chr>\\\\\n",
       "\\hline\n",
       "\t LOAN    & 8 & decimal & interval & input\\\\\n",
       "\t MORTDUE & 8 & decimal & interval & input\\\\\n",
       "\t VALUE   & 8 & decimal & interval & input\\\\\n",
       "\t YOJ     & 8 & decimal & interval & input\\\\\n",
       "\t DEROG   & 8 & decimal & interval & input\\\\\n",
       "\t DELINQ  & 8 & decimal & interval & input\\\\\n",
       "\t CLAGE   & 8 & decimal & interval & input\\\\\n",
       "\t NINQ    & 8 & decimal & interval & input\\\\\n",
       "\t CLNO    & 8 & decimal & interval & input\\\\\n",
       "\t DEBTINC & 8 & decimal & interval & input\\\\\n",
       "\\end{tabular}\n"
      ],
      "text/markdown": [
       "\n",
       "A data.frame: 10 × 5\n",
       "\n",
       "| name &lt;chr&gt; | length &lt;dbl&gt; | type &lt;chr&gt; | level &lt;chr&gt; | role &lt;chr&gt; |\n",
       "|---|---|---|---|---|\n",
       "| LOAN    | 8 | decimal | interval | input |\n",
       "| MORTDUE | 8 | decimal | interval | input |\n",
       "| VALUE   | 8 | decimal | interval | input |\n",
       "| YOJ     | 8 | decimal | interval | input |\n",
       "| DEROG   | 8 | decimal | interval | input |\n",
       "| DELINQ  | 8 | decimal | interval | input |\n",
       "| CLAGE   | 8 | decimal | interval | input |\n",
       "| NINQ    | 8 | decimal | interval | input |\n",
       "| CLNO    | 8 | decimal | interval | input |\n",
       "| DEBTINC | 8 | decimal | interval | input |\n",
       "\n"
      ],
      "text/plain": [
       "   name    length type    level    role \n",
       "1  LOAN    8      decimal interval input\n",
       "2  MORTDUE 8      decimal interval input\n",
       "3  VALUE   8      decimal interval input\n",
       "4  YOJ     8      decimal interval input\n",
       "5  DEROG   8      decimal interval input\n",
       "6  DELINQ  8      decimal interval input\n",
       "7  CLAGE   8      decimal interval input\n",
       "8  NINQ    8      decimal interval input\n",
       "9  CLNO    8      decimal interval input\n",
       "10 DEBTINC 8      decimal interval input"
      ]
     },
     "metadata": {},
     "output_type": "display_data"
    }
   ],
   "source": [
    "write_in_out_json(data=df_train[,-1], \n",
    "                  input=TRUE, \n",
    "                  path=zip_folder)"
   ]
  },
  {
   "cell_type": "code",
   "execution_count": 21,
   "metadata": {},
   "outputs": [
    {
     "name": "stdout",
     "output_type": "stream",
     "text": [
      "[1] \"File written to C:/Users/jobake/FSBU/Model_Manager/Metadata/HMEQ_R_LR_Model/outputVar.json\"\n"
     ]
    },
    {
     "data": {
      "text/html": [
       "<table class=\"dataframe\">\n",
       "<caption>A data.frame: 3 × 5</caption>\n",
       "<thead>\n",
       "\t<tr><th scope=col>name</th><th scope=col>length</th><th scope=col>type</th><th scope=col>level</th><th scope=col>role</th></tr>\n",
       "\t<tr><th scope=col>&lt;chr&gt;</th><th scope=col>&lt;dbl&gt;</th><th scope=col>&lt;chr&gt;</th><th scope=col>&lt;chr&gt;</th><th scope=col>&lt;chr&gt;</th></tr>\n",
       "</thead>\n",
       "<tbody>\n",
       "\t<tr><td>P_BAD1           </td><td>8</td><td>decimal</td><td>interval</td><td>output</td></tr>\n",
       "\t<tr><td>P_BAD0           </td><td>8</td><td>decimal</td><td>interval</td><td>output</td></tr>\n",
       "\t<tr><td>EM_CLASSIFICATION</td><td>8</td><td>decimal</td><td>interval</td><td>output</td></tr>\n",
       "</tbody>\n",
       "</table>\n"
      ],
      "text/latex": [
       "A data.frame: 3 × 5\n",
       "\\begin{tabular}{lllll}\n",
       " name & length & type & level & role\\\\\n",
       " <chr> & <dbl> & <chr> & <chr> & <chr>\\\\\n",
       "\\hline\n",
       "\t P\\_BAD1            & 8 & decimal & interval & output\\\\\n",
       "\t P\\_BAD0            & 8 & decimal & interval & output\\\\\n",
       "\t EM\\_CLASSIFICATION & 8 & decimal & interval & output\\\\\n",
       "\\end{tabular}\n"
      ],
      "text/markdown": [
       "\n",
       "A data.frame: 3 × 5\n",
       "\n",
       "| name &lt;chr&gt; | length &lt;dbl&gt; | type &lt;chr&gt; | level &lt;chr&gt; | role &lt;chr&gt; |\n",
       "|---|---|---|---|---|\n",
       "| P_BAD1            | 8 | decimal | interval | output |\n",
       "| P_BAD0            | 8 | decimal | interval | output |\n",
       "| EM_CLASSIFICATION | 8 | decimal | interval | output |\n",
       "\n"
      ],
      "text/plain": [
       "  name              length type    level    role  \n",
       "1 P_BAD1            8      decimal interval output\n",
       "2 P_BAD0            8      decimal interval output\n",
       "3 EM_CLASSIFICATION 8      decimal interval output"
      ]
     },
     "metadata": {},
     "output_type": "display_data"
    }
   ],
   "source": [
    "write_in_out_json(data=df_train_scored[,-1], \n",
    "                  input=FALSE, \n",
    "                  path=zip_folder)"
   ]
  },
  {
   "cell_type": "markdown",
   "metadata": {},
   "source": [
    "# Write Metadata"
   ]
  },
  {
   "cell_type": "code",
   "execution_count": 22,
   "metadata": {},
   "outputs": [
    {
     "name": "stdout",
     "output_type": "stream",
     "text": [
      "[1] \"File written to C:/Users/jobake/FSBU/Model_Manager/Metadata/HMEQ_R_LR_Model/fileMetadata.json\"\n"
     ]
    },
    {
     "data": {
      "text/html": [
       "<ol>\n",
       "\t<li><dl>\n",
       "\t<dt>$role</dt>\n",
       "\t\t<dd>'inputVariables'</dd>\n",
       "\t<dt>$name</dt>\n",
       "\t\t<dd>'inputVar.json'</dd>\n",
       "</dl>\n",
       "</li>\n",
       "\t<li><dl>\n",
       "\t<dt>$role</dt>\n",
       "\t\t<dd>'outputVariables'</dd>\n",
       "\t<dt>$name</dt>\n",
       "\t\t<dd>'outputVar.json'</dd>\n",
       "</dl>\n",
       "</li>\n",
       "\t<li><dl>\n",
       "\t<dt>$role</dt>\n",
       "\t\t<dd>'score'</dd>\n",
       "\t<dt>$name</dt>\n",
       "\t\t<dd>'scoreCode.R'</dd>\n",
       "</dl>\n",
       "</li>\n",
       "\t<li><dl>\n",
       "\t<dt>$role</dt>\n",
       "\t\t<dd>'scoreResource'</dd>\n",
       "\t<dt>$name</dt>\n",
       "\t\t<dd>'R_LR_Model.rds'</dd>\n",
       "</dl>\n",
       "</li>\n",
       "</ol>\n"
      ],
      "text/latex": [
       "\\begin{enumerate}\n",
       "\\item \\begin{description}\n",
       "\\item[\\$role] 'inputVariables'\n",
       "\\item[\\$name] 'inputVar.json'\n",
       "\\end{description}\n",
       "\n",
       "\\item \\begin{description}\n",
       "\\item[\\$role] 'outputVariables'\n",
       "\\item[\\$name] 'outputVar.json'\n",
       "\\end{description}\n",
       "\n",
       "\\item \\begin{description}\n",
       "\\item[\\$role] 'score'\n",
       "\\item[\\$name] 'scoreCode.R'\n",
       "\\end{description}\n",
       "\n",
       "\\item \\begin{description}\n",
       "\\item[\\$role] 'scoreResource'\n",
       "\\item[\\$name] 'R\\_LR\\_Model.rds'\n",
       "\\end{description}\n",
       "\n",
       "\\end{enumerate}\n"
      ],
      "text/markdown": [
       "1. $role\n",
       ":   'inputVariables'\n",
       "$name\n",
       ":   'inputVar.json'\n",
       "\n",
       "\n",
       "\n",
       "2. $role\n",
       ":   'outputVariables'\n",
       "$name\n",
       ":   'outputVar.json'\n",
       "\n",
       "\n",
       "\n",
       "3. $role\n",
       ":   'score'\n",
       "$name\n",
       ":   'scoreCode.R'\n",
       "\n",
       "\n",
       "\n",
       "4. $role\n",
       ":   'scoreResource'\n",
       "$name\n",
       ":   'R_LR_Model.rds'\n",
       "\n",
       "\n",
       "\n",
       "\n",
       "\n"
      ],
      "text/plain": [
       "[[1]]\n",
       "[[1]]$role\n",
       "[1] \"inputVariables\"\n",
       "\n",
       "[[1]]$name\n",
       "[1] \"inputVar.json\"\n",
       "\n",
       "\n",
       "[[2]]\n",
       "[[2]]$role\n",
       "[1] \"outputVariables\"\n",
       "\n",
       "[[2]]$name\n",
       "[1] \"outputVar.json\"\n",
       "\n",
       "\n",
       "[[3]]\n",
       "[[3]]$role\n",
       "[1] \"score\"\n",
       "\n",
       "[[3]]$name\n",
       "[1] \"scoreCode.R\"\n",
       "\n",
       "\n",
       "[[4]]\n",
       "[[4]]$role\n",
       "[1] \"scoreResource\"\n",
       "\n",
       "[[4]]$name\n",
       "[1] \"R_LR_Model.rds\"\n",
       "\n"
      ]
     },
     "metadata": {},
     "output_type": "display_data"
    }
   ],
   "source": [
    "write_fileMetadata_json(scoreCodeName = \"scoreCode.R\",\n",
    "                        scoreResource = paste0(model_name,\".rds\"),\n",
    "                        path = zip_folder)"
   ]
  },
  {
   "cell_type": "markdown",
   "metadata": {},
   "source": [
    "# Diagnostics "
   ]
  },
  {
   "cell_type": "code",
   "execution_count": 23,
   "metadata": {},
   "outputs": [
    {
     "name": "stdout",
     "output_type": "stream",
     "text": [
      "[1] \"File written to C:/Users/jobake/FSBU/Model_Manager/Metadata/HMEQ_R_LR_Model/dmcas_lift.json\"\n",
      "[1] \"File written to C:/Users/jobake/FSBU/Model_Manager/Metadata/HMEQ_R_LR_Model/dmcas_roc.json\"\n",
      "[1] \"File written to C:/Users/jobake/FSBU/Model_Manager/Metadata/HMEQ_R_LR_Model/dmcas_fitstat.json\"\n"
     ]
    }
   ],
   "source": [
    "diag = diagnosticsJson(validadedf = df_valid_scored,\n",
    "                       traindf = df_train_scored,\n",
    "                       testdf = df_test_scored,\n",
    "                       targetEventValue = 1,\n",
    "                       targetName = \"BAD\",\n",
    "                       path = zip_folder)"
   ]
  },
  {
   "cell_type": "markdown",
   "metadata": {},
   "source": [
    "# Zip Files"
   ]
  },
  {
   "cell_type": "code",
   "execution_count": 24,
   "metadata": {},
   "outputs": [],
   "source": [
    "zip_files = list.files(zip_folder, full.names = T)\n",
    "zipr(zipfile=paste0(zip_folder,\"/\",model_name,\".zip\"), files=zip_files)"
   ]
  },
  {
   "cell_type": "markdown",
   "metadata": {},
   "source": [
    "# Register Model"
   ]
  },
  {
   "cell_type": "code",
   "execution_count": 25,
   "metadata": {},
   "outputs": [],
   "source": [
    "df = read.csv(paste0(dirname(getwd()),\"/password_r.txt\"), header=TRUE, stringsAsFactors=FALSE)"
   ]
  },
  {
   "cell_type": "code",
   "execution_count": 26,
   "metadata": {},
   "outputs": [],
   "source": [
    "sess = session(hostname=paste0(\"https://\", strsplit(df$hostname,\"/\")[[1]][1]), username=df$username, password=df$password)"
   ]
  },
  {
   "cell_type": "code",
   "execution_count": 27,
   "metadata": {},
   "outputs": [],
   "source": [
    "reg = register_model(\n",
    "    session = sess,\n",
    "    file = paste0(zip_folder,\"/\",model_name,\".zip\"),\n",
    "    name = model_name,\n",
    "    type = \"zip\",\n",
    "    project = \"MM_OS_Test\",\n",
    "    force = FALSE\n",
    ")"
   ]
  },
  {
   "cell_type": "markdown",
   "metadata": {},
   "source": [
    "# End Session"
   ]
  },
  {
   "cell_type": "code",
   "execution_count": 28,
   "metadata": {},
   "outputs": [
    {
     "ename": "ERROR",
     "evalue": "Error in cas.session.endSession(conn): could not find function \"cas.session.endSession\"\n",
     "output_type": "error",
     "traceback": [
      "Error in cas.session.endSession(conn): could not find function \"cas.session.endSession\"\nTraceback:\n"
     ]
    }
   ],
   "source": [
    "cas.session.endSession(conn)"
   ]
  }
 ],
 "metadata": {
  "kernelspec": {
   "display_name": "R",
   "language": "R",
   "name": "ir"
  },
  "language_info": {
   "codemirror_mode": "r",
   "file_extension": ".r",
   "mimetype": "text/x-r-source",
   "name": "R",
   "pygments_lexer": "r",
   "version": "4.2.2"
  }
 },
 "nbformat": 4,
 "nbformat_minor": 2
}
