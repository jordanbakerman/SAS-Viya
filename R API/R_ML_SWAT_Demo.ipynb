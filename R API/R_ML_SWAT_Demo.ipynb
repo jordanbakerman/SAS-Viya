{
 "cells": [
  {
   "cell_type": "markdown",
   "metadata": {},
   "source": [
    "# ML with SAS Viya and the SWAT Package"
   ]
  },
  {
   "cell_type": "markdown",
   "metadata": {},
   "source": [
    "This demonstration shows open source integration with SAS Viya from the R API."
   ]
  },
  {
   "cell_type": "markdown",
   "metadata": {},
   "source": [
    "![title](API.PNG)"
   ]
  },
  {
   "cell_type": "markdown",
   "metadata": {},
   "source": [
    "# Data"
   ]
  },
  {
   "cell_type": "markdown",
   "metadata": {},
   "source": [
    "| Name      | Model Role | Measurement Level | Description                                                            |\n",
    "|:----------|:-----------|:------------------|:-----------------------------------------------------------------------|\n",
    "| BAD       | Target     | Binary            | 1 = applicant defaulted on loan or delinquent, 0 = applicant paid loan |\n",
    "| CLAGE     | Input      | Interval          | Age of oldest credit line in months                                    |\n",
    "| CLNO      | Input      | Interval          | Number of credit lines                                                 |\n",
    "| DEBTINC   | Input      | Interval          | Debt-to-income ratio                                                   |\n",
    "| DELINQ    | Input      | Interval          | Number of delinquent credit lines                                      |\n",
    "| DEROG     | Input      | Interval          | Number of derogatory reports                                           |\n",
    "| JOB       | Input      | Nominal           | Occupational categories                                                |\n",
    "| LOAN      | Input      | Interval          | Amount of loan request                                                 |\n",
    "| MORTDUE   | Input      | Interval          | Amount due on existing mortgage                                        |\n",
    "| NINQ      | Input      | Interval          | Number of recent credit inquiries                                      |\n",
    "| REASON    | Input      | Binary            | DebtCon = debt consolidation, HomeImp = home improvement               |\n",
    "| VALUE     | Input      | Interval          | Value of current property                                              |\n",
    "| YOJ       | Input      | Interval          | Years at present job                                                   |"
   ]
  },
  {
   "cell_type": "markdown",
   "metadata": {},
   "source": [
    "# Load Packages"
   ]
  },
  {
   "cell_type": "code",
   "execution_count": 1,
   "metadata": {},
   "outputs": [
    {
     "name": "stderr",
     "output_type": "stream",
     "text": [
      "SWAT 1.8.2\n",
      "\n"
     ]
    }
   ],
   "source": [
    "library(swat)"
   ]
  },
  {
   "cell_type": "markdown",
   "metadata": {},
   "source": [
    "![title](SWAT.PNG)"
   ]
  },
  {
   "cell_type": "markdown",
   "metadata": {},
   "source": [
    "# Get Key Variables"
   ]
  },
  {
   "cell_type": "code",
   "execution_count": 2,
   "metadata": {},
   "outputs": [],
   "source": [
    "df = read.csv(paste0(dirname(getwd()),\"/password_r.txt\"), header=TRUE, stringsAsFactors=FALSE)"
   ]
  },
  {
   "cell_type": "markdown",
   "metadata": {
    "tags": []
   },
   "source": [
    "# Connect to CAS"
   ]
  },
  {
   "cell_type": "code",
   "execution_count": 3,
   "metadata": {},
   "outputs": [
    {
     "name": "stderr",
     "output_type": "stream",
     "text": [
      "NOTE: Connecting to CAS and generating CAS action functions for loaded\n",
      "      action sets...\n",
      "\n",
      "NOTE: To generate the functions with signatures (for tab completion), set \n",
      "      options(cas.gen.function.sig=TRUE).\n",
      "\n"
     ]
    }
   ],
   "source": [
    "conn = CAS(hostname=df$hostname, port=df$port, username=df$username, password=df$password, protocol=df$protocol)"
   ]
  },
  {
   "cell_type": "markdown",
   "metadata": {},
   "source": [
    "# Load Data"
   ]
  },
  {
   "cell_type": "code",
   "execution_count": 4,
   "metadata": {},
   "outputs": [
    {
     "name": "stderr",
     "output_type": "stream",
     "text": [
      "NOTE: Cloud Analytic Services made the uploaded file available as table HMEQ in caslib CASUSER(jobake).\n",
      "\n"
     ]
    }
   ],
   "source": [
    "df_cas = cas.read.csv(conn, file=paste0(dirname(getwd()),\"/Data/hmeq.csv\"), casOut=list(name=\"hmeq\", replace=TRUE))"
   ]
  },
  {
   "cell_type": "code",
   "execution_count": 5,
   "metadata": {},
   "outputs": [
    {
     "data": {
      "text/html": [
       "<strong>$TableInfo</strong> = <table class=\"dataframe\">\n",
       "<caption>A casDataFrame: 1 × 23</caption>\n",
       "<thead>\n",
       "\t<tr><th></th><th scope=col>Name</th><th scope=col>Rows</th><th scope=col>Columns</th><th scope=col>IndexedColumns</th><th scope=col>Encoding</th><th scope=col>CreateTimeFormatted</th><th scope=col>ModTimeFormatted</th><th scope=col>AccessTimeFormatted</th><th scope=col>JavaCharSet</th><th scope=col>CreateTime</th><th scope=col>⋯</th><th scope=col>Repeated</th><th scope=col>View</th><th scope=col>MultiPart</th><th scope=col>SourceName</th><th scope=col>SourceCaslib</th><th scope=col>Compressed</th><th scope=col>Creator</th><th scope=col>Modifier</th><th scope=col>SourceModTimeFormatted</th><th scope=col>SourceModTime</th></tr>\n",
       "\t<tr><th></th><th scope=col>&lt;chr&gt;</th><th scope=col>&lt;dbl&gt;</th><th scope=col>&lt;dbl&gt;</th><th scope=col>&lt;dbl&gt;</th><th scope=col>&lt;chr&gt;</th><th scope=col>&lt;chr&gt;</th><th scope=col>&lt;chr&gt;</th><th scope=col>&lt;chr&gt;</th><th scope=col>&lt;chr&gt;</th><th scope=col>&lt;dbl&gt;</th><th scope=col>⋯</th><th scope=col>&lt;int&gt;</th><th scope=col>&lt;int&gt;</th><th scope=col>&lt;int&gt;</th><th scope=col>&lt;chr&gt;</th><th scope=col>&lt;chr&gt;</th><th scope=col>&lt;int&gt;</th><th scope=col>&lt;chr&gt;</th><th scope=col>&lt;chr&gt;</th><th scope=col>&lt;chr&gt;</th><th scope=col>&lt;dbl&gt;</th></tr>\n",
       "</thead>\n",
       "<tbody>\n",
       "\t<tr><th scope=row>1</th><td>HMEQ</td><td>5960</td><td>13</td><td>0</td><td>utf-8</td><td>2023-11-08T17:26:49+00:00</td><td>2023-11-08T17:26:49+00:00</td><td>2023-11-08T17:26:50+00:00</td><td>UTF8</td><td>2015083609</td><td>⋯</td><td>0</td><td>0</td><td>0</td><td></td><td></td><td>0</td><td>jobake</td><td></td><td>2023-11-08T17:26:49+00:00</td><td>2015083609</td></tr>\n",
       "</tbody>\n",
       "</table>\n"
      ],
      "text/latex": [
       "\\textbf{\\$TableInfo} = A casDataFrame: 1 × 23\n",
       "\\begin{tabular}{r|lllllllllllllllllllll}\n",
       "  & Name & Rows & Columns & IndexedColumns & Encoding & CreateTimeFormatted & ModTimeFormatted & AccessTimeFormatted & JavaCharSet & CreateTime & ⋯ & Repeated & View & MultiPart & SourceName & SourceCaslib & Compressed & Creator & Modifier & SourceModTimeFormatted & SourceModTime\\\\\n",
       "  & <chr> & <dbl> & <dbl> & <dbl> & <chr> & <chr> & <chr> & <chr> & <chr> & <dbl> & ⋯ & <int> & <int> & <int> & <chr> & <chr> & <int> & <chr> & <chr> & <chr> & <dbl>\\\\\n",
       "\\hline\n",
       "\t1 & HMEQ & 5960 & 13 & 0 & utf-8 & 2023-11-08T17:26:49+00:00 & 2023-11-08T17:26:49+00:00 & 2023-11-08T17:26:50+00:00 & UTF8 & 2015083609 & ⋯ & 0 & 0 & 0 &  &  & 0 & jobake &  & 2023-11-08T17:26:49+00:00 & 2015083609\\\\\n",
       "\\end{tabular}\n"
      ],
      "text/markdown": [
       "**$TableInfo** = \n",
       "A casDataFrame: 1 × 23\n",
       "\n",
       "| <!--/--> | Name &lt;chr&gt; | Rows &lt;dbl&gt; | Columns &lt;dbl&gt; | IndexedColumns &lt;dbl&gt; | Encoding &lt;chr&gt; | CreateTimeFormatted &lt;chr&gt; | ModTimeFormatted &lt;chr&gt; | AccessTimeFormatted &lt;chr&gt; | JavaCharSet &lt;chr&gt; | CreateTime &lt;dbl&gt; | ⋯ ⋯ | Repeated &lt;int&gt; | View &lt;int&gt; | MultiPart &lt;int&gt; | SourceName &lt;chr&gt; | SourceCaslib &lt;chr&gt; | Compressed &lt;int&gt; | Creator &lt;chr&gt; | Modifier &lt;chr&gt; | SourceModTimeFormatted &lt;chr&gt; | SourceModTime &lt;dbl&gt; |\n",
       "|---|---|---|---|---|---|---|---|---|---|---|---|---|---|---|---|---|---|---|---|---|---|\n",
       "| 1 | HMEQ | 5960 | 13 | 0 | utf-8 | 2023-11-08T17:26:49+00:00 | 2023-11-08T17:26:49+00:00 | 2023-11-08T17:26:50+00:00 | UTF8 | 2015083609 | ⋯ | 0 | 0 | 0 | <!----> | <!----> | 0 | jobake | <!----> | 2023-11-08T17:26:49+00:00 | 2015083609 |\n",
       "\n"
      ],
      "text/plain": [
       "$TableInfo\n",
       "  Name Rows Columns IndexedColumns Encoding       CreateTimeFormatted\n",
       "1 HMEQ 5960      13              0    utf-8 2023-11-08T17:26:49+00:00\n",
       "           ModTimeFormatted       AccessTimeFormatted JavaCharSet CreateTime\n",
       "1 2023-11-08T17:26:49+00:00 2023-11-08T17:26:50+00:00        UTF8 2015083609\n",
       "     ModTime AccessTime Global Repeated View MultiPart SourceName SourceCaslib\n",
       "1 2015083609 2015083610      0        0    0         0                        \n",
       "  Compressed Creator Modifier    SourceModTimeFormatted SourceModTime\n",
       "1          0  jobake          2023-11-08T17:26:49+00:00    2015083609\n"
      ]
     },
     "metadata": {},
     "output_type": "display_data"
    }
   ],
   "source": [
    "cas.table.tableInfo(conn)"
   ]
  },
  {
   "cell_type": "markdown",
   "metadata": {},
   "source": [
    "# View Data"
   ]
  },
  {
   "cell_type": "markdown",
   "metadata": {},
   "source": [
    "[SWAT Functionality](https://developer.sas.com/apis/swat/python/1.0.0/api.html)"
   ]
  },
  {
   "cell_type": "code",
   "execution_count": 6,
   "metadata": {},
   "outputs": [
    {
     "data": {
      "text/html": [
       "<table class=\"dataframe\">\n",
       "<caption>A casDataFrame: 6 × 13</caption>\n",
       "<thead>\n",
       "\t<tr><th></th><th scope=col>BAD</th><th scope=col>LOAN</th><th scope=col>MORTDUE</th><th scope=col>VALUE</th><th scope=col>REASON</th><th scope=col>JOB</th><th scope=col>YOJ</th><th scope=col>DEROG</th><th scope=col>DELINQ</th><th scope=col>CLAGE</th><th scope=col>NINQ</th><th scope=col>CLNO</th><th scope=col>DEBTINC</th></tr>\n",
       "\t<tr><th></th><th scope=col>&lt;int&gt;</th><th scope=col>&lt;int&gt;</th><th scope=col>&lt;dbl&gt;</th><th scope=col>&lt;dbl&gt;</th><th scope=col>&lt;chr&gt;</th><th scope=col>&lt;chr&gt;</th><th scope=col>&lt;dbl&gt;</th><th scope=col>&lt;dbl&gt;</th><th scope=col>&lt;dbl&gt;</th><th scope=col>&lt;dbl&gt;</th><th scope=col>&lt;dbl&gt;</th><th scope=col>&lt;dbl&gt;</th><th scope=col>&lt;dbl&gt;</th></tr>\n",
       "</thead>\n",
       "<tbody>\n",
       "\t<tr><th scope=row>1</th><td>1</td><td>1100</td><td>25860</td><td> 39025</td><td>HomeImp</td><td>Other </td><td>10.5</td><td>  0</td><td>  0</td><td> 94.36667</td><td>  1</td><td>  9</td><td>     NaN</td></tr>\n",
       "\t<tr><th scope=row>2</th><td>1</td><td>1300</td><td>70053</td><td> 68400</td><td>HomeImp</td><td>Other </td><td> 7.0</td><td>  0</td><td>  2</td><td>121.83333</td><td>  0</td><td> 14</td><td>     NaN</td></tr>\n",
       "\t<tr><th scope=row>3</th><td>1</td><td>1500</td><td>13500</td><td> 16700</td><td>HomeImp</td><td>Other </td><td> 4.0</td><td>  0</td><td>  0</td><td>149.46667</td><td>  1</td><td> 10</td><td>     NaN</td></tr>\n",
       "\t<tr><th scope=row>4</th><td>1</td><td>1500</td><td>  NaN</td><td>   NaN</td><td>       </td><td>      </td><td> NaN</td><td>NaN</td><td>NaN</td><td>      NaN</td><td>NaN</td><td>NaN</td><td>     NaN</td></tr>\n",
       "\t<tr><th scope=row>5</th><td>0</td><td>1700</td><td>97800</td><td>112000</td><td>HomeImp</td><td>Office</td><td> 3.0</td><td>  0</td><td>  0</td><td> 93.33333</td><td>  0</td><td> 14</td><td>     NaN</td></tr>\n",
       "\t<tr><th scope=row>6</th><td>1</td><td>1700</td><td>30548</td><td> 40320</td><td>HomeImp</td><td>Other </td><td> 9.0</td><td>  0</td><td>  0</td><td>101.46600</td><td>  1</td><td>  8</td><td>37.11361</td></tr>\n",
       "</tbody>\n",
       "</table>\n"
      ],
      "text/latex": [
       "A casDataFrame: 6 × 13\n",
       "\\begin{tabular}{r|lllllllllllll}\n",
       "  & BAD & LOAN & MORTDUE & VALUE & REASON & JOB & YOJ & DEROG & DELINQ & CLAGE & NINQ & CLNO & DEBTINC\\\\\n",
       "  & <int> & <int> & <dbl> & <dbl> & <chr> & <chr> & <dbl> & <dbl> & <dbl> & <dbl> & <dbl> & <dbl> & <dbl>\\\\\n",
       "\\hline\n",
       "\t1 & 1 & 1100 & 25860 &  39025 & HomeImp & Other  & 10.5 &   0 &   0 &  94.36667 &   1 &   9 &      NaN\\\\\n",
       "\t2 & 1 & 1300 & 70053 &  68400 & HomeImp & Other  &  7.0 &   0 &   2 & 121.83333 &   0 &  14 &      NaN\\\\\n",
       "\t3 & 1 & 1500 & 13500 &  16700 & HomeImp & Other  &  4.0 &   0 &   0 & 149.46667 &   1 &  10 &      NaN\\\\\n",
       "\t4 & 1 & 1500 &   NaN &    NaN &         &        &  NaN & NaN & NaN &       NaN & NaN & NaN &      NaN\\\\\n",
       "\t5 & 0 & 1700 & 97800 & 112000 & HomeImp & Office &  3.0 &   0 &   0 &  93.33333 &   0 &  14 &      NaN\\\\\n",
       "\t6 & 1 & 1700 & 30548 &  40320 & HomeImp & Other  &  9.0 &   0 &   0 & 101.46600 &   1 &   8 & 37.11361\\\\\n",
       "\\end{tabular}\n"
      ],
      "text/markdown": [
       "\n",
       "A casDataFrame: 6 × 13\n",
       "\n",
       "| <!--/--> | BAD &lt;int&gt; | LOAN &lt;int&gt; | MORTDUE &lt;dbl&gt; | VALUE &lt;dbl&gt; | REASON &lt;chr&gt; | JOB &lt;chr&gt; | YOJ &lt;dbl&gt; | DEROG &lt;dbl&gt; | DELINQ &lt;dbl&gt; | CLAGE &lt;dbl&gt; | NINQ &lt;dbl&gt; | CLNO &lt;dbl&gt; | DEBTINC &lt;dbl&gt; |\n",
       "|---|---|---|---|---|---|---|---|---|---|---|---|---|---|\n",
       "| 1 | 1 | 1100 | 25860 |  39025 | HomeImp | Other  | 10.5 |   0 |   0 |  94.36667 |   1 |   9 |      NaN |\n",
       "| 2 | 1 | 1300 | 70053 |  68400 | HomeImp | Other  |  7.0 |   0 |   2 | 121.83333 |   0 |  14 |      NaN |\n",
       "| 3 | 1 | 1500 | 13500 |  16700 | HomeImp | Other  |  4.0 |   0 |   0 | 149.46667 |   1 |  10 |      NaN |\n",
       "| 4 | 1 | 1500 |   NaN |    NaN | <!----> | <!----> |  NaN | NaN | NaN |       NaN | NaN | NaN |      NaN |\n",
       "| 5 | 0 | 1700 | 97800 | 112000 | HomeImp | Office |  3.0 |   0 |   0 |  93.33333 |   0 |  14 |      NaN |\n",
       "| 6 | 1 | 1700 | 30548 |  40320 | HomeImp | Other  |  9.0 |   0 |   0 | 101.46600 |   1 |   8 | 37.11361 |\n",
       "\n"
      ],
      "text/plain": [
       "  BAD LOAN MORTDUE VALUE  REASON  JOB    YOJ  DEROG DELINQ CLAGE     NINQ CLNO\n",
       "1 1   1100 25860    39025 HomeImp Other  10.5   0     0     94.36667   1    9 \n",
       "2 1   1300 70053    68400 HomeImp Other   7.0   0     2    121.83333   0   14 \n",
       "3 1   1500 13500    16700 HomeImp Other   4.0   0     0    149.46667   1   10 \n",
       "4 1   1500   NaN      NaN                 NaN NaN   NaN          NaN NaN  NaN \n",
       "5 0   1700 97800   112000 HomeImp Office  3.0   0     0     93.33333   0   14 \n",
       "6 1   1700 30548    40320 HomeImp Other   9.0   0     0    101.46600   1    8 \n",
       "  DEBTINC \n",
       "1      NaN\n",
       "2      NaN\n",
       "3      NaN\n",
       "4      NaN\n",
       "5      NaN\n",
       "6 37.11361"
      ]
     },
     "metadata": {},
     "output_type": "display_data"
    }
   ],
   "source": [
    "head(df_cas)"
   ]
  },
  {
   "cell_type": "code",
   "execution_count": 7,
   "metadata": {},
   "outputs": [
    {
     "data": {
      "text/html": [
       "<style>\n",
       ".dl-inline {width: auto; margin:0; padding: 0}\n",
       ".dl-inline>dt, .dl-inline>dd {float: none; width: auto; display: inline-block}\n",
       ".dl-inline>dt::after {content: \":\\0020\"; padding-right: .5ex}\n",
       ".dl-inline>dt:not(:first-of-type) {padding-left: .5ex}\n",
       "</style><dl class=dl-inline><dt>BAD</dt><dd>0.1994966442953</dd><dt>LOAN</dt><dd>18607.9697986577</dd><dt>MORTDUE</dt><dd>73760.8171995589</dd></dl>\n"
      ],
      "text/latex": [
       "\\begin{description*}\n",
       "\\item[BAD] 0.1994966442953\n",
       "\\item[LOAN] 18607.9697986577\n",
       "\\item[MORTDUE] 73760.8171995589\n",
       "\\end{description*}\n"
      ],
      "text/markdown": [
       "BAD\n",
       ":   0.1994966442953LOAN\n",
       ":   18607.9697986577MORTDUE\n",
       ":   73760.8171995589\n",
       "\n"
      ],
      "text/plain": [
       "         BAD         LOAN      MORTDUE \n",
       "1.994966e-01 1.860797e+04 7.376082e+04 "
      ]
     },
     "metadata": {},
     "output_type": "display_data"
    }
   ],
   "source": [
    "colMeans(df_cas[c(\"BAD\",\"LOAN\",\"MORTDUE\")])"
   ]
  },
  {
   "cell_type": "code",
   "execution_count": 8,
   "metadata": {},
   "outputs": [
    {
     "data": {
      "text/plain": [
       "      BAD              LOAN          MORTDUE           VALUE       \n",
       " Min.   :0.0000   Min.   : 1100   Min.   :  2063   Min.   :  8000  \n",
       " 1st Qu.:0.0000   1st Qu.:11100   1st Qu.: 46268   1st Qu.: 66069  \n",
       " Median :0.0000   Median :16300   Median : 65019   Median : 89236  \n",
       " Mean   :0.1995   Mean   :18608   Mean   : 73761   Mean   :101776  \n",
       " 3rd Qu.:0.0000   3rd Qu.:23300   3rd Qu.: 91491   3rd Qu.:119832  \n",
       " Max.   :1.0000   Max.   :89900   Max.   :399550   Max.   :855909  \n",
       "                                  NA's   :   518   NA's   :   112  \n",
       "     REASON          JOB            YOJ              DEROG         \n",
       " DebtCon:3928   Mgr    : 767   Min.   :  0.000   Min.   :  0.0000  \n",
       " HomeImp:1780   Office : 948   1st Qu.:  3.000   1st Qu.:  0.0000  \n",
       " NA's   : 252   Other  :2388   Median :  7.000   Median :  0.0000  \n",
       "                ProfExe:1276   Mean   :  8.922   Mean   :  0.2546  \n",
       "                Sales  : 109   3rd Qu.: 13.000   3rd Qu.:  0.0000  \n",
       "                Self   : 193   Max.   : 41.000   Max.   : 10.0000  \n",
       "                NA's   : 279   NA's   :515.000   NA's   :708.0000  \n",
       "     DELINQ             CLAGE             NINQ              CLNO      \n",
       " Min.   :  0.0000   Min.   :   0.0   Min.   :  0.000   Min.   :  0.0  \n",
       " 1st Qu.:  0.0000   1st Qu.: 115.1   1st Qu.:  0.000   1st Qu.: 15.0  \n",
       " Median :  0.0000   Median : 173.5   Median :  1.000   Median : 20.0  \n",
       " Mean   :  0.4494   Mean   : 179.8   Mean   :  1.186   Mean   : 21.3  \n",
       " 3rd Qu.:  0.0000   3rd Qu.: 231.6   3rd Qu.:  2.000   3rd Qu.: 26.0  \n",
       " Max.   : 15.0000   Max.   :1168.2   Max.   : 17.000   Max.   : 71.0  \n",
       " NA's   :580.0000   NA's   : 308.0   NA's   :510.000   NA's   :222.0  \n",
       "    DEBTINC         \n",
       " Min.   :   0.5245  \n",
       " 1st Qu.:  29.1400  \n",
       " Median :  34.8183  \n",
       " Mean   :  33.7799  \n",
       " 3rd Qu.:  39.0031  \n",
       " Max.   : 203.3121  \n",
       " NA's   :1267.0000  "
      ]
     },
     "metadata": {},
     "output_type": "display_data"
    }
   ],
   "source": [
    "summary(df_cas)"
   ]
  },
  {
   "cell_type": "markdown",
   "metadata": {},
   "source": [
    "![title](CAS_ACTIONS.PNG)"
   ]
  },
  {
   "cell_type": "markdown",
   "metadata": {},
   "source": [
    "[CAS Actions Documentation](https://go.documentation.sas.com/doc/en/pgmsascdc/v_033/allprodsactions/actionSetsByName.htm)"
   ]
  },
  {
   "cell_type": "code",
   "execution_count": 9,
   "metadata": {},
   "outputs": [
    {
     "name": "stderr",
     "output_type": "stream",
     "text": [
      "NOTE: Added action set 'simple'.\n",
      "\n",
      "NOTE: Information for action set 'simple':\n",
      "\n",
      "NOTE:    simple\n",
      "\n",
      "NOTE:       mdSummary - Calculates multidimensional summaries of numeric variables\n",
      "\n",
      "NOTE:       numRows - Shows the number of rows in a Cloud Analytic Services table\n",
      "\n",
      "NOTE:       summary - Generates descriptive statistics of numeric variables such as the sample mean, sample variance, sample size, sum of squares, and so on\n",
      "\n",
      "NOTE:       correlation - Computes Pearson product-moment correlations.\n",
      "\n",
      "NOTE:       regression - Performs a linear regression up to 3rd-order polynomials\n",
      "\n",
      "NOTE:       crossTab - Performs one-way or two-way tabulations\n",
      "\n",
      "NOTE:       distinct - Computes the distinct number of values of the variables in the variable list\n",
      "\n",
      "NOTE:       topK - Returns the top-K and bottom-K distinct values of each variable included in the variable list based on a user-specified ranking order\n",
      "\n",
      "NOTE:       groupBy - Builds BY groups in terms of the variable value combinations given the variables in the variable list\n",
      "\n",
      "NOTE:       freq - Generates a frequency distribution for one or more variables\n",
      "\n",
      "NOTE:       paraCoord - Generates a parallel coordinates plot of the variables in the variable list\n",
      "\n",
      "NOTE:       groupByInfo - Computes the index and frequency of each group, and the index of each record within its group\n",
      "\n",
      "NOTE:       compare - Compares two tables by computing the index and frequency of each group, cumulative frequency, and the index of each record within its group\n",
      "\n"
     ]
    }
   ],
   "source": [
    "loadActionSet(conn, 'simple')"
   ]
  },
  {
   "cell_type": "code",
   "execution_count": 10,
   "metadata": {},
   "outputs": [
    {
     "data": {
      "text/html": [
       "<strong>$Frequency</strong> = <table class=\"dataframe\">\n",
       "<caption>A casDataFrame: 12 × 6</caption>\n",
       "<thead>\n",
       "\t<tr><th></th><th scope=col>Column</th><th scope=col>NumVar</th><th scope=col>CharVar</th><th scope=col>FmtVar</th><th scope=col>Level</th><th scope=col>Frequency</th></tr>\n",
       "\t<tr><th></th><th scope=col>&lt;chr&gt;</th><th scope=col>&lt;dbl&gt;</th><th scope=col>&lt;chr&gt;</th><th scope=col>&lt;chr&gt;</th><th scope=col>&lt;dbl&gt;</th><th scope=col>&lt;int&gt;</th></tr>\n",
       "</thead>\n",
       "<tbody>\n",
       "\t<tr><th scope=row>1</th><td>BAD   </td><td>  0</td><td>       </td><td>           0</td><td>1</td><td>4771</td></tr>\n",
       "\t<tr><th scope=row>2</th><td>BAD   </td><td>  1</td><td>       </td><td>           1</td><td>2</td><td>1189</td></tr>\n",
       "\t<tr><th scope=row>3</th><td>JOB   </td><td>NaN</td><td>       </td><td>            </td><td>1</td><td> 279</td></tr>\n",
       "\t<tr><th scope=row>4</th><td>JOB   </td><td>NaN</td><td>Mgr    </td><td>Mgr         </td><td>2</td><td> 767</td></tr>\n",
       "\t<tr><th scope=row>5</th><td>JOB   </td><td>NaN</td><td>Office </td><td>Office      </td><td>3</td><td> 948</td></tr>\n",
       "\t<tr><th scope=row>6</th><td>JOB   </td><td>NaN</td><td>Other  </td><td>Other       </td><td>4</td><td>2388</td></tr>\n",
       "\t<tr><th scope=row>7</th><td>JOB   </td><td>NaN</td><td>ProfExe</td><td>ProfExe     </td><td>5</td><td>1276</td></tr>\n",
       "\t<tr><th scope=row>8</th><td>JOB   </td><td>NaN</td><td>Sales  </td><td>Sales       </td><td>6</td><td> 109</td></tr>\n",
       "\t<tr><th scope=row>9</th><td>JOB   </td><td>NaN</td><td>Self   </td><td>Self        </td><td>7</td><td> 193</td></tr>\n",
       "\t<tr><th scope=row>10</th><td>REASON</td><td>NaN</td><td>       </td><td>            </td><td>1</td><td> 252</td></tr>\n",
       "\t<tr><th scope=row>11</th><td>REASON</td><td>NaN</td><td>DebtCon</td><td>DebtCon     </td><td>2</td><td>3928</td></tr>\n",
       "\t<tr><th scope=row>12</th><td>REASON</td><td>NaN</td><td>HomeImp</td><td>HomeImp     </td><td>3</td><td>1780</td></tr>\n",
       "</tbody>\n",
       "</table>\n"
      ],
      "text/latex": [
       "\\textbf{\\$Frequency} = A casDataFrame: 12 × 6\n",
       "\\begin{tabular}{r|llllll}\n",
       "  & Column & NumVar & CharVar & FmtVar & Level & Frequency\\\\\n",
       "  & <chr> & <dbl> & <chr> & <chr> & <dbl> & <int>\\\\\n",
       "\\hline\n",
       "\t1 & BAD    &   0 &         &            0 & 1 & 4771\\\\\n",
       "\t2 & BAD    &   1 &         &            1 & 2 & 1189\\\\\n",
       "\t3 & JOB    & NaN &         &              & 1 &  279\\\\\n",
       "\t4 & JOB    & NaN & Mgr     & Mgr          & 2 &  767\\\\\n",
       "\t5 & JOB    & NaN & Office  & Office       & 3 &  948\\\\\n",
       "\t6 & JOB    & NaN & Other   & Other        & 4 & 2388\\\\\n",
       "\t7 & JOB    & NaN & ProfExe & ProfExe      & 5 & 1276\\\\\n",
       "\t8 & JOB    & NaN & Sales   & Sales        & 6 &  109\\\\\n",
       "\t9 & JOB    & NaN & Self    & Self         & 7 &  193\\\\\n",
       "\t10 & REASON & NaN &         &              & 1 &  252\\\\\n",
       "\t11 & REASON & NaN & DebtCon & DebtCon      & 2 & 3928\\\\\n",
       "\t12 & REASON & NaN & HomeImp & HomeImp      & 3 & 1780\\\\\n",
       "\\end{tabular}\n"
      ],
      "text/markdown": [
       "**$Frequency** = \n",
       "A casDataFrame: 12 × 6\n",
       "\n",
       "| <!--/--> | Column &lt;chr&gt; | NumVar &lt;dbl&gt; | CharVar &lt;chr&gt; | FmtVar &lt;chr&gt; | Level &lt;dbl&gt; | Frequency &lt;int&gt; |\n",
       "|---|---|---|---|---|---|---|\n",
       "| 1 | BAD    |   0 | <!----> |            0 | 1 | 4771 |\n",
       "| 2 | BAD    |   1 | <!----> |            1 | 2 | 1189 |\n",
       "| 3 | JOB    | NaN | <!----> | <!----> | 1 |  279 |\n",
       "| 4 | JOB    | NaN | Mgr     | Mgr          | 2 |  767 |\n",
       "| 5 | JOB    | NaN | Office  | Office       | 3 |  948 |\n",
       "| 6 | JOB    | NaN | Other   | Other        | 4 | 2388 |\n",
       "| 7 | JOB    | NaN | ProfExe | ProfExe      | 5 | 1276 |\n",
       "| 8 | JOB    | NaN | Sales   | Sales        | 6 |  109 |\n",
       "| 9 | JOB    | NaN | Self    | Self         | 7 |  193 |\n",
       "| 10 | REASON | NaN | <!----> | <!----> | 1 |  252 |\n",
       "| 11 | REASON | NaN | DebtCon | DebtCon      | 2 | 3928 |\n",
       "| 12 | REASON | NaN | HomeImp | HomeImp      | 3 | 1780 |\n",
       "\n"
      ],
      "text/plain": [
       "$Frequency\n",
       "   Column NumVar CharVar       FmtVar Level Frequency\n",
       "1     BAD      0                    0     1      4771\n",
       "2     BAD      1                    1     2      1189\n",
       "3     JOB    NaN                          1       279\n",
       "4     JOB    NaN     Mgr      Mgr         2       767\n",
       "5     JOB    NaN  Office      Office      3       948\n",
       "6     JOB    NaN   Other      Other       4      2388\n",
       "7     JOB    NaN ProfExe      ProfExe     5      1276\n",
       "8     JOB    NaN   Sales      Sales       6       109\n",
       "9     JOB    NaN    Self      Self        7       193\n",
       "10 REASON    NaN                          1       252\n",
       "11 REASON    NaN DebtCon      DebtCon     2      3928\n",
       "12 REASON    NaN HomeImp      HomeImp     3      1780\n"
      ]
     },
     "metadata": {},
     "output_type": "display_data"
    }
   ],
   "source": [
    "cas.simple.freq(conn,\n",
    "    table = \"hmeq\",\n",
    "    inputs = c(\"BAD\",\"JOB\",\"REASON\")\n",
    ")"
   ]
  },
  {
   "cell_type": "code",
   "execution_count": 11,
   "metadata": {},
   "outputs": [
    {
     "name": "stderr",
     "output_type": "stream",
     "text": [
      "NOTE: Added action set 'sampling'.\n",
      "\n",
      "NOTE: Information for action set 'sampling':\n",
      "\n",
      "NOTE:    sampling\n",
      "\n",
      "NOTE:       srs -  Samples a proportion of data from the input table or partitions the data into no more than three portions\n",
      "\n",
      "NOTE:       stratified - Samples a proportion of data or partitions the data into no more than three portions within each stratum\n",
      "\n",
      "NOTE:       oversample - Samples a user-specified proportion of data from the event level and adjusts the ratio between rare events and non-rare events to a user-specified ratio\n",
      "\n",
      "NOTE:       kfold - K-fold partitioning.\n",
      "\n"
     ]
    }
   ],
   "source": [
    "loadActionSet(conn, 'sampling')"
   ]
  },
  {
   "cell_type": "code",
   "execution_count": 12,
   "metadata": {},
   "outputs": [
    {
     "name": "stderr",
     "output_type": "stream",
     "text": [
      "NOTE: Simple Random Sampling is in effect.\n",
      "\n",
      "NOTE: Using SEED=12345 for sampling.\n",
      "\n"
     ]
    },
    {
     "data": {
      "text/html": [
       "<dl>\n",
       "\t<dt>$OutputCasTables</dt>\n",
       "\t\t<dd><table class=\"dataframe\">\n",
       "<caption>A casDataFrame: 1 × 5</caption>\n",
       "<thead>\n",
       "\t<tr><th></th><th scope=col>casLib</th><th scope=col>Name</th><th scope=col>Label</th><th scope=col>Rows</th><th scope=col>Columns</th></tr>\n",
       "\t<tr><th></th><th scope=col>&lt;chr&gt;</th><th scope=col>&lt;chr&gt;</th><th scope=col>&lt;chr&gt;</th><th scope=col>&lt;dbl&gt;</th><th scope=col>&lt;dbl&gt;</th></tr>\n",
       "</thead>\n",
       "<tbody>\n",
       "\t<tr><th scope=row>1</th><td>CASUSER(jobake)</td><td>mysam</td><td></td><td>2980</td><td>13</td></tr>\n",
       "</tbody>\n",
       "</table>\n",
       "</dd>\n",
       "\t<dt>$SRSFreq</dt>\n",
       "\t\t<dd><table class=\"dataframe\">\n",
       "<caption>A casDataFrame: 1 × 2</caption>\n",
       "<thead>\n",
       "\t<tr><th></th><th scope=col>NObs</th><th scope=col>NSamp</th></tr>\n",
       "\t<tr><th></th><th scope=col>&lt;dbl&gt;</th><th scope=col>&lt;dbl&gt;</th></tr>\n",
       "</thead>\n",
       "<tbody>\n",
       "\t<tr><th scope=row>1</th><td>5960</td><td>2980</td></tr>\n",
       "</tbody>\n",
       "</table>\n",
       "</dd>\n",
       "</dl>\n"
      ],
      "text/latex": [
       "\\begin{description}\n",
       "\\item[\\$OutputCasTables] A casDataFrame: 1 × 5\n",
       "\\begin{tabular}{r|lllll}\n",
       "  & casLib & Name & Label & Rows & Columns\\\\\n",
       "  & <chr> & <chr> & <chr> & <dbl> & <dbl>\\\\\n",
       "\\hline\n",
       "\t1 & CASUSER(jobake) & mysam &  & 2980 & 13\\\\\n",
       "\\end{tabular}\n",
       "\n",
       "\\item[\\$SRSFreq] A casDataFrame: 1 × 2\n",
       "\\begin{tabular}{r|ll}\n",
       "  & NObs & NSamp\\\\\n",
       "  & <dbl> & <dbl>\\\\\n",
       "\\hline\n",
       "\t1 & 5960 & 2980\\\\\n",
       "\\end{tabular}\n",
       "\n",
       "\\end{description}\n"
      ],
      "text/markdown": [
       "$OutputCasTables\n",
       ":   \n",
       "A casDataFrame: 1 × 5\n",
       "\n",
       "| <!--/--> | casLib &lt;chr&gt; | Name &lt;chr&gt; | Label &lt;chr&gt; | Rows &lt;dbl&gt; | Columns &lt;dbl&gt; |\n",
       "|---|---|---|---|---|---|\n",
       "| 1 | CASUSER(jobake) | mysam | <!----> | 2980 | 13 |\n",
       "\n",
       "\n",
       "$SRSFreq\n",
       ":   \n",
       "A casDataFrame: 1 × 2\n",
       "\n",
       "| <!--/--> | NObs &lt;dbl&gt; | NSamp &lt;dbl&gt; |\n",
       "|---|---|---|\n",
       "| 1 | 5960 | 2980 |\n",
       "\n",
       "\n",
       "\n",
       "\n"
      ],
      "text/plain": [
       "$OutputCasTables\n",
       "           casLib  Name Label Rows Columns\n",
       "1 CASUSER(jobake) mysam       2980      13\n",
       "\n",
       "$SRSFreq\n",
       "  NObs NSamp\n",
       "1 5960  2980\n"
      ]
     },
     "metadata": {},
     "output_type": "display_data"
    }
   ],
   "source": [
    "cas.sampling.srs(conn,\n",
    "    table   = \"hmeq\",\n",
    "    samppct = 50,\n",
    "    seed = 12345,\n",
    "    partind = FALSE,\n",
    "    output  = list(casOut = list(name = 'mysam', replace = T), copyVars = 'ALL')\n",
    ")\n",
    "\n",
    "mysam = defCasTable(conn, table='mysam')\n",
    "df = to.casDataFrame(mysam)"
   ]
  },
  {
   "cell_type": "code",
   "execution_count": 13,
   "metadata": {},
   "outputs": [
    {
     "data": {
      "image/png": "[encoded data removed]",
      "text/plain": [
       "Plot with title \"Histogram of df$DEBTINC\""
      ]
     },
     "metadata": {
      "image/png": {
       "height": 420,
       "width": 420
      }
     },
     "output_type": "display_data"
    }
   ],
   "source": [
    "hist_vars = c(\"LOAN\",\"MORTDUE\",\"VALUE\",\"CLAGE\",\"YOJ\",\"CLAGE\",\"CLAGE\",\"CLNO\",\"DEBTINC\")\n",
    "par(mfrow = c(3, 3))\n",
    "for(i in 1:9){\n",
    "    eval(parse(text=paste0(\"hist(df$\",hist_vars[i],\")\")))\n",
    "}\n",
    "par(mfrow = c(1, 1))"
   ]
  },
  {
   "cell_type": "markdown",
   "metadata": {},
   "source": [
    "# Cloud vs Local Data"
   ]
  },
  {
   "cell_type": "code",
   "execution_count": 14,
   "metadata": {},
   "outputs": [
    {
     "data": {
      "text/html": [
       "'CASTable'"
      ],
      "text/latex": [
       "'CASTable'"
      ],
      "text/markdown": [
       "'CASTable'"
      ],
      "text/plain": [
       "[1] \"CASTable\"\n",
       "attr(,\"package\")\n",
       "[1] \"swat\""
      ]
     },
     "metadata": {},
     "output_type": "display_data"
    }
   ],
   "source": [
    "class(df_cas)"
   ]
  },
  {
   "cell_type": "code",
   "execution_count": 15,
   "metadata": {},
   "outputs": [
    {
     "data": {
      "text/html": [
       "'casDataFrame'"
      ],
      "text/latex": [
       "'casDataFrame'"
      ],
      "text/markdown": [
       "'casDataFrame'"
      ],
      "text/plain": [
       "[1] \"casDataFrame\"\n",
       "attr(,\"package\")\n",
       "[1] \"swat\""
      ]
     },
     "metadata": {},
     "output_type": "display_data"
    }
   ],
   "source": [
    "class(df)"
   ]
  },
  {
   "cell_type": "markdown",
   "metadata": {},
   "source": [
    "# Impute Missing Values"
   ]
  },
  {
   "cell_type": "code",
   "execution_count": 16,
   "metadata": {},
   "outputs": [
    {
     "data": {
      "text/html": [
       "<table class=\"dataframe\">\n",
       "<caption>A data.frame: 13 × 2</caption>\n",
       "<thead>\n",
       "\t<tr><th></th><th scope=col>Column</th><th scope=col>NMiss</th></tr>\n",
       "\t<tr><th></th><th scope=col>&lt;chr&gt;</th><th scope=col>&lt;int&gt;</th></tr>\n",
       "</thead>\n",
       "<tbody>\n",
       "\t<tr><th scope=row>1</th><td>BAD    </td><td>   0</td></tr>\n",
       "\t<tr><th scope=row>2</th><td>LOAN   </td><td>   0</td></tr>\n",
       "\t<tr><th scope=row>3</th><td>MORTDUE</td><td> 518</td></tr>\n",
       "\t<tr><th scope=row>4</th><td>VALUE  </td><td> 112</td></tr>\n",
       "\t<tr><th scope=row>5</th><td>REASON </td><td> 252</td></tr>\n",
       "\t<tr><th scope=row>6</th><td>JOB    </td><td> 279</td></tr>\n",
       "\t<tr><th scope=row>7</th><td>YOJ    </td><td> 515</td></tr>\n",
       "\t<tr><th scope=row>8</th><td>DEROG  </td><td> 708</td></tr>\n",
       "\t<tr><th scope=row>9</th><td>DELINQ </td><td> 580</td></tr>\n",
       "\t<tr><th scope=row>10</th><td>CLAGE  </td><td> 308</td></tr>\n",
       "\t<tr><th scope=row>11</th><td>NINQ   </td><td> 510</td></tr>\n",
       "\t<tr><th scope=row>12</th><td>CLNO   </td><td> 222</td></tr>\n",
       "\t<tr><th scope=row>13</th><td>DEBTINC</td><td>1267</td></tr>\n",
       "</tbody>\n",
       "</table>\n"
      ],
      "text/latex": [
       "A data.frame: 13 × 2\n",
       "\\begin{tabular}{r|ll}\n",
       "  & Column & NMiss\\\\\n",
       "  & <chr> & <int>\\\\\n",
       "\\hline\n",
       "\t1 & BAD     &    0\\\\\n",
       "\t2 & LOAN    &    0\\\\\n",
       "\t3 & MORTDUE &  518\\\\\n",
       "\t4 & VALUE   &  112\\\\\n",
       "\t5 & REASON  &  252\\\\\n",
       "\t6 & JOB     &  279\\\\\n",
       "\t7 & YOJ     &  515\\\\\n",
       "\t8 & DEROG   &  708\\\\\n",
       "\t9 & DELINQ  &  580\\\\\n",
       "\t10 & CLAGE   &  308\\\\\n",
       "\t11 & NINQ    &  510\\\\\n",
       "\t12 & CLNO    &  222\\\\\n",
       "\t13 & DEBTINC & 1267\\\\\n",
       "\\end{tabular}\n"
      ],
      "text/markdown": [
       "\n",
       "A data.frame: 13 × 2\n",
       "\n",
       "| <!--/--> | Column &lt;chr&gt; | NMiss &lt;int&gt; |\n",
       "|---|---|---|\n",
       "| 1 | BAD     |    0 |\n",
       "| 2 | LOAN    |    0 |\n",
       "| 3 | MORTDUE |  518 |\n",
       "| 4 | VALUE   |  112 |\n",
       "| 5 | REASON  |  252 |\n",
       "| 6 | JOB     |  279 |\n",
       "| 7 | YOJ     |  515 |\n",
       "| 8 | DEROG   |  708 |\n",
       "| 9 | DELINQ  |  580 |\n",
       "| 10 | CLAGE   |  308 |\n",
       "| 11 | NINQ    |  510 |\n",
       "| 12 | CLNO    |  222 |\n",
       "| 13 | DEBTINC | 1267 |\n",
       "\n"
      ],
      "text/plain": [
       "   Column  NMiss\n",
       "1  BAD        0 \n",
       "2  LOAN       0 \n",
       "3  MORTDUE  518 \n",
       "4  VALUE    112 \n",
       "5  REASON   252 \n",
       "6  JOB      279 \n",
       "7  YOJ      515 \n",
       "8  DEROG    708 \n",
       "9  DELINQ   580 \n",
       "10 CLAGE    308 \n",
       "11 NINQ     510 \n",
       "12 CLNO     222 \n",
       "13 DEBTINC 1267 "
      ]
     },
     "metadata": {},
     "output_type": "display_data"
    }
   ],
   "source": [
    "cas.simple.distinct(df_cas)$Distinct[,c('Column', 'NMiss')]"
   ]
  },
  {
   "cell_type": "code",
   "execution_count": 17,
   "metadata": {},
   "outputs": [
    {
     "data": {
      "text/html": [
       "<dl>\n",
       "\t<dt>$ImputeInfo</dt>\n",
       "\t\t<dd><table class=\"dataframe\">\n",
       "<caption>A casDataFrame: 12 × 7</caption>\n",
       "<thead>\n",
       "\t<tr><th></th><th scope=col>Variable</th><th scope=col>ImputeTech</th><th scope=col>ResultVar</th><th scope=col>N</th><th scope=col>NMiss</th><th scope=col>ImputedValueContinuous</th><th scope=col>ImputedValueNominal</th></tr>\n",
       "\t<tr><th></th><th scope=col>&lt;chr&gt;</th><th scope=col>&lt;chr&gt;</th><th scope=col>&lt;chr&gt;</th><th scope=col>&lt;int&gt;</th><th scope=col>&lt;int&gt;</th><th scope=col>&lt;dbl&gt;</th><th scope=col>&lt;chr&gt;</th></tr>\n",
       "</thead>\n",
       "<tbody>\n",
       "\t<tr><th scope=row>1</th><td>LOAN   </td><td>Median</td><td>IMP_LOAN   </td><td>5960</td><td>   0</td><td>16300.00000</td><td>       </td></tr>\n",
       "\t<tr><th scope=row>2</th><td>MORTDUE</td><td>Median</td><td>IMP_MORTDUE</td><td>5442</td><td> 518</td><td>65019.00000</td><td>       </td></tr>\n",
       "\t<tr><th scope=row>3</th><td>VALUE  </td><td>Median</td><td>IMP_VALUE  </td><td>5848</td><td> 112</td><td>89235.50000</td><td>       </td></tr>\n",
       "\t<tr><th scope=row>4</th><td>REASON </td><td>Mode  </td><td>IMP_REASON </td><td>5708</td><td> 252</td><td>        NaN</td><td>DebtCon</td></tr>\n",
       "\t<tr><th scope=row>5</th><td>JOB    </td><td>Mode  </td><td>IMP_JOB    </td><td>5681</td><td> 279</td><td>        NaN</td><td>Other  </td></tr>\n",
       "\t<tr><th scope=row>6</th><td>YOJ    </td><td>Median</td><td>IMP_YOJ    </td><td>5445</td><td> 515</td><td>    7.00000</td><td>       </td></tr>\n",
       "\t<tr><th scope=row>7</th><td>DEROG  </td><td>Median</td><td>IMP_DEROG  </td><td>5252</td><td> 708</td><td>    0.00000</td><td>       </td></tr>\n",
       "\t<tr><th scope=row>8</th><td>DELINQ </td><td>Median</td><td>IMP_DELINQ </td><td>5380</td><td> 580</td><td>    0.00000</td><td>       </td></tr>\n",
       "\t<tr><th scope=row>9</th><td>CLAGE  </td><td>Median</td><td>IMP_CLAGE  </td><td>5652</td><td> 308</td><td>  173.46667</td><td>       </td></tr>\n",
       "\t<tr><th scope=row>10</th><td>NINQ   </td><td>Median</td><td>IMP_NINQ   </td><td>5450</td><td> 510</td><td>    1.00000</td><td>       </td></tr>\n",
       "\t<tr><th scope=row>11</th><td>CLNO   </td><td>Median</td><td>IMP_CLNO   </td><td>5738</td><td> 222</td><td>   20.00000</td><td>       </td></tr>\n",
       "\t<tr><th scope=row>12</th><td>DEBTINC</td><td>Median</td><td>IMP_DEBTINC</td><td>4693</td><td>1267</td><td>   34.81826</td><td>       </td></tr>\n",
       "</tbody>\n",
       "</table>\n",
       "</dd>\n",
       "\t<dt>$OutputCasTables</dt>\n",
       "\t\t<dd><table class=\"dataframe\">\n",
       "<caption>A casDataFrame: 1 × 4</caption>\n",
       "<thead>\n",
       "\t<tr><th></th><th scope=col>casLib</th><th scope=col>Name</th><th scope=col>Rows</th><th scope=col>Columns</th></tr>\n",
       "\t<tr><th></th><th scope=col>&lt;chr&gt;</th><th scope=col>&lt;chr&gt;</th><th scope=col>&lt;dbl&gt;</th><th scope=col>&lt;dbl&gt;</th></tr>\n",
       "</thead>\n",
       "<tbody>\n",
       "\t<tr><th scope=row>1</th><td>CASUSER(jobake)</td><td>hmeq</td><td>5960</td><td>25</td></tr>\n",
       "</tbody>\n",
       "</table>\n",
       "</dd>\n",
       "</dl>\n"
      ],
      "text/latex": [
       "\\begin{description}\n",
       "\\item[\\$ImputeInfo] A casDataFrame: 12 × 7\n",
       "\\begin{tabular}{r|lllllll}\n",
       "  & Variable & ImputeTech & ResultVar & N & NMiss & ImputedValueContinuous & ImputedValueNominal\\\\\n",
       "  & <chr> & <chr> & <chr> & <int> & <int> & <dbl> & <chr>\\\\\n",
       "\\hline\n",
       "\t1 & LOAN    & Median & IMP\\_LOAN    & 5960 &    0 & 16300.00000 &        \\\\\n",
       "\t2 & MORTDUE & Median & IMP\\_MORTDUE & 5442 &  518 & 65019.00000 &        \\\\\n",
       "\t3 & VALUE   & Median & IMP\\_VALUE   & 5848 &  112 & 89235.50000 &        \\\\\n",
       "\t4 & REASON  & Mode   & IMP\\_REASON  & 5708 &  252 &         NaN & DebtCon\\\\\n",
       "\t5 & JOB     & Mode   & IMP\\_JOB     & 5681 &  279 &         NaN & Other  \\\\\n",
       "\t6 & YOJ     & Median & IMP\\_YOJ     & 5445 &  515 &     7.00000 &        \\\\\n",
       "\t7 & DEROG   & Median & IMP\\_DEROG   & 5252 &  708 &     0.00000 &        \\\\\n",
       "\t8 & DELINQ  & Median & IMP\\_DELINQ  & 5380 &  580 &     0.00000 &        \\\\\n",
       "\t9 & CLAGE   & Median & IMP\\_CLAGE   & 5652 &  308 &   173.46667 &        \\\\\n",
       "\t10 & NINQ    & Median & IMP\\_NINQ    & 5450 &  510 &     1.00000 &        \\\\\n",
       "\t11 & CLNO    & Median & IMP\\_CLNO    & 5738 &  222 &    20.00000 &        \\\\\n",
       "\t12 & DEBTINC & Median & IMP\\_DEBTINC & 4693 & 1267 &    34.81826 &        \\\\\n",
       "\\end{tabular}\n",
       "\n",
       "\\item[\\$OutputCasTables] A casDataFrame: 1 × 4\n",
       "\\begin{tabular}{r|llll}\n",
       "  & casLib & Name & Rows & Columns\\\\\n",
       "  & <chr> & <chr> & <dbl> & <dbl>\\\\\n",
       "\\hline\n",
       "\t1 & CASUSER(jobake) & hmeq & 5960 & 25\\\\\n",
       "\\end{tabular}\n",
       "\n",
       "\\end{description}\n"
      ],
      "text/markdown": [
       "$ImputeInfo\n",
       ":   \n",
       "A casDataFrame: 12 × 7\n",
       "\n",
       "| <!--/--> | Variable &lt;chr&gt; | ImputeTech &lt;chr&gt; | ResultVar &lt;chr&gt; | N &lt;int&gt; | NMiss &lt;int&gt; | ImputedValueContinuous &lt;dbl&gt; | ImputedValueNominal &lt;chr&gt; |\n",
       "|---|---|---|---|---|---|---|---|\n",
       "| 1 | LOAN    | Median | IMP_LOAN    | 5960 |    0 | 16300.00000 | <!----> |\n",
       "| 2 | MORTDUE | Median | IMP_MORTDUE | 5442 |  518 | 65019.00000 | <!----> |\n",
       "| 3 | VALUE   | Median | IMP_VALUE   | 5848 |  112 | 89235.50000 | <!----> |\n",
       "| 4 | REASON  | Mode   | IMP_REASON  | 5708 |  252 |         NaN | DebtCon |\n",
       "| 5 | JOB     | Mode   | IMP_JOB     | 5681 |  279 |         NaN | Other   |\n",
       "| 6 | YOJ     | Median | IMP_YOJ     | 5445 |  515 |     7.00000 | <!----> |\n",
       "| 7 | DEROG   | Median | IMP_DEROG   | 5252 |  708 |     0.00000 | <!----> |\n",
       "| 8 | DELINQ  | Median | IMP_DELINQ  | 5380 |  580 |     0.00000 | <!----> |\n",
       "| 9 | CLAGE   | Median | IMP_CLAGE   | 5652 |  308 |   173.46667 | <!----> |\n",
       "| 10 | NINQ    | Median | IMP_NINQ    | 5450 |  510 |     1.00000 | <!----> |\n",
       "| 11 | CLNO    | Median | IMP_CLNO    | 5738 |  222 |    20.00000 | <!----> |\n",
       "| 12 | DEBTINC | Median | IMP_DEBTINC | 4693 | 1267 |    34.81826 | <!----> |\n",
       "\n",
       "\n",
       "$OutputCasTables\n",
       ":   \n",
       "A casDataFrame: 1 × 4\n",
       "\n",
       "| <!--/--> | casLib &lt;chr&gt; | Name &lt;chr&gt; | Rows &lt;dbl&gt; | Columns &lt;dbl&gt; |\n",
       "|---|---|---|---|---|\n",
       "| 1 | CASUSER(jobake) | hmeq | 5960 | 25 |\n",
       "\n",
       "\n",
       "\n",
       "\n"
      ],
      "text/plain": [
       "$ImputeInfo\n",
       "   Variable ImputeTech   ResultVar    N NMiss ImputedValueContinuous\n",
       "1      LOAN     Median    IMP_LOAN 5960     0            16300.00000\n",
       "2   MORTDUE     Median IMP_MORTDUE 5442   518            65019.00000\n",
       "3     VALUE     Median   IMP_VALUE 5848   112            89235.50000\n",
       "4    REASON       Mode  IMP_REASON 5708   252                    NaN\n",
       "5       JOB       Mode     IMP_JOB 5681   279                    NaN\n",
       "6       YOJ     Median     IMP_YOJ 5445   515                7.00000\n",
       "7     DEROG     Median   IMP_DEROG 5252   708                0.00000\n",
       "8    DELINQ     Median  IMP_DELINQ 5380   580                0.00000\n",
       "9     CLAGE     Median   IMP_CLAGE 5652   308              173.46667\n",
       "10     NINQ     Median    IMP_NINQ 5450   510                1.00000\n",
       "11     CLNO     Median    IMP_CLNO 5738   222               20.00000\n",
       "12  DEBTINC     Median IMP_DEBTINC 4693  1267               34.81826\n",
       "   ImputedValueNominal\n",
       "1                     \n",
       "2                     \n",
       "3                     \n",
       "4              DebtCon\n",
       "5                Other\n",
       "6                     \n",
       "7                     \n",
       "8                     \n",
       "9                     \n",
       "10                    \n",
       "11                    \n",
       "12                    \n",
       "\n",
       "$OutputCasTables\n",
       "           casLib Name Rows Columns\n",
       "1 CASUSER(jobake) hmeq 5960      25\n"
      ]
     },
     "metadata": {},
     "output_type": "display_data"
    }
   ],
   "source": [
    "cas.dataPreprocess.impute(conn,\n",
    "    table = \"hmeq\",\n",
    "    methodContinuous = 'MEDIAN',\n",
    "    methodNominal    = 'MODE',\n",
    "    inputs           = colnames(df_cas)[-1],\n",
    "    copyAllVars      = TRUE,\n",
    "    casOut           = list(name = \"hmeq\", replace = TRUE)\n",
    ")"
   ]
  },
  {
   "cell_type": "code",
   "execution_count": 18,
   "metadata": {},
   "outputs": [
    {
     "data": {
      "text/html": [
       "<table class=\"dataframe\">\n",
       "<caption>A casDataFrame: 25 × 9</caption>\n",
       "<thead>\n",
       "\t<tr><th></th><th scope=col>Column</th><th scope=col>Label</th><th scope=col>ID</th><th scope=col>Type</th><th scope=col>RawLength</th><th scope=col>FormattedLength</th><th scope=col>Format</th><th scope=col>NFL</th><th scope=col>NFD</th></tr>\n",
       "\t<tr><th></th><th scope=col>&lt;chr&gt;</th><th scope=col>&lt;chr&gt;</th><th scope=col>&lt;dbl&gt;</th><th scope=col>&lt;chr&gt;</th><th scope=col>&lt;int&gt;</th><th scope=col>&lt;int&gt;</th><th scope=col>&lt;chr&gt;</th><th scope=col>&lt;int&gt;</th><th scope=col>&lt;int&gt;</th></tr>\n",
       "</thead>\n",
       "<tbody>\n",
       "\t<tr><th scope=row>1</th><td>BAD        </td><td></td><td> 1</td><td>double </td><td>8</td><td>12</td><td></td><td>0</td><td>0</td></tr>\n",
       "\t<tr><th scope=row>2</th><td>LOAN       </td><td></td><td> 2</td><td>double </td><td>8</td><td>12</td><td></td><td>0</td><td>0</td></tr>\n",
       "\t<tr><th scope=row>3</th><td>MORTDUE    </td><td></td><td> 3</td><td>double </td><td>8</td><td>12</td><td></td><td>0</td><td>0</td></tr>\n",
       "\t<tr><th scope=row>4</th><td>VALUE      </td><td></td><td> 4</td><td>double </td><td>8</td><td>12</td><td></td><td>0</td><td>0</td></tr>\n",
       "\t<tr><th scope=row>5</th><td>REASON     </td><td></td><td> 5</td><td>varchar</td><td>7</td><td> 7</td><td></td><td>0</td><td>0</td></tr>\n",
       "\t<tr><th scope=row>6</th><td>JOB        </td><td></td><td> 6</td><td>varchar</td><td>7</td><td> 7</td><td></td><td>0</td><td>0</td></tr>\n",
       "\t<tr><th scope=row>7</th><td>YOJ        </td><td></td><td> 7</td><td>double </td><td>8</td><td>12</td><td></td><td>0</td><td>0</td></tr>\n",
       "\t<tr><th scope=row>8</th><td>DEROG      </td><td></td><td> 8</td><td>double </td><td>8</td><td>12</td><td></td><td>0</td><td>0</td></tr>\n",
       "\t<tr><th scope=row>9</th><td>DELINQ     </td><td></td><td> 9</td><td>double </td><td>8</td><td>12</td><td></td><td>0</td><td>0</td></tr>\n",
       "\t<tr><th scope=row>10</th><td>CLAGE      </td><td></td><td>10</td><td>double </td><td>8</td><td>12</td><td></td><td>0</td><td>0</td></tr>\n",
       "\t<tr><th scope=row>11</th><td>NINQ       </td><td></td><td>11</td><td>double </td><td>8</td><td>12</td><td></td><td>0</td><td>0</td></tr>\n",
       "\t<tr><th scope=row>12</th><td>CLNO       </td><td></td><td>12</td><td>double </td><td>8</td><td>12</td><td></td><td>0</td><td>0</td></tr>\n",
       "\t<tr><th scope=row>13</th><td>DEBTINC    </td><td></td><td>13</td><td>double </td><td>8</td><td>12</td><td></td><td>0</td><td>0</td></tr>\n",
       "\t<tr><th scope=row>14</th><td>IMP_CLAGE  </td><td></td><td>14</td><td>double </td><td>8</td><td>12</td><td></td><td>0</td><td>0</td></tr>\n",
       "\t<tr><th scope=row>15</th><td>IMP_CLNO   </td><td></td><td>15</td><td>double </td><td>8</td><td>12</td><td></td><td>0</td><td>0</td></tr>\n",
       "\t<tr><th scope=row>16</th><td>IMP_DEBTINC</td><td></td><td>16</td><td>double </td><td>8</td><td>12</td><td></td><td>0</td><td>0</td></tr>\n",
       "\t<tr><th scope=row>17</th><td>IMP_DELINQ </td><td></td><td>17</td><td>double </td><td>8</td><td>12</td><td></td><td>0</td><td>0</td></tr>\n",
       "\t<tr><th scope=row>18</th><td>IMP_DEROG  </td><td></td><td>18</td><td>double </td><td>8</td><td>12</td><td></td><td>0</td><td>0</td></tr>\n",
       "\t<tr><th scope=row>19</th><td>IMP_LOAN   </td><td></td><td>19</td><td>double </td><td>8</td><td>12</td><td></td><td>0</td><td>0</td></tr>\n",
       "\t<tr><th scope=row>20</th><td>IMP_MORTDUE</td><td></td><td>20</td><td>double </td><td>8</td><td>12</td><td></td><td>0</td><td>0</td></tr>\n",
       "\t<tr><th scope=row>21</th><td>IMP_NINQ   </td><td></td><td>21</td><td>double </td><td>8</td><td>12</td><td></td><td>0</td><td>0</td></tr>\n",
       "\t<tr><th scope=row>22</th><td>IMP_VALUE  </td><td></td><td>22</td><td>double </td><td>8</td><td>12</td><td></td><td>0</td><td>0</td></tr>\n",
       "\t<tr><th scope=row>23</th><td>IMP_YOJ    </td><td></td><td>23</td><td>double </td><td>8</td><td>12</td><td></td><td>0</td><td>0</td></tr>\n",
       "\t<tr><th scope=row>24</th><td>IMP_JOB    </td><td></td><td>24</td><td>varchar</td><td>7</td><td> 7</td><td></td><td>0</td><td>0</td></tr>\n",
       "\t<tr><th scope=row>25</th><td>IMP_REASON </td><td></td><td>25</td><td>varchar</td><td>7</td><td> 7</td><td></td><td>0</td><td>0</td></tr>\n",
       "</tbody>\n",
       "</table>\n"
      ],
      "text/latex": [
       "A casDataFrame: 25 × 9\n",
       "\\begin{tabular}{r|lllllllll}\n",
       "  & Column & Label & ID & Type & RawLength & FormattedLength & Format & NFL & NFD\\\\\n",
       "  & <chr> & <chr> & <dbl> & <chr> & <int> & <int> & <chr> & <int> & <int>\\\\\n",
       "\\hline\n",
       "\t1 & BAD         &  &  1 & double  & 8 & 12 &  & 0 & 0\\\\\n",
       "\t2 & LOAN        &  &  2 & double  & 8 & 12 &  & 0 & 0\\\\\n",
       "\t3 & MORTDUE     &  &  3 & double  & 8 & 12 &  & 0 & 0\\\\\n",
       "\t4 & VALUE       &  &  4 & double  & 8 & 12 &  & 0 & 0\\\\\n",
       "\t5 & REASON      &  &  5 & varchar & 7 &  7 &  & 0 & 0\\\\\n",
       "\t6 & JOB         &  &  6 & varchar & 7 &  7 &  & 0 & 0\\\\\n",
       "\t7 & YOJ         &  &  7 & double  & 8 & 12 &  & 0 & 0\\\\\n",
       "\t8 & DEROG       &  &  8 & double  & 8 & 12 &  & 0 & 0\\\\\n",
       "\t9 & DELINQ      &  &  9 & double  & 8 & 12 &  & 0 & 0\\\\\n",
       "\t10 & CLAGE       &  & 10 & double  & 8 & 12 &  & 0 & 0\\\\\n",
       "\t11 & NINQ        &  & 11 & double  & 8 & 12 &  & 0 & 0\\\\\n",
       "\t12 & CLNO        &  & 12 & double  & 8 & 12 &  & 0 & 0\\\\\n",
       "\t13 & DEBTINC     &  & 13 & double  & 8 & 12 &  & 0 & 0\\\\\n",
       "\t14 & IMP\\_CLAGE   &  & 14 & double  & 8 & 12 &  & 0 & 0\\\\\n",
       "\t15 & IMP\\_CLNO    &  & 15 & double  & 8 & 12 &  & 0 & 0\\\\\n",
       "\t16 & IMP\\_DEBTINC &  & 16 & double  & 8 & 12 &  & 0 & 0\\\\\n",
       "\t17 & IMP\\_DELINQ  &  & 17 & double  & 8 & 12 &  & 0 & 0\\\\\n",
       "\t18 & IMP\\_DEROG   &  & 18 & double  & 8 & 12 &  & 0 & 0\\\\\n",
       "\t19 & IMP\\_LOAN    &  & 19 & double  & 8 & 12 &  & 0 & 0\\\\\n",
       "\t20 & IMP\\_MORTDUE &  & 20 & double  & 8 & 12 &  & 0 & 0\\\\\n",
       "\t21 & IMP\\_NINQ    &  & 21 & double  & 8 & 12 &  & 0 & 0\\\\\n",
       "\t22 & IMP\\_VALUE   &  & 22 & double  & 8 & 12 &  & 0 & 0\\\\\n",
       "\t23 & IMP\\_YOJ     &  & 23 & double  & 8 & 12 &  & 0 & 0\\\\\n",
       "\t24 & IMP\\_JOB     &  & 24 & varchar & 7 &  7 &  & 0 & 0\\\\\n",
       "\t25 & IMP\\_REASON  &  & 25 & varchar & 7 &  7 &  & 0 & 0\\\\\n",
       "\\end{tabular}\n"
      ],
      "text/markdown": [
       "\n",
       "A casDataFrame: 25 × 9\n",
       "\n",
       "| <!--/--> | Column &lt;chr&gt; | Label &lt;chr&gt; | ID &lt;dbl&gt; | Type &lt;chr&gt; | RawLength &lt;int&gt; | FormattedLength &lt;int&gt; | Format &lt;chr&gt; | NFL &lt;int&gt; | NFD &lt;int&gt; |\n",
       "|---|---|---|---|---|---|---|---|---|---|\n",
       "| 1 | BAD         | <!----> |  1 | double  | 8 | 12 | <!----> | 0 | 0 |\n",
       "| 2 | LOAN        | <!----> |  2 | double  | 8 | 12 | <!----> | 0 | 0 |\n",
       "| 3 | MORTDUE     | <!----> |  3 | double  | 8 | 12 | <!----> | 0 | 0 |\n",
       "| 4 | VALUE       | <!----> |  4 | double  | 8 | 12 | <!----> | 0 | 0 |\n",
       "| 5 | REASON      | <!----> |  5 | varchar | 7 |  7 | <!----> | 0 | 0 |\n",
       "| 6 | JOB         | <!----> |  6 | varchar | 7 |  7 | <!----> | 0 | 0 |\n",
       "| 7 | YOJ         | <!----> |  7 | double  | 8 | 12 | <!----> | 0 | 0 |\n",
       "| 8 | DEROG       | <!----> |  8 | double  | 8 | 12 | <!----> | 0 | 0 |\n",
       "| 9 | DELINQ      | <!----> |  9 | double  | 8 | 12 | <!----> | 0 | 0 |\n",
       "| 10 | CLAGE       | <!----> | 10 | double  | 8 | 12 | <!----> | 0 | 0 |\n",
       "| 11 | NINQ        | <!----> | 11 | double  | 8 | 12 | <!----> | 0 | 0 |\n",
       "| 12 | CLNO        | <!----> | 12 | double  | 8 | 12 | <!----> | 0 | 0 |\n",
       "| 13 | DEBTINC     | <!----> | 13 | double  | 8 | 12 | <!----> | 0 | 0 |\n",
       "| 14 | IMP_CLAGE   | <!----> | 14 | double  | 8 | 12 | <!----> | 0 | 0 |\n",
       "| 15 | IMP_CLNO    | <!----> | 15 | double  | 8 | 12 | <!----> | 0 | 0 |\n",
       "| 16 | IMP_DEBTINC | <!----> | 16 | double  | 8 | 12 | <!----> | 0 | 0 |\n",
       "| 17 | IMP_DELINQ  | <!----> | 17 | double  | 8 | 12 | <!----> | 0 | 0 |\n",
       "| 18 | IMP_DEROG   | <!----> | 18 | double  | 8 | 12 | <!----> | 0 | 0 |\n",
       "| 19 | IMP_LOAN    | <!----> | 19 | double  | 8 | 12 | <!----> | 0 | 0 |\n",
       "| 20 | IMP_MORTDUE | <!----> | 20 | double  | 8 | 12 | <!----> | 0 | 0 |\n",
       "| 21 | IMP_NINQ    | <!----> | 21 | double  | 8 | 12 | <!----> | 0 | 0 |\n",
       "| 22 | IMP_VALUE   | <!----> | 22 | double  | 8 | 12 | <!----> | 0 | 0 |\n",
       "| 23 | IMP_YOJ     | <!----> | 23 | double  | 8 | 12 | <!----> | 0 | 0 |\n",
       "| 24 | IMP_JOB     | <!----> | 24 | varchar | 7 |  7 | <!----> | 0 | 0 |\n",
       "| 25 | IMP_REASON  | <!----> | 25 | varchar | 7 |  7 | <!----> | 0 | 0 |\n",
       "\n"
      ],
      "text/plain": [
       "   Column      Label ID Type    RawLength FormattedLength Format NFL NFD\n",
       "1  BAD                1 double  8         12                     0   0  \n",
       "2  LOAN               2 double  8         12                     0   0  \n",
       "3  MORTDUE            3 double  8         12                     0   0  \n",
       "4  VALUE              4 double  8         12                     0   0  \n",
       "5  REASON             5 varchar 7          7                     0   0  \n",
       "6  JOB                6 varchar 7          7                     0   0  \n",
       "7  YOJ                7 double  8         12                     0   0  \n",
       "8  DEROG              8 double  8         12                     0   0  \n",
       "9  DELINQ             9 double  8         12                     0   0  \n",
       "10 CLAGE             10 double  8         12                     0   0  \n",
       "11 NINQ              11 double  8         12                     0   0  \n",
       "12 CLNO              12 double  8         12                     0   0  \n",
       "13 DEBTINC           13 double  8         12                     0   0  \n",
       "14 IMP_CLAGE         14 double  8         12                     0   0  \n",
       "15 IMP_CLNO          15 double  8         12                     0   0  \n",
       "16 IMP_DEBTINC       16 double  8         12                     0   0  \n",
       "17 IMP_DELINQ        17 double  8         12                     0   0  \n",
       "18 IMP_DEROG         18 double  8         12                     0   0  \n",
       "19 IMP_LOAN          19 double  8         12                     0   0  \n",
       "20 IMP_MORTDUE       20 double  8         12                     0   0  \n",
       "21 IMP_NINQ          21 double  8         12                     0   0  \n",
       "22 IMP_VALUE         22 double  8         12                     0   0  \n",
       "23 IMP_YOJ           23 double  8         12                     0   0  \n",
       "24 IMP_JOB           24 varchar 7          7                     0   0  \n",
       "25 IMP_REASON        25 varchar 7          7                     0   0  "
      ]
     },
     "metadata": {},
     "output_type": "display_data"
    },
    {
     "data": {
      "text/html": [
       "'BAD'"
      ],
      "text/latex": [
       "'BAD'"
      ],
      "text/markdown": [
       "'BAD'"
      ],
      "text/plain": [
       "[1] \"BAD\""
      ]
     },
     "metadata": {},
     "output_type": "display_data"
    },
    {
     "data": {
      "text/html": [
       "<style>\n",
       ".list-inline {list-style: none; margin:0; padding: 0}\n",
       ".list-inline>li {display: inline-block}\n",
       ".list-inline>li:not(:last-child)::after {content: \"\\00b7\"; padding: 0 .5ex}\n",
       "</style>\n",
       "<ol class=list-inline><li>'IMP_CLAGE'</li><li>'IMP_CLNO'</li><li>'IMP_DEBTINC'</li><li>'IMP_DELINQ'</li><li>'IMP_DEROG'</li><li>'IMP_LOAN'</li><li>'IMP_MORTDUE'</li><li>'IMP_NINQ'</li><li>'IMP_VALUE'</li><li>'IMP_YOJ'</li><li>'IMP_JOB'</li><li>'IMP_REASON'</li></ol>\n"
      ],
      "text/latex": [
       "\\begin{enumerate*}\n",
       "\\item 'IMP\\_CLAGE'\n",
       "\\item 'IMP\\_CLNO'\n",
       "\\item 'IMP\\_DEBTINC'\n",
       "\\item 'IMP\\_DELINQ'\n",
       "\\item 'IMP\\_DEROG'\n",
       "\\item 'IMP\\_LOAN'\n",
       "\\item 'IMP\\_MORTDUE'\n",
       "\\item 'IMP\\_NINQ'\n",
       "\\item 'IMP\\_VALUE'\n",
       "\\item 'IMP\\_YOJ'\n",
       "\\item 'IMP\\_JOB'\n",
       "\\item 'IMP\\_REASON'\n",
       "\\end{enumerate*}\n"
      ],
      "text/markdown": [
       "1. 'IMP_CLAGE'\n",
       "2. 'IMP_CLNO'\n",
       "3. 'IMP_DEBTINC'\n",
       "4. 'IMP_DELINQ'\n",
       "5. 'IMP_DEROG'\n",
       "6. 'IMP_LOAN'\n",
       "7. 'IMP_MORTDUE'\n",
       "8. 'IMP_NINQ'\n",
       "9. 'IMP_VALUE'\n",
       "10. 'IMP_YOJ'\n",
       "11. 'IMP_JOB'\n",
       "12. 'IMP_REASON'\n",
       "\n",
       "\n"
      ],
      "text/plain": [
       " [1] \"IMP_CLAGE\"   \"IMP_CLNO\"    \"IMP_DEBTINC\" \"IMP_DELINQ\"  \"IMP_DEROG\"  \n",
       " [6] \"IMP_LOAN\"    \"IMP_MORTDUE\" \"IMP_NINQ\"    \"IMP_VALUE\"   \"IMP_YOJ\"    \n",
       "[11] \"IMP_JOB\"     \"IMP_REASON\" "
      ]
     },
     "metadata": {},
     "output_type": "display_data"
    },
    {
     "data": {
      "text/html": [
       "<style>\n",
       ".list-inline {list-style: none; margin:0; padding: 0}\n",
       ".list-inline>li {display: inline-block}\n",
       ".list-inline>li:not(:last-child)::after {content: \"\\00b7\"; padding: 0 .5ex}\n",
       "</style>\n",
       "<ol class=list-inline><li>'BAD'</li><li>'IMP_JOB'</li><li>'IMP_REASON'</li></ol>\n"
      ],
      "text/latex": [
       "\\begin{enumerate*}\n",
       "\\item 'BAD'\n",
       "\\item 'IMP\\_JOB'\n",
       "\\item 'IMP\\_REASON'\n",
       "\\end{enumerate*}\n"
      ],
      "text/markdown": [
       "1. 'BAD'\n",
       "2. 'IMP_JOB'\n",
       "3. 'IMP_REASON'\n",
       "\n",
       "\n"
      ],
      "text/plain": [
       "[1] \"BAD\"        \"IMP_JOB\"    \"IMP_REASON\""
      ]
     },
     "metadata": {},
     "output_type": "display_data"
    }
   ],
   "source": [
    "colinfo = cas.table.columnInfo(conn, table=\"hmeq\")$ColumnInfo \n",
    "colinfo\n",
    "\n",
    "# Target variable is the first variable \n",
    "target = colinfo$Column[1] \n",
    "\n",
    "# Get all variables \n",
    "inputs = colinfo$Column[-1] \n",
    "nominals = c(target, subset(colinfo, Type == 'varchar')$Column) \n",
    "\n",
    "# Get only imputed variables \n",
    "inputs = grep('IMP_', inputs, value = T) \n",
    "nominals = c(target, grep('IMP_', nominals, value = T)) \n",
    "\n",
    "# Print \n",
    "target \n",
    "inputs \n",
    "nominals"
   ]
  },
  {
   "cell_type": "markdown",
   "metadata": {},
   "source": [
    "# Partition Data"
   ]
  },
  {
   "cell_type": "code",
   "execution_count": 19,
   "metadata": {},
   "outputs": [
    {
     "name": "stderr",
     "output_type": "stream",
     "text": [
      "NOTE: Simple Random Sampling is in effect.\n",
      "\n",
      "NOTE: Using SEED=919 for sampling.\n",
      "\n"
     ]
    },
    {
     "data": {
      "text/html": [
       "<dl>\n",
       "\t<dt>$OutputCasTables</dt>\n",
       "\t\t<dd><table class=\"dataframe\">\n",
       "<caption>A casDataFrame: 1 × 5</caption>\n",
       "<thead>\n",
       "\t<tr><th></th><th scope=col>casLib</th><th scope=col>Name</th><th scope=col>Label</th><th scope=col>Rows</th><th scope=col>Columns</th></tr>\n",
       "\t<tr><th></th><th scope=col>&lt;chr&gt;</th><th scope=col>&lt;chr&gt;</th><th scope=col>&lt;chr&gt;</th><th scope=col>&lt;dbl&gt;</th><th scope=col>&lt;dbl&gt;</th></tr>\n",
       "</thead>\n",
       "<tbody>\n",
       "\t<tr><th scope=row>1</th><td>CASUSER(jobake)</td><td>hmeq</td><td></td><td>5960</td><td>26</td></tr>\n",
       "</tbody>\n",
       "</table>\n",
       "</dd>\n",
       "\t<dt>$SRSFreq</dt>\n",
       "\t\t<dd><table class=\"dataframe\">\n",
       "<caption>A casDataFrame: 1 × 3</caption>\n",
       "<thead>\n",
       "\t<tr><th></th><th scope=col>NObs</th><th scope=col>NSamp1</th><th scope=col>NSamp2</th></tr>\n",
       "\t<tr><th></th><th scope=col>&lt;dbl&gt;</th><th scope=col>&lt;dbl&gt;</th><th scope=col>&lt;dbl&gt;</th></tr>\n",
       "</thead>\n",
       "<tbody>\n",
       "\t<tr><th scope=row>1</th><td>5960</td><td>4172</td><td>1192</td></tr>\n",
       "</tbody>\n",
       "</table>\n",
       "</dd>\n",
       "</dl>\n"
      ],
      "text/latex": [
       "\\begin{description}\n",
       "\\item[\\$OutputCasTables] A casDataFrame: 1 × 5\n",
       "\\begin{tabular}{r|lllll}\n",
       "  & casLib & Name & Label & Rows & Columns\\\\\n",
       "  & <chr> & <chr> & <chr> & <dbl> & <dbl>\\\\\n",
       "\\hline\n",
       "\t1 & CASUSER(jobake) & hmeq &  & 5960 & 26\\\\\n",
       "\\end{tabular}\n",
       "\n",
       "\\item[\\$SRSFreq] A casDataFrame: 1 × 3\n",
       "\\begin{tabular}{r|lll}\n",
       "  & NObs & NSamp1 & NSamp2\\\\\n",
       "  & <dbl> & <dbl> & <dbl>\\\\\n",
       "\\hline\n",
       "\t1 & 5960 & 4172 & 1192\\\\\n",
       "\\end{tabular}\n",
       "\n",
       "\\end{description}\n"
      ],
      "text/markdown": [
       "$OutputCasTables\n",
       ":   \n",
       "A casDataFrame: 1 × 5\n",
       "\n",
       "| <!--/--> | casLib &lt;chr&gt; | Name &lt;chr&gt; | Label &lt;chr&gt; | Rows &lt;dbl&gt; | Columns &lt;dbl&gt; |\n",
       "|---|---|---|---|---|---|\n",
       "| 1 | CASUSER(jobake) | hmeq | <!----> | 5960 | 26 |\n",
       "\n",
       "\n",
       "$SRSFreq\n",
       ":   \n",
       "A casDataFrame: 1 × 3\n",
       "\n",
       "| <!--/--> | NObs &lt;dbl&gt; | NSamp1 &lt;dbl&gt; | NSamp2 &lt;dbl&gt; |\n",
       "|---|---|---|---|\n",
       "| 1 | 5960 | 4172 | 1192 |\n",
       "\n",
       "\n",
       "\n",
       "\n"
      ],
      "text/plain": [
       "$OutputCasTables\n",
       "           casLib Name Label Rows Columns\n",
       "1 CASUSER(jobake) hmeq       5960      26\n",
       "\n",
       "$SRSFreq\n",
       "  NObs NSamp1 NSamp2\n",
       "1 5960   4172   1192\n"
      ]
     },
     "metadata": {},
     "output_type": "display_data"
    }
   ],
   "source": [
    "cas.sampling.srs(conn,\n",
    "    table   = \"hmeq\",\n",
    "    samppct = 70,\n",
    "    samppct2 = 20,\n",
    "    seed = 919,\n",
    "    partind = TRUE,\n",
    "    output  = list(casOut = list(name = \"hmeq\", replace = TRUE),  copyVars = 'ALL')\n",
    ")"
   ]
  },
  {
   "cell_type": "markdown",
   "metadata": {},
   "source": [
    "# Dimension Reduction"
   ]
  },
  {
   "cell_type": "code",
   "execution_count": 20,
   "metadata": {},
   "outputs": [
    {
     "name": "stderr",
     "output_type": "stream",
     "text": [
      "NOTE: Added action set 'varReduce'.\n",
      "\n",
      "NOTE: Information for action set 'varReduce':\n",
      "\n",
      "NOTE:    varReduce\n",
      "\n",
      "NOTE:       unsuper - Provides an action for performing unsupervised dimension reduction\n",
      "\n",
      "NOTE:       super - Provides an action for performing supervised dimension reduction\n",
      "\n"
     ]
    }
   ],
   "source": [
    "loadActionSet(conn, 'varReduce')"
   ]
  },
  {
   "cell_type": "code",
   "execution_count": 21,
   "metadata": {},
   "outputs": [],
   "source": [
    "varReduce_obj = cas.varReduce.unsuper(conn,\n",
    "    table = \"hmeq\",\n",
    "    inputs = inputs,\n",
    "    nominals = nominals[-1],\n",
    "    varexp = 0.95\n",
    ")"
   ]
  },
  {
   "cell_type": "code",
   "execution_count": 22,
   "metadata": {},
   "outputs": [
    {
     "data": {
      "text/html": [
       "<style>\n",
       ".list-inline {list-style: none; margin:0; padding: 0}\n",
       ".list-inline>li {display: inline-block}\n",
       ".list-inline>li:not(:last-child)::after {content: \"\\00b7\"; padding: 0 .5ex}\n",
       "</style>\n",
       "<ol class=list-inline><li>'IMP_REASON'</li><li>'IMP_VALUE'</li><li>'IMP_JOB'</li><li>'IMP_DEROG'</li><li>'IMP_YOJ'</li><li>'IMP_DEBTINC'</li><li>'IMP_DELINQ'</li><li>'IMP_CLAGE'</li><li>'IMP_NINQ'</li><li>'IMP_LOAN'</li><li>'IMP_CLNO'</li></ol>\n"
      ],
      "text/latex": [
       "\\begin{enumerate*}\n",
       "\\item 'IMP\\_REASON'\n",
       "\\item 'IMP\\_VALUE'\n",
       "\\item 'IMP\\_JOB'\n",
       "\\item 'IMP\\_DEROG'\n",
       "\\item 'IMP\\_YOJ'\n",
       "\\item 'IMP\\_DEBTINC'\n",
       "\\item 'IMP\\_DELINQ'\n",
       "\\item 'IMP\\_CLAGE'\n",
       "\\item 'IMP\\_NINQ'\n",
       "\\item 'IMP\\_LOAN'\n",
       "\\item 'IMP\\_CLNO'\n",
       "\\end{enumerate*}\n"
      ],
      "text/markdown": [
       "1. 'IMP_REASON'\n",
       "2. 'IMP_VALUE'\n",
       "3. 'IMP_JOB'\n",
       "4. 'IMP_DEROG'\n",
       "5. 'IMP_YOJ'\n",
       "6. 'IMP_DEBTINC'\n",
       "7. 'IMP_DELINQ'\n",
       "8. 'IMP_CLAGE'\n",
       "9. 'IMP_NINQ'\n",
       "10. 'IMP_LOAN'\n",
       "11. 'IMP_CLNO'\n",
       "\n",
       "\n"
      ],
      "text/plain": [
       " [1] \"IMP_REASON\"  \"IMP_VALUE\"   \"IMP_JOB\"     \"IMP_DEROG\"   \"IMP_YOJ\"    \n",
       " [6] \"IMP_DEBTINC\" \"IMP_DELINQ\"  \"IMP_CLAGE\"   \"IMP_NINQ\"    \"IMP_LOAN\"   \n",
       "[11] \"IMP_CLNO\"   "
      ]
     },
     "metadata": {},
     "output_type": "display_data"
    }
   ],
   "source": [
    "varReduce_inputs = varReduce_obj$'SelectedEffects'$'Variable'\n",
    "varReduce_inputs"
   ]
  },
  {
   "cell_type": "code",
   "execution_count": 23,
   "metadata": {},
   "outputs": [
    {
     "name": "stdout",
     "output_type": "stream",
     "text": [
      "[1] \"The variable IMP_MORTDUE was removed from the input list.\"\n"
     ]
    }
   ],
   "source": [
    "print(paste(\"The variable\", setdiff(inputs,varReduce_inputs), \"was removed from the input list.\"))"
   ]
  },
  {
   "cell_type": "markdown",
   "metadata": {},
   "source": [
    "# Logistic Regression"
   ]
  },
  {
   "cell_type": "code",
   "execution_count": 24,
   "metadata": {},
   "outputs": [
    {
     "name": "stderr",
     "output_type": "stream",
     "text": [
      "NOTE: Added action set 'regression'.\n",
      "\n",
      "NOTE: Information for action set 'regression':\n",
      "\n",
      "NOTE:    regression\n",
      "\n",
      "NOTE:       glm - Fits linear regression models using the method of least squares\n",
      "\n",
      "NOTE:       genmod - Fits generalized linear regression models\n",
      "\n",
      "NOTE:       logistic - Fits logistic regression models\n",
      "\n",
      "NOTE:       logisticType3 - computes Type 3 or Joint tests that all parameters for an effect are zero\n",
      "\n",
      "NOTE:       logisticCode - writes SAS DATA step code for computing predicted values of the fitted model\n",
      "\n",
      "NOTE:       genmodScore - creates a table on the server that contains results from scoring observations by using a fitted model\n",
      "\n",
      "NOTE:       logisticScore - creates a table on the server that contains results from scoring observations by using a fitted model\n",
      "\n",
      "NOTE:       glmScore - creates a table on the server that contains results from scoring observations by using a fitted model\n",
      "\n",
      "NOTE:       logisticAssociation - computes indices of rank correlation between predicted probabilities and observed responses used for assessing the predictive ability of a model\n",
      "\n",
      "NOTE:       logisticLackfit - computes the Hosmer and Lemeshow test\n",
      "\n",
      "NOTE:       logisticOddsRatio - creates a table that compares subpopulations by using odds ratios.\n",
      "\n",
      "NOTE:       modelMatrix - creates a table on the server that contains the design matrix associated with a given model statement.\n",
      "\n"
     ]
    }
   ],
   "source": [
    "loadActionSet(conn, 'regression')"
   ]
  },
  {
   "cell_type": "code",
   "execution_count": 25,
   "metadata": {},
   "outputs": [
    {
     "name": "stderr",
     "output_type": "stream",
     "text": [
      "NOTE: Convergence criterion (GCONV=1E-8) satisfied.\n",
      "\n",
      "NOTE: 450993 bytes were written to the table \"lr_model\" in the caslib \"CASUSER(jobake)\".\n",
      "\n"
     ]
    }
   ],
   "source": [
    "lr_model = cas.regression.logistic(conn,\n",
    "    table    = list(name = \"hmeq\", where = '_PartInd_ = 1'),\n",
    "    classVars = nominals[-1],\n",
    "    model = list(depvar=target, effects=varReduce_inputs, dist='binomial', link='logit'),\n",
    "    store    = list(name='lr_model',replace=TRUE)\n",
    ")"
   ]
  },
  {
   "cell_type": "code",
   "execution_count": 26,
   "metadata": {},
   "outputs": [],
   "source": [
    "lr_score = cas.regression.logisticScore(conn,\n",
    "    table    = list(name = \"hmeq\", where = '_PartInd_ = 2'),\n",
    "    restore = \"lr_model\",\n",
    "    casout = list(name=\"lr_scored\", replace=TRUE),\n",
    "    copyVars = target\n",
    ")"
   ]
  },
  {
   "cell_type": "code",
   "execution_count": 27,
   "metadata": {},
   "outputs": [
    {
     "data": {
      "text/html": [
       "<strong>$Fetch</strong> = <table class=\"dataframe\">\n",
       "<caption>A casDataFrame: 3 × 22</caption>\n",
       "<thead>\n",
       "\t<tr><th></th><th scope=col>_Index_</th><th scope=col>_Column_</th><th scope=col>_Event_</th><th scope=col>_Depth_</th><th scope=col>_Value_</th><th scope=col>_NObs_</th><th scope=col>_NEvents_</th><th scope=col>_NEventsBest_</th><th scope=col>_Resp_</th><th scope=col>_RespBest_</th><th scope=col>⋯</th><th scope=col>_CumResp_</th><th scope=col>_CumRespBest_</th><th scope=col>_CumLift_</th><th scope=col>_CumLiftBest_</th><th scope=col>_PctResp_</th><th scope=col>_PctRespBest_</th><th scope=col>_CumPctResp_</th><th scope=col>_CumPctRespBest_</th><th scope=col>_Gain_</th><th scope=col>_GainBest_</th></tr>\n",
       "\t<tr><th></th><th scope=col>&lt;dbl&gt;</th><th scope=col>&lt;chr&gt;</th><th scope=col>&lt;chr&gt;</th><th scope=col>&lt;int&gt;</th><th scope=col>&lt;dbl&gt;</th><th scope=col>&lt;int&gt;</th><th scope=col>&lt;int&gt;</th><th scope=col>&lt;int&gt;</th><th scope=col>&lt;dbl&gt;</th><th scope=col>&lt;dbl&gt;</th><th scope=col>⋯</th><th scope=col>&lt;dbl&gt;</th><th scope=col>&lt;dbl&gt;</th><th scope=col>&lt;dbl&gt;</th><th scope=col>&lt;dbl&gt;</th><th scope=col>&lt;dbl&gt;</th><th scope=col>&lt;int&gt;</th><th scope=col>&lt;dbl&gt;</th><th scope=col>&lt;int&gt;</th><th scope=col>&lt;dbl&gt;</th><th scope=col>&lt;dbl&gt;</th></tr>\n",
       "</thead>\n",
       "<tbody>\n",
       "\t<tr><th scope=row>1</th><td>1</td><td>_PRED_</td><td>1</td><td> 5</td><td>0.6850714</td><td>60</td><td>46</td><td>60</td><td>19.40928</td><td>25.31646</td><td>⋯</td><td>19.40928</td><td>25.31646</td><td>3.881857</td><td>5.063291</td><td>76.66667</td><td>100</td><td>76.66667</td><td>100</td><td>2.881857</td><td>4.063291</td></tr>\n",
       "\t<tr><th scope=row>2</th><td>2</td><td>_PRED_</td><td>1</td><td>10</td><td>0.4626369</td><td>60</td><td>34</td><td>60</td><td>14.34599</td><td>25.31646</td><td>⋯</td><td>33.75527</td><td>50.63291</td><td>3.375527</td><td>5.063291</td><td>56.66667</td><td>100</td><td>66.66667</td><td>100</td><td>2.375527</td><td>4.063291</td></tr>\n",
       "\t<tr><th scope=row>3</th><td>3</td><td>_PRED_</td><td>1</td><td>15</td><td>0.3512977</td><td>60</td><td>22</td><td>60</td><td> 9.28270</td><td>25.31646</td><td>⋯</td><td>43.03797</td><td>75.94937</td><td>2.869198</td><td>5.063291</td><td>36.66667</td><td>100</td><td>56.66667</td><td>100</td><td>1.869198</td><td>4.063291</td></tr>\n",
       "</tbody>\n",
       "</table>\n"
      ],
      "text/latex": [
       "\\textbf{\\$Fetch} = A casDataFrame: 3 × 22\n",
       "\\begin{tabular}{r|lllllllllllllllllllll}\n",
       "  & \\_Index\\_ & \\_Column\\_ & \\_Event\\_ & \\_Depth\\_ & \\_Value\\_ & \\_NObs\\_ & \\_NEvents\\_ & \\_NEventsBest\\_ & \\_Resp\\_ & \\_RespBest\\_ & ⋯ & \\_CumResp\\_ & \\_CumRespBest\\_ & \\_CumLift\\_ & \\_CumLiftBest\\_ & \\_PctResp\\_ & \\_PctRespBest\\_ & \\_CumPctResp\\_ & \\_CumPctRespBest\\_ & \\_Gain\\_ & \\_GainBest\\_\\\\\n",
       "  & <dbl> & <chr> & <chr> & <int> & <dbl> & <int> & <int> & <int> & <dbl> & <dbl> & ⋯ & <dbl> & <dbl> & <dbl> & <dbl> & <dbl> & <int> & <dbl> & <int> & <dbl> & <dbl>\\\\\n",
       "\\hline\n",
       "\t1 & 1 & \\_PRED\\_ & 1 &  5 & 0.6850714 & 60 & 46 & 60 & 19.40928 & 25.31646 & ⋯ & 19.40928 & 25.31646 & 3.881857 & 5.063291 & 76.66667 & 100 & 76.66667 & 100 & 2.881857 & 4.063291\\\\\n",
       "\t2 & 2 & \\_PRED\\_ & 1 & 10 & 0.4626369 & 60 & 34 & 60 & 14.34599 & 25.31646 & ⋯ & 33.75527 & 50.63291 & 3.375527 & 5.063291 & 56.66667 & 100 & 66.66667 & 100 & 2.375527 & 4.063291\\\\\n",
       "\t3 & 3 & \\_PRED\\_ & 1 & 15 & 0.3512977 & 60 & 22 & 60 &  9.28270 & 25.31646 & ⋯ & 43.03797 & 75.94937 & 2.869198 & 5.063291 & 36.66667 & 100 & 56.66667 & 100 & 1.869198 & 4.063291\\\\\n",
       "\\end{tabular}\n"
      ],
      "text/markdown": [
       "**$Fetch** = \n",
       "A casDataFrame: 3 × 22\n",
       "\n",
       "| <!--/--> | _Index_ &lt;dbl&gt; | _Column_ &lt;chr&gt; | _Event_ &lt;chr&gt; | _Depth_ &lt;int&gt; | _Value_ &lt;dbl&gt; | _NObs_ &lt;int&gt; | _NEvents_ &lt;int&gt; | _NEventsBest_ &lt;int&gt; | _Resp_ &lt;dbl&gt; | _RespBest_ &lt;dbl&gt; | ⋯ ⋯ | _CumResp_ &lt;dbl&gt; | _CumRespBest_ &lt;dbl&gt; | _CumLift_ &lt;dbl&gt; | _CumLiftBest_ &lt;dbl&gt; | _PctResp_ &lt;dbl&gt; | _PctRespBest_ &lt;int&gt; | _CumPctResp_ &lt;dbl&gt; | _CumPctRespBest_ &lt;int&gt; | _Gain_ &lt;dbl&gt; | _GainBest_ &lt;dbl&gt; |\n",
       "|---|---|---|---|---|---|---|---|---|---|---|---|---|---|---|---|---|---|---|---|---|---|\n",
       "| 1 | 1 | _PRED_ | 1 |  5 | 0.6850714 | 60 | 46 | 60 | 19.40928 | 25.31646 | ⋯ | 19.40928 | 25.31646 | 3.881857 | 5.063291 | 76.66667 | 100 | 76.66667 | 100 | 2.881857 | 4.063291 |\n",
       "| 2 | 2 | _PRED_ | 1 | 10 | 0.4626369 | 60 | 34 | 60 | 14.34599 | 25.31646 | ⋯ | 33.75527 | 50.63291 | 3.375527 | 5.063291 | 56.66667 | 100 | 66.66667 | 100 | 2.375527 | 4.063291 |\n",
       "| 3 | 3 | _PRED_ | 1 | 15 | 0.3512977 | 60 | 22 | 60 |  9.28270 | 25.31646 | ⋯ | 43.03797 | 75.94937 | 2.869198 | 5.063291 | 36.66667 | 100 | 56.66667 | 100 | 1.869198 | 4.063291 |\n",
       "\n"
      ],
      "text/plain": [
       "$Fetch\n",
       "  _Index_ _Column_ _Event_ _Depth_   _Value_ _NObs_ _NEvents_ _NEventsBest_\n",
       "1       1   _PRED_       1       5 0.6850714     60        46            60\n",
       "2       2   _PRED_       1      10 0.4626369     60        34            60\n",
       "3       3   _PRED_       1      15 0.3512977     60        22            60\n",
       "    _Resp_ _RespBest_   _Lift_ _LiftBest_ _CumResp_ _CumRespBest_ _CumLift_\n",
       "1 19.40928   25.31646 3.881857   5.063291  19.40928      25.31646  3.881857\n",
       "2 14.34599   25.31646 2.869198   5.063291  33.75527      50.63291  3.375527\n",
       "3  9.28270   25.31646 1.856540   5.063291  43.03797      75.94937  2.869198\n",
       "  _CumLiftBest_ _PctResp_ _PctRespBest_ _CumPctResp_ _CumPctRespBest_   _Gain_\n",
       "1      5.063291  76.66667           100     76.66667              100 2.881857\n",
       "2      5.063291  56.66667           100     66.66667              100 2.375527\n",
       "3      5.063291  36.66667           100     56.66667              100 1.869198\n",
       "  _GainBest_\n",
       "1   4.063291\n",
       "2   4.063291\n",
       "3   4.063291\n"
      ]
     },
     "metadata": {},
     "output_type": "display_data"
    },
    {
     "data": {
      "text/html": [
       "<strong>$Fetch</strong> = <table class=\"dataframe\">\n",
       "<caption>A casDataFrame: 3 × 23</caption>\n",
       "<thead>\n",
       "\t<tr><th></th><th scope=col>_Index_</th><th scope=col>_Column_</th><th scope=col>_Event_</th><th scope=col>_Cutoff_</th><th scope=col>_TP_</th><th scope=col>_FP_</th><th scope=col>_FN_</th><th scope=col>_TN_</th><th scope=col>_Sensitivity_</th><th scope=col>_Specificity_</th><th scope=col>⋯</th><th scope=col>_FPR_</th><th scope=col>_ACC_</th><th scope=col>_FDR_</th><th scope=col>_F1_</th><th scope=col>_C_</th><th scope=col>_GINI_</th><th scope=col>_GAMMA_</th><th scope=col>_TAU_</th><th scope=col>_MiscEvent_</th><th scope=col>_FNR_</th></tr>\n",
       "\t<tr><th></th><th scope=col>&lt;dbl&gt;</th><th scope=col>&lt;chr&gt;</th><th scope=col>&lt;chr&gt;</th><th scope=col>&lt;dbl&gt;</th><th scope=col>&lt;int&gt;</th><th scope=col>&lt;int&gt;</th><th scope=col>&lt;int&gt;</th><th scope=col>&lt;int&gt;</th><th scope=col>&lt;dbl&gt;</th><th scope=col>&lt;dbl&gt;</th><th scope=col>⋯</th><th scope=col>&lt;dbl&gt;</th><th scope=col>&lt;dbl&gt;</th><th scope=col>&lt;dbl&gt;</th><th scope=col>&lt;dbl&gt;</th><th scope=col>&lt;dbl&gt;</th><th scope=col>&lt;dbl&gt;</th><th scope=col>&lt;dbl&gt;</th><th scope=col>&lt;dbl&gt;</th><th scope=col>&lt;dbl&gt;</th><th scope=col>&lt;dbl&gt;</th></tr>\n",
       "</thead>\n",
       "<tbody>\n",
       "\t<tr><th scope=row>1</th><td>1</td><td>_PRED_</td><td>1</td><td>0.00</td><td>237</td><td>955</td><td>0</td><td> 0</td><td>1.0000000</td><td>0.00000000</td><td>⋯</td><td>1.0000000</td><td>0.1988255</td><td>0.8011745</td><td>0.3317005</td><td>0.7914529</td><td>0.5829059</td><td>0.5924895</td><td>0.1858626</td><td>0.8011745</td><td>0.000000000</td></tr>\n",
       "\t<tr><th scope=row>2</th><td>2</td><td>_PRED_</td><td>1</td><td>0.01</td><td>237</td><td>944</td><td>0</td><td>11</td><td>1.0000000</td><td>0.01151832</td><td>⋯</td><td>0.9884817</td><td>0.2080537</td><td>0.7993226</td><td>0.3342736</td><td>0.7914529</td><td>0.5829059</td><td>0.5924895</td><td>0.1858626</td><td>0.7919463</td><td>0.000000000</td></tr>\n",
       "\t<tr><th scope=row>3</th><td>3</td><td>_PRED_</td><td>1</td><td>0.02</td><td>235</td><td>927</td><td>2</td><td>28</td><td>0.9915612</td><td>0.02931937</td><td>⋯</td><td>0.9706806</td><td>0.2206376</td><td>0.7977625</td><td>0.3359543</td><td>0.7914529</td><td>0.5829059</td><td>0.5924895</td><td>0.1858626</td><td>0.7793624</td><td>0.008438819</td></tr>\n",
       "</tbody>\n",
       "</table>\n"
      ],
      "text/latex": [
       "\\textbf{\\$Fetch} = A casDataFrame: 3 × 23\n",
       "\\begin{tabular}{r|lllllllllllllllllllll}\n",
       "  & \\_Index\\_ & \\_Column\\_ & \\_Event\\_ & \\_Cutoff\\_ & \\_TP\\_ & \\_FP\\_ & \\_FN\\_ & \\_TN\\_ & \\_Sensitivity\\_ & \\_Specificity\\_ & ⋯ & \\_FPR\\_ & \\_ACC\\_ & \\_FDR\\_ & \\_F1\\_ & \\_C\\_ & \\_GINI\\_ & \\_GAMMA\\_ & \\_TAU\\_ & \\_MiscEvent\\_ & \\_FNR\\_\\\\\n",
       "  & <dbl> & <chr> & <chr> & <dbl> & <int> & <int> & <int> & <int> & <dbl> & <dbl> & ⋯ & <dbl> & <dbl> & <dbl> & <dbl> & <dbl> & <dbl> & <dbl> & <dbl> & <dbl> & <dbl>\\\\\n",
       "\\hline\n",
       "\t1 & 1 & \\_PRED\\_ & 1 & 0.00 & 237 & 955 & 0 &  0 & 1.0000000 & 0.00000000 & ⋯ & 1.0000000 & 0.1988255 & 0.8011745 & 0.3317005 & 0.7914529 & 0.5829059 & 0.5924895 & 0.1858626 & 0.8011745 & 0.000000000\\\\\n",
       "\t2 & 2 & \\_PRED\\_ & 1 & 0.01 & 237 & 944 & 0 & 11 & 1.0000000 & 0.01151832 & ⋯ & 0.9884817 & 0.2080537 & 0.7993226 & 0.3342736 & 0.7914529 & 0.5829059 & 0.5924895 & 0.1858626 & 0.7919463 & 0.000000000\\\\\n",
       "\t3 & 3 & \\_PRED\\_ & 1 & 0.02 & 235 & 927 & 2 & 28 & 0.9915612 & 0.02931937 & ⋯ & 0.9706806 & 0.2206376 & 0.7977625 & 0.3359543 & 0.7914529 & 0.5829059 & 0.5924895 & 0.1858626 & 0.7793624 & 0.008438819\\\\\n",
       "\\end{tabular}\n"
      ],
      "text/markdown": [
       "**$Fetch** = \n",
       "A casDataFrame: 3 × 23\n",
       "\n",
       "| <!--/--> | _Index_ &lt;dbl&gt; | _Column_ &lt;chr&gt; | _Event_ &lt;chr&gt; | _Cutoff_ &lt;dbl&gt; | _TP_ &lt;int&gt; | _FP_ &lt;int&gt; | _FN_ &lt;int&gt; | _TN_ &lt;int&gt; | _Sensitivity_ &lt;dbl&gt; | _Specificity_ &lt;dbl&gt; | ⋯ ⋯ | _FPR_ &lt;dbl&gt; | _ACC_ &lt;dbl&gt; | _FDR_ &lt;dbl&gt; | _F1_ &lt;dbl&gt; | _C_ &lt;dbl&gt; | _GINI_ &lt;dbl&gt; | _GAMMA_ &lt;dbl&gt; | _TAU_ &lt;dbl&gt; | _MiscEvent_ &lt;dbl&gt; | _FNR_ &lt;dbl&gt; |\n",
       "|---|---|---|---|---|---|---|---|---|---|---|---|---|---|---|---|---|---|---|---|---|---|\n",
       "| 1 | 1 | _PRED_ | 1 | 0.00 | 237 | 955 | 0 |  0 | 1.0000000 | 0.00000000 | ⋯ | 1.0000000 | 0.1988255 | 0.8011745 | 0.3317005 | 0.7914529 | 0.5829059 | 0.5924895 | 0.1858626 | 0.8011745 | 0.000000000 |\n",
       "| 2 | 2 | _PRED_ | 1 | 0.01 | 237 | 944 | 0 | 11 | 1.0000000 | 0.01151832 | ⋯ | 0.9884817 | 0.2080537 | 0.7993226 | 0.3342736 | 0.7914529 | 0.5829059 | 0.5924895 | 0.1858626 | 0.7919463 | 0.000000000 |\n",
       "| 3 | 3 | _PRED_ | 1 | 0.02 | 235 | 927 | 2 | 28 | 0.9915612 | 0.02931937 | ⋯ | 0.9706806 | 0.2206376 | 0.7977625 | 0.3359543 | 0.7914529 | 0.5829059 | 0.5924895 | 0.1858626 | 0.7793624 | 0.008438819 |\n",
       "\n"
      ],
      "text/plain": [
       "$Fetch\n",
       "  _Index_ _Column_ _Event_ _Cutoff_ _TP_ _FP_ _FN_ _TN_ _Sensitivity_\n",
       "1       1   _PRED_       1     0.00  237  955    0    0     1.0000000\n",
       "2       2   _PRED_       1     0.01  237  944    0   11     1.0000000\n",
       "3       3   _PRED_       1     0.02  235  927    2   28     0.9915612\n",
       "  _Specificity_ _KS_      _KS2_   _FHALF_     _FPR_     _ACC_     _FDR_\n",
       "1    0.00000000    0 0.00000000 0.2367632 1.0000000 0.1988255 0.8011745\n",
       "2    0.01151832    0 0.01151832 0.2388631 0.9884817 0.2080537 0.7993226\n",
       "3    0.02931937    0 0.02088055 0.2405322 0.9706806 0.2206376 0.7977625\n",
       "       _F1_       _C_    _GINI_   _GAMMA_     _TAU_ _MiscEvent_       _FNR_\n",
       "1 0.3317005 0.7914529 0.5829059 0.5924895 0.1858626   0.8011745 0.000000000\n",
       "2 0.3342736 0.7914529 0.5829059 0.5924895 0.1858626   0.7919463 0.000000000\n",
       "3 0.3359543 0.7914529 0.5829059 0.5924895 0.1858626   0.7793624 0.008438819\n"
      ]
     },
     "metadata": {},
     "output_type": "display_data"
    }
   ],
   "source": [
    "lr_assess = cas.percentile.assess(conn,\n",
    "   table = 'lr_scored',\n",
    "   inputs = \"_PRED_\",\n",
    "   casout = list(name=\"lr_assess\", replace=TRUE),\n",
    "   response = target,\n",
    "   event = \"1\"\n",
    ")\n",
    "\n",
    "cas.table.fetch(conn, table=\"lr_assess\", to=3)\n",
    "cas.table.fetch(conn, table=\"lr_assess_ROC\", to=3)"
   ]
  },
  {
   "cell_type": "markdown",
   "metadata": {},
   "source": [
    "![title](BEST_PRAC.PNG)"
   ]
  },
  {
   "cell_type": "code",
   "execution_count": 28,
   "metadata": {},
   "outputs": [
    {
     "data": {
      "text/html": [
       "<table class=\"dataframe\">\n",
       "<caption>A data.frame: 1 × 3</caption>\n",
       "<thead>\n",
       "\t<tr><th scope=col>Model</th><th scope=col>Misclassification</th><th scope=col>Area_Under_Curve</th></tr>\n",
       "\t<tr><th scope=col>&lt;chr&gt;</th><th scope=col>&lt;dbl&gt;</th><th scope=col>&lt;dbl&gt;</th></tr>\n",
       "</thead>\n",
       "<tbody>\n",
       "\t<tr><td>Logistic Regression CAS</td><td>0.1619128</td><td>0.7914529</td></tr>\n",
       "</tbody>\n",
       "</table>\n"
      ],
      "text/latex": [
       "A data.frame: 1 × 3\n",
       "\\begin{tabular}{lll}\n",
       " Model & Misclassification & Area\\_Under\\_Curve\\\\\n",
       " <chr> & <dbl> & <dbl>\\\\\n",
       "\\hline\n",
       "\t Logistic Regression CAS & 0.1619128 & 0.7914529\\\\\n",
       "\\end{tabular}\n"
      ],
      "text/markdown": [
       "\n",
       "A data.frame: 1 × 3\n",
       "\n",
       "| Model &lt;chr&gt; | Misclassification &lt;dbl&gt; | Area_Under_Curve &lt;dbl&gt; |\n",
       "|---|---|---|\n",
       "| Logistic Regression CAS | 0.1619128 | 0.7914529 |\n",
       "\n"
      ],
      "text/plain": [
       "  Model                   Misclassification Area_Under_Curve\n",
       "1 Logistic Regression CAS 0.1619128         0.7914529       "
      ]
     },
     "metadata": {},
     "output_type": "display_data"
    }
   ],
   "source": [
    "lr_assess_ROC = defCasTable(conn, tablename = \"lr_assess_ROC\")\n",
    "lr_assess_ROC = to.casDataFrame(lr_assess_ROC)\n",
    "cutoff_index = round(lr_assess_ROC[,\"_Cutoff_\"],2)==0.5\n",
    "lr_assess_ROC = lr_assess_ROC[cutoff_index,]\n",
    "lr_metrics_cas = data.frame(\"Model\"=\"Logistic Regression CAS\", \"Misclassification\"=1-lr_assess_ROC[1,\"_ACC_\"], \"Area_Under_Curve\"=lr_assess_ROC[1,\"_C_\"])\n",
    "lr_metrics_cas"
   ]
  },
  {
   "cell_type": "markdown",
   "metadata": {},
   "source": [
    "# Decision Tree"
   ]
  },
  {
   "cell_type": "code",
   "execution_count": 29,
   "metadata": {},
   "outputs": [
    {
     "name": "stderr",
     "output_type": "stream",
     "text": [
      "NOTE: Added action set 'decisionTree'.\n",
      "\n",
      "NOTE: Information for action set 'decisionTree':\n",
      "\n",
      "NOTE:    decisionTree\n",
      "\n",
      "NOTE:       dtreeTrain - Trains a decision tree\n",
      "\n",
      "NOTE:       dtreeScore - Scores a table using a decision tree model\n",
      "\n",
      "NOTE:       dtreeSplit - Splits decision tree nodes\n",
      "\n",
      "NOTE:       dtreePrune - Prune a decision tree\n",
      "\n",
      "NOTE:       dtreeMerge - Merges decision tree nodes\n",
      "\n",
      "NOTE:       dtreeCode - Generates DATA step scoring code from a decision tree model\n",
      "\n",
      "NOTE:       forestTrain - Trains a forest. This action requires a SAS Visual Data Mining and Machine Learning license\n",
      "\n",
      "NOTE:       forestScore - Scores a table using a forest model\n",
      "\n",
      "NOTE:       forestCode - Generates DATA step scoring code from a forest model\n",
      "\n",
      "NOTE:       gbtreeTrain - Trains a gradient boosting tree. This action requires a SAS Visual Data Mining and Machine Learning license\n",
      "\n",
      "NOTE:       gbtreeScore - Scores a table using a gradient boosting tree model\n",
      "\n",
      "NOTE:       gbtreeCode - Generates DATA step scoring code from a gradient boosting tree model\n",
      "\n",
      "NOTE:       dtreeExportModel - Export the aStore model for a tree model table\n",
      "\n"
     ]
    }
   ],
   "source": [
    "loadActionSet(conn, 'decisionTree')"
   ]
  },
  {
   "cell_type": "code",
   "execution_count": 30,
   "metadata": {},
   "outputs": [
    {
     "data": {
      "text/html": [
       "<table class=\"dataframe\">\n",
       "<caption>A data.frame: 1 × 3</caption>\n",
       "<thead>\n",
       "\t<tr><th scope=col>Model</th><th scope=col>Misclassification</th><th scope=col>Area_Under_Curve</th></tr>\n",
       "\t<tr><th scope=col>&lt;chr&gt;</th><th scope=col>&lt;dbl&gt;</th><th scope=col>&lt;dbl&gt;</th></tr>\n",
       "</thead>\n",
       "<tbody>\n",
       "\t<tr><td>Decision Tree CAS</td><td>0.1694631</td><td>0.6698522</td></tr>\n",
       "</tbody>\n",
       "</table>\n"
      ],
      "text/latex": [
       "A data.frame: 1 × 3\n",
       "\\begin{tabular}{lll}\n",
       " Model & Misclassification & Area\\_Under\\_Curve\\\\\n",
       " <chr> & <dbl> & <dbl>\\\\\n",
       "\\hline\n",
       "\t Decision Tree CAS & 0.1694631 & 0.6698522\\\\\n",
       "\\end{tabular}\n"
      ],
      "text/markdown": [
       "\n",
       "A data.frame: 1 × 3\n",
       "\n",
       "| Model &lt;chr&gt; | Misclassification &lt;dbl&gt; | Area_Under_Curve &lt;dbl&gt; |\n",
       "|---|---|---|\n",
       "| Decision Tree CAS | 0.1694631 | 0.6698522 |\n",
       "\n"
      ],
      "text/plain": [
       "  Model             Misclassification Area_Under_Curve\n",
       "1 Decision Tree CAS 0.1694631         0.6698522       "
      ]
     },
     "metadata": {},
     "output_type": "display_data"
    }
   ],
   "source": [
    "dt_model = cas.decisionTree.dtreeTrain(conn,\n",
    "    table    = list(name = \"hmeq\", where = '_PartInd_ = 1'),\n",
    "    target   = target, \n",
    "    inputs   = varReduce_inputs, \n",
    "    nominals = nominals,\n",
    "    casOut   = list(name = 'dt_model', replace = TRUE)\n",
    ")\n",
    "\n",
    "dt_score = cas.decisionTree.dtreeScore(conn,\n",
    "    table    = list(name = \"hmeq\", where = '_PartInd_ = 2'),\n",
    "    model = \"dt_model\",\n",
    "    casout = list(name=\"dt_scored\", replace=TRUE),\n",
    "    copyVars = target,\n",
    "    encodename = TRUE,\n",
    "    assessonerow = TRUE\n",
    ")\n",
    "\n",
    "dt_assess = cas.percentile.assess(conn,\n",
    "   table = \"dt_scored\",\n",
    "   inputs = \"P_BAD1\",\n",
    "   casout = list(name=\"dt_assess\",replace=TRUE),\n",
    "   response = target,\n",
    "   event = \"1\"\n",
    ")\n",
    "\n",
    "dt_assess_ROC = defCasTable(conn, tablename = \"dt_assess_ROC\")\n",
    "dt_assess_ROC = to.casDataFrame(dt_assess_ROC)\n",
    "cutoff_index = round(dt_assess_ROC[,\"_Cutoff_\"],2)==0.5\n",
    "dt_assess_ROC = dt_assess_ROC[cutoff_index,]\n",
    "dt_metrics_cas = data.frame(\"Model\"=\"Decision Tree CAS\", \"Misclassification\"=1-dt_assess_ROC[1,\"_ACC_\"], \"Area_Under_Curve\"=dt_assess_ROC[1,\"_C_\"])\n",
    "dt_metrics_cas"
   ]
  },
  {
   "cell_type": "markdown",
   "metadata": {},
   "source": [
    "# Random Forest"
   ]
  },
  {
   "cell_type": "code",
   "execution_count": 31,
   "metadata": {},
   "outputs": [
    {
     "data": {
      "text/html": [
       "<table class=\"dataframe\">\n",
       "<caption>A data.frame: 1 × 3</caption>\n",
       "<thead>\n",
       "\t<tr><th scope=col>Model</th><th scope=col>Misclassification</th><th scope=col>Area_Under_Curve</th></tr>\n",
       "\t<tr><th scope=col>&lt;chr&gt;</th><th scope=col>&lt;dbl&gt;</th><th scope=col>&lt;dbl&gt;</th></tr>\n",
       "</thead>\n",
       "<tbody>\n",
       "\t<tr><td>Random Forest CAS</td><td>0.1577181</td><td>0.8651512</td></tr>\n",
       "</tbody>\n",
       "</table>\n"
      ],
      "text/latex": [
       "A data.frame: 1 × 3\n",
       "\\begin{tabular}{lll}\n",
       " Model & Misclassification & Area\\_Under\\_Curve\\\\\n",
       " <chr> & <dbl> & <dbl>\\\\\n",
       "\\hline\n",
       "\t Random Forest CAS & 0.1577181 & 0.8651512\\\\\n",
       "\\end{tabular}\n"
      ],
      "text/markdown": [
       "\n",
       "A data.frame: 1 × 3\n",
       "\n",
       "| Model &lt;chr&gt; | Misclassification &lt;dbl&gt; | Area_Under_Curve &lt;dbl&gt; |\n",
       "|---|---|---|\n",
       "| Random Forest CAS | 0.1577181 | 0.8651512 |\n",
       "\n"
      ],
      "text/plain": [
       "  Model             Misclassification Area_Under_Curve\n",
       "1 Random Forest CAS 0.1577181         0.8651512       "
      ]
     },
     "metadata": {},
     "output_type": "display_data"
    }
   ],
   "source": [
    "rf_model = cas.decisionTree.forestTrain(conn,\n",
    "    table    = list(name = \"hmeq\", where = '_PartInd_ = 1'),\n",
    "    target   = target, \n",
    "    inputs   = varReduce_inputs, \n",
    "    nominals = nominals,\n",
    "    casOut   = list(name = 'rf_model', replace = TRUE)\n",
    ")\n",
    "\n",
    "rf_score = cas.decisionTree.forestScore(conn,\n",
    "    table    = list(name = \"hmeq\", where = '_PartInd_ = 2'),\n",
    "    model = \"rf_model\",\n",
    "    casout = list(name=\"rf_scored\", replace=TRUE),\n",
    "    copyVars = target,\n",
    "    encodename = TRUE,\n",
    "    assessonerow = TRUE\n",
    ")\n",
    "\n",
    "rf_assess = cas.percentile.assess(conn,\n",
    "   table = \"rf_scored\",\n",
    "   inputs = \"P_BAD1\",\n",
    "   casout = list(name=\"rf_assess\",replace=TRUE),\n",
    "   response = target,\n",
    "   event = \"1\"\n",
    ")\n",
    "\n",
    "rf_assess_ROC = defCasTable(conn, tablename = \"rf_assess_ROC\")\n",
    "rf_assess_ROC = to.casDataFrame(rf_assess_ROC)\n",
    "cutoff_index = round(rf_assess_ROC[,\"_Cutoff_\"],2)==0.5\n",
    "rf_assess_ROC = rf_assess_ROC[cutoff_index,]\n",
    "rf_metrics_cas = data.frame(\"Model\"=\"Random Forest CAS\", \"Misclassification\"=1-rf_assess_ROC[1,\"_ACC_\"], \"Area_Under_Curve\"=rf_assess_ROC[1,\"_C_\"])\n",
    "rf_metrics_cas"
   ]
  },
  {
   "cell_type": "markdown",
   "metadata": {},
   "source": [
    "# Gradient Boosting"
   ]
  },
  {
   "cell_type": "code",
   "execution_count": 32,
   "metadata": {},
   "outputs": [
    {
     "data": {
      "text/html": [
       "<table class=\"dataframe\">\n",
       "<caption>A data.frame: 1 × 3</caption>\n",
       "<thead>\n",
       "\t<tr><th scope=col>Model</th><th scope=col>Misclassification</th><th scope=col>Area_Under_Curve</th></tr>\n",
       "\t<tr><th scope=col>&lt;chr&gt;</th><th scope=col>&lt;dbl&gt;</th><th scope=col>&lt;dbl&gt;</th></tr>\n",
       "</thead>\n",
       "<tbody>\n",
       "\t<tr><td>Gradient Boosting CAS</td><td>0.1182886</td><td>0.9119668</td></tr>\n",
       "</tbody>\n",
       "</table>\n"
      ],
      "text/latex": [
       "A data.frame: 1 × 3\n",
       "\\begin{tabular}{lll}\n",
       " Model & Misclassification & Area\\_Under\\_Curve\\\\\n",
       " <chr> & <dbl> & <dbl>\\\\\n",
       "\\hline\n",
       "\t Gradient Boosting CAS & 0.1182886 & 0.9119668\\\\\n",
       "\\end{tabular}\n"
      ],
      "text/markdown": [
       "\n",
       "A data.frame: 1 × 3\n",
       "\n",
       "| Model &lt;chr&gt; | Misclassification &lt;dbl&gt; | Area_Under_Curve &lt;dbl&gt; |\n",
       "|---|---|---|\n",
       "| Gradient Boosting CAS | 0.1182886 | 0.9119668 |\n",
       "\n"
      ],
      "text/plain": [
       "  Model                 Misclassification Area_Under_Curve\n",
       "1 Gradient Boosting CAS 0.1182886         0.9119668       "
      ]
     },
     "metadata": {},
     "output_type": "display_data"
    }
   ],
   "source": [
    "gb_model = cas.decisionTree.gbtreeTrain(conn,\n",
    "    table    = list(name = \"hmeq\", where = '_PartInd_ = 1'),\n",
    "    target   = target, \n",
    "    inputs   = varReduce_inputs, \n",
    "    nominals = nominals,\n",
    "    casOut   = list(name = 'gb_model', replace = TRUE)\n",
    ")\n",
    "\n",
    "gb_score = cas.decisionTree.gbtreeScore(conn,\n",
    "    table    = list(name = \"hmeq\", where = '_PartInd_ = 2'),\n",
    "    model = \"gb_model\",\n",
    "    casout = list(name=\"gb_scored\", replace=TRUE),\n",
    "    copyVars = target,\n",
    "    encodename = TRUE,\n",
    "    assessonerow = TRUE\n",
    ")\n",
    "\n",
    "gb_assess = cas.percentile.assess(conn,\n",
    "   table = \"gb_scored\",\n",
    "   inputs = \"P_BAD1\",\n",
    "   casout = list(name=\"gb_assess\",replace=TRUE),\n",
    "   response = target,\n",
    "   event = \"1\"\n",
    ")\n",
    "\n",
    "gb_assess_ROC = defCasTable(conn, tablename = \"gb_assess_ROC\")\n",
    "gb_assess_ROC = to.casDataFrame(gb_assess_ROC)\n",
    "cutoff_index = round(gb_assess_ROC[,\"_Cutoff_\"],2)==0.5\n",
    "gb_assess_ROC = gb_assess_ROC[cutoff_index,]\n",
    "gb_metrics_cas = data.frame(\"Model\"=\"Gradient Boosting CAS\", \"Misclassification\"=1-gb_assess_ROC[1,\"_ACC_\"], \"Area_Under_Curve\"=gb_assess_ROC[1,\"_C_\"])\n",
    "gb_metrics_cas"
   ]
  },
  {
   "cell_type": "markdown",
   "metadata": {},
   "source": [
    "# Deep Learning"
   ]
  },
  {
   "cell_type": "code",
   "execution_count": 33,
   "metadata": {},
   "outputs": [
    {
     "name": "stderr",
     "output_type": "stream",
     "text": [
      "NOTE: Added action set 'deepLearn'.\n",
      "\n",
      "NOTE: Information for action set 'deepLearn':\n",
      "\n",
      "NOTE:    deepLearn\n",
      "\n",
      "NOTE:       buildModel - Creates an empty Deep Learning model\n",
      "\n",
      "NOTE:       addLayer - Adds a layer to a Deep Learning model\n",
      "\n",
      "NOTE:       removeLayer - Removes a layer from a Deep Learning model\n",
      "\n",
      "NOTE:       dlPrune - Prunes a layer in a Deep Learning model\n",
      "\n",
      "NOTE:       modelInfo - Displays model information\n",
      "\n",
      "NOTE:       dlTune - Tunes hyperparameters for Deep Learning model\n",
      "\n",
      "NOTE:       dlTrain - Trains a Deep Learning model\n",
      "\n",
      "NOTE:       dlScore - Scores a table using a Deep Learning model\n",
      "\n",
      "NOTE:       dlExportModel - Exports a Deep Learning model\n",
      "\n",
      "NOTE:       dlLabelTarget - Assigns the target label information\n",
      "\n",
      "NOTE:       dlImportModelWeights - Imports model weights from an external source\n",
      "\n",
      "NOTE:       dlJoin - Joins the data table and the annotation table\n",
      "\n"
     ]
    }
   ],
   "source": [
    "loadActionSet(conn, 'deepLearn')"
   ]
  },
  {
   "cell_type": "code",
   "execution_count": 34,
   "metadata": {},
   "outputs": [
    {
     "data": {
      "text/html": [
       "<strong>$OutputCasTables</strong> = <table class=\"dataframe\">\n",
       "<caption>A casDataFrame: 1 × 4</caption>\n",
       "<thead>\n",
       "\t<tr><th></th><th scope=col>casLib</th><th scope=col>Name</th><th scope=col>Rows</th><th scope=col>Columns</th></tr>\n",
       "\t<tr><th></th><th scope=col>&lt;chr&gt;</th><th scope=col>&lt;chr&gt;</th><th scope=col>&lt;dbl&gt;</th><th scope=col>&lt;dbl&gt;</th></tr>\n",
       "</thead>\n",
       "<tbody>\n",
       "\t<tr><th scope=row>1</th><td>CASUSER(jobake)</td><td>dnn</td><td>1</td><td>5</td></tr>\n",
       "</tbody>\n",
       "</table>\n"
      ],
      "text/latex": [
       "\\textbf{\\$OutputCasTables} = A casDataFrame: 1 × 4\n",
       "\\begin{tabular}{r|llll}\n",
       "  & casLib & Name & Rows & Columns\\\\\n",
       "  & <chr> & <chr> & <dbl> & <dbl>\\\\\n",
       "\\hline\n",
       "\t1 & CASUSER(jobake) & dnn & 1 & 5\\\\\n",
       "\\end{tabular}\n"
      ],
      "text/markdown": [
       "**$OutputCasTables** = \n",
       "A casDataFrame: 1 × 4\n",
       "\n",
       "| <!--/--> | casLib &lt;chr&gt; | Name &lt;chr&gt; | Rows &lt;dbl&gt; | Columns &lt;dbl&gt; |\n",
       "|---|---|---|---|---|\n",
       "| 1 | CASUSER(jobake) | dnn | 1 | 5 |\n",
       "\n"
      ],
      "text/plain": [
       "$OutputCasTables\n",
       "           casLib Name Rows Columns\n",
       "1 CASUSER(jobake)  dnn    1       5\n"
      ]
     },
     "metadata": {},
     "output_type": "display_data"
    },
    {
     "data": {
      "text/html": [
       "<strong>$OutputCasTables</strong> = <table class=\"dataframe\">\n",
       "<caption>A casDataFrame: 1 × 4</caption>\n",
       "<thead>\n",
       "\t<tr><th></th><th scope=col>casLib</th><th scope=col>Name</th><th scope=col>Rows</th><th scope=col>Columns</th></tr>\n",
       "\t<tr><th></th><th scope=col>&lt;chr&gt;</th><th scope=col>&lt;chr&gt;</th><th scope=col>&lt;dbl&gt;</th><th scope=col>&lt;dbl&gt;</th></tr>\n",
       "</thead>\n",
       "<tbody>\n",
       "\t<tr><th scope=row>1</th><td>CASUSER(jobake)</td><td>dnn</td><td>11</td><td>5</td></tr>\n",
       "</tbody>\n",
       "</table>\n"
      ],
      "text/latex": [
       "\\textbf{\\$OutputCasTables} = A casDataFrame: 1 × 4\n",
       "\\begin{tabular}{r|llll}\n",
       "  & casLib & Name & Rows & Columns\\\\\n",
       "  & <chr> & <chr> & <dbl> & <dbl>\\\\\n",
       "\\hline\n",
       "\t1 & CASUSER(jobake) & dnn & 11 & 5\\\\\n",
       "\\end{tabular}\n"
      ],
      "text/markdown": [
       "**$OutputCasTables** = \n",
       "A casDataFrame: 1 × 4\n",
       "\n",
       "| <!--/--> | casLib &lt;chr&gt; | Name &lt;chr&gt; | Rows &lt;dbl&gt; | Columns &lt;dbl&gt; |\n",
       "|---|---|---|---|---|\n",
       "| 1 | CASUSER(jobake) | dnn | 11 | 5 |\n",
       "\n"
      ],
      "text/plain": [
       "$OutputCasTables\n",
       "           casLib Name Rows Columns\n",
       "1 CASUSER(jobake)  dnn   11       5\n"
      ]
     },
     "metadata": {},
     "output_type": "display_data"
    },
    {
     "data": {
      "text/html": [
       "<strong>$OutputCasTables</strong> = <table class=\"dataframe\">\n",
       "<caption>A casDataFrame: 1 × 4</caption>\n",
       "<thead>\n",
       "\t<tr><th></th><th scope=col>casLib</th><th scope=col>Name</th><th scope=col>Rows</th><th scope=col>Columns</th></tr>\n",
       "\t<tr><th></th><th scope=col>&lt;chr&gt;</th><th scope=col>&lt;chr&gt;</th><th scope=col>&lt;dbl&gt;</th><th scope=col>&lt;dbl&gt;</th></tr>\n",
       "</thead>\n",
       "<tbody>\n",
       "\t<tr><th scope=row>1</th><td>CASUSER(jobake)</td><td>dnn</td><td>22</td><td>5</td></tr>\n",
       "</tbody>\n",
       "</table>\n"
      ],
      "text/latex": [
       "\\textbf{\\$OutputCasTables} = A casDataFrame: 1 × 4\n",
       "\\begin{tabular}{r|llll}\n",
       "  & casLib & Name & Rows & Columns\\\\\n",
       "  & <chr> & <chr> & <dbl> & <dbl>\\\\\n",
       "\\hline\n",
       "\t1 & CASUSER(jobake) & dnn & 22 & 5\\\\\n",
       "\\end{tabular}\n"
      ],
      "text/markdown": [
       "**$OutputCasTables** = \n",
       "A casDataFrame: 1 × 4\n",
       "\n",
       "| <!--/--> | casLib &lt;chr&gt; | Name &lt;chr&gt; | Rows &lt;dbl&gt; | Columns &lt;dbl&gt; |\n",
       "|---|---|---|---|---|\n",
       "| 1 | CASUSER(jobake) | dnn | 22 | 5 |\n",
       "\n"
      ],
      "text/plain": [
       "$OutputCasTables\n",
       "           casLib Name Rows Columns\n",
       "1 CASUSER(jobake)  dnn   22       5\n"
      ]
     },
     "metadata": {},
     "output_type": "display_data"
    },
    {
     "data": {
      "text/html": [
       "<strong>$OutputCasTables</strong> = <table class=\"dataframe\">\n",
       "<caption>A casDataFrame: 1 × 4</caption>\n",
       "<thead>\n",
       "\t<tr><th></th><th scope=col>casLib</th><th scope=col>Name</th><th scope=col>Rows</th><th scope=col>Columns</th></tr>\n",
       "\t<tr><th></th><th scope=col>&lt;chr&gt;</th><th scope=col>&lt;chr&gt;</th><th scope=col>&lt;dbl&gt;</th><th scope=col>&lt;dbl&gt;</th></tr>\n",
       "</thead>\n",
       "<tbody>\n",
       "\t<tr><th scope=row>1</th><td>CASUSER(jobake)</td><td>dnn</td><td>33</td><td>5</td></tr>\n",
       "</tbody>\n",
       "</table>\n"
      ],
      "text/latex": [
       "\\textbf{\\$OutputCasTables} = A casDataFrame: 1 × 4\n",
       "\\begin{tabular}{r|llll}\n",
       "  & casLib & Name & Rows & Columns\\\\\n",
       "  & <chr> & <chr> & <dbl> & <dbl>\\\\\n",
       "\\hline\n",
       "\t1 & CASUSER(jobake) & dnn & 33 & 5\\\\\n",
       "\\end{tabular}\n"
      ],
      "text/markdown": [
       "**$OutputCasTables** = \n",
       "A casDataFrame: 1 × 4\n",
       "\n",
       "| <!--/--> | casLib &lt;chr&gt; | Name &lt;chr&gt; | Rows &lt;dbl&gt; | Columns &lt;dbl&gt; |\n",
       "|---|---|---|---|---|\n",
       "| 1 | CASUSER(jobake) | dnn | 33 | 5 |\n",
       "\n"
      ],
      "text/plain": [
       "$OutputCasTables\n",
       "           casLib Name Rows Columns\n",
       "1 CASUSER(jobake)  dnn   33       5\n"
      ]
     },
     "metadata": {},
     "output_type": "display_data"
    },
    {
     "data": {
      "text/html": [
       "<strong>$OutputCasTables</strong> = <table class=\"dataframe\">\n",
       "<caption>A casDataFrame: 1 × 4</caption>\n",
       "<thead>\n",
       "\t<tr><th></th><th scope=col>casLib</th><th scope=col>Name</th><th scope=col>Rows</th><th scope=col>Columns</th></tr>\n",
       "\t<tr><th></th><th scope=col>&lt;chr&gt;</th><th scope=col>&lt;chr&gt;</th><th scope=col>&lt;dbl&gt;</th><th scope=col>&lt;dbl&gt;</th></tr>\n",
       "</thead>\n",
       "<tbody>\n",
       "\t<tr><th scope=row>1</th><td>CASUSER(jobake)</td><td>dnn</td><td>48</td><td>5</td></tr>\n",
       "</tbody>\n",
       "</table>\n"
      ],
      "text/latex": [
       "\\textbf{\\$OutputCasTables} = A casDataFrame: 1 × 4\n",
       "\\begin{tabular}{r|llll}\n",
       "  & casLib & Name & Rows & Columns\\\\\n",
       "  & <chr> & <chr> & <dbl> & <dbl>\\\\\n",
       "\\hline\n",
       "\t1 & CASUSER(jobake) & dnn & 48 & 5\\\\\n",
       "\\end{tabular}\n"
      ],
      "text/markdown": [
       "**$OutputCasTables** = \n",
       "A casDataFrame: 1 × 4\n",
       "\n",
       "| <!--/--> | casLib &lt;chr&gt; | Name &lt;chr&gt; | Rows &lt;dbl&gt; | Columns &lt;dbl&gt; |\n",
       "|---|---|---|---|---|\n",
       "| 1 | CASUSER(jobake) | dnn | 48 | 5 |\n",
       "\n"
      ],
      "text/plain": [
       "$OutputCasTables\n",
       "           casLib Name Rows Columns\n",
       "1 CASUSER(jobake)  dnn   48       5\n"
      ]
     },
     "metadata": {},
     "output_type": "display_data"
    },
    {
     "data": {
      "text/html": [
       "<strong>$ModelInfo</strong> = <table class=\"dataframe\">\n",
       "<caption>A casDataFrame: 6 × 2</caption>\n",
       "<thead>\n",
       "\t<tr><th></th><th scope=col>Descr</th><th scope=col>Value</th></tr>\n",
       "\t<tr><th></th><th scope=col>&lt;chr&gt;</th><th scope=col>&lt;chr&gt;</th></tr>\n",
       "</thead>\n",
       "<tbody>\n",
       "\t<tr><th scope=row>1</th><td>Model Name                      </td><td>dnn                </td></tr>\n",
       "\t<tr><th scope=row>2</th><td>Model Type                      </td><td>Deep Neural Network</td></tr>\n",
       "\t<tr><th scope=row>3</th><td>Number of Layers                </td><td>           4       </td></tr>\n",
       "\t<tr><th scope=row>4</th><td>Number of Input Layers          </td><td>           1       </td></tr>\n",
       "\t<tr><th scope=row>5</th><td>Number of Output Layers         </td><td>           1       </td></tr>\n",
       "\t<tr><th scope=row>6</th><td>Number of Fully Connected Layers</td><td>           2       </td></tr>\n",
       "</tbody>\n",
       "</table>\n"
      ],
      "text/latex": [
       "\\textbf{\\$ModelInfo} = A casDataFrame: 6 × 2\n",
       "\\begin{tabular}{r|ll}\n",
       "  & Descr & Value\\\\\n",
       "  & <chr> & <chr>\\\\\n",
       "\\hline\n",
       "\t1 & Model Name                       & dnn                \\\\\n",
       "\t2 & Model Type                       & Deep Neural Network\\\\\n",
       "\t3 & Number of Layers                 &            4       \\\\\n",
       "\t4 & Number of Input Layers           &            1       \\\\\n",
       "\t5 & Number of Output Layers          &            1       \\\\\n",
       "\t6 & Number of Fully Connected Layers &            2       \\\\\n",
       "\\end{tabular}\n"
      ],
      "text/markdown": [
       "**$ModelInfo** = \n",
       "A casDataFrame: 6 × 2\n",
       "\n",
       "| <!--/--> | Descr &lt;chr&gt; | Value &lt;chr&gt; |\n",
       "|---|---|---|\n",
       "| 1 | Model Name                       | dnn                 |\n",
       "| 2 | Model Type                       | Deep Neural Network |\n",
       "| 3 | Number of Layers                 |            4        |\n",
       "| 4 | Number of Input Layers           |            1        |\n",
       "| 5 | Number of Output Layers          |            1        |\n",
       "| 6 | Number of Fully Connected Layers |            2        |\n",
       "\n"
      ],
      "text/plain": [
       "$ModelInfo\n",
       "                             Descr               Value\n",
       "1                       Model Name                 dnn\n",
       "2                       Model Type Deep Neural Network\n",
       "3                 Number of Layers                   4\n",
       "4           Number of Input Layers                   1\n",
       "5          Number of Output Layers                   1\n",
       "6 Number of Fully Connected Layers                   2\n"
      ]
     },
     "metadata": {},
     "output_type": "display_data"
    }
   ],
   "source": [
    "cas.deepLearn.buildModel(conn,\n",
    "    model = list(name='dnn', replace=TRUE),\n",
    "    type = 'dnn'\n",
    ")\n",
    "\n",
    "cas.deepLearn.addLayer(conn,\n",
    "    model = 'dnn',\n",
    "    layer = list(type='input', std='STD'),\n",
    "    replace=TRUE,\n",
    "    name = 'data'\n",
    ")\n",
    "\n",
    "cas.deepLearn.addLayer(conn,\n",
    "    model = 'dnn',\n",
    "    layer = list(type='fc', n=15),\n",
    "    srcLayers = 'data',\n",
    "    replace=TRUE,\n",
    "    name = 'hl1'\n",
    ")\n",
    "\n",
    "cas.deepLearn.addLayer(conn,\n",
    "    model = 'dnn',\n",
    "    layer = list(type='fc', n=15),\n",
    "    srcLayers = 'hl1',\n",
    "    replace=TRUE,\n",
    "    name = 'hl2'\n",
    ")\n",
    "\n",
    "cas.deepLearn.addLayer(conn,\n",
    "    model = 'dnn',\n",
    "    layer = list(type='output'),\n",
    "    srcLayers = 'hl2',\n",
    "    replace=TRUE,\n",
    "    name = 'output'\n",
    ")\n",
    "\n",
    "cas.deepLearn.modelInfo(conn,\n",
    "    modelTable = 'dnn'\n",
    ")"
   ]
  },
  {
   "cell_type": "code",
   "execution_count": 35,
   "metadata": {},
   "outputs": [
    {
     "name": "stderr",
     "output_type": "stream",
     "text": [
      "NOTE:  Synchronous mode is enabled.\n",
      "\n",
      "NOTE:  The total number of parameters is 542.\n",
      "\n",
      "NOTE:  The approximate memory cost is 2.00 MB.\n",
      "\n",
      "NOTE:  The total number of workers is 3.\n",
      "\n",
      "NOTE:  The total number of threads on each worker is 48.\n",
      "\n",
      "NOTE:  The maximum mini-batch size per thread on each worker is 50.\n",
      "\n",
      "NOTE:  The maximum mini-batch size across all workers for the synchronous mode is 7200.\n",
      "\n",
      "NOTE:  The optimization reached the maximum number of epochs.\n",
      "\n",
      "NOTE:  The total time is       3.39 (s).\n",
      "\n"
     ]
    },
    {
     "data": {
      "text/html": [
       "<dl>\n",
       "\t<dt>$ModelInfo</dt>\n",
       "\t\t<dd><table class=\"dataframe\">\n",
       "<caption>A casDataFrame: 10 × 2</caption>\n",
       "<thead>\n",
       "\t<tr><th></th><th scope=col>Descr</th><th scope=col>Value</th></tr>\n",
       "\t<tr><th></th><th scope=col>&lt;chr&gt;</th><th scope=col>&lt;chr&gt;</th></tr>\n",
       "</thead>\n",
       "<tbody>\n",
       "\t<tr><th scope=row>1</th><td>Model Name                               </td><td>dnn                </td></tr>\n",
       "\t<tr><th scope=row>2</th><td>Model Type                               </td><td>Deep Neural Network</td></tr>\n",
       "\t<tr><th scope=row>3</th><td>Number of Layers                         </td><td>           4       </td></tr>\n",
       "\t<tr><th scope=row>4</th><td>Number of Input Layers                   </td><td>           1       </td></tr>\n",
       "\t<tr><th scope=row>5</th><td>Number of Output Layers                  </td><td>           1       </td></tr>\n",
       "\t<tr><th scope=row>6</th><td>Number of Fully Connected Layers         </td><td>           2       </td></tr>\n",
       "\t<tr><th scope=row>7</th><td>Number of Weight Parameters              </td><td>         510       </td></tr>\n",
       "\t<tr><th scope=row>8</th><td>Number of Bias Parameters                </td><td>          32       </td></tr>\n",
       "\t<tr><th scope=row>9</th><td>Total Number of Model Parameters         </td><td>         542       </td></tr>\n",
       "\t<tr><th scope=row>10</th><td>Approximate Memory Cost for Training (MB)</td><td>           2       </td></tr>\n",
       "</tbody>\n",
       "</table>\n",
       "</dd>\n",
       "\t<dt>$OptIterHistory</dt>\n",
       "\t\t<dd><table class=\"dataframe\">\n",
       "<caption>A casDataFrame: 75 × 4</caption>\n",
       "<thead>\n",
       "\t<tr><th></th><th scope=col>Epoch</th><th scope=col>LearningRate</th><th scope=col>Loss</th><th scope=col>FitError</th></tr>\n",
       "\t<tr><th></th><th scope=col>&lt;int&gt;</th><th scope=col>&lt;dbl&gt;</th><th scope=col>&lt;dbl&gt;</th><th scope=col>&lt;dbl&gt;</th></tr>\n",
       "</thead>\n",
       "<tbody>\n",
       "\t<tr><th scope=row>1</th><td> 0</td><td>0.001</td><td>0.6548717</td><td>0.3767977</td></tr>\n",
       "\t<tr><th scope=row>2</th><td> 1</td><td>0.001</td><td>0.5028775</td><td>0.2039789</td></tr>\n",
       "\t<tr><th scope=row>3</th><td> 2</td><td>0.001</td><td>0.4379032</td><td>0.1790508</td></tr>\n",
       "\t<tr><th scope=row>4</th><td> 3</td><td>0.001</td><td>0.4116772</td><td>0.1665868</td></tr>\n",
       "\t<tr><th scope=row>5</th><td> 4</td><td>0.001</td><td>0.3997897</td><td>0.1632311</td></tr>\n",
       "\t<tr><th scope=row>6</th><td> 5</td><td>0.001</td><td>0.3930313</td><td>0.1622723</td></tr>\n",
       "\t<tr><th scope=row>7</th><td> 6</td><td>0.001</td><td>0.3886933</td><td>0.1617929</td></tr>\n",
       "\t<tr><th scope=row>8</th><td> 7</td><td>0.001</td><td>0.3856544</td><td>0.1613135</td></tr>\n",
       "\t<tr><th scope=row>9</th><td> 8</td><td>0.001</td><td>0.3833574</td><td>0.1603547</td></tr>\n",
       "\t<tr><th scope=row>10</th><td> 9</td><td>0.001</td><td>0.3815157</td><td>0.1584372</td></tr>\n",
       "\t<tr><th scope=row>11</th><td>10</td><td>0.001</td><td>0.3799701</td><td>0.1572387</td></tr>\n",
       "\t<tr><th scope=row>12</th><td>11</td><td>0.001</td><td>0.3786229</td><td>0.1565197</td></tr>\n",
       "\t<tr><th scope=row>13</th><td>12</td><td>0.001</td><td>0.3774101</td><td>0.1550815</td></tr>\n",
       "\t<tr><th scope=row>14</th><td>13</td><td>0.001</td><td>0.3762896</td><td>0.1541227</td></tr>\n",
       "\t<tr><th scope=row>15</th><td>14</td><td>0.001</td><td>0.3752334</td><td>0.1529243</td></tr>\n",
       "\t<tr><th scope=row>16</th><td>15</td><td>0.001</td><td>0.3742233</td><td>0.1526846</td></tr>\n",
       "\t<tr><th scope=row>17</th><td>16</td><td>0.001</td><td>0.3732475</td><td>0.1526846</td></tr>\n",
       "\t<tr><th scope=row>18</th><td>17</td><td>0.001</td><td>0.3722986</td><td>0.1514861</td></tr>\n",
       "\t<tr><th scope=row>19</th><td>18</td><td>0.001</td><td>0.3713718</td><td>0.1514861</td></tr>\n",
       "\t<tr><th scope=row>20</th><td>19</td><td>0.001</td><td>0.3704640</td><td>0.1512464</td></tr>\n",
       "\t<tr><th scope=row>21</th><td>20</td><td>0.001</td><td>0.3695733</td><td>0.1512464</td></tr>\n",
       "\t<tr><th scope=row>22</th><td>21</td><td>0.001</td><td>0.3686984</td><td>0.1502876</td></tr>\n",
       "\t<tr><th scope=row>23</th><td>22</td><td>0.001</td><td>0.3678383</td><td>0.1500479</td></tr>\n",
       "\t<tr><th scope=row>24</th><td>23</td><td>0.001</td><td>0.3669923</td><td>0.1500479</td></tr>\n",
       "\t<tr><th scope=row>25</th><td>24</td><td>0.001</td><td>0.3661600</td><td>0.1493289</td></tr>\n",
       "\t<tr><th scope=row>26</th><td>25</td><td>0.001</td><td>0.3653408</td><td>0.1486098</td></tr>\n",
       "\t<tr><th scope=row>27</th><td>26</td><td>0.001</td><td>0.3645342</td><td>0.1471716</td></tr>\n",
       "\t<tr><th scope=row>28</th><td>27</td><td>0.001</td><td>0.3637396</td><td>0.1466922</td></tr>\n",
       "\t<tr><th scope=row>29</th><td>28</td><td>0.001</td><td>0.3629561</td><td>0.1469319</td></tr>\n",
       "\t<tr><th scope=row>30</th><td>29</td><td>0.001</td><td>0.3621829</td><td>0.1462128</td></tr>\n",
       "\t<tr><th scope=row>⋮</th><td>⋮</td><td>⋮</td><td>⋮</td><td>⋮</td></tr>\n",
       "\t<tr><th scope=row>46</th><td>45</td><td>0.001</td><td>0.3503582</td><td>0.1409396</td></tr>\n",
       "\t<tr><th scope=row>47</th><td>46</td><td>0.001</td><td>0.3496040</td><td>0.1402205</td></tr>\n",
       "\t<tr><th scope=row>48</th><td>47</td><td>0.001</td><td>0.3488415</td><td>0.1390221</td></tr>\n",
       "\t<tr><th scope=row>49</th><td>48</td><td>0.001</td><td>0.3480691</td><td>0.1385427</td></tr>\n",
       "\t<tr><th scope=row>50</th><td>49</td><td>0.001</td><td>0.3472854</td><td>0.1385427</td></tr>\n",
       "\t<tr><th scope=row>51</th><td>50</td><td>0.001</td><td>0.3464886</td><td>0.1387824</td></tr>\n",
       "\t<tr><th scope=row>52</th><td>51</td><td>0.001</td><td>0.3456771</td><td>0.1380633</td></tr>\n",
       "\t<tr><th scope=row>53</th><td>52</td><td>0.001</td><td>0.3448490</td><td>0.1380633</td></tr>\n",
       "\t<tr><th scope=row>54</th><td>53</td><td>0.001</td><td>0.3440025</td><td>0.1383030</td></tr>\n",
       "\t<tr><th scope=row>55</th><td>54</td><td>0.001</td><td>0.3431358</td><td>0.1390221</td></tr>\n",
       "\t<tr><th scope=row>56</th><td>55</td><td>0.001</td><td>0.3422471</td><td>0.1378236</td></tr>\n",
       "\t<tr><th scope=row>57</th><td>56</td><td>0.001</td><td>0.3413348</td><td>0.1375839</td></tr>\n",
       "\t<tr><th scope=row>58</th><td>57</td><td>0.001</td><td>0.3403972</td><td>0.1375839</td></tr>\n",
       "\t<tr><th scope=row>59</th><td>58</td><td>0.001</td><td>0.3394328</td><td>0.1380633</td></tr>\n",
       "\t<tr><th scope=row>60</th><td>59</td><td>0.001</td><td>0.3384406</td><td>0.1368648</td></tr>\n",
       "\t<tr><th scope=row>61</th><td>60</td><td>0.001</td><td>0.3374193</td><td>0.1373442</td></tr>\n",
       "\t<tr><th scope=row>62</th><td>61</td><td>0.001</td><td>0.3363684</td><td>0.1373442</td></tr>\n",
       "\t<tr><th scope=row>63</th><td>62</td><td>0.001</td><td>0.3352874</td><td>0.1366251</td></tr>\n",
       "\t<tr><th scope=row>64</th><td>63</td><td>0.001</td><td>0.3341762</td><td>0.1359060</td></tr>\n",
       "\t<tr><th scope=row>65</th><td>64</td><td>0.001</td><td>0.3330351</td><td>0.1356663</td></tr>\n",
       "\t<tr><th scope=row>66</th><td>65</td><td>0.001</td><td>0.3318646</td><td>0.1344679</td></tr>\n",
       "\t<tr><th scope=row>67</th><td>66</td><td>0.001</td><td>0.3306659</td><td>0.1351870</td></tr>\n",
       "\t<tr><th scope=row>68</th><td>67</td><td>0.001</td><td>0.3294402</td><td>0.1349473</td></tr>\n",
       "\t<tr><th scope=row>69</th><td>68</td><td>0.001</td><td>0.3281894</td><td>0.1344679</td></tr>\n",
       "\t<tr><th scope=row>70</th><td>69</td><td>0.001</td><td>0.3269155</td><td>0.1339885</td></tr>\n",
       "\t<tr><th scope=row>71</th><td>70</td><td>0.001</td><td>0.3256206</td><td>0.1327900</td></tr>\n",
       "\t<tr><th scope=row>72</th><td>71</td><td>0.001</td><td>0.3243074</td><td>0.1325503</td></tr>\n",
       "\t<tr><th scope=row>73</th><td>72</td><td>0.001</td><td>0.3229781</td><td>0.1320709</td></tr>\n",
       "\t<tr><th scope=row>74</th><td>73</td><td>0.001</td><td>0.3216354</td><td>0.1308725</td></tr>\n",
       "\t<tr><th scope=row>75</th><td>74</td><td>0.001</td><td>0.3202817</td><td>0.1291946</td></tr>\n",
       "</tbody>\n",
       "</table>\n",
       "</dd>\n",
       "\t<dt>$OutputCasTables</dt>\n",
       "\t\t<dd><table class=\"dataframe\">\n",
       "<caption>A casDataFrame: 1 × 4</caption>\n",
       "<thead>\n",
       "\t<tr><th></th><th scope=col>casLib</th><th scope=col>Name</th><th scope=col>Rows</th><th scope=col>Columns</th></tr>\n",
       "\t<tr><th></th><th scope=col>&lt;chr&gt;</th><th scope=col>&lt;chr&gt;</th><th scope=col>&lt;dbl&gt;</th><th scope=col>&lt;dbl&gt;</th></tr>\n",
       "</thead>\n",
       "<tbody>\n",
       "\t<tr><th scope=row>1</th><td>CASUSER(jobake)</td><td>dnn_trained_weights</td><td>542</td><td>3</td></tr>\n",
       "</tbody>\n",
       "</table>\n",
       "</dd>\n",
       "</dl>\n"
      ],
      "text/latex": [
       "\\begin{description}\n",
       "\\item[\\$ModelInfo] A casDataFrame: 10 × 2\n",
       "\\begin{tabular}{r|ll}\n",
       "  & Descr & Value\\\\\n",
       "  & <chr> & <chr>\\\\\n",
       "\\hline\n",
       "\t1 & Model Name                                & dnn                \\\\\n",
       "\t2 & Model Type                                & Deep Neural Network\\\\\n",
       "\t3 & Number of Layers                          &            4       \\\\\n",
       "\t4 & Number of Input Layers                    &            1       \\\\\n",
       "\t5 & Number of Output Layers                   &            1       \\\\\n",
       "\t6 & Number of Fully Connected Layers          &            2       \\\\\n",
       "\t7 & Number of Weight Parameters               &          510       \\\\\n",
       "\t8 & Number of Bias Parameters                 &           32       \\\\\n",
       "\t9 & Total Number of Model Parameters          &          542       \\\\\n",
       "\t10 & Approximate Memory Cost for Training (MB) &            2       \\\\\n",
       "\\end{tabular}\n",
       "\n",
       "\\item[\\$OptIterHistory] A casDataFrame: 75 × 4\n",
       "\\begin{tabular}{r|llll}\n",
       "  & Epoch & LearningRate & Loss & FitError\\\\\n",
       "  & <int> & <dbl> & <dbl> & <dbl>\\\\\n",
       "\\hline\n",
       "\t1 &  0 & 0.001 & 0.6548717 & 0.3767977\\\\\n",
       "\t2 &  1 & 0.001 & 0.5028775 & 0.2039789\\\\\n",
       "\t3 &  2 & 0.001 & 0.4379032 & 0.1790508\\\\\n",
       "\t4 &  3 & 0.001 & 0.4116772 & 0.1665868\\\\\n",
       "\t5 &  4 & 0.001 & 0.3997897 & 0.1632311\\\\\n",
       "\t6 &  5 & 0.001 & 0.3930313 & 0.1622723\\\\\n",
       "\t7 &  6 & 0.001 & 0.3886933 & 0.1617929\\\\\n",
       "\t8 &  7 & 0.001 & 0.3856544 & 0.1613135\\\\\n",
       "\t9 &  8 & 0.001 & 0.3833574 & 0.1603547\\\\\n",
       "\t10 &  9 & 0.001 & 0.3815157 & 0.1584372\\\\\n",
       "\t11 & 10 & 0.001 & 0.3799701 & 0.1572387\\\\\n",
       "\t12 & 11 & 0.001 & 0.3786229 & 0.1565197\\\\\n",
       "\t13 & 12 & 0.001 & 0.3774101 & 0.1550815\\\\\n",
       "\t14 & 13 & 0.001 & 0.3762896 & 0.1541227\\\\\n",
       "\t15 & 14 & 0.001 & 0.3752334 & 0.1529243\\\\\n",
       "\t16 & 15 & 0.001 & 0.3742233 & 0.1526846\\\\\n",
       "\t17 & 16 & 0.001 & 0.3732475 & 0.1526846\\\\\n",
       "\t18 & 17 & 0.001 & 0.3722986 & 0.1514861\\\\\n",
       "\t19 & 18 & 0.001 & 0.3713718 & 0.1514861\\\\\n",
       "\t20 & 19 & 0.001 & 0.3704640 & 0.1512464\\\\\n",
       "\t21 & 20 & 0.001 & 0.3695733 & 0.1512464\\\\\n",
       "\t22 & 21 & 0.001 & 0.3686984 & 0.1502876\\\\\n",
       "\t23 & 22 & 0.001 & 0.3678383 & 0.1500479\\\\\n",
       "\t24 & 23 & 0.001 & 0.3669923 & 0.1500479\\\\\n",
       "\t25 & 24 & 0.001 & 0.3661600 & 0.1493289\\\\\n",
       "\t26 & 25 & 0.001 & 0.3653408 & 0.1486098\\\\\n",
       "\t27 & 26 & 0.001 & 0.3645342 & 0.1471716\\\\\n",
       "\t28 & 27 & 0.001 & 0.3637396 & 0.1466922\\\\\n",
       "\t29 & 28 & 0.001 & 0.3629561 & 0.1469319\\\\\n",
       "\t30 & 29 & 0.001 & 0.3621829 & 0.1462128\\\\\n",
       "\t⋮ & ⋮ & ⋮ & ⋮ & ⋮\\\\\n",
       "\t46 & 45 & 0.001 & 0.3503582 & 0.1409396\\\\\n",
       "\t47 & 46 & 0.001 & 0.3496040 & 0.1402205\\\\\n",
       "\t48 & 47 & 0.001 & 0.3488415 & 0.1390221\\\\\n",
       "\t49 & 48 & 0.001 & 0.3480691 & 0.1385427\\\\\n",
       "\t50 & 49 & 0.001 & 0.3472854 & 0.1385427\\\\\n",
       "\t51 & 50 & 0.001 & 0.3464886 & 0.1387824\\\\\n",
       "\t52 & 51 & 0.001 & 0.3456771 & 0.1380633\\\\\n",
       "\t53 & 52 & 0.001 & 0.3448490 & 0.1380633\\\\\n",
       "\t54 & 53 & 0.001 & 0.3440025 & 0.1383030\\\\\n",
       "\t55 & 54 & 0.001 & 0.3431358 & 0.1390221\\\\\n",
       "\t56 & 55 & 0.001 & 0.3422471 & 0.1378236\\\\\n",
       "\t57 & 56 & 0.001 & 0.3413348 & 0.1375839\\\\\n",
       "\t58 & 57 & 0.001 & 0.3403972 & 0.1375839\\\\\n",
       "\t59 & 58 & 0.001 & 0.3394328 & 0.1380633\\\\\n",
       "\t60 & 59 & 0.001 & 0.3384406 & 0.1368648\\\\\n",
       "\t61 & 60 & 0.001 & 0.3374193 & 0.1373442\\\\\n",
       "\t62 & 61 & 0.001 & 0.3363684 & 0.1373442\\\\\n",
       "\t63 & 62 & 0.001 & 0.3352874 & 0.1366251\\\\\n",
       "\t64 & 63 & 0.001 & 0.3341762 & 0.1359060\\\\\n",
       "\t65 & 64 & 0.001 & 0.3330351 & 0.1356663\\\\\n",
       "\t66 & 65 & 0.001 & 0.3318646 & 0.1344679\\\\\n",
       "\t67 & 66 & 0.001 & 0.3306659 & 0.1351870\\\\\n",
       "\t68 & 67 & 0.001 & 0.3294402 & 0.1349473\\\\\n",
       "\t69 & 68 & 0.001 & 0.3281894 & 0.1344679\\\\\n",
       "\t70 & 69 & 0.001 & 0.3269155 & 0.1339885\\\\\n",
       "\t71 & 70 & 0.001 & 0.3256206 & 0.1327900\\\\\n",
       "\t72 & 71 & 0.001 & 0.3243074 & 0.1325503\\\\\n",
       "\t73 & 72 & 0.001 & 0.3229781 & 0.1320709\\\\\n",
       "\t74 & 73 & 0.001 & 0.3216354 & 0.1308725\\\\\n",
       "\t75 & 74 & 0.001 & 0.3202817 & 0.1291946\\\\\n",
       "\\end{tabular}\n",
       "\n",
       "\\item[\\$OutputCasTables] A casDataFrame: 1 × 4\n",
       "\\begin{tabular}{r|llll}\n",
       "  & casLib & Name & Rows & Columns\\\\\n",
       "  & <chr> & <chr> & <dbl> & <dbl>\\\\\n",
       "\\hline\n",
       "\t1 & CASUSER(jobake) & dnn\\_trained\\_weights & 542 & 3\\\\\n",
       "\\end{tabular}\n",
       "\n",
       "\\end{description}\n"
      ],
      "text/markdown": [
       "$ModelInfo\n",
       ":   \n",
       "A casDataFrame: 10 × 2\n",
       "\n",
       "| <!--/--> | Descr &lt;chr&gt; | Value &lt;chr&gt; |\n",
       "|---|---|---|\n",
       "| 1 | Model Name                                | dnn                 |\n",
       "| 2 | Model Type                                | Deep Neural Network |\n",
       "| 3 | Number of Layers                          |            4        |\n",
       "| 4 | Number of Input Layers                    |            1        |\n",
       "| 5 | Number of Output Layers                   |            1        |\n",
       "| 6 | Number of Fully Connected Layers          |            2        |\n",
       "| 7 | Number of Weight Parameters               |          510        |\n",
       "| 8 | Number of Bias Parameters                 |           32        |\n",
       "| 9 | Total Number of Model Parameters          |          542        |\n",
       "| 10 | Approximate Memory Cost for Training (MB) |            2        |\n",
       "\n",
       "\n",
       "$OptIterHistory\n",
       ":   \n",
       "A casDataFrame: 75 × 4\n",
       "\n",
       "| <!--/--> | Epoch &lt;int&gt; | LearningRate &lt;dbl&gt; | Loss &lt;dbl&gt; | FitError &lt;dbl&gt; |\n",
       "|---|---|---|---|---|\n",
       "| 1 |  0 | 0.001 | 0.6548717 | 0.3767977 |\n",
       "| 2 |  1 | 0.001 | 0.5028775 | 0.2039789 |\n",
       "| 3 |  2 | 0.001 | 0.4379032 | 0.1790508 |\n",
       "| 4 |  3 | 0.001 | 0.4116772 | 0.1665868 |\n",
       "| 5 |  4 | 0.001 | 0.3997897 | 0.1632311 |\n",
       "| 6 |  5 | 0.001 | 0.3930313 | 0.1622723 |\n",
       "| 7 |  6 | 0.001 | 0.3886933 | 0.1617929 |\n",
       "| 8 |  7 | 0.001 | 0.3856544 | 0.1613135 |\n",
       "| 9 |  8 | 0.001 | 0.3833574 | 0.1603547 |\n",
       "| 10 |  9 | 0.001 | 0.3815157 | 0.1584372 |\n",
       "| 11 | 10 | 0.001 | 0.3799701 | 0.1572387 |\n",
       "| 12 | 11 | 0.001 | 0.3786229 | 0.1565197 |\n",
       "| 13 | 12 | 0.001 | 0.3774101 | 0.1550815 |\n",
       "| 14 | 13 | 0.001 | 0.3762896 | 0.1541227 |\n",
       "| 15 | 14 | 0.001 | 0.3752334 | 0.1529243 |\n",
       "| 16 | 15 | 0.001 | 0.3742233 | 0.1526846 |\n",
       "| 17 | 16 | 0.001 | 0.3732475 | 0.1526846 |\n",
       "| 18 | 17 | 0.001 | 0.3722986 | 0.1514861 |\n",
       "| 19 | 18 | 0.001 | 0.3713718 | 0.1514861 |\n",
       "| 20 | 19 | 0.001 | 0.3704640 | 0.1512464 |\n",
       "| 21 | 20 | 0.001 | 0.3695733 | 0.1512464 |\n",
       "| 22 | 21 | 0.001 | 0.3686984 | 0.1502876 |\n",
       "| 23 | 22 | 0.001 | 0.3678383 | 0.1500479 |\n",
       "| 24 | 23 | 0.001 | 0.3669923 | 0.1500479 |\n",
       "| 25 | 24 | 0.001 | 0.3661600 | 0.1493289 |\n",
       "| 26 | 25 | 0.001 | 0.3653408 | 0.1486098 |\n",
       "| 27 | 26 | 0.001 | 0.3645342 | 0.1471716 |\n",
       "| 28 | 27 | 0.001 | 0.3637396 | 0.1466922 |\n",
       "| 29 | 28 | 0.001 | 0.3629561 | 0.1469319 |\n",
       "| 30 | 29 | 0.001 | 0.3621829 | 0.1462128 |\n",
       "| ⋮ | ⋮ | ⋮ | ⋮ | ⋮ |\n",
       "| 46 | 45 | 0.001 | 0.3503582 | 0.1409396 |\n",
       "| 47 | 46 | 0.001 | 0.3496040 | 0.1402205 |\n",
       "| 48 | 47 | 0.001 | 0.3488415 | 0.1390221 |\n",
       "| 49 | 48 | 0.001 | 0.3480691 | 0.1385427 |\n",
       "| 50 | 49 | 0.001 | 0.3472854 | 0.1385427 |\n",
       "| 51 | 50 | 0.001 | 0.3464886 | 0.1387824 |\n",
       "| 52 | 51 | 0.001 | 0.3456771 | 0.1380633 |\n",
       "| 53 | 52 | 0.001 | 0.3448490 | 0.1380633 |\n",
       "| 54 | 53 | 0.001 | 0.3440025 | 0.1383030 |\n",
       "| 55 | 54 | 0.001 | 0.3431358 | 0.1390221 |\n",
       "| 56 | 55 | 0.001 | 0.3422471 | 0.1378236 |\n",
       "| 57 | 56 | 0.001 | 0.3413348 | 0.1375839 |\n",
       "| 58 | 57 | 0.001 | 0.3403972 | 0.1375839 |\n",
       "| 59 | 58 | 0.001 | 0.3394328 | 0.1380633 |\n",
       "| 60 | 59 | 0.001 | 0.3384406 | 0.1368648 |\n",
       "| 61 | 60 | 0.001 | 0.3374193 | 0.1373442 |\n",
       "| 62 | 61 | 0.001 | 0.3363684 | 0.1373442 |\n",
       "| 63 | 62 | 0.001 | 0.3352874 | 0.1366251 |\n",
       "| 64 | 63 | 0.001 | 0.3341762 | 0.1359060 |\n",
       "| 65 | 64 | 0.001 | 0.3330351 | 0.1356663 |\n",
       "| 66 | 65 | 0.001 | 0.3318646 | 0.1344679 |\n",
       "| 67 | 66 | 0.001 | 0.3306659 | 0.1351870 |\n",
       "| 68 | 67 | 0.001 | 0.3294402 | 0.1349473 |\n",
       "| 69 | 68 | 0.001 | 0.3281894 | 0.1344679 |\n",
       "| 70 | 69 | 0.001 | 0.3269155 | 0.1339885 |\n",
       "| 71 | 70 | 0.001 | 0.3256206 | 0.1327900 |\n",
       "| 72 | 71 | 0.001 | 0.3243074 | 0.1325503 |\n",
       "| 73 | 72 | 0.001 | 0.3229781 | 0.1320709 |\n",
       "| 74 | 73 | 0.001 | 0.3216354 | 0.1308725 |\n",
       "| 75 | 74 | 0.001 | 0.3202817 | 0.1291946 |\n",
       "\n",
       "\n",
       "$OutputCasTables\n",
       ":   \n",
       "A casDataFrame: 1 × 4\n",
       "\n",
       "| <!--/--> | casLib &lt;chr&gt; | Name &lt;chr&gt; | Rows &lt;dbl&gt; | Columns &lt;dbl&gt; |\n",
       "|---|---|---|---|---|\n",
       "| 1 | CASUSER(jobake) | dnn_trained_weights | 542 | 3 |\n",
       "\n",
       "\n",
       "\n",
       "\n"
      ],
      "text/plain": [
       "$ModelInfo\n",
       "                                       Descr               Value\n",
       "1                                 Model Name                 dnn\n",
       "2                                 Model Type Deep Neural Network\n",
       "3                           Number of Layers                   4\n",
       "4                     Number of Input Layers                   1\n",
       "5                    Number of Output Layers                   1\n",
       "6           Number of Fully Connected Layers                   2\n",
       "7                Number of Weight Parameters                 510\n",
       "8                  Number of Bias Parameters                  32\n",
       "9           Total Number of Model Parameters                 542\n",
       "10 Approximate Memory Cost for Training (MB)                   2\n",
       "\n",
       "$OptIterHistory\n",
       "   Epoch LearningRate      Loss  FitError\n",
       "1      0        0.001 0.6548717 0.3767977\n",
       "2      1        0.001 0.5028775 0.2039789\n",
       "3      2        0.001 0.4379032 0.1790508\n",
       "4      3        0.001 0.4116772 0.1665868\n",
       "5      4        0.001 0.3997897 0.1632311\n",
       "6      5        0.001 0.3930313 0.1622723\n",
       "7      6        0.001 0.3886933 0.1617929\n",
       "8      7        0.001 0.3856544 0.1613135\n",
       "9      8        0.001 0.3833574 0.1603547\n",
       "10     9        0.001 0.3815157 0.1584372\n",
       "11    10        0.001 0.3799701 0.1572387\n",
       "12    11        0.001 0.3786229 0.1565197\n",
       "13    12        0.001 0.3774101 0.1550815\n",
       "14    13        0.001 0.3762896 0.1541227\n",
       "15    14        0.001 0.3752334 0.1529243\n",
       "16    15        0.001 0.3742233 0.1526846\n",
       "17    16        0.001 0.3732475 0.1526846\n",
       "18    17        0.001 0.3722986 0.1514861\n",
       "19    18        0.001 0.3713718 0.1514861\n",
       "20    19        0.001 0.3704640 0.1512464\n",
       "21    20        0.001 0.3695733 0.1512464\n",
       "22    21        0.001 0.3686984 0.1502876\n",
       "23    22        0.001 0.3678383 0.1500479\n",
       "24    23        0.001 0.3669923 0.1500479\n",
       "25    24        0.001 0.3661600 0.1493289\n",
       "26    25        0.001 0.3653408 0.1486098\n",
       "27    26        0.001 0.3645342 0.1471716\n",
       "28    27        0.001 0.3637396 0.1466922\n",
       "29    28        0.001 0.3629561 0.1469319\n",
       "30    29        0.001 0.3621829 0.1462128\n",
       "31    30        0.001 0.3614189 0.1464525\n",
       "32    31        0.001 0.3606630 0.1457335\n",
       "33    32        0.001 0.3599141 0.1450144\n",
       "34    33        0.001 0.3591710 0.1450144\n",
       "35    34        0.001 0.3584326 0.1440556\n",
       "36    35        0.001 0.3576980 0.1442953\n",
       "37    36        0.001 0.3569661 0.1440556\n",
       "38    37        0.001 0.3562361 0.1435762\n",
       "39    38        0.001 0.3555070 0.1435762\n",
       "40    39        0.001 0.3547781 0.1435762\n",
       "41    40        0.001 0.3540485 0.1430968\n",
       "42    41        0.001 0.3533174 0.1423778\n",
       "43    42        0.001 0.3525839 0.1418984\n",
       "44    43        0.001 0.3518469 0.1416587\n",
       "45    44        0.001 0.3511054 0.1416587\n",
       "46    45        0.001 0.3503582 0.1409396\n",
       "47    46        0.001 0.3496040 0.1402205\n",
       "48    47        0.001 0.3488415 0.1390221\n",
       "49    48        0.001 0.3480691 0.1385427\n",
       "50    49        0.001 0.3472854 0.1385427\n",
       "51    50        0.001 0.3464886 0.1387824\n",
       "52    51        0.001 0.3456771 0.1380633\n",
       "53    52        0.001 0.3448490 0.1380633\n",
       "54    53        0.001 0.3440025 0.1383030\n",
       "55    54        0.001 0.3431358 0.1390221\n",
       "56    55        0.001 0.3422471 0.1378236\n",
       "57    56        0.001 0.3413348 0.1375839\n",
       "58    57        0.001 0.3403972 0.1375839\n",
       "59    58        0.001 0.3394328 0.1380633\n",
       "60    59        0.001 0.3384406 0.1368648\n",
       "61    60        0.001 0.3374193 0.1373442\n",
       "62    61        0.001 0.3363684 0.1373442\n",
       "63    62        0.001 0.3352874 0.1366251\n",
       "64    63        0.001 0.3341762 0.1359060\n",
       "65    64        0.001 0.3330351 0.1356663\n",
       "66    65        0.001 0.3318646 0.1344679\n",
       "67    66        0.001 0.3306659 0.1351870\n",
       "68    67        0.001 0.3294402 0.1349473\n",
       "69    68        0.001 0.3281894 0.1344679\n",
       "70    69        0.001 0.3269155 0.1339885\n",
       "71    70        0.001 0.3256206 0.1327900\n",
       "72    71        0.001 0.3243074 0.1325503\n",
       "73    72        0.001 0.3229781 0.1320709\n",
       "74    73        0.001 0.3216354 0.1308725\n",
       "75    74        0.001 0.3202817 0.1291946\n",
       "\n",
       "$OutputCasTables\n",
       "           casLib                Name Rows Columns\n",
       "1 CASUSER(jobake) dnn_trained_weights  542       3\n"
      ]
     },
     "metadata": {},
     "output_type": "display_data"
    },
    {
     "data": {
      "text/html": [
       "<dl>\n",
       "\t<dt>$OutputCasTables</dt>\n",
       "\t\t<dd><table class=\"dataframe\">\n",
       "<caption>A casDataFrame: 1 × 4</caption>\n",
       "<thead>\n",
       "\t<tr><th></th><th scope=col>casLib</th><th scope=col>Name</th><th scope=col>Rows</th><th scope=col>Columns</th></tr>\n",
       "\t<tr><th></th><th scope=col>&lt;chr&gt;</th><th scope=col>&lt;chr&gt;</th><th scope=col>&lt;dbl&gt;</th><th scope=col>&lt;dbl&gt;</th></tr>\n",
       "</thead>\n",
       "<tbody>\n",
       "\t<tr><th scope=row>1</th><td>CASUSER(jobake)</td><td>dnn_scored</td><td>1192</td><td>6</td></tr>\n",
       "</tbody>\n",
       "</table>\n",
       "</dd>\n",
       "\t<dt>$ScoreInfo</dt>\n",
       "\t\t<dd><table class=\"dataframe\">\n",
       "<caption>A casDataFrame: 4 × 2</caption>\n",
       "<thead>\n",
       "\t<tr><th></th><th scope=col>Descr</th><th scope=col>Value</th></tr>\n",
       "\t<tr><th></th><th scope=col>&lt;chr&gt;</th><th scope=col>&lt;chr&gt;</th></tr>\n",
       "</thead>\n",
       "<tbody>\n",
       "\t<tr><th scope=row>1</th><td>Number of Observations Read</td><td>        1192</td></tr>\n",
       "\t<tr><th scope=row>2</th><td>Number of Observations Used</td><td>        1192</td></tr>\n",
       "\t<tr><th scope=row>3</th><td>Misclassification Error (%)</td><td>    14.09396</td></tr>\n",
       "\t<tr><th scope=row>4</th><td>Loss Error                 </td><td>    0.354622</td></tr>\n",
       "</tbody>\n",
       "</table>\n",
       "</dd>\n",
       "</dl>\n"
      ],
      "text/latex": [
       "\\begin{description}\n",
       "\\item[\\$OutputCasTables] A casDataFrame: 1 × 4\n",
       "\\begin{tabular}{r|llll}\n",
       "  & casLib & Name & Rows & Columns\\\\\n",
       "  & <chr> & <chr> & <dbl> & <dbl>\\\\\n",
       "\\hline\n",
       "\t1 & CASUSER(jobake) & dnn\\_scored & 1192 & 6\\\\\n",
       "\\end{tabular}\n",
       "\n",
       "\\item[\\$ScoreInfo] A casDataFrame: 4 × 2\n",
       "\\begin{tabular}{r|ll}\n",
       "  & Descr & Value\\\\\n",
       "  & <chr> & <chr>\\\\\n",
       "\\hline\n",
       "\t1 & Number of Observations Read &         1192\\\\\n",
       "\t2 & Number of Observations Used &         1192\\\\\n",
       "\t3 & Misclassification Error (\\%) &     14.09396\\\\\n",
       "\t4 & Loss Error                  &     0.354622\\\\\n",
       "\\end{tabular}\n",
       "\n",
       "\\end{description}\n"
      ],
      "text/markdown": [
       "$OutputCasTables\n",
       ":   \n",
       "A casDataFrame: 1 × 4\n",
       "\n",
       "| <!--/--> | casLib &lt;chr&gt; | Name &lt;chr&gt; | Rows &lt;dbl&gt; | Columns &lt;dbl&gt; |\n",
       "|---|---|---|---|---|\n",
       "| 1 | CASUSER(jobake) | dnn_scored | 1192 | 6 |\n",
       "\n",
       "\n",
       "$ScoreInfo\n",
       ":   \n",
       "A casDataFrame: 4 × 2\n",
       "\n",
       "| <!--/--> | Descr &lt;chr&gt; | Value &lt;chr&gt; |\n",
       "|---|---|---|\n",
       "| 1 | Number of Observations Read |         1192 |\n",
       "| 2 | Number of Observations Used |         1192 |\n",
       "| 3 | Misclassification Error (%) |     14.09396 |\n",
       "| 4 | Loss Error                  |     0.354622 |\n",
       "\n",
       "\n",
       "\n",
       "\n"
      ],
      "text/plain": [
       "$OutputCasTables\n",
       "           casLib       Name Rows Columns\n",
       "1 CASUSER(jobake) dnn_scored 1192       6\n",
       "\n",
       "$ScoreInfo\n",
       "                        Descr        Value\n",
       "1 Number of Observations Read         1192\n",
       "2 Number of Observations Used         1192\n",
       "3 Misclassification Error (%)     14.09396\n",
       "4                  Loss Error     0.354622\n"
      ]
     },
     "metadata": {},
     "output_type": "display_data"
    },
    {
     "data": {
      "text/html": [
       "<strong>$OutputCasTables</strong> = <table class=\"dataframe\">\n",
       "<caption>A casDataFrame: 2 × 4</caption>\n",
       "<thead>\n",
       "\t<tr><th></th><th scope=col>casLib</th><th scope=col>Name</th><th scope=col>Rows</th><th scope=col>Columns</th></tr>\n",
       "\t<tr><th></th><th scope=col>&lt;chr&gt;</th><th scope=col>&lt;chr&gt;</th><th scope=col>&lt;dbl&gt;</th><th scope=col>&lt;dbl&gt;</th></tr>\n",
       "</thead>\n",
       "<tbody>\n",
       "\t<tr><th scope=row>1</th><td>CASUSER(jobake)</td><td>dnn_assess    </td><td> 20</td><td>21</td></tr>\n",
       "\t<tr><th scope=row>2</th><td>CASUSER(jobake)</td><td>dnn_assess_ROC</td><td>100</td><td>22</td></tr>\n",
       "</tbody>\n",
       "</table>\n"
      ],
      "text/latex": [
       "\\textbf{\\$OutputCasTables} = A casDataFrame: 2 × 4\n",
       "\\begin{tabular}{r|llll}\n",
       "  & casLib & Name & Rows & Columns\\\\\n",
       "  & <chr> & <chr> & <dbl> & <dbl>\\\\\n",
       "\\hline\n",
       "\t1 & CASUSER(jobake) & dnn\\_assess     &  20 & 21\\\\\n",
       "\t2 & CASUSER(jobake) & dnn\\_assess\\_ROC & 100 & 22\\\\\n",
       "\\end{tabular}\n"
      ],
      "text/markdown": [
       "**$OutputCasTables** = \n",
       "A casDataFrame: 2 × 4\n",
       "\n",
       "| <!--/--> | casLib &lt;chr&gt; | Name &lt;chr&gt; | Rows &lt;dbl&gt; | Columns &lt;dbl&gt; |\n",
       "|---|---|---|---|---|\n",
       "| 1 | CASUSER(jobake) | dnn_assess     |  20 | 21 |\n",
       "| 2 | CASUSER(jobake) | dnn_assess_ROC | 100 | 22 |\n",
       "\n"
      ],
      "text/plain": [
       "$OutputCasTables\n",
       "           casLib           Name Rows Columns\n",
       "1 CASUSER(jobake)     dnn_assess   20      21\n",
       "2 CASUSER(jobake) dnn_assess_ROC  100      22\n"
      ]
     },
     "metadata": {},
     "output_type": "display_data"
    },
    {
     "data": {
      "text/html": [
       "<table class=\"dataframe\">\n",
       "<caption>A data.frame: 1 × 3</caption>\n",
       "<thead>\n",
       "\t<tr><th scope=col>Model</th><th scope=col>Misclassification</th><th scope=col>Area_Under_Curve</th></tr>\n",
       "\t<tr><th scope=col>&lt;chr&gt;</th><th scope=col>&lt;dbl&gt;</th><th scope=col>&lt;dbl&gt;</th></tr>\n",
       "</thead>\n",
       "<tbody>\n",
       "\t<tr><td>Neural Network CAS</td><td>0.1409396</td><td>0.8356176</td></tr>\n",
       "</tbody>\n",
       "</table>\n"
      ],
      "text/latex": [
       "A data.frame: 1 × 3\n",
       "\\begin{tabular}{lll}\n",
       " Model & Misclassification & Area\\_Under\\_Curve\\\\\n",
       " <chr> & <dbl> & <dbl>\\\\\n",
       "\\hline\n",
       "\t Neural Network CAS & 0.1409396 & 0.8356176\\\\\n",
       "\\end{tabular}\n"
      ],
      "text/markdown": [
       "\n",
       "A data.frame: 1 × 3\n",
       "\n",
       "| Model &lt;chr&gt; | Misclassification &lt;dbl&gt; | Area_Under_Curve &lt;dbl&gt; |\n",
       "|---|---|---|\n",
       "| Neural Network CAS | 0.1409396 | 0.8356176 |\n",
       "\n"
      ],
      "text/plain": [
       "  Model              Misclassification Area_Under_Curve\n",
       "1 Neural Network CAS 0.1409396         0.8356176       "
      ]
     },
     "metadata": {},
     "output_type": "display_data"
    }
   ],
   "source": [
    "cas.deepLearn.dlTrain(conn,\n",
    "    table = list(name = \"hmeq\", where = '_PartInd_ = 1'),\n",
    "    target = target,\n",
    "    inputs = varReduce_inputs,\n",
    "    nominals = nominals,\n",
    "    modelTable = 'dnn',\n",
    "    modelWeights = list(name='dnn_trained_weights', replace=TRUE),\n",
    "    optimizer = list(miniBatchSize=50, maxEpochs=75,  loglevel=1,\n",
    "                     algorithm=list(method='adam'))\n",
    ")\n",
    "\n",
    "cas.deepLearn.dlScore(conn,\n",
    "    table = list(name = \"hmeq\", where = '_PartInd_ = 2'),\n",
    "    model = 'dnn',\n",
    "    initWeights = 'dnn_trained_weights',\n",
    "    copyVars = target,\n",
    "    casout = list(name='dnn_scored', replace=TRUE)\n",
    ")\n",
    "\n",
    "cas.percentile.assess(conn,\n",
    "   table = \"dnn_scored\",\n",
    "   inputs = \"_DL_P0_\",\n",
    "   casout = list(name=\"dnn_assess\", replace=TRUE),\n",
    "   response = target,\n",
    "   event = \"1\"\n",
    ")\n",
    "\n",
    "nn_assess_ROC = defCasTable(conn, tablename = \"dnn_assess_ROC\")\n",
    "nn_assess_ROC = to.casDataFrame(nn_assess_ROC)\n",
    "cutoff_index = round(nn_assess_ROC[,\"_Cutoff_\"],2)==0.5\n",
    "nn_assess_ROC = nn_assess_ROC[cutoff_index,]\n",
    "nn_metrics_cas = data.frame(\"Model\"=\"Neural Network CAS\", \"Misclassification\"=1-nn_assess_ROC[1,\"_ACC_\"], \"Area_Under_Curve\"=nn_assess_ROC[1,\"_C_\"])\n",
    "nn_metrics_cas"
   ]
  },
  {
   "cell_type": "markdown",
   "metadata": {},
   "source": [
    "# Hyperparameter Tuning"
   ]
  },
  {
   "cell_type": "code",
   "execution_count": 36,
   "metadata": {},
   "outputs": [
    {
     "data": {
      "text/html": [
       "<table class=\"dataframe\">\n",
       "<caption>A data.frame: 5 × 3</caption>\n",
       "<thead>\n",
       "\t<tr><th></th><th scope=col>Model</th><th scope=col>Misclassification</th><th scope=col>Area_Under_Curve</th></tr>\n",
       "\t<tr><th></th><th scope=col>&lt;chr&gt;</th><th scope=col>&lt;dbl&gt;</th><th scope=col>&lt;dbl&gt;</th></tr>\n",
       "</thead>\n",
       "<tbody>\n",
       "\t<tr><th scope=row>4</th><td>Gradient Boosting CAS  </td><td>0.1182886</td><td>0.9119668</td></tr>\n",
       "\t<tr><th scope=row>5</th><td>Neural Network CAS     </td><td>0.1409396</td><td>0.8356176</td></tr>\n",
       "\t<tr><th scope=row>3</th><td>Random Forest CAS      </td><td>0.1577181</td><td>0.8651512</td></tr>\n",
       "\t<tr><th scope=row>1</th><td>Logistic Regression CAS</td><td>0.1619128</td><td>0.7914529</td></tr>\n",
       "\t<tr><th scope=row>2</th><td>Decision Tree CAS      </td><td>0.1694631</td><td>0.6698522</td></tr>\n",
       "</tbody>\n",
       "</table>\n"
      ],
      "text/latex": [
       "A data.frame: 5 × 3\n",
       "\\begin{tabular}{r|lll}\n",
       "  & Model & Misclassification & Area\\_Under\\_Curve\\\\\n",
       "  & <chr> & <dbl> & <dbl>\\\\\n",
       "\\hline\n",
       "\t4 & Gradient Boosting CAS   & 0.1182886 & 0.9119668\\\\\n",
       "\t5 & Neural Network CAS      & 0.1409396 & 0.8356176\\\\\n",
       "\t3 & Random Forest CAS       & 0.1577181 & 0.8651512\\\\\n",
       "\t1 & Logistic Regression CAS & 0.1619128 & 0.7914529\\\\\n",
       "\t2 & Decision Tree CAS       & 0.1694631 & 0.6698522\\\\\n",
       "\\end{tabular}\n"
      ],
      "text/markdown": [
       "\n",
       "A data.frame: 5 × 3\n",
       "\n",
       "| <!--/--> | Model &lt;chr&gt; | Misclassification &lt;dbl&gt; | Area_Under_Curve &lt;dbl&gt; |\n",
       "|---|---|---|---|\n",
       "| 4 | Gradient Boosting CAS   | 0.1182886 | 0.9119668 |\n",
       "| 5 | Neural Network CAS      | 0.1409396 | 0.8356176 |\n",
       "| 3 | Random Forest CAS       | 0.1577181 | 0.8651512 |\n",
       "| 1 | Logistic Regression CAS | 0.1619128 | 0.7914529 |\n",
       "| 2 | Decision Tree CAS       | 0.1694631 | 0.6698522 |\n",
       "\n"
      ],
      "text/plain": [
       "  Model                   Misclassification Area_Under_Curve\n",
       "4 Gradient Boosting CAS   0.1182886         0.9119668       \n",
       "5 Neural Network CAS      0.1409396         0.8356176       \n",
       "3 Random Forest CAS       0.1577181         0.8651512       \n",
       "1 Logistic Regression CAS 0.1619128         0.7914529       \n",
       "2 Decision Tree CAS       0.1694631         0.6698522       "
      ]
     },
     "metadata": {},
     "output_type": "display_data"
    }
   ],
   "source": [
    "all_models_cas = rbind(lr_metrics_cas, dt_metrics_cas, rf_metrics_cas, gb_metrics_cas, nn_metrics_cas)\n",
    "all_models_cas = all_models_cas[order(all_models_cas$Misclassification),]\n",
    "all_models_cas"
   ]
  },
  {
   "cell_type": "code",
   "execution_count": 37,
   "metadata": {},
   "outputs": [
    {
     "name": "stderr",
     "output_type": "stream",
     "text": [
      "NOTE: Added action set 'autotune'.\n",
      "\n",
      "NOTE: Information for action set 'autotune':\n",
      "\n",
      "NOTE:    autotune\n",
      "\n",
      "NOTE:       tuneSvm - Automatically adjusts support vector machine parameters to tune a model for minimum error\n",
      "\n",
      "NOTE:       tuneForest - Automatically adjusts forest parameters to tune a model for minimum error\n",
      "\n",
      "NOTE:       tuneDecisionTree - Automatically adjusts decision tree parameters to tune a model for minimum error\n",
      "\n",
      "NOTE:       tuneNeuralNet - Automatically adjusts neural network parameters to tune a model for minimum error\n",
      "\n",
      "NOTE:       tuneGradientBoostTree - Automatically adjusts gradient boosting tree parameters to tune a model for minimum error\n",
      "\n",
      "NOTE:       tuneFactMac - Automatically adjusts factorization machine parameters to tune a model for minimum error\n",
      "\n",
      "NOTE:       tuneBnet - Automatically adjusts Bayesian network classifier parameters to tune a model for minimum error\n",
      "\n",
      "NOTE:       tuneTsne - Automatically adjusts t-Distributed Stochastic Neighbor Embedding algorithm parameters to tune for minimum loss\n",
      "\n",
      "NOTE:       tuneGraphMultiReg - Automatically adjusts Generalized Linear Multitask Learning technique parameters to tune for best objective metric value\n",
      "\n",
      "NOTE:       tuneAll - Automatically tunes hyperparameters for multiple models types concurrently.\n",
      "\n",
      "NOTE:       tuneLabelSpread - Automatically adjusts Label Spreading technique parameters to tune for best objective metric value\n",
      "\n",
      "NOTE:       modelComposer - Automatically tunes hyperparameters for multiple models types concurrently, with optimal allocations.\n",
      "\n",
      "NOTE:       tuneGlm - Automatically adjusts linear regression parameters to tune a model for minimum error\n",
      "\n",
      "NOTE:       tuneLogistic - Automatically adjusts logistic regression parameters to tune a model for minimum error\n",
      "\n",
      "NOTE:       tuneGPReg - Automatically adjusts Gaussian process regression parameters to tune a model for minimum error\n",
      "\n",
      "NOTE:       tuneGPClass - Automatically adjusts Gaussian process classification parameters to tune a model for minimum error\n",
      "\n"
     ]
    }
   ],
   "source": [
    "loadActionSet(conn, 'autotune')"
   ]
  },
  {
   "cell_type": "code",
   "execution_count": 38,
   "metadata": {},
   "outputs": [
    {
     "name": "stderr",
     "output_type": "stream",
     "text": [
      "NOTE: Autotune is started for 'Gradient Boosting Tree' model.\n",
      "\n",
      "NOTE: Autotune option SEARCHMETHOD='GA'.\n",
      "\n",
      "NOTE: Autotune option MAXEVALS=10.\n",
      "\n",
      "NOTE: Autotune option MAXTIME=60 (sec.).\n",
      "\n",
      "NOTE: Autotune option SEED=802.\n",
      "\n",
      "NOTE: Autotune objective is 'Misclassification'.\n",
      "\n",
      "NOTE: Early stopping is activated; 'NTREE' will not be tuned.\n",
      "\n",
      "NOTE: Autotune number of parallel evaluations is set to 3, each using 1 worker nodes.\n",
      "\n",
      "NOTE: Automatic early stopping is activated with STAGNATION=4;  set EARLYSTOP=false to deactivate.\n",
      "\n",
      "         Iteration       Evals     Best Objective  Elapsed Time\n",
      "\n",
      "                 0           1             0.1997          1.03\n",
      "\n",
      "                 1          10             0.1046          4.64\n",
      "\n",
      "NOTE: Data was partitioned during tuning, to tune based on validation score; the final model is trained and scored on all data.\n",
      "\n",
      "NOTE: 5831078 bytes were written to the table \"gb_tune_astore\" in the caslib \"CASUSER(jobake)\".\n",
      "\n",
      "NOTE: The number of trees used in the final model is 127.\n",
      "\n",
      "NOTE: Autotune time is 9.83 seconds.\n",
      "\n"
     ]
    },
    {
     "data": {
      "text/html": [
       "<table class=\"dataframe\">\n",
       "<caption>A casDataFrame: 9 × 3</caption>\n",
       "<thead>\n",
       "\t<tr><th></th><th scope=col>Parameter</th><th scope=col>Name</th><th scope=col>Value</th></tr>\n",
       "\t<tr><th></th><th scope=col>&lt;chr&gt;</th><th scope=col>&lt;chr&gt;</th><th scope=col>&lt;chr&gt;</th></tr>\n",
       "</thead>\n",
       "<tbody>\n",
       "\t<tr><th scope=row>1</th><td>Evaluation                </td><td>Evaluation   </td><td>5           </td></tr>\n",
       "\t<tr><th scope=row>2</th><td>Number of Variables to Try</td><td>M            </td><td>8           </td></tr>\n",
       "\t<tr><th scope=row>3</th><td>Learning Rate             </td><td>LEARNINGRATE </td><td>0.34        </td></tr>\n",
       "\t<tr><th scope=row>4</th><td>Sampling Rate             </td><td>SUBSAMPLERATE</td><td>0.5         </td></tr>\n",
       "\t<tr><th scope=row>5</th><td>Lasso                     </td><td>LASSO        </td><td>1.11111111  </td></tr>\n",
       "\t<tr><th scope=row>6</th><td>Ridge                     </td><td>RIDGE        </td><td>1.11111111  </td></tr>\n",
       "\t<tr><th scope=row>7</th><td>Number of Bins            </td><td>NBINS        </td><td>91          </td></tr>\n",
       "\t<tr><th scope=row>8</th><td>Maximum Tree Levels       </td><td>MAXLEVEL     </td><td>7           </td></tr>\n",
       "\t<tr><th scope=row>9</th><td>Misclassification         </td><td>Objective    </td><td>0.1046325879</td></tr>\n",
       "</tbody>\n",
       "</table>\n"
      ],
      "text/latex": [
       "A casDataFrame: 9 × 3\n",
       "\\begin{tabular}{r|lll}\n",
       "  & Parameter & Name & Value\\\\\n",
       "  & <chr> & <chr> & <chr>\\\\\n",
       "\\hline\n",
       "\t1 & Evaluation                 & Evaluation    & 5           \\\\\n",
       "\t2 & Number of Variables to Try & M             & 8           \\\\\n",
       "\t3 & Learning Rate              & LEARNINGRATE  & 0.34        \\\\\n",
       "\t4 & Sampling Rate              & SUBSAMPLERATE & 0.5         \\\\\n",
       "\t5 & Lasso                      & LASSO         & 1.11111111  \\\\\n",
       "\t6 & Ridge                      & RIDGE         & 1.11111111  \\\\\n",
       "\t7 & Number of Bins             & NBINS         & 91          \\\\\n",
       "\t8 & Maximum Tree Levels        & MAXLEVEL      & 7           \\\\\n",
       "\t9 & Misclassification          & Objective     & 0.1046325879\\\\\n",
       "\\end{tabular}\n"
      ],
      "text/markdown": [
       "\n",
       "A casDataFrame: 9 × 3\n",
       "\n",
       "| <!--/--> | Parameter &lt;chr&gt; | Name &lt;chr&gt; | Value &lt;chr&gt; |\n",
       "|---|---|---|---|\n",
       "| 1 | Evaluation                 | Evaluation    | 5            |\n",
       "| 2 | Number of Variables to Try | M             | 8            |\n",
       "| 3 | Learning Rate              | LEARNINGRATE  | 0.34         |\n",
       "| 4 | Sampling Rate              | SUBSAMPLERATE | 0.5          |\n",
       "| 5 | Lasso                      | LASSO         | 1.11111111   |\n",
       "| 6 | Ridge                      | RIDGE         | 1.11111111   |\n",
       "| 7 | Number of Bins             | NBINS         | 91           |\n",
       "| 8 | Maximum Tree Levels        | MAXLEVEL      | 7            |\n",
       "| 9 | Misclassification          | Objective     | 0.1046325879 |\n",
       "\n"
      ],
      "text/plain": [
       "  Parameter                  Name          Value       \n",
       "1 Evaluation                 Evaluation    5           \n",
       "2 Number of Variables to Try M             8           \n",
       "3 Learning Rate              LEARNINGRATE  0.34        \n",
       "4 Sampling Rate              SUBSAMPLERATE 0.5         \n",
       "5 Lasso                      LASSO         1.11111111  \n",
       "6 Ridge                      RIDGE         1.11111111  \n",
       "7 Number of Bins             NBINS         91          \n",
       "8 Maximum Tree Levels        MAXLEVEL      7           \n",
       "9 Misclassification          Objective     0.1046325879"
      ]
     },
     "metadata": {},
     "output_type": "display_data"
    }
   ],
   "source": [
    "gb_tune_model = cas.autotune.tuneGradientBoostTree(conn,\n",
    "    trainOptions = list(\n",
    "        table    = list(name = \"hmeq\", where = '_PartInd_ = 1'),\n",
    "        target   = target, \n",
    "        inputs   = varReduce_inputs, \n",
    "        nominals = nominals,\n",
    "        savestate = list(name='gb_tune_astore', replace=TRUE),\n",
    "        casOut   = list(name = 'gb_tune_model', replace = TRUE) ) ,\n",
    "    tunerOptions = list(seed = 802, maxEvals = 10, maxTime = 60, searchmethod='GA', objective=\"MCE\")\n",
    ")\n",
    "\n",
    "gb_tune_model$BestConfiguration"
   ]
  },
  {
   "cell_type": "code",
   "execution_count": 39,
   "metadata": {},
   "outputs": [
    {
     "data": {
      "text/html": [
       "<table class=\"dataframe\">\n",
       "<caption>A data.frame: 1 × 3</caption>\n",
       "<thead>\n",
       "\t<tr><th scope=col>Model</th><th scope=col>Misclassification</th><th scope=col>Area_Under_Curve</th></tr>\n",
       "\t<tr><th scope=col>&lt;chr&gt;</th><th scope=col>&lt;dbl&gt;</th><th scope=col>&lt;dbl&gt;</th></tr>\n",
       "</thead>\n",
       "<tbody>\n",
       "\t<tr><td>Gradient Boosting Tuned CAS</td><td>0.09144295</td><td>0.9473369</td></tr>\n",
       "</tbody>\n",
       "</table>\n"
      ],
      "text/latex": [
       "A data.frame: 1 × 3\n",
       "\\begin{tabular}{lll}\n",
       " Model & Misclassification & Area\\_Under\\_Curve\\\\\n",
       " <chr> & <dbl> & <dbl>\\\\\n",
       "\\hline\n",
       "\t Gradient Boosting Tuned CAS & 0.09144295 & 0.9473369\\\\\n",
       "\\end{tabular}\n"
      ],
      "text/markdown": [
       "\n",
       "A data.frame: 1 × 3\n",
       "\n",
       "| Model &lt;chr&gt; | Misclassification &lt;dbl&gt; | Area_Under_Curve &lt;dbl&gt; |\n",
       "|---|---|---|\n",
       "| Gradient Boosting Tuned CAS | 0.09144295 | 0.9473369 |\n",
       "\n"
      ],
      "text/plain": [
       "  Model                       Misclassification Area_Under_Curve\n",
       "1 Gradient Boosting Tuned CAS 0.09144295        0.9473369       "
      ]
     },
     "metadata": {},
     "output_type": "display_data"
    }
   ],
   "source": [
    "gb_tune_score = cas.decisionTree.gbtreeScore(conn,\n",
    "    table    = list(name = \"hmeq\", where = '_PartInd_ = 2'),\n",
    "    model = \"gb_tune_model\",\n",
    "    casout = list(name=\"gb_tune_scored\", replace=TRUE),\n",
    "    copyVars = target,\n",
    "    encodename = TRUE,\n",
    "    assessonerow = TRUE\n",
    ")\n",
    "\n",
    "gb_tune_assess = cas.percentile.assess(conn,\n",
    "   table = \"gb_tune_scored\",\n",
    "   inputs = \"P_BAD1\",\n",
    "   casout = list(name=\"gb_tune_assess\", replace=TRUE),\n",
    "   response = target,\n",
    "   event = \"1\"\n",
    ")\n",
    "\n",
    "gb_tune_assess_ROC = defCasTable(conn, tablename = \"gb_tune_assess_ROC\")\n",
    "gb_tune_assess_ROC = to.casDataFrame(gb_tune_assess_ROC)\n",
    "cutoff_index = round(gb_tune_assess_ROC[,\"_Cutoff_\"],2)==0.5\n",
    "gb_tune_assess_ROC = gb_tune_assess_ROC[cutoff_index,]\n",
    "gb_tune_metrics_cas = data.frame(\"Model\"=\"Gradient Boosting Tuned CAS\", \"Misclassification\"=1-gb_tune_assess_ROC[1,\"_ACC_\"], \"Area_Under_Curve\"=gb_tune_assess_ROC[1,\"_C_\"])\n",
    "gb_tune_metrics_cas"
   ]
  },
  {
   "cell_type": "markdown",
   "metadata": {},
   "source": [
    "# Model Interpretability"
   ]
  },
  {
   "cell_type": "code",
   "execution_count": 40,
   "metadata": {},
   "outputs": [
    {
     "name": "stderr",
     "output_type": "stream",
     "text": [
      "NOTE: Added action set 'explainModel'.\n",
      "\n",
      "NOTE: Information for action set 'explainModel':\n",
      "\n",
      "NOTE:    explainModel\n",
      "\n",
      "NOTE:       linearExplainer - Uses linear models to explain already trained models. Supports global linear surrogates as well as the local methods: LIME and KERNEL SHAP.\n",
      "\n",
      "NOTE:       partialDependence - Computes the partial dependence of an already trained model.\n",
      "\n",
      "NOTE:       shapleyExplainer - Computes Shapley value estimates for a query given a reference table\n",
      "\n"
     ]
    }
   ],
   "source": [
    "loadActionSet(conn, 'explainModel')"
   ]
  },
  {
   "cell_type": "code",
   "execution_count": 41,
   "metadata": {},
   "outputs": [
    {
     "name": "stderr",
     "output_type": "stream",
     "text": [
      "NOTE: Starting the partialDependence action.\n",
      "\n",
      "NOTE: Generating replicates.\n",
      "\n",
      "NOTE: Finished generating replicates.\n",
      "\n",
      "NOTE: The size of the replicates dataset is approximately 5.376 MB. To reduce the size of the dataset, decrease the value of the NBINS, MAXLEVELS, or SAMPLESIZE parameter.\n",
      "\n",
      "NOTE: The CAS table 'PartialDependence' in caslib 'CASUSER(jobake)' has 50 rows and 4 columns.\n",
      "\n"
     ]
    },
    {
     "data": {
      "text/html": [
       "<table class=\"dataframe\">\n",
       "<caption>A data.frame: 6 × 4</caption>\n",
       "<thead>\n",
       "\t<tr><th></th><th scope=col>Bin</th><th scope=col>IMP_DEBTINC</th><th scope=col>MeanPrediction</th><th scope=col>StdErr</th></tr>\n",
       "\t<tr><th></th><th scope=col>&lt;int&gt;</th><th scope=col>&lt;dbl&gt;</th><th scope=col>&lt;dbl&gt;</th><th scope=col>&lt;dbl&gt;</th></tr>\n",
       "</thead>\n",
       "<tbody>\n",
       "\t<tr><th scope=row>1</th><td>1</td><td> 0.5244992</td><td>0.12180357</td><td>0.007740056</td></tr>\n",
       "\t<tr><th scope=row>2</th><td>2</td><td> 4.6630227</td><td>0.12180357</td><td>0.007740056</td></tr>\n",
       "\t<tr><th scope=row>3</th><td>3</td><td> 8.8015461</td><td>0.12180357</td><td>0.007740056</td></tr>\n",
       "\t<tr><th scope=row>4</th><td>4</td><td>12.9400696</td><td>0.12180357</td><td>0.007740056</td></tr>\n",
       "\t<tr><th scope=row>5</th><td>5</td><td>17.0785931</td><td>0.07791586</td><td>0.006355048</td></tr>\n",
       "\t<tr><th scope=row>6</th><td>6</td><td>21.2171165</td><td>0.07543044</td><td>0.006263168</td></tr>\n",
       "</tbody>\n",
       "</table>\n"
      ],
      "text/latex": [
       "A data.frame: 6 × 4\n",
       "\\begin{tabular}{r|llll}\n",
       "  & Bin & IMP\\_DEBTINC & MeanPrediction & StdErr\\\\\n",
       "  & <int> & <dbl> & <dbl> & <dbl>\\\\\n",
       "\\hline\n",
       "\t1 & 1 &  0.5244992 & 0.12180357 & 0.007740056\\\\\n",
       "\t2 & 2 &  4.6630227 & 0.12180357 & 0.007740056\\\\\n",
       "\t3 & 3 &  8.8015461 & 0.12180357 & 0.007740056\\\\\n",
       "\t4 & 4 & 12.9400696 & 0.12180357 & 0.007740056\\\\\n",
       "\t5 & 5 & 17.0785931 & 0.07791586 & 0.006355048\\\\\n",
       "\t6 & 6 & 21.2171165 & 0.07543044 & 0.006263168\\\\\n",
       "\\end{tabular}\n"
      ],
      "text/markdown": [
       "\n",
       "A data.frame: 6 × 4\n",
       "\n",
       "| <!--/--> | Bin &lt;int&gt; | IMP_DEBTINC &lt;dbl&gt; | MeanPrediction &lt;dbl&gt; | StdErr &lt;dbl&gt; |\n",
       "|---|---|---|---|---|\n",
       "| 1 | 1 |  0.5244992 | 0.12180357 | 0.007740056 |\n",
       "| 2 | 2 |  4.6630227 | 0.12180357 | 0.007740056 |\n",
       "| 3 | 3 |  8.8015461 | 0.12180357 | 0.007740056 |\n",
       "| 4 | 4 | 12.9400696 | 0.12180357 | 0.007740056 |\n",
       "| 5 | 5 | 17.0785931 | 0.07791586 | 0.006355048 |\n",
       "| 6 | 6 | 21.2171165 | 0.07543044 | 0.006263168 |\n",
       "\n"
      ],
      "text/plain": [
       "  Bin IMP_DEBTINC MeanPrediction StdErr     \n",
       "1 1    0.5244992  0.12180357     0.007740056\n",
       "2 2    4.6630227  0.12180357     0.007740056\n",
       "3 3    8.8015461  0.12180357     0.007740056\n",
       "4 4   12.9400696  0.12180357     0.007740056\n",
       "5 5   17.0785931  0.07791586     0.006355048\n",
       "6 6   21.2171165  0.07543044     0.006263168"
      ]
     },
     "metadata": {},
     "output_type": "display_data"
    }
   ],
   "source": [
    "pd_obj = cas.explainModel.partialDependence(conn,\n",
    "    table = \"hmeq\",\n",
    "    modelTable = \"gb_tune_astore\",\n",
    "    inputs = varReduce_inputs,\n",
    "    nominals = nominals[-1],\n",
    "    predictedTarget = \"P_BAD1\",\n",
    "    analysisVariable = list(name=\"IMP_DEBTINC\", nbins=50),\n",
    "    outputTables     = list(names=\"PartialDependence\", replace=TRUE)\n",
    ")\n",
    "\n",
    "head(pd_obj$PartialDependence)"
   ]
  },
  {
   "cell_type": "code",
   "execution_count": 42,
   "metadata": {},
   "outputs": [
    {
     "data": {
      "image/png": "[encoded data removed]",
      "text/plain": [
       "Plot with title \"Partial Dependence Plot\""
      ]
     },
     "metadata": {
      "image/png": {
       "height": 420,
       "width": 420
      }
     },
     "output_type": "display_data"
    }
   ],
   "source": [
    "pd_table = defCasTable(conn, tablename = \"PartialDependence\")\n",
    "pd_table = to.casDataFrame(pd_table)\n",
    "pd_table$lb = pd_table$MeanPrediction - 2*pd_table$StdErr\n",
    "pd_table$ub = pd_table$MeanPrediction + 2*pd_table$StdErr\n",
    "\n",
    "plot(pd_table$IMP_DEBTINC,pd_table$MeanPrediction, type=\"l\", main=\"Partial Dependence Plot\", xlab=\"Debt to Income Ratio\", ylab=\"Probability of Home Equity Default\", col=\"blue\", lwd=3)\n",
    "lines(pd_table$IMP_DEBTINC,pd_table$lb, col=\"red\", lwd=3, lty=2)\n",
    "lines(pd_table$IMP_DEBTINC,pd_table$ub, col=\"red\", lwd=3, lty=2)"
   ]
  },
  {
   "cell_type": "markdown",
   "metadata": {},
   "source": [
    "# End Session"
   ]
  },
  {
   "cell_type": "code",
   "execution_count": 43,
   "metadata": {},
   "outputs": [
    {
     "data": {
      "text/html": [
       "<ol>\n",
       "</ol>\n"
      ],
      "text/latex": [
       "\\begin{enumerate}\n",
       "\\end{enumerate}\n"
      ],
      "text/markdown": [
       "\n",
       "\n"
      ],
      "text/plain": [
       "list()"
      ]
     },
     "metadata": {},
     "output_type": "display_data"
    }
   ],
   "source": [
    "cas.session.endSession(conn)"
   ]
  }
 ],
 "metadata": {
  "kernelspec": {
   "display_name": "R",
   "language": "R",
   "name": "ir"
  },
  "language_info": {
   "codemirror_mode": "r",
   "file_extension": ".r",
   "mimetype": "text/x-r-source",
   "name": "R",
   "pygments_lexer": "r",
   "version": "4.2.2"
  }
 },
 "nbformat": 4,
 "nbformat_minor": 2
}
