{
 "cells": [
  {
   "cell_type": "markdown",
   "metadata": {},
   "source": [
    "# SAS Viya R API"
   ]
  },
  {
   "cell_type": "markdown",
   "metadata": {},
   "source": [
    "[SWAT Functionality](https://developer.sas.com/apis/swat/python/1.0.0/api.html)"
   ]
  },
  {
   "cell_type": "markdown",
   "metadata": {},
   "source": [
    "[CAS Actions Documentation](https://go.documentation.sas.com/doc/en/pgmsascdc/v_033/allprodsactions/actionSetsByName.htm)"
   ]
  },
  {
   "cell_type": "markdown",
   "metadata": {},
   "source": [
    "# Data"
   ]
  },
  {
   "cell_type": "markdown",
   "metadata": {},
   "source": [
    "| Name      | Model Role | Measurement Level | Description                                                            |\n",
    "|:----------|:-----------|:------------------|:-----------------------------------------------------------------------|\n",
    "| BAD       | Target     | Binary            | 1 = applicant defaulted on loan or delinquent, 0 = applicant paid loan |\n",
    "| CLAGE     | Input      | Interval          | Age of oldest credit line in months                                    |\n",
    "| CLNO      | Input      | Interval          | Number of credit lines                                                 |\n",
    "| DEBTINC   | Input      | Interval          | Debt-to-income ratio                                                   |\n",
    "| DELINQ    | Input      | Interval          | Number of delinquent credit lines                                      |\n",
    "| DEROG     | Input      | Interval          | Number of derogatory reports                                           |\n",
    "| JOB       | Input      | Nominal           | Occupational categories                                                |\n",
    "| LOAN      | Input      | Interval          | Amount of loan request                                                 |\n",
    "| MORTDUE   | Input      | Interval          | Amount due on existing mortgage                                        |\n",
    "| NINQ      | Input      | Interval          | Number of recent credit inquiries                                      |\n",
    "| REASON    | Input      | Binary            | DebtCon = debt consolidation, HomeImp = home improvement               |\n",
    "| VALUE     | Input      | Interval          | Value of current property                                              |\n",
    "| YOJ       | Input      | Interval          | Years at present job                                                   |"
   ]
  },
  {
   "cell_type": "markdown",
   "metadata": {},
   "source": [
    "# Load Packages"
   ]
  },
  {
   "cell_type": "code",
   "execution_count": 1,
   "metadata": {},
   "outputs": [
    {
     "name": "stderr",
     "output_type": "stream",
     "text": [
      "SWAT 1.8.2\n",
      "\n"
     ]
    }
   ],
   "source": [
    "library(swat)\n",
    "library(repr)\n",
    "options(repr.plot.width=20, repr.plot.height=20)"
   ]
  },
  {
   "cell_type": "markdown",
   "metadata": {},
   "source": [
    "# Get Key Variables"
   ]
  },
  {
   "cell_type": "code",
   "execution_count": 2,
   "metadata": {},
   "outputs": [],
   "source": [
    "df = read.csv(paste0(dirname(getwd()),\"/password_r.txt\"), header=TRUE, stringsAsFactors=FALSE)"
   ]
  },
  {
   "cell_type": "markdown",
   "metadata": {
    "tags": []
   },
   "source": [
    "# Connect to CAS"
   ]
  },
  {
   "cell_type": "code",
   "execution_count": 3,
   "metadata": {},
   "outputs": [
    {
     "name": "stderr",
     "output_type": "stream",
     "text": [
      "NOTE: Connecting to CAS and generating CAS action functions for loaded\n",
      "      action sets...\n",
      "\n",
      "NOTE: To generate the functions with signatures (for tab completion), set \n",
      "      options(cas.gen.function.sig=TRUE).\n",
      "\n"
     ]
    }
   ],
   "source": [
    "conn = CAS(hostname=df$hostname, port=df$port, username=df$username, password=df$password, protocol=df$protocol)"
   ]
  },
  {
   "cell_type": "markdown",
   "metadata": {},
   "source": [
    "# Get Data"
   ]
  },
  {
   "cell_type": "code",
   "execution_count": 4,
   "metadata": {},
   "outputs": [],
   "source": [
    "df_cas = defCasTable(conn, tablename = \"hmeq_part\", caslib = \"Public\")"
   ]
  },
  {
   "cell_type": "markdown",
   "metadata": {},
   "source": [
    "# View Data"
   ]
  },
  {
   "cell_type": "code",
   "execution_count": 5,
   "metadata": {},
   "outputs": [
    {
     "data": {
      "text/html": [
       "<table class=\"dataframe\">\n",
       "<caption>A casDataFrame: 6 × 14</caption>\n",
       "<thead>\n",
       "\t<tr><th></th><th scope=col>BAD</th><th scope=col>LOAN</th><th scope=col>MORTDUE</th><th scope=col>VALUE</th><th scope=col>REASON</th><th scope=col>JOB</th><th scope=col>YOJ</th><th scope=col>DEROG</th><th scope=col>DELINQ</th><th scope=col>CLAGE</th><th scope=col>NINQ</th><th scope=col>CLNO</th><th scope=col>DEBTINC</th><th scope=col>PARTIND</th></tr>\n",
       "\t<tr><th></th><th scope=col>&lt;int&gt;</th><th scope=col>&lt;int&gt;</th><th scope=col>&lt;int&gt;</th><th scope=col>&lt;int&gt;</th><th scope=col>&lt;chr&gt;</th><th scope=col>&lt;chr&gt;</th><th scope=col>&lt;int&gt;</th><th scope=col>&lt;int&gt;</th><th scope=col>&lt;int&gt;</th><th scope=col>&lt;dbl&gt;</th><th scope=col>&lt;int&gt;</th><th scope=col>&lt;int&gt;</th><th scope=col>&lt;dbl&gt;</th><th scope=col>&lt;int&gt;</th></tr>\n",
       "</thead>\n",
       "<tbody>\n",
       "\t<tr><th scope=row>1</th><td>1</td><td>13000</td><td> 60000</td><td> 86400</td><td>DebtCon</td><td>Other  </td><td>12</td><td>0</td><td>2</td><td>149.16667</td><td>0</td><td>28</td><td>     NaN</td><td>0</td></tr>\n",
       "\t<tr><th scope=row>2</th><td>1</td><td>13000</td><td>111000</td><td>137813</td><td>       </td><td>Mgr    </td><td> 6</td><td>2</td><td>2</td><td>138.33333</td><td>3</td><td>65</td><td>     NaN</td><td>1</td></tr>\n",
       "\t<tr><th scope=row>3</th><td>1</td><td>13000</td><td>152029</td><td>173750</td><td>HomeImp</td><td>ProfExe</td><td>20</td><td>0</td><td>0</td><td> 19.33333</td><td>7</td><td> 5</td><td>     NaN</td><td>0</td></tr>\n",
       "\t<tr><th scope=row>4</th><td>0</td><td>13000</td><td> 26863</td><td> 44218</td><td>HomeImp</td><td>Other  </td><td>10</td><td>0</td><td>0</td><td> 92.99959</td><td>2</td><td>11</td><td>29.11294</td><td>1</td></tr>\n",
       "\t<tr><th scope=row>5</th><td>0</td><td>13000</td><td>110094</td><td>145807</td><td>DebtCon</td><td>ProfExe</td><td> 2</td><td>0</td><td>0</td><td>285.27593</td><td>0</td><td>45</td><td>35.04547</td><td>0</td></tr>\n",
       "\t<tr><th scope=row>6</th><td>0</td><td>13000</td><td> 66014</td><td> 85528</td><td>DebtCon</td><td>Office </td><td> 4</td><td>2</td><td>3</td><td>185.64499</td><td>2</td><td>30</td><td>39.41872</td><td>0</td></tr>\n",
       "</tbody>\n",
       "</table>\n"
      ],
      "text/latex": [
       "A casDataFrame: 6 × 14\n",
       "\\begin{tabular}{r|llllllllllllll}\n",
       "  & BAD & LOAN & MORTDUE & VALUE & REASON & JOB & YOJ & DEROG & DELINQ & CLAGE & NINQ & CLNO & DEBTINC & PARTIND\\\\\n",
       "  & <int> & <int> & <int> & <int> & <chr> & <chr> & <int> & <int> & <int> & <dbl> & <int> & <int> & <dbl> & <int>\\\\\n",
       "\\hline\n",
       "\t1 & 1 & 13000 &  60000 &  86400 & DebtCon & Other   & 12 & 0 & 2 & 149.16667 & 0 & 28 &      NaN & 0\\\\\n",
       "\t2 & 1 & 13000 & 111000 & 137813 &         & Mgr     &  6 & 2 & 2 & 138.33333 & 3 & 65 &      NaN & 1\\\\\n",
       "\t3 & 1 & 13000 & 152029 & 173750 & HomeImp & ProfExe & 20 & 0 & 0 &  19.33333 & 7 &  5 &      NaN & 0\\\\\n",
       "\t4 & 0 & 13000 &  26863 &  44218 & HomeImp & Other   & 10 & 0 & 0 &  92.99959 & 2 & 11 & 29.11294 & 1\\\\\n",
       "\t5 & 0 & 13000 & 110094 & 145807 & DebtCon & ProfExe &  2 & 0 & 0 & 285.27593 & 0 & 45 & 35.04547 & 0\\\\\n",
       "\t6 & 0 & 13000 &  66014 &  85528 & DebtCon & Office  &  4 & 2 & 3 & 185.64499 & 2 & 30 & 39.41872 & 0\\\\\n",
       "\\end{tabular}\n"
      ],
      "text/markdown": [
       "\n",
       "A casDataFrame: 6 × 14\n",
       "\n",
       "| <!--/--> | BAD &lt;int&gt; | LOAN &lt;int&gt; | MORTDUE &lt;int&gt; | VALUE &lt;int&gt; | REASON &lt;chr&gt; | JOB &lt;chr&gt; | YOJ &lt;int&gt; | DEROG &lt;int&gt; | DELINQ &lt;int&gt; | CLAGE &lt;dbl&gt; | NINQ &lt;int&gt; | CLNO &lt;int&gt; | DEBTINC &lt;dbl&gt; | PARTIND &lt;int&gt; |\n",
       "|---|---|---|---|---|---|---|---|---|---|---|---|---|---|---|\n",
       "| 1 | 1 | 13000 |  60000 |  86400 | DebtCon | Other   | 12 | 0 | 2 | 149.16667 | 0 | 28 |      NaN | 0 |\n",
       "| 2 | 1 | 13000 | 111000 | 137813 | <!----> | Mgr     |  6 | 2 | 2 | 138.33333 | 3 | 65 |      NaN | 1 |\n",
       "| 3 | 1 | 13000 | 152029 | 173750 | HomeImp | ProfExe | 20 | 0 | 0 |  19.33333 | 7 |  5 |      NaN | 0 |\n",
       "| 4 | 0 | 13000 |  26863 |  44218 | HomeImp | Other   | 10 | 0 | 0 |  92.99959 | 2 | 11 | 29.11294 | 1 |\n",
       "| 5 | 0 | 13000 | 110094 | 145807 | DebtCon | ProfExe |  2 | 0 | 0 | 285.27593 | 0 | 45 | 35.04547 | 0 |\n",
       "| 6 | 0 | 13000 |  66014 |  85528 | DebtCon | Office  |  4 | 2 | 3 | 185.64499 | 2 | 30 | 39.41872 | 0 |\n",
       "\n"
      ],
      "text/plain": [
       "  BAD LOAN  MORTDUE VALUE  REASON  JOB     YOJ DEROG DELINQ CLAGE     NINQ CLNO\n",
       "1 1   13000  60000   86400 DebtCon Other   12  0     2      149.16667 0    28  \n",
       "2 1   13000 111000  137813         Mgr      6  2     2      138.33333 3    65  \n",
       "3 1   13000 152029  173750 HomeImp ProfExe 20  0     0       19.33333 7     5  \n",
       "4 0   13000  26863   44218 HomeImp Other   10  0     0       92.99959 2    11  \n",
       "5 0   13000 110094  145807 DebtCon ProfExe  2  0     0      285.27593 0    45  \n",
       "6 0   13000  66014   85528 DebtCon Office   4  2     3      185.64499 2    30  \n",
       "  DEBTINC  PARTIND\n",
       "1      NaN 0      \n",
       "2      NaN 1      \n",
       "3      NaN 0      \n",
       "4 29.11294 1      \n",
       "5 35.04547 0      \n",
       "6 39.41872 0      "
      ]
     },
     "metadata": {},
     "output_type": "display_data"
    }
   ],
   "source": [
    "head(df_cas)"
   ]
  },
  {
   "cell_type": "code",
   "execution_count": 6,
   "metadata": {},
   "outputs": [
    {
     "data": {
      "text/html": [
       "<style>\n",
       ".dl-inline {width: auto; margin:0; padding: 0}\n",
       ".dl-inline>dt, .dl-inline>dd {float: none; width: auto; display: inline-block}\n",
       ".dl-inline>dt::after {content: \":\\0020\"; padding-right: .5ex}\n",
       ".dl-inline>dt:not(:first-of-type) {padding-left: .5ex}\n",
       "</style><dl class=dl-inline><dt>BAD</dt><dd>0.1994966442953</dd><dt>LOAN</dt><dd>18607.9697986577</dd><dt>MORTDUE</dt><dd>73760.8171995589</dd></dl>\n"
      ],
      "text/latex": [
       "\\begin{description*}\n",
       "\\item[BAD] 0.1994966442953\n",
       "\\item[LOAN] 18607.9697986577\n",
       "\\item[MORTDUE] 73760.8171995589\n",
       "\\end{description*}\n"
      ],
      "text/markdown": [
       "BAD\n",
       ":   0.1994966442953LOAN\n",
       ":   18607.9697986577MORTDUE\n",
       ":   73760.8171995589\n",
       "\n"
      ],
      "text/plain": [
       "         BAD         LOAN      MORTDUE \n",
       "1.994966e-01 1.860797e+04 7.376082e+04 "
      ]
     },
     "metadata": {},
     "output_type": "display_data"
    }
   ],
   "source": [
    "colMeans(df_cas[c(\"BAD\",\"LOAN\",\"MORTDUE\")])"
   ]
  },
  {
   "cell_type": "code",
   "execution_count": 7,
   "metadata": {},
   "outputs": [
    {
     "data": {
      "text/plain": [
       "      BAD              LOAN          MORTDUE           VALUE       \n",
       " Min.   :0.0000   Min.   : 1100   Min.   :  2063   Min.   :  8000  \n",
       " 1st Qu.:0.0000   1st Qu.:11100   1st Qu.: 46268   1st Qu.: 66069  \n",
       " Median :0.0000   Median :16300   Median : 65019   Median : 89236  \n",
       " Mean   :0.1995   Mean   :18608   Mean   : 73761   Mean   :101776  \n",
       " 3rd Qu.:0.0000   3rd Qu.:23300   3rd Qu.: 91491   3rd Qu.:119832  \n",
       " Max.   :1.0000   Max.   :89900   Max.   :399550   Max.   :855909  \n",
       "                                  NA's   :   518   NA's   :   112  \n",
       "     REASON          JOB            YOJ              DEROG         \n",
       " DebtCon:3928   Mgr    : 767   Min.   :  0.000   Min.   :  0.0000  \n",
       " HomeImp:1780   Office : 948   1st Qu.:  3.000   1st Qu.:  0.0000  \n",
       " NA's   : 252   Other  :2388   Median :  7.000   Median :  0.0000  \n",
       "                ProfExe:1276   Mean   :  8.922   Mean   :  0.2546  \n",
       "                Sales  : 109   3rd Qu.: 13.000   3rd Qu.:  0.0000  \n",
       "                Self   : 193   Max.   : 41.000   Max.   : 10.0000  \n",
       "                NA's   : 279   NA's   :515.000   NA's   :708.0000  \n",
       "     DELINQ             CLAGE             NINQ              CLNO      \n",
       " Min.   :  0.0000   Min.   :   0.0   Min.   :  0.000   Min.   :  0.0  \n",
       " 1st Qu.:  0.0000   1st Qu.: 115.1   1st Qu.:  0.000   1st Qu.: 15.0  \n",
       " Median :  0.0000   Median : 173.5   Median :  1.000   Median : 20.0  \n",
       " Mean   :  0.4494   Mean   : 179.8   Mean   :  1.186   Mean   : 21.3  \n",
       " 3rd Qu.:  0.0000   3rd Qu.: 231.6   3rd Qu.:  2.000   3rd Qu.: 26.0  \n",
       " Max.   : 15.0000   Max.   :1168.2   Max.   : 17.000   Max.   : 71.0  \n",
       " NA's   :580.0000   NA's   : 308.0   NA's   :510.000   NA's   :222.0  \n",
       "    DEBTINC             PARTIND   \n",
       " Min.   :   0.5245   Min.   :0.0  \n",
       " 1st Qu.:  29.1400   1st Qu.:0.0  \n",
       " Median :  34.8183   Median :1.0  \n",
       " Mean   :  33.7799   Mean   :0.7  \n",
       " 3rd Qu.:  39.0031   3rd Qu.:1.0  \n",
       " Max.   : 203.3121   Max.   :1.0  \n",
       " NA's   :1267.0000                "
      ]
     },
     "metadata": {},
     "output_type": "display_data"
    }
   ],
   "source": [
    "summary(df_cas)"
   ]
  },
  {
   "cell_type": "code",
   "execution_count": 8,
   "metadata": {},
   "outputs": [
    {
     "name": "stderr",
     "output_type": "stream",
     "text": [
      "NOTE: Added action set 'simple'.\n",
      "\n",
      "NOTE: Information for action set 'simple':\n",
      "\n",
      "NOTE:    simple\n",
      "\n",
      "NOTE:       mdSummary - Calculates multidimensional summaries of numeric variables\n",
      "\n",
      "NOTE:       numRows - Shows the number of rows in a Cloud Analytic Services table\n",
      "\n",
      "NOTE:       summary - Generates descriptive statistics of numeric variables such as the sample mean, sample variance, sample size, sum of squares, and so on\n",
      "\n",
      "NOTE:       correlation - Computes Pearson product-moment correlations.\n",
      "\n",
      "NOTE:       regression - Performs a linear regression up to 3rd-order polynomials\n",
      "\n",
      "NOTE:       crossTab - Performs one-way or two-way tabulations\n",
      "\n",
      "NOTE:       distinct - Computes the distinct number of values of the variables in the variable list\n",
      "\n",
      "NOTE:       topK - Returns the top-K and bottom-K distinct values of each variable included in the variable list based on a user-specified ranking order\n",
      "\n",
      "NOTE:       groupBy - Builds BY groups in terms of the variable value combinations given the variables in the variable list\n",
      "\n",
      "NOTE:       freq - Generates a frequency distribution for one or more variables\n",
      "\n",
      "NOTE:       paraCoord - Generates a parallel coordinates plot of the variables in the variable list\n",
      "\n",
      "NOTE:       groupByInfo - Computes the index and frequency of each group, and the index of each record within its group\n",
      "\n",
      "NOTE:       compare - Compares two tables by computing the index and frequency of each group, cumulative frequency, and the index of each record within its group\n",
      "\n"
     ]
    }
   ],
   "source": [
    "loadActionSet(conn, 'simple')"
   ]
  },
  {
   "cell_type": "code",
   "execution_count": 9,
   "metadata": {},
   "outputs": [
    {
     "data": {
      "text/html": [
       "<strong>$Frequency</strong> = <table class=\"dataframe\">\n",
       "<caption>A casDataFrame: 12 × 6</caption>\n",
       "<thead>\n",
       "\t<tr><th></th><th scope=col>Column</th><th scope=col>NumVar</th><th scope=col>CharVar</th><th scope=col>FmtVar</th><th scope=col>Level</th><th scope=col>Frequency</th></tr>\n",
       "\t<tr><th></th><th scope=col>&lt;chr&gt;</th><th scope=col>&lt;dbl&gt;</th><th scope=col>&lt;chr&gt;</th><th scope=col>&lt;chr&gt;</th><th scope=col>&lt;dbl&gt;</th><th scope=col>&lt;int&gt;</th></tr>\n",
       "</thead>\n",
       "<tbody>\n",
       "\t<tr><th scope=row>1</th><td>BAD   </td><td>  0</td><td>       </td><td>           0</td><td>1</td><td>4771</td></tr>\n",
       "\t<tr><th scope=row>2</th><td>BAD   </td><td>  1</td><td>       </td><td>           1</td><td>2</td><td>1189</td></tr>\n",
       "\t<tr><th scope=row>3</th><td>JOB   </td><td>NaN</td><td>       </td><td>            </td><td>1</td><td> 279</td></tr>\n",
       "\t<tr><th scope=row>4</th><td>JOB   </td><td>NaN</td><td>Mgr    </td><td>Mgr         </td><td>2</td><td> 767</td></tr>\n",
       "\t<tr><th scope=row>5</th><td>JOB   </td><td>NaN</td><td>Office </td><td>Office      </td><td>3</td><td> 948</td></tr>\n",
       "\t<tr><th scope=row>6</th><td>JOB   </td><td>NaN</td><td>Other  </td><td>Other       </td><td>4</td><td>2388</td></tr>\n",
       "\t<tr><th scope=row>7</th><td>JOB   </td><td>NaN</td><td>ProfExe</td><td>ProfExe     </td><td>5</td><td>1276</td></tr>\n",
       "\t<tr><th scope=row>8</th><td>JOB   </td><td>NaN</td><td>Sales  </td><td>Sales       </td><td>6</td><td> 109</td></tr>\n",
       "\t<tr><th scope=row>9</th><td>JOB   </td><td>NaN</td><td>Self   </td><td>Self        </td><td>7</td><td> 193</td></tr>\n",
       "\t<tr><th scope=row>10</th><td>REASON</td><td>NaN</td><td>       </td><td>            </td><td>1</td><td> 252</td></tr>\n",
       "\t<tr><th scope=row>11</th><td>REASON</td><td>NaN</td><td>DebtCon</td><td>DebtCon     </td><td>2</td><td>3928</td></tr>\n",
       "\t<tr><th scope=row>12</th><td>REASON</td><td>NaN</td><td>HomeImp</td><td>HomeImp     </td><td>3</td><td>1780</td></tr>\n",
       "</tbody>\n",
       "</table>\n"
      ],
      "text/latex": [
       "\\textbf{\\$Frequency} = A casDataFrame: 12 × 6\n",
       "\\begin{tabular}{r|llllll}\n",
       "  & Column & NumVar & CharVar & FmtVar & Level & Frequency\\\\\n",
       "  & <chr> & <dbl> & <chr> & <chr> & <dbl> & <int>\\\\\n",
       "\\hline\n",
       "\t1 & BAD    &   0 &         &            0 & 1 & 4771\\\\\n",
       "\t2 & BAD    &   1 &         &            1 & 2 & 1189\\\\\n",
       "\t3 & JOB    & NaN &         &              & 1 &  279\\\\\n",
       "\t4 & JOB    & NaN & Mgr     & Mgr          & 2 &  767\\\\\n",
       "\t5 & JOB    & NaN & Office  & Office       & 3 &  948\\\\\n",
       "\t6 & JOB    & NaN & Other   & Other        & 4 & 2388\\\\\n",
       "\t7 & JOB    & NaN & ProfExe & ProfExe      & 5 & 1276\\\\\n",
       "\t8 & JOB    & NaN & Sales   & Sales        & 6 &  109\\\\\n",
       "\t9 & JOB    & NaN & Self    & Self         & 7 &  193\\\\\n",
       "\t10 & REASON & NaN &         &              & 1 &  252\\\\\n",
       "\t11 & REASON & NaN & DebtCon & DebtCon      & 2 & 3928\\\\\n",
       "\t12 & REASON & NaN & HomeImp & HomeImp      & 3 & 1780\\\\\n",
       "\\end{tabular}\n"
      ],
      "text/markdown": [
       "**$Frequency** = \n",
       "A casDataFrame: 12 × 6\n",
       "\n",
       "| <!--/--> | Column &lt;chr&gt; | NumVar &lt;dbl&gt; | CharVar &lt;chr&gt; | FmtVar &lt;chr&gt; | Level &lt;dbl&gt; | Frequency &lt;int&gt; |\n",
       "|---|---|---|---|---|---|---|\n",
       "| 1 | BAD    |   0 | <!----> |            0 | 1 | 4771 |\n",
       "| 2 | BAD    |   1 | <!----> |            1 | 2 | 1189 |\n",
       "| 3 | JOB    | NaN | <!----> | <!----> | 1 |  279 |\n",
       "| 4 | JOB    | NaN | Mgr     | Mgr          | 2 |  767 |\n",
       "| 5 | JOB    | NaN | Office  | Office       | 3 |  948 |\n",
       "| 6 | JOB    | NaN | Other   | Other        | 4 | 2388 |\n",
       "| 7 | JOB    | NaN | ProfExe | ProfExe      | 5 | 1276 |\n",
       "| 8 | JOB    | NaN | Sales   | Sales        | 6 |  109 |\n",
       "| 9 | JOB    | NaN | Self    | Self         | 7 |  193 |\n",
       "| 10 | REASON | NaN | <!----> | <!----> | 1 |  252 |\n",
       "| 11 | REASON | NaN | DebtCon | DebtCon      | 2 | 3928 |\n",
       "| 12 | REASON | NaN | HomeImp | HomeImp      | 3 | 1780 |\n",
       "\n"
      ],
      "text/plain": [
       "$Frequency\n",
       "   Column NumVar CharVar       FmtVar Level Frequency\n",
       "1     BAD      0                    0     1      4771\n",
       "2     BAD      1                    1     2      1189\n",
       "3     JOB    NaN                          1       279\n",
       "4     JOB    NaN     Mgr      Mgr         2       767\n",
       "5     JOB    NaN  Office      Office      3       948\n",
       "6     JOB    NaN   Other      Other       4      2388\n",
       "7     JOB    NaN ProfExe      ProfExe     5      1276\n",
       "8     JOB    NaN   Sales      Sales       6       109\n",
       "9     JOB    NaN    Self      Self        7       193\n",
       "10 REASON    NaN                          1       252\n",
       "11 REASON    NaN DebtCon      DebtCon     2      3928\n",
       "12 REASON    NaN HomeImp      HomeImp     3      1780\n"
      ]
     },
     "metadata": {},
     "output_type": "display_data"
    }
   ],
   "source": [
    "cas.simple.freq(conn,\n",
    "    table = list(name = \"hmeq_part\", caslib = \"Public\"),\n",
    "    inputs = c(\"BAD\",\"JOB\",\"REASON\")\n",
    ")"
   ]
  },
  {
   "cell_type": "code",
   "execution_count": 10,
   "metadata": {},
   "outputs": [
    {
     "name": "stderr",
     "output_type": "stream",
     "text": [
      "NOTE: Added action set 'sampling'.\n",
      "\n",
      "NOTE: Information for action set 'sampling':\n",
      "\n",
      "NOTE:    sampling\n",
      "\n",
      "NOTE:       srs -  Samples a proportion of data from the input table or partitions the data into no more than three portions\n",
      "\n",
      "NOTE:       stratified - Samples a proportion of data or partitions the data into no more than three portions within each stratum\n",
      "\n",
      "NOTE:       oversample - Samples a user-specified proportion of data from the event level and adjusts the ratio between rare events and non-rare events to a user-specified ratio\n",
      "\n",
      "NOTE:       kfold - K-fold partitioning.\n",
      "\n"
     ]
    }
   ],
   "source": [
    "loadActionSet(conn, 'sampling')"
   ]
  },
  {
   "cell_type": "code",
   "execution_count": 11,
   "metadata": {},
   "outputs": [
    {
     "name": "stderr",
     "output_type": "stream",
     "text": [
      "NOTE: Simple Random Sampling is in effect.\n",
      "\n",
      "NOTE: Using SEED=12345 for sampling.\n",
      "\n"
     ]
    },
    {
     "data": {
      "text/html": [
       "<dl>\n",
       "\t<dt>$OutputCasTables</dt>\n",
       "\t\t<dd><table class=\"dataframe\">\n",
       "<caption>A casDataFrame: 1 × 5</caption>\n",
       "<thead>\n",
       "\t<tr><th></th><th scope=col>casLib</th><th scope=col>Name</th><th scope=col>Label</th><th scope=col>Rows</th><th scope=col>Columns</th></tr>\n",
       "\t<tr><th></th><th scope=col>&lt;chr&gt;</th><th scope=col>&lt;chr&gt;</th><th scope=col>&lt;chr&gt;</th><th scope=col>&lt;dbl&gt;</th><th scope=col>&lt;dbl&gt;</th></tr>\n",
       "</thead>\n",
       "<tbody>\n",
       "\t<tr><th scope=row>1</th><td>CASUSER(jobake)</td><td>mysam</td><td></td><td>2980</td><td>14</td></tr>\n",
       "</tbody>\n",
       "</table>\n",
       "</dd>\n",
       "\t<dt>$SRSFreq</dt>\n",
       "\t\t<dd><table class=\"dataframe\">\n",
       "<caption>A casDataFrame: 1 × 2</caption>\n",
       "<thead>\n",
       "\t<tr><th></th><th scope=col>NObs</th><th scope=col>NSamp</th></tr>\n",
       "\t<tr><th></th><th scope=col>&lt;dbl&gt;</th><th scope=col>&lt;dbl&gt;</th></tr>\n",
       "</thead>\n",
       "<tbody>\n",
       "\t<tr><th scope=row>1</th><td>5960</td><td>2980</td></tr>\n",
       "</tbody>\n",
       "</table>\n",
       "</dd>\n",
       "</dl>\n"
      ],
      "text/latex": [
       "\\begin{description}\n",
       "\\item[\\$OutputCasTables] A casDataFrame: 1 × 5\n",
       "\\begin{tabular}{r|lllll}\n",
       "  & casLib & Name & Label & Rows & Columns\\\\\n",
       "  & <chr> & <chr> & <chr> & <dbl> & <dbl>\\\\\n",
       "\\hline\n",
       "\t1 & CASUSER(jobake) & mysam &  & 2980 & 14\\\\\n",
       "\\end{tabular}\n",
       "\n",
       "\\item[\\$SRSFreq] A casDataFrame: 1 × 2\n",
       "\\begin{tabular}{r|ll}\n",
       "  & NObs & NSamp\\\\\n",
       "  & <dbl> & <dbl>\\\\\n",
       "\\hline\n",
       "\t1 & 5960 & 2980\\\\\n",
       "\\end{tabular}\n",
       "\n",
       "\\end{description}\n"
      ],
      "text/markdown": [
       "$OutputCasTables\n",
       ":   \n",
       "A casDataFrame: 1 × 5\n",
       "\n",
       "| <!--/--> | casLib &lt;chr&gt; | Name &lt;chr&gt; | Label &lt;chr&gt; | Rows &lt;dbl&gt; | Columns &lt;dbl&gt; |\n",
       "|---|---|---|---|---|---|\n",
       "| 1 | CASUSER(jobake) | mysam | <!----> | 2980 | 14 |\n",
       "\n",
       "\n",
       "$SRSFreq\n",
       ":   \n",
       "A casDataFrame: 1 × 2\n",
       "\n",
       "| <!--/--> | NObs &lt;dbl&gt; | NSamp &lt;dbl&gt; |\n",
       "|---|---|---|\n",
       "| 1 | 5960 | 2980 |\n",
       "\n",
       "\n",
       "\n",
       "\n"
      ],
      "text/plain": [
       "$OutputCasTables\n",
       "           casLib  Name Label Rows Columns\n",
       "1 CASUSER(jobake) mysam       2980      14\n",
       "\n",
       "$SRSFreq\n",
       "  NObs NSamp\n",
       "1 5960  2980\n"
      ]
     },
     "metadata": {},
     "output_type": "display_data"
    }
   ],
   "source": [
    "cas.sampling.srs(conn,\n",
    "    table   = list(name = \"hmeq_part\", caslib = \"Public\"),\n",
    "    samppct = 50,\n",
    "    seed = 12345,\n",
    "    partind = FALSE,\n",
    "    output  = list(casOut = list(name = 'mysam', replace = T), copyVars = 'ALL')\n",
    ")\n",
    "\n",
    "mysam = defCasTable(conn, table='mysam')\n",
    "df = to.casDataFrame(mysam)"
   ]
  },
  {
   "cell_type": "code",
   "execution_count": 12,
   "metadata": {},
   "outputs": [],
   "source": [
    "options(repr.plot.width=20, repr.plot.height=20)"
   ]
  },
  {
   "cell_type": "code",
   "execution_count": 13,
   "metadata": {},
   "outputs": [
    {
     "data": {
      "image/png": "[encoded data removed]",
      "text/plain": [
       "Plot with title \"Histogram of df$DEBTINC\""
      ]
     },
     "metadata": {
      "image/png": {
       "height": 1200,
       "width": 1200
      }
     },
     "output_type": "display_data"
    }
   ],
   "source": [
    "hist_vars = c(\"LOAN\",\"MORTDUE\",\"VALUE\",\"YOJ\",\"DEROG\",\"DELINQ\",\"CLAGE\",\"NINQ\",\"CLNO\",\"DEBTINC\")\n",
    "par(mfrow = c(5, 2))\n",
    "\n",
    "for(i in 1:length(hist_vars)){\n",
    "    eval(parse(text=paste0(\"hist(df$\",hist_vars[i],\")\")))\n",
    "}\n",
    "par(mfrow = c(1, 1))"
   ]
  },
  {
   "cell_type": "code",
   "execution_count": 14,
   "metadata": {},
   "outputs": [
    {
     "data": {
      "text/html": [
       "<table class=\"dataframe\">\n",
       "<caption>A casDataFrame: 2 × 6</caption>\n",
       "<thead>\n",
       "\t<tr><th></th><th scope=col>Column</th><th scope=col>NumVar</th><th scope=col>FmtVar</th><th scope=col>Level</th><th scope=col>Frequency</th><th scope=col>Percent</th></tr>\n",
       "\t<tr><th></th><th scope=col>&lt;chr&gt;</th><th scope=col>&lt;int&gt;</th><th scope=col>&lt;chr&gt;</th><th scope=col>&lt;dbl&gt;</th><th scope=col>&lt;int&gt;</th><th scope=col>&lt;dbl&gt;</th></tr>\n",
       "</thead>\n",
       "<tbody>\n",
       "\t<tr><th scope=row>1</th><td>PARTIND</td><td>0</td><td>           0</td><td>1</td><td>1788</td><td>0.3</td></tr>\n",
       "\t<tr><th scope=row>2</th><td>PARTIND</td><td>1</td><td>           1</td><td>2</td><td>4172</td><td>0.7</td></tr>\n",
       "</tbody>\n",
       "</table>\n"
      ],
      "text/latex": [
       "A casDataFrame: 2 × 6\n",
       "\\begin{tabular}{r|llllll}\n",
       "  & Column & NumVar & FmtVar & Level & Frequency & Percent\\\\\n",
       "  & <chr> & <int> & <chr> & <dbl> & <int> & <dbl>\\\\\n",
       "\\hline\n",
       "\t1 & PARTIND & 0 &            0 & 1 & 1788 & 0.3\\\\\n",
       "\t2 & PARTIND & 1 &            1 & 2 & 4172 & 0.7\\\\\n",
       "\\end{tabular}\n"
      ],
      "text/markdown": [
       "\n",
       "A casDataFrame: 2 × 6\n",
       "\n",
       "| <!--/--> | Column &lt;chr&gt; | NumVar &lt;int&gt; | FmtVar &lt;chr&gt; | Level &lt;dbl&gt; | Frequency &lt;int&gt; | Percent &lt;dbl&gt; |\n",
       "|---|---|---|---|---|---|---|\n",
       "| 1 | PARTIND | 0 |            0 | 1 | 1788 | 0.3 |\n",
       "| 2 | PARTIND | 1 |            1 | 2 | 4172 | 0.7 |\n",
       "\n"
      ],
      "text/plain": [
       "  Column  NumVar FmtVar       Level Frequency Percent\n",
       "1 PARTIND 0                 0 1     1788      0.3    \n",
       "2 PARTIND 1                 1 2     4172      0.7    "
      ]
     },
     "metadata": {},
     "output_type": "display_data"
    }
   ],
   "source": [
    "parts = cas.simple.freq(conn,\n",
    "    table = list(name = \"hmeq_part\", caslib = \"Public\"),\n",
    "    inputs = \"PARTIND\"\n",
    ")$Frequency\n",
    "\n",
    "parts[\"Percent\"] = parts$Frequency / nrow(df_cas)\n",
    "parts"
   ]
  },
  {
   "cell_type": "markdown",
   "metadata": {},
   "source": [
    "# Impute Missing Values"
   ]
  },
  {
   "cell_type": "code",
   "execution_count": 15,
   "metadata": {},
   "outputs": [
    {
     "data": {
      "text/html": [
       "<table class=\"dataframe\">\n",
       "<caption>A data.frame: 14 × 2</caption>\n",
       "<thead>\n",
       "\t<tr><th></th><th scope=col>Column</th><th scope=col>NMiss</th></tr>\n",
       "\t<tr><th></th><th scope=col>&lt;chr&gt;</th><th scope=col>&lt;int&gt;</th></tr>\n",
       "</thead>\n",
       "<tbody>\n",
       "\t<tr><th scope=row>1</th><td>BAD    </td><td>   0</td></tr>\n",
       "\t<tr><th scope=row>2</th><td>LOAN   </td><td>   0</td></tr>\n",
       "\t<tr><th scope=row>3</th><td>MORTDUE</td><td> 518</td></tr>\n",
       "\t<tr><th scope=row>4</th><td>VALUE  </td><td> 112</td></tr>\n",
       "\t<tr><th scope=row>5</th><td>REASON </td><td> 252</td></tr>\n",
       "\t<tr><th scope=row>6</th><td>JOB    </td><td> 279</td></tr>\n",
       "\t<tr><th scope=row>7</th><td>YOJ    </td><td> 515</td></tr>\n",
       "\t<tr><th scope=row>8</th><td>DEROG  </td><td> 708</td></tr>\n",
       "\t<tr><th scope=row>9</th><td>DELINQ </td><td> 580</td></tr>\n",
       "\t<tr><th scope=row>10</th><td>CLAGE  </td><td> 308</td></tr>\n",
       "\t<tr><th scope=row>11</th><td>NINQ   </td><td> 510</td></tr>\n",
       "\t<tr><th scope=row>12</th><td>CLNO   </td><td> 222</td></tr>\n",
       "\t<tr><th scope=row>13</th><td>DEBTINC</td><td>1267</td></tr>\n",
       "\t<tr><th scope=row>14</th><td>PARTIND</td><td>   0</td></tr>\n",
       "</tbody>\n",
       "</table>\n"
      ],
      "text/latex": [
       "A data.frame: 14 × 2\n",
       "\\begin{tabular}{r|ll}\n",
       "  & Column & NMiss\\\\\n",
       "  & <chr> & <int>\\\\\n",
       "\\hline\n",
       "\t1 & BAD     &    0\\\\\n",
       "\t2 & LOAN    &    0\\\\\n",
       "\t3 & MORTDUE &  518\\\\\n",
       "\t4 & VALUE   &  112\\\\\n",
       "\t5 & REASON  &  252\\\\\n",
       "\t6 & JOB     &  279\\\\\n",
       "\t7 & YOJ     &  515\\\\\n",
       "\t8 & DEROG   &  708\\\\\n",
       "\t9 & DELINQ  &  580\\\\\n",
       "\t10 & CLAGE   &  308\\\\\n",
       "\t11 & NINQ    &  510\\\\\n",
       "\t12 & CLNO    &  222\\\\\n",
       "\t13 & DEBTINC & 1267\\\\\n",
       "\t14 & PARTIND &    0\\\\\n",
       "\\end{tabular}\n"
      ],
      "text/markdown": [
       "\n",
       "A data.frame: 14 × 2\n",
       "\n",
       "| <!--/--> | Column &lt;chr&gt; | NMiss &lt;int&gt; |\n",
       "|---|---|---|\n",
       "| 1 | BAD     |    0 |\n",
       "| 2 | LOAN    |    0 |\n",
       "| 3 | MORTDUE |  518 |\n",
       "| 4 | VALUE   |  112 |\n",
       "| 5 | REASON  |  252 |\n",
       "| 6 | JOB     |  279 |\n",
       "| 7 | YOJ     |  515 |\n",
       "| 8 | DEROG   |  708 |\n",
       "| 9 | DELINQ  |  580 |\n",
       "| 10 | CLAGE   |  308 |\n",
       "| 11 | NINQ    |  510 |\n",
       "| 12 | CLNO    |  222 |\n",
       "| 13 | DEBTINC | 1267 |\n",
       "| 14 | PARTIND |    0 |\n",
       "\n"
      ],
      "text/plain": [
       "   Column  NMiss\n",
       "1  BAD        0 \n",
       "2  LOAN       0 \n",
       "3  MORTDUE  518 \n",
       "4  VALUE    112 \n",
       "5  REASON   252 \n",
       "6  JOB      279 \n",
       "7  YOJ      515 \n",
       "8  DEROG    708 \n",
       "9  DELINQ   580 \n",
       "10 CLAGE    308 \n",
       "11 NINQ     510 \n",
       "12 CLNO     222 \n",
       "13 DEBTINC 1267 \n",
       "14 PARTIND    0 "
      ]
     },
     "metadata": {},
     "output_type": "display_data"
    }
   ],
   "source": [
    "cas.simple.distinct(df_cas)$Distinct[,c('Column', 'NMiss')]"
   ]
  },
  {
   "cell_type": "code",
   "execution_count": 16,
   "metadata": {},
   "outputs": [
    {
     "data": {
      "text/html": [
       "<dl>\n",
       "\t<dt>$ImputeInfo</dt>\n",
       "\t\t<dd><table class=\"dataframe\">\n",
       "<caption>A casDataFrame: 12 × 7</caption>\n",
       "<thead>\n",
       "\t<tr><th></th><th scope=col>Variable</th><th scope=col>ImputeTech</th><th scope=col>ResultVar</th><th scope=col>N</th><th scope=col>NMiss</th><th scope=col>ImputedValueContinuous</th><th scope=col>ImputedValueNominal</th></tr>\n",
       "\t<tr><th></th><th scope=col>&lt;chr&gt;</th><th scope=col>&lt;chr&gt;</th><th scope=col>&lt;chr&gt;</th><th scope=col>&lt;int&gt;</th><th scope=col>&lt;int&gt;</th><th scope=col>&lt;dbl&gt;</th><th scope=col>&lt;chr&gt;</th></tr>\n",
       "</thead>\n",
       "<tbody>\n",
       "\t<tr><th scope=row>1</th><td>LOAN   </td><td>Median</td><td>IMP_LOAN   </td><td>4172</td><td>  0</td><td>16400.00000</td><td>       </td></tr>\n",
       "\t<tr><th scope=row>2</th><td>MORTDUE</td><td>Median</td><td>IMP_MORTDUE</td><td>3802</td><td>370</td><td>65608.50000</td><td>       </td></tr>\n",
       "\t<tr><th scope=row>3</th><td>VALUE  </td><td>Median</td><td>IMP_VALUE  </td><td>4087</td><td> 85</td><td>89453.00000</td><td>       </td></tr>\n",
       "\t<tr><th scope=row>4</th><td>REASON </td><td>Mode  </td><td>IMP_REASON </td><td>3985</td><td>187</td><td>        NaN</td><td>DebtCon</td></tr>\n",
       "\t<tr><th scope=row>5</th><td>JOB    </td><td>Mode  </td><td>IMP_JOB    </td><td>3969</td><td>203</td><td>        NaN</td><td>Other  </td></tr>\n",
       "\t<tr><th scope=row>6</th><td>YOJ    </td><td>Median</td><td>IMP_YOJ    </td><td>3797</td><td>375</td><td>    7.00000</td><td>       </td></tr>\n",
       "\t<tr><th scope=row>7</th><td>DEROG  </td><td>Median</td><td>IMP_DEROG  </td><td>3668</td><td>504</td><td>    0.00000</td><td>       </td></tr>\n",
       "\t<tr><th scope=row>8</th><td>DELINQ </td><td>Median</td><td>IMP_DELINQ </td><td>3758</td><td>414</td><td>    0.00000</td><td>       </td></tr>\n",
       "\t<tr><th scope=row>9</th><td>CLAGE  </td><td>Median</td><td>IMP_CLAGE  </td><td>3960</td><td>212</td><td>  171.95835</td><td>       </td></tr>\n",
       "\t<tr><th scope=row>10</th><td>NINQ   </td><td>Median</td><td>IMP_NINQ   </td><td>3812</td><td>360</td><td>    1.00000</td><td>       </td></tr>\n",
       "\t<tr><th scope=row>11</th><td>CLNO   </td><td>Median</td><td>IMP_CLNO   </td><td>4015</td><td>157</td><td>   20.00000</td><td>       </td></tr>\n",
       "\t<tr><th scope=row>12</th><td>DEBTINC</td><td>Median</td><td>IMP_DEBTINC</td><td>3265</td><td>907</td><td>   34.94708</td><td>       </td></tr>\n",
       "</tbody>\n",
       "</table>\n",
       "</dd>\n",
       "\t<dt>$OutputCasTables</dt>\n",
       "\t\t<dd><table class=\"dataframe\">\n",
       "<caption>A casDataFrame: 2 × 4</caption>\n",
       "<thead>\n",
       "\t<tr><th></th><th scope=col>casLib</th><th scope=col>Name</th><th scope=col>Rows</th><th scope=col>Columns</th></tr>\n",
       "\t<tr><th></th><th scope=col>&lt;chr&gt;</th><th scope=col>&lt;chr&gt;</th><th scope=col>&lt;dbl&gt;</th><th scope=col>&lt;dbl&gt;</th></tr>\n",
       "</thead>\n",
       "<tbody>\n",
       "\t<tr><th scope=row>1</th><td>CASUSER(jobake)</td><td>train            </td><td>4172</td><td>26</td></tr>\n",
       "\t<tr><th scope=row>2</th><td>CASUSER(jobake)</td><td>score_code_impute</td><td>   1</td><td>10</td></tr>\n",
       "</tbody>\n",
       "</table>\n",
       "</dd>\n",
       "</dl>\n"
      ],
      "text/latex": [
       "\\begin{description}\n",
       "\\item[\\$ImputeInfo] A casDataFrame: 12 × 7\n",
       "\\begin{tabular}{r|lllllll}\n",
       "  & Variable & ImputeTech & ResultVar & N & NMiss & ImputedValueContinuous & ImputedValueNominal\\\\\n",
       "  & <chr> & <chr> & <chr> & <int> & <int> & <dbl> & <chr>\\\\\n",
       "\\hline\n",
       "\t1 & LOAN    & Median & IMP\\_LOAN    & 4172 &   0 & 16400.00000 &        \\\\\n",
       "\t2 & MORTDUE & Median & IMP\\_MORTDUE & 3802 & 370 & 65608.50000 &        \\\\\n",
       "\t3 & VALUE   & Median & IMP\\_VALUE   & 4087 &  85 & 89453.00000 &        \\\\\n",
       "\t4 & REASON  & Mode   & IMP\\_REASON  & 3985 & 187 &         NaN & DebtCon\\\\\n",
       "\t5 & JOB     & Mode   & IMP\\_JOB     & 3969 & 203 &         NaN & Other  \\\\\n",
       "\t6 & YOJ     & Median & IMP\\_YOJ     & 3797 & 375 &     7.00000 &        \\\\\n",
       "\t7 & DEROG   & Median & IMP\\_DEROG   & 3668 & 504 &     0.00000 &        \\\\\n",
       "\t8 & DELINQ  & Median & IMP\\_DELINQ  & 3758 & 414 &     0.00000 &        \\\\\n",
       "\t9 & CLAGE   & Median & IMP\\_CLAGE   & 3960 & 212 &   171.95835 &        \\\\\n",
       "\t10 & NINQ    & Median & IMP\\_NINQ    & 3812 & 360 &     1.00000 &        \\\\\n",
       "\t11 & CLNO    & Median & IMP\\_CLNO    & 4015 & 157 &    20.00000 &        \\\\\n",
       "\t12 & DEBTINC & Median & IMP\\_DEBTINC & 3265 & 907 &    34.94708 &        \\\\\n",
       "\\end{tabular}\n",
       "\n",
       "\\item[\\$OutputCasTables] A casDataFrame: 2 × 4\n",
       "\\begin{tabular}{r|llll}\n",
       "  & casLib & Name & Rows & Columns\\\\\n",
       "  & <chr> & <chr> & <dbl> & <dbl>\\\\\n",
       "\\hline\n",
       "\t1 & CASUSER(jobake) & train             & 4172 & 26\\\\\n",
       "\t2 & CASUSER(jobake) & score\\_code\\_impute &    1 & 10\\\\\n",
       "\\end{tabular}\n",
       "\n",
       "\\end{description}\n"
      ],
      "text/markdown": [
       "$ImputeInfo\n",
       ":   \n",
       "A casDataFrame: 12 × 7\n",
       "\n",
       "| <!--/--> | Variable &lt;chr&gt; | ImputeTech &lt;chr&gt; | ResultVar &lt;chr&gt; | N &lt;int&gt; | NMiss &lt;int&gt; | ImputedValueContinuous &lt;dbl&gt; | ImputedValueNominal &lt;chr&gt; |\n",
       "|---|---|---|---|---|---|---|---|\n",
       "| 1 | LOAN    | Median | IMP_LOAN    | 4172 |   0 | 16400.00000 | <!----> |\n",
       "| 2 | MORTDUE | Median | IMP_MORTDUE | 3802 | 370 | 65608.50000 | <!----> |\n",
       "| 3 | VALUE   | Median | IMP_VALUE   | 4087 |  85 | 89453.00000 | <!----> |\n",
       "| 4 | REASON  | Mode   | IMP_REASON  | 3985 | 187 |         NaN | DebtCon |\n",
       "| 5 | JOB     | Mode   | IMP_JOB     | 3969 | 203 |         NaN | Other   |\n",
       "| 6 | YOJ     | Median | IMP_YOJ     | 3797 | 375 |     7.00000 | <!----> |\n",
       "| 7 | DEROG   | Median | IMP_DEROG   | 3668 | 504 |     0.00000 | <!----> |\n",
       "| 8 | DELINQ  | Median | IMP_DELINQ  | 3758 | 414 |     0.00000 | <!----> |\n",
       "| 9 | CLAGE   | Median | IMP_CLAGE   | 3960 | 212 |   171.95835 | <!----> |\n",
       "| 10 | NINQ    | Median | IMP_NINQ    | 3812 | 360 |     1.00000 | <!----> |\n",
       "| 11 | CLNO    | Median | IMP_CLNO    | 4015 | 157 |    20.00000 | <!----> |\n",
       "| 12 | DEBTINC | Median | IMP_DEBTINC | 3265 | 907 |    34.94708 | <!----> |\n",
       "\n",
       "\n",
       "$OutputCasTables\n",
       ":   \n",
       "A casDataFrame: 2 × 4\n",
       "\n",
       "| <!--/--> | casLib &lt;chr&gt; | Name &lt;chr&gt; | Rows &lt;dbl&gt; | Columns &lt;dbl&gt; |\n",
       "|---|---|---|---|---|\n",
       "| 1 | CASUSER(jobake) | train             | 4172 | 26 |\n",
       "| 2 | CASUSER(jobake) | score_code_impute |    1 | 10 |\n",
       "\n",
       "\n",
       "\n",
       "\n"
      ],
      "text/plain": [
       "$ImputeInfo\n",
       "   Variable ImputeTech   ResultVar    N NMiss ImputedValueContinuous\n",
       "1      LOAN     Median    IMP_LOAN 4172     0            16400.00000\n",
       "2   MORTDUE     Median IMP_MORTDUE 3802   370            65608.50000\n",
       "3     VALUE     Median   IMP_VALUE 4087    85            89453.00000\n",
       "4    REASON       Mode  IMP_REASON 3985   187                    NaN\n",
       "5       JOB       Mode     IMP_JOB 3969   203                    NaN\n",
       "6       YOJ     Median     IMP_YOJ 3797   375                7.00000\n",
       "7     DEROG     Median   IMP_DEROG 3668   504                0.00000\n",
       "8    DELINQ     Median  IMP_DELINQ 3758   414                0.00000\n",
       "9     CLAGE     Median   IMP_CLAGE 3960   212              171.95835\n",
       "10     NINQ     Median    IMP_NINQ 3812   360                1.00000\n",
       "11     CLNO     Median    IMP_CLNO 4015   157               20.00000\n",
       "12  DEBTINC     Median IMP_DEBTINC 3265   907               34.94708\n",
       "   ImputedValueNominal\n",
       "1                     \n",
       "2                     \n",
       "3                     \n",
       "4              DebtCon\n",
       "5                Other\n",
       "6                     \n",
       "7                     \n",
       "8                     \n",
       "9                     \n",
       "10                    \n",
       "11                    \n",
       "12                    \n",
       "\n",
       "$OutputCasTables\n",
       "           casLib              Name Rows Columns\n",
       "1 CASUSER(jobake)             train 4172      26\n",
       "2 CASUSER(jobake) score_code_impute    1      10\n"
      ]
     },
     "metadata": {},
     "output_type": "display_data"
    }
   ],
   "source": [
    "impute_info = cas.dataPreprocess.impute(conn,\n",
    "    table = list(name = \"hmeq_part\", caslib = \"Public\", where = 'partind = 1'),\n",
    "    methodContinuous = 'MEDIAN',\n",
    "    methodNominal    = 'MODE',\n",
    "    inputs           = colnames(df_cas)[c(-1,-ncol(df_cas))],\n",
    "    copyAllVars      = TRUE,\n",
    "    casOut           = list(name = \"train\", replace = TRUE),\n",
    "    code = list(casOut = list(name = \"score_code_impute\", replace = TRUE))\n",
    ")\n",
    "\n",
    "impute_info"
   ]
  },
  {
   "cell_type": "code",
   "execution_count": 17,
   "metadata": {},
   "outputs": [
    {
     "data": {
      "text/html": [
       "<dl>\n",
       "\t<dt>$ImputeInfo</dt>\n",
       "\t\t<dd><table class=\"dataframe\">\n",
       "<caption>A casDataFrame: 12 × 7</caption>\n",
       "<thead>\n",
       "\t<tr><th></th><th scope=col>Variable</th><th scope=col>ImputeTech</th><th scope=col>ResultVar</th><th scope=col>N</th><th scope=col>NMiss</th><th scope=col>ImputedValueContinuous</th><th scope=col>ImputedValueNominal</th></tr>\n",
       "\t<tr><th></th><th scope=col>&lt;chr&gt;</th><th scope=col>&lt;chr&gt;</th><th scope=col>&lt;chr&gt;</th><th scope=col>&lt;int&gt;</th><th scope=col>&lt;int&gt;</th><th scope=col>&lt;dbl&gt;</th><th scope=col>&lt;chr&gt;</th></tr>\n",
       "</thead>\n",
       "<tbody>\n",
       "\t<tr><th scope=row>1</th><td>LOAN   </td><td>Value</td><td>IMP_LOAN   </td><td>1788</td><td>  0</td><td>16400.0000</td><td>       </td></tr>\n",
       "\t<tr><th scope=row>2</th><td>MORTDUE</td><td>Value</td><td>IMP_MORTDUE</td><td>1640</td><td>148</td><td>65608.5000</td><td>       </td></tr>\n",
       "\t<tr><th scope=row>3</th><td>VALUE  </td><td>Value</td><td>IMP_VALUE  </td><td>1761</td><td> 27</td><td>89453.0000</td><td>       </td></tr>\n",
       "\t<tr><th scope=row>4</th><td>REASON </td><td>Value</td><td>IMP_REASON </td><td>1723</td><td> 65</td><td>       NaN</td><td>DebtCon</td></tr>\n",
       "\t<tr><th scope=row>5</th><td>JOB    </td><td>Value</td><td>IMP_JOB    </td><td>1712</td><td> 76</td><td>       NaN</td><td>Other  </td></tr>\n",
       "\t<tr><th scope=row>6</th><td>YOJ    </td><td>Value</td><td>IMP_YOJ    </td><td>1648</td><td>140</td><td>    7.0000</td><td>       </td></tr>\n",
       "\t<tr><th scope=row>7</th><td>DEROG  </td><td>Value</td><td>IMP_DEROG  </td><td>1584</td><td>204</td><td>    0.0000</td><td>       </td></tr>\n",
       "\t<tr><th scope=row>8</th><td>DELINQ </td><td>Value</td><td>IMP_DELINQ </td><td>1622</td><td>166</td><td>    0.0000</td><td>       </td></tr>\n",
       "\t<tr><th scope=row>9</th><td>CLAGE  </td><td>Value</td><td>IMP_CLAGE  </td><td>1692</td><td> 96</td><td>  171.9584</td><td>       </td></tr>\n",
       "\t<tr><th scope=row>10</th><td>NINQ   </td><td>Value</td><td>IMP_NINQ   </td><td>1638</td><td>150</td><td>    1.0000</td><td>       </td></tr>\n",
       "\t<tr><th scope=row>11</th><td>CLNO   </td><td>Value</td><td>IMP_CLNO   </td><td>1723</td><td> 65</td><td>   20.0000</td><td>       </td></tr>\n",
       "\t<tr><th scope=row>12</th><td>DEBTINC</td><td>Value</td><td>IMP_DEBTINC</td><td>1428</td><td>360</td><td>   34.9471</td><td>       </td></tr>\n",
       "</tbody>\n",
       "</table>\n",
       "</dd>\n",
       "\t<dt>$OutputCasTables</dt>\n",
       "\t\t<dd><table class=\"dataframe\">\n",
       "<caption>A casDataFrame: 1 × 4</caption>\n",
       "<thead>\n",
       "\t<tr><th></th><th scope=col>casLib</th><th scope=col>Name</th><th scope=col>Rows</th><th scope=col>Columns</th></tr>\n",
       "\t<tr><th></th><th scope=col>&lt;chr&gt;</th><th scope=col>&lt;chr&gt;</th><th scope=col>&lt;dbl&gt;</th><th scope=col>&lt;dbl&gt;</th></tr>\n",
       "</thead>\n",
       "<tbody>\n",
       "\t<tr><th scope=row>1</th><td>CASUSER(jobake)</td><td>valid</td><td>1788</td><td>26</td></tr>\n",
       "</tbody>\n",
       "</table>\n",
       "</dd>\n",
       "</dl>\n"
      ],
      "text/latex": [
       "\\begin{description}\n",
       "\\item[\\$ImputeInfo] A casDataFrame: 12 × 7\n",
       "\\begin{tabular}{r|lllllll}\n",
       "  & Variable & ImputeTech & ResultVar & N & NMiss & ImputedValueContinuous & ImputedValueNominal\\\\\n",
       "  & <chr> & <chr> & <chr> & <int> & <int> & <dbl> & <chr>\\\\\n",
       "\\hline\n",
       "\t1 & LOAN    & Value & IMP\\_LOAN    & 1788 &   0 & 16400.0000 &        \\\\\n",
       "\t2 & MORTDUE & Value & IMP\\_MORTDUE & 1640 & 148 & 65608.5000 &        \\\\\n",
       "\t3 & VALUE   & Value & IMP\\_VALUE   & 1761 &  27 & 89453.0000 &        \\\\\n",
       "\t4 & REASON  & Value & IMP\\_REASON  & 1723 &  65 &        NaN & DebtCon\\\\\n",
       "\t5 & JOB     & Value & IMP\\_JOB     & 1712 &  76 &        NaN & Other  \\\\\n",
       "\t6 & YOJ     & Value & IMP\\_YOJ     & 1648 & 140 &     7.0000 &        \\\\\n",
       "\t7 & DEROG   & Value & IMP\\_DEROG   & 1584 & 204 &     0.0000 &        \\\\\n",
       "\t8 & DELINQ  & Value & IMP\\_DELINQ  & 1622 & 166 &     0.0000 &        \\\\\n",
       "\t9 & CLAGE   & Value & IMP\\_CLAGE   & 1692 &  96 &   171.9584 &        \\\\\n",
       "\t10 & NINQ    & Value & IMP\\_NINQ    & 1638 & 150 &     1.0000 &        \\\\\n",
       "\t11 & CLNO    & Value & IMP\\_CLNO    & 1723 &  65 &    20.0000 &        \\\\\n",
       "\t12 & DEBTINC & Value & IMP\\_DEBTINC & 1428 & 360 &    34.9471 &        \\\\\n",
       "\\end{tabular}\n",
       "\n",
       "\\item[\\$OutputCasTables] A casDataFrame: 1 × 4\n",
       "\\begin{tabular}{r|llll}\n",
       "  & casLib & Name & Rows & Columns\\\\\n",
       "  & <chr> & <chr> & <dbl> & <dbl>\\\\\n",
       "\\hline\n",
       "\t1 & CASUSER(jobake) & valid & 1788 & 26\\\\\n",
       "\\end{tabular}\n",
       "\n",
       "\\end{description}\n"
      ],
      "text/markdown": [
       "$ImputeInfo\n",
       ":   \n",
       "A casDataFrame: 12 × 7\n",
       "\n",
       "| <!--/--> | Variable &lt;chr&gt; | ImputeTech &lt;chr&gt; | ResultVar &lt;chr&gt; | N &lt;int&gt; | NMiss &lt;int&gt; | ImputedValueContinuous &lt;dbl&gt; | ImputedValueNominal &lt;chr&gt; |\n",
       "|---|---|---|---|---|---|---|---|\n",
       "| 1 | LOAN    | Value | IMP_LOAN    | 1788 |   0 | 16400.0000 | <!----> |\n",
       "| 2 | MORTDUE | Value | IMP_MORTDUE | 1640 | 148 | 65608.5000 | <!----> |\n",
       "| 3 | VALUE   | Value | IMP_VALUE   | 1761 |  27 | 89453.0000 | <!----> |\n",
       "| 4 | REASON  | Value | IMP_REASON  | 1723 |  65 |        NaN | DebtCon |\n",
       "| 5 | JOB     | Value | IMP_JOB     | 1712 |  76 |        NaN | Other   |\n",
       "| 6 | YOJ     | Value | IMP_YOJ     | 1648 | 140 |     7.0000 | <!----> |\n",
       "| 7 | DEROG   | Value | IMP_DEROG   | 1584 | 204 |     0.0000 | <!----> |\n",
       "| 8 | DELINQ  | Value | IMP_DELINQ  | 1622 | 166 |     0.0000 | <!----> |\n",
       "| 9 | CLAGE   | Value | IMP_CLAGE   | 1692 |  96 |   171.9584 | <!----> |\n",
       "| 10 | NINQ    | Value | IMP_NINQ    | 1638 | 150 |     1.0000 | <!----> |\n",
       "| 11 | CLNO    | Value | IMP_CLNO    | 1723 |  65 |    20.0000 | <!----> |\n",
       "| 12 | DEBTINC | Value | IMP_DEBTINC | 1428 | 360 |    34.9471 | <!----> |\n",
       "\n",
       "\n",
       "$OutputCasTables\n",
       ":   \n",
       "A casDataFrame: 1 × 4\n",
       "\n",
       "| <!--/--> | casLib &lt;chr&gt; | Name &lt;chr&gt; | Rows &lt;dbl&gt; | Columns &lt;dbl&gt; |\n",
       "|---|---|---|---|---|\n",
       "| 1 | CASUSER(jobake) | valid | 1788 | 26 |\n",
       "\n",
       "\n",
       "\n",
       "\n"
      ],
      "text/plain": [
       "$ImputeInfo\n",
       "   Variable ImputeTech   ResultVar    N NMiss ImputedValueContinuous\n",
       "1      LOAN      Value    IMP_LOAN 1788     0             16400.0000\n",
       "2   MORTDUE      Value IMP_MORTDUE 1640   148             65608.5000\n",
       "3     VALUE      Value   IMP_VALUE 1761    27             89453.0000\n",
       "4    REASON      Value  IMP_REASON 1723    65                    NaN\n",
       "5       JOB      Value     IMP_JOB 1712    76                    NaN\n",
       "6       YOJ      Value     IMP_YOJ 1648   140                 7.0000\n",
       "7     DEROG      Value   IMP_DEROG 1584   204                 0.0000\n",
       "8    DELINQ      Value  IMP_DELINQ 1622   166                 0.0000\n",
       "9     CLAGE      Value   IMP_CLAGE 1692    96               171.9584\n",
       "10     NINQ      Value    IMP_NINQ 1638   150                 1.0000\n",
       "11     CLNO      Value    IMP_CLNO 1723    65                20.0000\n",
       "12  DEBTINC      Value IMP_DEBTINC 1428   360                34.9471\n",
       "   ImputedValueNominal\n",
       "1                     \n",
       "2                     \n",
       "3                     \n",
       "4              DebtCon\n",
       "5                Other\n",
       "6                     \n",
       "7                     \n",
       "8                     \n",
       "9                     \n",
       "10                    \n",
       "11                    \n",
       "12                    \n",
       "\n",
       "$OutputCasTables\n",
       "           casLib  Name Rows Columns\n",
       "1 CASUSER(jobake) valid 1788      26\n"
      ]
     },
     "metadata": {},
     "output_type": "display_data"
    }
   ],
   "source": [
    "int_vals = impute_info$ImputeInfo$ImputedValueContinuous[!is.na(impute_info$ImputeInfo$ImputedValueContinuous)]\n",
    "nom_vals = impute_info$ImputeInfo$ImputedValueNominal[impute_info$ImputeInfo$ImputedValueNominal!=\"\"]\n",
    "\n",
    "cas.dataPreprocess.impute(conn,\n",
    "    table = list(name = \"hmeq_part\", caslib = \"Public\", where = 'partind = 0'),\n",
    "    inputs           = colnames(df_cas)[c(-1,-ncol(df_cas))],\n",
    "    methodContinuous = 'VALUE',\n",
    "    methodNominal    = 'VALUE',\n",
    "    valuesInterval   = int_vals,\n",
    "    valuesNominal    = nom_vals,\n",
    "    copyAllVars      = TRUE,\n",
    "    casOut           = list(name = \"valid\", replace = TRUE)\n",
    ")"
   ]
  },
  {
   "cell_type": "markdown",
   "metadata": {},
   "source": [
    "# Get Variables"
   ]
  },
  {
   "cell_type": "code",
   "execution_count": 18,
   "metadata": {},
   "outputs": [
    {
     "data": {
      "text/html": [
       "<table class=\"dataframe\">\n",
       "<caption>A casDataFrame: 26 × 9</caption>\n",
       "<thead>\n",
       "\t<tr><th></th><th scope=col>Column</th><th scope=col>Label</th><th scope=col>ID</th><th scope=col>Type</th><th scope=col>RawLength</th><th scope=col>FormattedLength</th><th scope=col>Format</th><th scope=col>NFL</th><th scope=col>NFD</th></tr>\n",
       "\t<tr><th></th><th scope=col>&lt;chr&gt;</th><th scope=col>&lt;chr&gt;</th><th scope=col>&lt;dbl&gt;</th><th scope=col>&lt;chr&gt;</th><th scope=col>&lt;int&gt;</th><th scope=col>&lt;int&gt;</th><th scope=col>&lt;chr&gt;</th><th scope=col>&lt;int&gt;</th><th scope=col>&lt;int&gt;</th></tr>\n",
       "</thead>\n",
       "<tbody>\n",
       "\t<tr><th scope=row>1</th><td>BAD        </td><td></td><td> 1</td><td>double </td><td>8</td><td>12</td><td></td><td>0</td><td>0</td></tr>\n",
       "\t<tr><th scope=row>2</th><td>LOAN       </td><td></td><td> 2</td><td>double </td><td>8</td><td>12</td><td></td><td>0</td><td>0</td></tr>\n",
       "\t<tr><th scope=row>3</th><td>MORTDUE    </td><td></td><td> 3</td><td>double </td><td>8</td><td>12</td><td></td><td>0</td><td>0</td></tr>\n",
       "\t<tr><th scope=row>4</th><td>VALUE      </td><td></td><td> 4</td><td>double </td><td>8</td><td>12</td><td></td><td>0</td><td>0</td></tr>\n",
       "\t<tr><th scope=row>5</th><td>REASON     </td><td></td><td> 5</td><td>varchar</td><td>7</td><td> 7</td><td></td><td>0</td><td>0</td></tr>\n",
       "\t<tr><th scope=row>6</th><td>JOB        </td><td></td><td> 6</td><td>varchar</td><td>7</td><td> 7</td><td></td><td>0</td><td>0</td></tr>\n",
       "\t<tr><th scope=row>7</th><td>YOJ        </td><td></td><td> 7</td><td>double </td><td>8</td><td>12</td><td></td><td>0</td><td>0</td></tr>\n",
       "\t<tr><th scope=row>8</th><td>DEROG      </td><td></td><td> 8</td><td>double </td><td>8</td><td>12</td><td></td><td>0</td><td>0</td></tr>\n",
       "\t<tr><th scope=row>9</th><td>DELINQ     </td><td></td><td> 9</td><td>double </td><td>8</td><td>12</td><td></td><td>0</td><td>0</td></tr>\n",
       "\t<tr><th scope=row>10</th><td>CLAGE      </td><td></td><td>10</td><td>double </td><td>8</td><td>12</td><td></td><td>0</td><td>0</td></tr>\n",
       "\t<tr><th scope=row>11</th><td>NINQ       </td><td></td><td>11</td><td>double </td><td>8</td><td>12</td><td></td><td>0</td><td>0</td></tr>\n",
       "\t<tr><th scope=row>12</th><td>CLNO       </td><td></td><td>12</td><td>double </td><td>8</td><td>12</td><td></td><td>0</td><td>0</td></tr>\n",
       "\t<tr><th scope=row>13</th><td>DEBTINC    </td><td></td><td>13</td><td>double </td><td>8</td><td>12</td><td></td><td>0</td><td>0</td></tr>\n",
       "\t<tr><th scope=row>14</th><td>PARTIND    </td><td></td><td>14</td><td>double </td><td>8</td><td>12</td><td></td><td>0</td><td>0</td></tr>\n",
       "\t<tr><th scope=row>15</th><td>IMP_CLAGE  </td><td></td><td>15</td><td>double </td><td>8</td><td>12</td><td></td><td>0</td><td>0</td></tr>\n",
       "\t<tr><th scope=row>16</th><td>IMP_CLNO   </td><td></td><td>16</td><td>double </td><td>8</td><td>12</td><td></td><td>0</td><td>0</td></tr>\n",
       "\t<tr><th scope=row>17</th><td>IMP_DEBTINC</td><td></td><td>17</td><td>double </td><td>8</td><td>12</td><td></td><td>0</td><td>0</td></tr>\n",
       "\t<tr><th scope=row>18</th><td>IMP_DELINQ </td><td></td><td>18</td><td>double </td><td>8</td><td>12</td><td></td><td>0</td><td>0</td></tr>\n",
       "\t<tr><th scope=row>19</th><td>IMP_DEROG  </td><td></td><td>19</td><td>double </td><td>8</td><td>12</td><td></td><td>0</td><td>0</td></tr>\n",
       "\t<tr><th scope=row>20</th><td>IMP_LOAN   </td><td></td><td>20</td><td>double </td><td>8</td><td>12</td><td></td><td>0</td><td>0</td></tr>\n",
       "\t<tr><th scope=row>21</th><td>IMP_MORTDUE</td><td></td><td>21</td><td>double </td><td>8</td><td>12</td><td></td><td>0</td><td>0</td></tr>\n",
       "\t<tr><th scope=row>22</th><td>IMP_NINQ   </td><td></td><td>22</td><td>double </td><td>8</td><td>12</td><td></td><td>0</td><td>0</td></tr>\n",
       "\t<tr><th scope=row>23</th><td>IMP_VALUE  </td><td></td><td>23</td><td>double </td><td>8</td><td>12</td><td></td><td>0</td><td>0</td></tr>\n",
       "\t<tr><th scope=row>24</th><td>IMP_YOJ    </td><td></td><td>24</td><td>double </td><td>8</td><td>12</td><td></td><td>0</td><td>0</td></tr>\n",
       "\t<tr><th scope=row>25</th><td>IMP_JOB    </td><td></td><td>25</td><td>varchar</td><td>7</td><td> 7</td><td></td><td>0</td><td>0</td></tr>\n",
       "\t<tr><th scope=row>26</th><td>IMP_REASON </td><td></td><td>26</td><td>varchar</td><td>7</td><td> 7</td><td></td><td>0</td><td>0</td></tr>\n",
       "</tbody>\n",
       "</table>\n"
      ],
      "text/latex": [
       "A casDataFrame: 26 × 9\n",
       "\\begin{tabular}{r|lllllllll}\n",
       "  & Column & Label & ID & Type & RawLength & FormattedLength & Format & NFL & NFD\\\\\n",
       "  & <chr> & <chr> & <dbl> & <chr> & <int> & <int> & <chr> & <int> & <int>\\\\\n",
       "\\hline\n",
       "\t1 & BAD         &  &  1 & double  & 8 & 12 &  & 0 & 0\\\\\n",
       "\t2 & LOAN        &  &  2 & double  & 8 & 12 &  & 0 & 0\\\\\n",
       "\t3 & MORTDUE     &  &  3 & double  & 8 & 12 &  & 0 & 0\\\\\n",
       "\t4 & VALUE       &  &  4 & double  & 8 & 12 &  & 0 & 0\\\\\n",
       "\t5 & REASON      &  &  5 & varchar & 7 &  7 &  & 0 & 0\\\\\n",
       "\t6 & JOB         &  &  6 & varchar & 7 &  7 &  & 0 & 0\\\\\n",
       "\t7 & YOJ         &  &  7 & double  & 8 & 12 &  & 0 & 0\\\\\n",
       "\t8 & DEROG       &  &  8 & double  & 8 & 12 &  & 0 & 0\\\\\n",
       "\t9 & DELINQ      &  &  9 & double  & 8 & 12 &  & 0 & 0\\\\\n",
       "\t10 & CLAGE       &  & 10 & double  & 8 & 12 &  & 0 & 0\\\\\n",
       "\t11 & NINQ        &  & 11 & double  & 8 & 12 &  & 0 & 0\\\\\n",
       "\t12 & CLNO        &  & 12 & double  & 8 & 12 &  & 0 & 0\\\\\n",
       "\t13 & DEBTINC     &  & 13 & double  & 8 & 12 &  & 0 & 0\\\\\n",
       "\t14 & PARTIND     &  & 14 & double  & 8 & 12 &  & 0 & 0\\\\\n",
       "\t15 & IMP\\_CLAGE   &  & 15 & double  & 8 & 12 &  & 0 & 0\\\\\n",
       "\t16 & IMP\\_CLNO    &  & 16 & double  & 8 & 12 &  & 0 & 0\\\\\n",
       "\t17 & IMP\\_DEBTINC &  & 17 & double  & 8 & 12 &  & 0 & 0\\\\\n",
       "\t18 & IMP\\_DELINQ  &  & 18 & double  & 8 & 12 &  & 0 & 0\\\\\n",
       "\t19 & IMP\\_DEROG   &  & 19 & double  & 8 & 12 &  & 0 & 0\\\\\n",
       "\t20 & IMP\\_LOAN    &  & 20 & double  & 8 & 12 &  & 0 & 0\\\\\n",
       "\t21 & IMP\\_MORTDUE &  & 21 & double  & 8 & 12 &  & 0 & 0\\\\\n",
       "\t22 & IMP\\_NINQ    &  & 22 & double  & 8 & 12 &  & 0 & 0\\\\\n",
       "\t23 & IMP\\_VALUE   &  & 23 & double  & 8 & 12 &  & 0 & 0\\\\\n",
       "\t24 & IMP\\_YOJ     &  & 24 & double  & 8 & 12 &  & 0 & 0\\\\\n",
       "\t25 & IMP\\_JOB     &  & 25 & varchar & 7 &  7 &  & 0 & 0\\\\\n",
       "\t26 & IMP\\_REASON  &  & 26 & varchar & 7 &  7 &  & 0 & 0\\\\\n",
       "\\end{tabular}\n"
      ],
      "text/markdown": [
       "\n",
       "A casDataFrame: 26 × 9\n",
       "\n",
       "| <!--/--> | Column &lt;chr&gt; | Label &lt;chr&gt; | ID &lt;dbl&gt; | Type &lt;chr&gt; | RawLength &lt;int&gt; | FormattedLength &lt;int&gt; | Format &lt;chr&gt; | NFL &lt;int&gt; | NFD &lt;int&gt; |\n",
       "|---|---|---|---|---|---|---|---|---|---|\n",
       "| 1 | BAD         | <!----> |  1 | double  | 8 | 12 | <!----> | 0 | 0 |\n",
       "| 2 | LOAN        | <!----> |  2 | double  | 8 | 12 | <!----> | 0 | 0 |\n",
       "| 3 | MORTDUE     | <!----> |  3 | double  | 8 | 12 | <!----> | 0 | 0 |\n",
       "| 4 | VALUE       | <!----> |  4 | double  | 8 | 12 | <!----> | 0 | 0 |\n",
       "| 5 | REASON      | <!----> |  5 | varchar | 7 |  7 | <!----> | 0 | 0 |\n",
       "| 6 | JOB         | <!----> |  6 | varchar | 7 |  7 | <!----> | 0 | 0 |\n",
       "| 7 | YOJ         | <!----> |  7 | double  | 8 | 12 | <!----> | 0 | 0 |\n",
       "| 8 | DEROG       | <!----> |  8 | double  | 8 | 12 | <!----> | 0 | 0 |\n",
       "| 9 | DELINQ      | <!----> |  9 | double  | 8 | 12 | <!----> | 0 | 0 |\n",
       "| 10 | CLAGE       | <!----> | 10 | double  | 8 | 12 | <!----> | 0 | 0 |\n",
       "| 11 | NINQ        | <!----> | 11 | double  | 8 | 12 | <!----> | 0 | 0 |\n",
       "| 12 | CLNO        | <!----> | 12 | double  | 8 | 12 | <!----> | 0 | 0 |\n",
       "| 13 | DEBTINC     | <!----> | 13 | double  | 8 | 12 | <!----> | 0 | 0 |\n",
       "| 14 | PARTIND     | <!----> | 14 | double  | 8 | 12 | <!----> | 0 | 0 |\n",
       "| 15 | IMP_CLAGE   | <!----> | 15 | double  | 8 | 12 | <!----> | 0 | 0 |\n",
       "| 16 | IMP_CLNO    | <!----> | 16 | double  | 8 | 12 | <!----> | 0 | 0 |\n",
       "| 17 | IMP_DEBTINC | <!----> | 17 | double  | 8 | 12 | <!----> | 0 | 0 |\n",
       "| 18 | IMP_DELINQ  | <!----> | 18 | double  | 8 | 12 | <!----> | 0 | 0 |\n",
       "| 19 | IMP_DEROG   | <!----> | 19 | double  | 8 | 12 | <!----> | 0 | 0 |\n",
       "| 20 | IMP_LOAN    | <!----> | 20 | double  | 8 | 12 | <!----> | 0 | 0 |\n",
       "| 21 | IMP_MORTDUE | <!----> | 21 | double  | 8 | 12 | <!----> | 0 | 0 |\n",
       "| 22 | IMP_NINQ    | <!----> | 22 | double  | 8 | 12 | <!----> | 0 | 0 |\n",
       "| 23 | IMP_VALUE   | <!----> | 23 | double  | 8 | 12 | <!----> | 0 | 0 |\n",
       "| 24 | IMP_YOJ     | <!----> | 24 | double  | 8 | 12 | <!----> | 0 | 0 |\n",
       "| 25 | IMP_JOB     | <!----> | 25 | varchar | 7 |  7 | <!----> | 0 | 0 |\n",
       "| 26 | IMP_REASON  | <!----> | 26 | varchar | 7 |  7 | <!----> | 0 | 0 |\n",
       "\n"
      ],
      "text/plain": [
       "   Column      Label ID Type    RawLength FormattedLength Format NFL NFD\n",
       "1  BAD                1 double  8         12                     0   0  \n",
       "2  LOAN               2 double  8         12                     0   0  \n",
       "3  MORTDUE            3 double  8         12                     0   0  \n",
       "4  VALUE              4 double  8         12                     0   0  \n",
       "5  REASON             5 varchar 7          7                     0   0  \n",
       "6  JOB                6 varchar 7          7                     0   0  \n",
       "7  YOJ                7 double  8         12                     0   0  \n",
       "8  DEROG              8 double  8         12                     0   0  \n",
       "9  DELINQ             9 double  8         12                     0   0  \n",
       "10 CLAGE             10 double  8         12                     0   0  \n",
       "11 NINQ              11 double  8         12                     0   0  \n",
       "12 CLNO              12 double  8         12                     0   0  \n",
       "13 DEBTINC           13 double  8         12                     0   0  \n",
       "14 PARTIND           14 double  8         12                     0   0  \n",
       "15 IMP_CLAGE         15 double  8         12                     0   0  \n",
       "16 IMP_CLNO          16 double  8         12                     0   0  \n",
       "17 IMP_DEBTINC       17 double  8         12                     0   0  \n",
       "18 IMP_DELINQ        18 double  8         12                     0   0  \n",
       "19 IMP_DEROG         19 double  8         12                     0   0  \n",
       "20 IMP_LOAN          20 double  8         12                     0   0  \n",
       "21 IMP_MORTDUE       21 double  8         12                     0   0  \n",
       "22 IMP_NINQ          22 double  8         12                     0   0  \n",
       "23 IMP_VALUE         23 double  8         12                     0   0  \n",
       "24 IMP_YOJ           24 double  8         12                     0   0  \n",
       "25 IMP_JOB           25 varchar 7          7                     0   0  \n",
       "26 IMP_REASON        26 varchar 7          7                     0   0  "
      ]
     },
     "metadata": {},
     "output_type": "display_data"
    },
    {
     "data": {
      "text/html": [
       "'BAD'"
      ],
      "text/latex": [
       "'BAD'"
      ],
      "text/markdown": [
       "'BAD'"
      ],
      "text/plain": [
       "[1] \"BAD\""
      ]
     },
     "metadata": {},
     "output_type": "display_data"
    },
    {
     "data": {
      "text/html": [
       "<style>\n",
       ".list-inline {list-style: none; margin:0; padding: 0}\n",
       ".list-inline>li {display: inline-block}\n",
       ".list-inline>li:not(:last-child)::after {content: \"\\00b7\"; padding: 0 .5ex}\n",
       "</style>\n",
       "<ol class=list-inline><li>'IMP_CLAGE'</li><li>'IMP_CLNO'</li><li>'IMP_DEBTINC'</li><li>'IMP_DELINQ'</li><li>'IMP_DEROG'</li><li>'IMP_LOAN'</li><li>'IMP_MORTDUE'</li><li>'IMP_NINQ'</li><li>'IMP_VALUE'</li><li>'IMP_YOJ'</li><li>'IMP_JOB'</li><li>'IMP_REASON'</li></ol>\n"
      ],
      "text/latex": [
       "\\begin{enumerate*}\n",
       "\\item 'IMP\\_CLAGE'\n",
       "\\item 'IMP\\_CLNO'\n",
       "\\item 'IMP\\_DEBTINC'\n",
       "\\item 'IMP\\_DELINQ'\n",
       "\\item 'IMP\\_DEROG'\n",
       "\\item 'IMP\\_LOAN'\n",
       "\\item 'IMP\\_MORTDUE'\n",
       "\\item 'IMP\\_NINQ'\n",
       "\\item 'IMP\\_VALUE'\n",
       "\\item 'IMP\\_YOJ'\n",
       "\\item 'IMP\\_JOB'\n",
       "\\item 'IMP\\_REASON'\n",
       "\\end{enumerate*}\n"
      ],
      "text/markdown": [
       "1. 'IMP_CLAGE'\n",
       "2. 'IMP_CLNO'\n",
       "3. 'IMP_DEBTINC'\n",
       "4. 'IMP_DELINQ'\n",
       "5. 'IMP_DEROG'\n",
       "6. 'IMP_LOAN'\n",
       "7. 'IMP_MORTDUE'\n",
       "8. 'IMP_NINQ'\n",
       "9. 'IMP_VALUE'\n",
       "10. 'IMP_YOJ'\n",
       "11. 'IMP_JOB'\n",
       "12. 'IMP_REASON'\n",
       "\n",
       "\n"
      ],
      "text/plain": [
       " [1] \"IMP_CLAGE\"   \"IMP_CLNO\"    \"IMP_DEBTINC\" \"IMP_DELINQ\"  \"IMP_DEROG\"  \n",
       " [6] \"IMP_LOAN\"    \"IMP_MORTDUE\" \"IMP_NINQ\"    \"IMP_VALUE\"   \"IMP_YOJ\"    \n",
       "[11] \"IMP_JOB\"     \"IMP_REASON\" "
      ]
     },
     "metadata": {},
     "output_type": "display_data"
    },
    {
     "data": {
      "text/html": [
       "<style>\n",
       ".list-inline {list-style: none; margin:0; padding: 0}\n",
       ".list-inline>li {display: inline-block}\n",
       ".list-inline>li:not(:last-child)::after {content: \"\\00b7\"; padding: 0 .5ex}\n",
       "</style>\n",
       "<ol class=list-inline><li>'BAD'</li><li>'IMP_JOB'</li><li>'IMP_REASON'</li></ol>\n"
      ],
      "text/latex": [
       "\\begin{enumerate*}\n",
       "\\item 'BAD'\n",
       "\\item 'IMP\\_JOB'\n",
       "\\item 'IMP\\_REASON'\n",
       "\\end{enumerate*}\n"
      ],
      "text/markdown": [
       "1. 'BAD'\n",
       "2. 'IMP_JOB'\n",
       "3. 'IMP_REASON'\n",
       "\n",
       "\n"
      ],
      "text/plain": [
       "[1] \"BAD\"        \"IMP_JOB\"    \"IMP_REASON\""
      ]
     },
     "metadata": {},
     "output_type": "display_data"
    }
   ],
   "source": [
    "colinfo = cas.table.columnInfo(conn, table=list(name = \"train\"))$ColumnInfo \n",
    "colinfo\n",
    "\n",
    "target = colinfo$Column[1] \n",
    "\n",
    "inputs = colinfo$Column[-1] \n",
    "nominals = c(target, subset(colinfo, Type == 'varchar')$Column) \n",
    "\n",
    "inputs = grep('IMP_', inputs, value = T) \n",
    "nominals = c(target, grep('IMP_', nominals, value = T)) \n",
    "\n",
    "target \n",
    "inputs \n",
    "nominals"
   ]
  },
  {
   "cell_type": "markdown",
   "metadata": {},
   "source": [
    "# Dimension Reduction"
   ]
  },
  {
   "cell_type": "code",
   "execution_count": 19,
   "metadata": {},
   "outputs": [
    {
     "name": "stderr",
     "output_type": "stream",
     "text": [
      "NOTE: Added action set 'varReduce'.\n",
      "\n",
      "NOTE: Information for action set 'varReduce':\n",
      "\n",
      "NOTE:    varReduce\n",
      "\n",
      "NOTE:       unsuper - Provides an action for performing unsupervised dimension reduction\n",
      "\n",
      "NOTE:       super - Provides an action for performing supervised dimension reduction\n",
      "\n"
     ]
    }
   ],
   "source": [
    "loadActionSet(conn, 'varReduce')"
   ]
  },
  {
   "cell_type": "code",
   "execution_count": 20,
   "metadata": {},
   "outputs": [],
   "source": [
    "varReduce_obj = cas.varReduce.unsuper(conn,\n",
    "    table = list(name = \"train\"),\n",
    "    inputs = inputs,\n",
    "    nominals = nominals[-1],\n",
    "    varexp = 0.95\n",
    ")"
   ]
  },
  {
   "cell_type": "code",
   "execution_count": 21,
   "metadata": {},
   "outputs": [
    {
     "data": {
      "text/html": [
       "<style>\n",
       ".list-inline {list-style: none; margin:0; padding: 0}\n",
       ".list-inline>li {display: inline-block}\n",
       ".list-inline>li:not(:last-child)::after {content: \"\\00b7\"; padding: 0 .5ex}\n",
       "</style>\n",
       "<ol class=list-inline><li>'IMP_VALUE'</li><li>'IMP_REASON'</li><li>'IMP_JOB'</li><li>'IMP_DEROG'</li><li>'IMP_YOJ'</li><li>'IMP_DEBTINC'</li><li>'IMP_DELINQ'</li><li>'IMP_CLAGE'</li><li>'IMP_NINQ'</li><li>'IMP_LOAN'</li><li>'IMP_CLNO'</li></ol>\n"
      ],
      "text/latex": [
       "\\begin{enumerate*}\n",
       "\\item 'IMP\\_VALUE'\n",
       "\\item 'IMP\\_REASON'\n",
       "\\item 'IMP\\_JOB'\n",
       "\\item 'IMP\\_DEROG'\n",
       "\\item 'IMP\\_YOJ'\n",
       "\\item 'IMP\\_DEBTINC'\n",
       "\\item 'IMP\\_DELINQ'\n",
       "\\item 'IMP\\_CLAGE'\n",
       "\\item 'IMP\\_NINQ'\n",
       "\\item 'IMP\\_LOAN'\n",
       "\\item 'IMP\\_CLNO'\n",
       "\\end{enumerate*}\n"
      ],
      "text/markdown": [
       "1. 'IMP_VALUE'\n",
       "2. 'IMP_REASON'\n",
       "3. 'IMP_JOB'\n",
       "4. 'IMP_DEROG'\n",
       "5. 'IMP_YOJ'\n",
       "6. 'IMP_DEBTINC'\n",
       "7. 'IMP_DELINQ'\n",
       "8. 'IMP_CLAGE'\n",
       "9. 'IMP_NINQ'\n",
       "10. 'IMP_LOAN'\n",
       "11. 'IMP_CLNO'\n",
       "\n",
       "\n"
      ],
      "text/plain": [
       " [1] \"IMP_VALUE\"   \"IMP_REASON\"  \"IMP_JOB\"     \"IMP_DEROG\"   \"IMP_YOJ\"    \n",
       " [6] \"IMP_DEBTINC\" \"IMP_DELINQ\"  \"IMP_CLAGE\"   \"IMP_NINQ\"    \"IMP_LOAN\"   \n",
       "[11] \"IMP_CLNO\"   "
      ]
     },
     "metadata": {},
     "output_type": "display_data"
    }
   ],
   "source": [
    "varReduce_inputs = varReduce_obj$'SelectedEffects'$'Variable'\n",
    "varReduce_inputs"
   ]
  },
  {
   "cell_type": "code",
   "execution_count": 22,
   "metadata": {},
   "outputs": [
    {
     "name": "stdout",
     "output_type": "stream",
     "text": [
      "[1] \"The variable IMP_MORTDUE was removed from the input list.\"\n"
     ]
    }
   ],
   "source": [
    "print(paste(\"The variable\", setdiff(inputs,varReduce_inputs), \"was removed from the input list.\"))"
   ]
  },
  {
   "cell_type": "markdown",
   "metadata": {},
   "source": [
    "# Logistic Regression"
   ]
  },
  {
   "cell_type": "code",
   "execution_count": 23,
   "metadata": {},
   "outputs": [
    {
     "name": "stderr",
     "output_type": "stream",
     "text": [
      "NOTE: Added action set 'regression'.\n",
      "\n",
      "NOTE: Information for action set 'regression':\n",
      "\n",
      "NOTE:    regression\n",
      "\n",
      "NOTE:       glm - Fits linear regression models using the method of least squares\n",
      "\n",
      "NOTE:       genmod - Fits generalized linear regression models\n",
      "\n",
      "NOTE:       logistic - Fits logistic regression models\n",
      "\n",
      "NOTE:       logisticType3 - computes Type 3 or Joint tests that all parameters for an effect are zero\n",
      "\n",
      "NOTE:       logisticCode - writes SAS DATA step code for computing predicted values of the fitted model\n",
      "\n",
      "NOTE:       genmodScore - creates a table on the server that contains results from scoring observations by using a fitted model\n",
      "\n",
      "NOTE:       logisticScore - creates a table on the server that contains results from scoring observations by using a fitted model\n",
      "\n",
      "NOTE:       glmScore - creates a table on the server that contains results from scoring observations by using a fitted model\n",
      "\n",
      "NOTE:       logisticAssociation - computes indices of rank correlation between predicted probabilities and observed responses used for assessing the predictive ability of a model\n",
      "\n",
      "NOTE:       logisticLackfit - computes the Hosmer and Lemeshow test\n",
      "\n",
      "NOTE:       logisticOddsRatio - creates a table that compares subpopulations by using odds ratios.\n",
      "\n",
      "NOTE:       modelMatrix - creates a table on the server that contains the design matrix associated with a given model statement.\n",
      "\n"
     ]
    }
   ],
   "source": [
    "loadActionSet(conn, 'regression')"
   ]
  },
  {
   "cell_type": "code",
   "execution_count": 24,
   "metadata": {},
   "outputs": [
    {
     "name": "stderr",
     "output_type": "stream",
     "text": [
      "NOTE: Convergence criterion (FCONV=1E-7) satisfied.\n",
      "\n",
      "NOTE: 451038 bytes were written to the table \"lr_model\" in the caslib \"CASUSER(jobake)\".\n",
      "\n"
     ]
    }
   ],
   "source": [
    "lr_model = cas.regression.logistic(conn,\n",
    "    table    = list(name = \"train\"),\n",
    "    classVars = nominals[-1],\n",
    "    model = list(depvar=target, effects=varReduce_inputs, dist='binomial', link='logit'),\n",
    "    store    = list(name='lr_model',replace=TRUE),\n",
    "    code = list(casOut = list(name = \"score_code_model\", replace = TRUE))\n",
    ")"
   ]
  },
  {
   "cell_type": "code",
   "execution_count": 25,
   "metadata": {},
   "outputs": [],
   "source": [
    "lr_score = cas.regression.logisticScore(conn,\n",
    "    table    = list(name = \"valid\"),\n",
    "    restore = \"lr_model\",\n",
    "    casout = list(name=\"lr_scored\", replace=TRUE),\n",
    "    copyVars = target\n",
    ")"
   ]
  },
  {
   "cell_type": "code",
   "execution_count": 26,
   "metadata": {},
   "outputs": [
    {
     "data": {
      "text/html": [
       "<strong>$Fetch</strong> = <table class=\"dataframe\">\n",
       "<caption>A casDataFrame: 3 × 22</caption>\n",
       "<thead>\n",
       "\t<tr><th></th><th scope=col>_Index_</th><th scope=col>_Column_</th><th scope=col>_Event_</th><th scope=col>_Depth_</th><th scope=col>_Value_</th><th scope=col>_NObs_</th><th scope=col>_NEvents_</th><th scope=col>_NEventsBest_</th><th scope=col>_Resp_</th><th scope=col>_RespBest_</th><th scope=col>⋯</th><th scope=col>_CumResp_</th><th scope=col>_CumRespBest_</th><th scope=col>_CumLift_</th><th scope=col>_CumLiftBest_</th><th scope=col>_PctResp_</th><th scope=col>_PctRespBest_</th><th scope=col>_CumPctResp_</th><th scope=col>_CumPctRespBest_</th><th scope=col>_Gain_</th><th scope=col>_GainBest_</th></tr>\n",
       "\t<tr><th></th><th scope=col>&lt;dbl&gt;</th><th scope=col>&lt;chr&gt;</th><th scope=col>&lt;chr&gt;</th><th scope=col>&lt;int&gt;</th><th scope=col>&lt;dbl&gt;</th><th scope=col>&lt;int&gt;</th><th scope=col>&lt;int&gt;</th><th scope=col>&lt;int&gt;</th><th scope=col>&lt;dbl&gt;</th><th scope=col>&lt;dbl&gt;</th><th scope=col>⋯</th><th scope=col>&lt;dbl&gt;</th><th scope=col>&lt;dbl&gt;</th><th scope=col>&lt;dbl&gt;</th><th scope=col>&lt;dbl&gt;</th><th scope=col>&lt;dbl&gt;</th><th scope=col>&lt;int&gt;</th><th scope=col>&lt;dbl&gt;</th><th scope=col>&lt;int&gt;</th><th scope=col>&lt;dbl&gt;</th><th scope=col>&lt;dbl&gt;</th></tr>\n",
       "</thead>\n",
       "<tbody>\n",
       "\t<tr><th scope=row>1</th><td>1</td><td>_PRED_</td><td>1</td><td> 5</td><td>0.7129149</td><td>90</td><td>72</td><td>90</td><td>21.884498</td><td>27.35562</td><td>⋯</td><td>21.88450</td><td>27.35562</td><td>4.376900</td><td>5.471125</td><td>80.00000</td><td>100</td><td>80.00000</td><td>100</td><td>3.376900</td><td>4.471125</td></tr>\n",
       "\t<tr><th scope=row>2</th><td>2</td><td>_PRED_</td><td>1</td><td>10</td><td>0.4322697</td><td>90</td><td>47</td><td>90</td><td>14.285714</td><td>27.35562</td><td>⋯</td><td>36.17021</td><td>54.71125</td><td>3.617021</td><td>5.471125</td><td>52.22222</td><td>100</td><td>66.11111</td><td>100</td><td>2.617021</td><td>4.471125</td></tr>\n",
       "\t<tr><th scope=row>3</th><td>3</td><td>_PRED_</td><td>1</td><td>15</td><td>0.3452950</td><td>90</td><td>32</td><td>90</td><td> 9.726444</td><td>27.35562</td><td>⋯</td><td>45.89666</td><td>82.06687</td><td>3.059777</td><td>5.471125</td><td>35.55556</td><td>100</td><td>55.92593</td><td>100</td><td>2.059777</td><td>4.471125</td></tr>\n",
       "</tbody>\n",
       "</table>\n"
      ],
      "text/latex": [
       "\\textbf{\\$Fetch} = A casDataFrame: 3 × 22\n",
       "\\begin{tabular}{r|lllllllllllllllllllll}\n",
       "  & \\_Index\\_ & \\_Column\\_ & \\_Event\\_ & \\_Depth\\_ & \\_Value\\_ & \\_NObs\\_ & \\_NEvents\\_ & \\_NEventsBest\\_ & \\_Resp\\_ & \\_RespBest\\_ & ⋯ & \\_CumResp\\_ & \\_CumRespBest\\_ & \\_CumLift\\_ & \\_CumLiftBest\\_ & \\_PctResp\\_ & \\_PctRespBest\\_ & \\_CumPctResp\\_ & \\_CumPctRespBest\\_ & \\_Gain\\_ & \\_GainBest\\_\\\\\n",
       "  & <dbl> & <chr> & <chr> & <int> & <dbl> & <int> & <int> & <int> & <dbl> & <dbl> & ⋯ & <dbl> & <dbl> & <dbl> & <dbl> & <dbl> & <int> & <dbl> & <int> & <dbl> & <dbl>\\\\\n",
       "\\hline\n",
       "\t1 & 1 & \\_PRED\\_ & 1 &  5 & 0.7129149 & 90 & 72 & 90 & 21.884498 & 27.35562 & ⋯ & 21.88450 & 27.35562 & 4.376900 & 5.471125 & 80.00000 & 100 & 80.00000 & 100 & 3.376900 & 4.471125\\\\\n",
       "\t2 & 2 & \\_PRED\\_ & 1 & 10 & 0.4322697 & 90 & 47 & 90 & 14.285714 & 27.35562 & ⋯ & 36.17021 & 54.71125 & 3.617021 & 5.471125 & 52.22222 & 100 & 66.11111 & 100 & 2.617021 & 4.471125\\\\\n",
       "\t3 & 3 & \\_PRED\\_ & 1 & 15 & 0.3452950 & 90 & 32 & 90 &  9.726444 & 27.35562 & ⋯ & 45.89666 & 82.06687 & 3.059777 & 5.471125 & 35.55556 & 100 & 55.92593 & 100 & 2.059777 & 4.471125\\\\\n",
       "\\end{tabular}\n"
      ],
      "text/markdown": [
       "**$Fetch** = \n",
       "A casDataFrame: 3 × 22\n",
       "\n",
       "| <!--/--> | _Index_ &lt;dbl&gt; | _Column_ &lt;chr&gt; | _Event_ &lt;chr&gt; | _Depth_ &lt;int&gt; | _Value_ &lt;dbl&gt; | _NObs_ &lt;int&gt; | _NEvents_ &lt;int&gt; | _NEventsBest_ &lt;int&gt; | _Resp_ &lt;dbl&gt; | _RespBest_ &lt;dbl&gt; | ⋯ ⋯ | _CumResp_ &lt;dbl&gt; | _CumRespBest_ &lt;dbl&gt; | _CumLift_ &lt;dbl&gt; | _CumLiftBest_ &lt;dbl&gt; | _PctResp_ &lt;dbl&gt; | _PctRespBest_ &lt;int&gt; | _CumPctResp_ &lt;dbl&gt; | _CumPctRespBest_ &lt;int&gt; | _Gain_ &lt;dbl&gt; | _GainBest_ &lt;dbl&gt; |\n",
       "|---|---|---|---|---|---|---|---|---|---|---|---|---|---|---|---|---|---|---|---|---|---|\n",
       "| 1 | 1 | _PRED_ | 1 |  5 | 0.7129149 | 90 | 72 | 90 | 21.884498 | 27.35562 | ⋯ | 21.88450 | 27.35562 | 4.376900 | 5.471125 | 80.00000 | 100 | 80.00000 | 100 | 3.376900 | 4.471125 |\n",
       "| 2 | 2 | _PRED_ | 1 | 10 | 0.4322697 | 90 | 47 | 90 | 14.285714 | 27.35562 | ⋯ | 36.17021 | 54.71125 | 3.617021 | 5.471125 | 52.22222 | 100 | 66.11111 | 100 | 2.617021 | 4.471125 |\n",
       "| 3 | 3 | _PRED_ | 1 | 15 | 0.3452950 | 90 | 32 | 90 |  9.726444 | 27.35562 | ⋯ | 45.89666 | 82.06687 | 3.059777 | 5.471125 | 35.55556 | 100 | 55.92593 | 100 | 2.059777 | 4.471125 |\n",
       "\n"
      ],
      "text/plain": [
       "$Fetch\n",
       "  _Index_ _Column_ _Event_ _Depth_   _Value_ _NObs_ _NEvents_ _NEventsBest_\n",
       "1       1   _PRED_       1       5 0.7129149     90        72            90\n",
       "2       2   _PRED_       1      10 0.4322697     90        47            90\n",
       "3       3   _PRED_       1      15 0.3452950     90        32            90\n",
       "     _Resp_ _RespBest_   _Lift_ _LiftBest_ _CumResp_ _CumRespBest_ _CumLift_\n",
       "1 21.884498   27.35562 4.376900   5.471125  21.88450      27.35562  4.376900\n",
       "2 14.285714   27.35562 2.857143   5.471125  36.17021      54.71125  3.617021\n",
       "3  9.726444   27.35562 1.945289   5.471125  45.89666      82.06687  3.059777\n",
       "  _CumLiftBest_ _PctResp_ _PctRespBest_ _CumPctResp_ _CumPctRespBest_   _Gain_\n",
       "1      5.471125  80.00000           100     80.00000              100 3.376900\n",
       "2      5.471125  52.22222           100     66.11111              100 2.617021\n",
       "3      5.471125  35.55556           100     55.92593              100 2.059777\n",
       "  _GainBest_\n",
       "1   4.471125\n",
       "2   4.471125\n",
       "3   4.471125\n"
      ]
     },
     "metadata": {},
     "output_type": "display_data"
    },
    {
     "data": {
      "text/html": [
       "<strong>$Fetch</strong> = <table class=\"dataframe\">\n",
       "<caption>A casDataFrame: 3 × 23</caption>\n",
       "<thead>\n",
       "\t<tr><th></th><th scope=col>_Index_</th><th scope=col>_Column_</th><th scope=col>_Event_</th><th scope=col>_Cutoff_</th><th scope=col>_TP_</th><th scope=col>_FP_</th><th scope=col>_FN_</th><th scope=col>_TN_</th><th scope=col>_Sensitivity_</th><th scope=col>_Specificity_</th><th scope=col>⋯</th><th scope=col>_FPR_</th><th scope=col>_ACC_</th><th scope=col>_FDR_</th><th scope=col>_F1_</th><th scope=col>_C_</th><th scope=col>_GINI_</th><th scope=col>_GAMMA_</th><th scope=col>_TAU_</th><th scope=col>_MiscEvent_</th><th scope=col>_FNR_</th></tr>\n",
       "\t<tr><th></th><th scope=col>&lt;dbl&gt;</th><th scope=col>&lt;chr&gt;</th><th scope=col>&lt;chr&gt;</th><th scope=col>&lt;dbl&gt;</th><th scope=col>&lt;int&gt;</th><th scope=col>&lt;int&gt;</th><th scope=col>&lt;int&gt;</th><th scope=col>&lt;int&gt;</th><th scope=col>&lt;dbl&gt;</th><th scope=col>&lt;dbl&gt;</th><th scope=col>⋯</th><th scope=col>&lt;dbl&gt;</th><th scope=col>&lt;dbl&gt;</th><th scope=col>&lt;dbl&gt;</th><th scope=col>&lt;dbl&gt;</th><th scope=col>&lt;dbl&gt;</th><th scope=col>&lt;dbl&gt;</th><th scope=col>&lt;dbl&gt;</th><th scope=col>&lt;dbl&gt;</th><th scope=col>&lt;dbl&gt;</th><th scope=col>&lt;dbl&gt;</th></tr>\n",
       "</thead>\n",
       "<tbody>\n",
       "\t<tr><th scope=row>1</th><td>1</td><td>_PRED_</td><td>1</td><td>0.00</td><td>329</td><td>1459</td><td>0</td><td> 0</td><td>1.0000000</td><td>0.000000000</td><td>⋯</td><td>1.0000000</td><td>0.1840045</td><td>0.8159955</td><td>0.3108172</td><td>0.8107793</td><td>0.6215587</td><td>0.6310852</td><td>0.1867546</td><td>0.8159955</td><td>0.000000000</td></tr>\n",
       "\t<tr><th scope=row>2</th><td>2</td><td>_PRED_</td><td>1</td><td>0.01</td><td>328</td><td>1450</td><td>1</td><td> 9</td><td>0.9969605</td><td>0.006168609</td><td>⋯</td><td>0.9938314</td><td>0.1884787</td><td>0.8155231</td><td>0.3113431</td><td>0.8107793</td><td>0.6215587</td><td>0.6310852</td><td>0.1867546</td><td>0.8115213</td><td>0.003039514</td></tr>\n",
       "\t<tr><th scope=row>3</th><td>3</td><td>_PRED_</td><td>1</td><td>0.02</td><td>328</td><td>1437</td><td>1</td><td>22</td><td>0.9969605</td><td>0.015078821</td><td>⋯</td><td>0.9849212</td><td>0.1957494</td><td>0.8141643</td><td>0.3132760</td><td>0.8107793</td><td>0.6215587</td><td>0.6310852</td><td>0.1867546</td><td>0.8042506</td><td>0.003039514</td></tr>\n",
       "</tbody>\n",
       "</table>\n"
      ],
      "text/latex": [
       "\\textbf{\\$Fetch} = A casDataFrame: 3 × 23\n",
       "\\begin{tabular}{r|lllllllllllllllllllll}\n",
       "  & \\_Index\\_ & \\_Column\\_ & \\_Event\\_ & \\_Cutoff\\_ & \\_TP\\_ & \\_FP\\_ & \\_FN\\_ & \\_TN\\_ & \\_Sensitivity\\_ & \\_Specificity\\_ & ⋯ & \\_FPR\\_ & \\_ACC\\_ & \\_FDR\\_ & \\_F1\\_ & \\_C\\_ & \\_GINI\\_ & \\_GAMMA\\_ & \\_TAU\\_ & \\_MiscEvent\\_ & \\_FNR\\_\\\\\n",
       "  & <dbl> & <chr> & <chr> & <dbl> & <int> & <int> & <int> & <int> & <dbl> & <dbl> & ⋯ & <dbl> & <dbl> & <dbl> & <dbl> & <dbl> & <dbl> & <dbl> & <dbl> & <dbl> & <dbl>\\\\\n",
       "\\hline\n",
       "\t1 & 1 & \\_PRED\\_ & 1 & 0.00 & 329 & 1459 & 0 &  0 & 1.0000000 & 0.000000000 & ⋯ & 1.0000000 & 0.1840045 & 0.8159955 & 0.3108172 & 0.8107793 & 0.6215587 & 0.6310852 & 0.1867546 & 0.8159955 & 0.000000000\\\\\n",
       "\t2 & 2 & \\_PRED\\_ & 1 & 0.01 & 328 & 1450 & 1 &  9 & 0.9969605 & 0.006168609 & ⋯ & 0.9938314 & 0.1884787 & 0.8155231 & 0.3113431 & 0.8107793 & 0.6215587 & 0.6310852 & 0.1867546 & 0.8115213 & 0.003039514\\\\\n",
       "\t3 & 3 & \\_PRED\\_ & 1 & 0.02 & 328 & 1437 & 1 & 22 & 0.9969605 & 0.015078821 & ⋯ & 0.9849212 & 0.1957494 & 0.8141643 & 0.3132760 & 0.8107793 & 0.6215587 & 0.6310852 & 0.1867546 & 0.8042506 & 0.003039514\\\\\n",
       "\\end{tabular}\n"
      ],
      "text/markdown": [
       "**$Fetch** = \n",
       "A casDataFrame: 3 × 23\n",
       "\n",
       "| <!--/--> | _Index_ &lt;dbl&gt; | _Column_ &lt;chr&gt; | _Event_ &lt;chr&gt; | _Cutoff_ &lt;dbl&gt; | _TP_ &lt;int&gt; | _FP_ &lt;int&gt; | _FN_ &lt;int&gt; | _TN_ &lt;int&gt; | _Sensitivity_ &lt;dbl&gt; | _Specificity_ &lt;dbl&gt; | ⋯ ⋯ | _FPR_ &lt;dbl&gt; | _ACC_ &lt;dbl&gt; | _FDR_ &lt;dbl&gt; | _F1_ &lt;dbl&gt; | _C_ &lt;dbl&gt; | _GINI_ &lt;dbl&gt; | _GAMMA_ &lt;dbl&gt; | _TAU_ &lt;dbl&gt; | _MiscEvent_ &lt;dbl&gt; | _FNR_ &lt;dbl&gt; |\n",
       "|---|---|---|---|---|---|---|---|---|---|---|---|---|---|---|---|---|---|---|---|---|---|\n",
       "| 1 | 1 | _PRED_ | 1 | 0.00 | 329 | 1459 | 0 |  0 | 1.0000000 | 0.000000000 | ⋯ | 1.0000000 | 0.1840045 | 0.8159955 | 0.3108172 | 0.8107793 | 0.6215587 | 0.6310852 | 0.1867546 | 0.8159955 | 0.000000000 |\n",
       "| 2 | 2 | _PRED_ | 1 | 0.01 | 328 | 1450 | 1 |  9 | 0.9969605 | 0.006168609 | ⋯ | 0.9938314 | 0.1884787 | 0.8155231 | 0.3113431 | 0.8107793 | 0.6215587 | 0.6310852 | 0.1867546 | 0.8115213 | 0.003039514 |\n",
       "| 3 | 3 | _PRED_ | 1 | 0.02 | 328 | 1437 | 1 | 22 | 0.9969605 | 0.015078821 | ⋯ | 0.9849212 | 0.1957494 | 0.8141643 | 0.3132760 | 0.8107793 | 0.6215587 | 0.6310852 | 0.1867546 | 0.8042506 | 0.003039514 |\n",
       "\n"
      ],
      "text/plain": [
       "$Fetch\n",
       "  _Index_ _Column_ _Event_ _Cutoff_ _TP_ _FP_ _FN_ _TN_ _Sensitivity_\n",
       "1       1   _PRED_       1     0.00  329 1459    0    0     1.0000000\n",
       "2       2   _PRED_       1     0.01  328 1450    1    9     0.9969605\n",
       "3       3   _PRED_       1     0.02  328 1437    1   22     0.9969605\n",
       "  _Specificity_ _KS_       _KS2_   _FHALF_     _FPR_     _ACC_     _FDR_\n",
       "1   0.000000000    0 0.000000000 0.2198904 1.0000000 0.1840045 0.8159955\n",
       "2   0.006168609    0 0.003129095 0.2204005 0.9938314 0.1884787 0.8155231\n",
       "3   0.015078821    0 0.012039307 0.2219515 0.9849212 0.1957494 0.8141643\n",
       "       _F1_       _C_    _GINI_   _GAMMA_     _TAU_ _MiscEvent_       _FNR_\n",
       "1 0.3108172 0.8107793 0.6215587 0.6310852 0.1867546   0.8159955 0.000000000\n",
       "2 0.3113431 0.8107793 0.6215587 0.6310852 0.1867546   0.8115213 0.003039514\n",
       "3 0.3132760 0.8107793 0.6215587 0.6310852 0.1867546   0.8042506 0.003039514\n"
      ]
     },
     "metadata": {},
     "output_type": "display_data"
    }
   ],
   "source": [
    "lr_assess = cas.percentile.assess(conn,\n",
    "   table = 'lr_scored',\n",
    "   inputs = \"_PRED_\",\n",
    "   casout = list(name=\"lr_assess\", replace=TRUE),\n",
    "   response = target,\n",
    "   event = \"1\"\n",
    ")\n",
    "\n",
    "cas.table.fetch(conn, table=\"lr_assess\", to=3)\n",
    "cas.table.fetch(conn, table=\"lr_assess_ROC\", to=3)"
   ]
  },
  {
   "cell_type": "code",
   "execution_count": 27,
   "metadata": {},
   "outputs": [
    {
     "data": {
      "text/html": [
       "<table class=\"dataframe\">\n",
       "<caption>A data.frame: 1 × 3</caption>\n",
       "<thead>\n",
       "\t<tr><th scope=col>Model</th><th scope=col>Misclassification</th><th scope=col>Area_Under_Curve</th></tr>\n",
       "\t<tr><th scope=col>&lt;chr&gt;</th><th scope=col>&lt;dbl&gt;</th><th scope=col>&lt;dbl&gt;</th></tr>\n",
       "</thead>\n",
       "<tbody>\n",
       "\t<tr><td>Logistic Regression CAS</td><td>0.1482103</td><td>0.8107793</td></tr>\n",
       "</tbody>\n",
       "</table>\n"
      ],
      "text/latex": [
       "A data.frame: 1 × 3\n",
       "\\begin{tabular}{lll}\n",
       " Model & Misclassification & Area\\_Under\\_Curve\\\\\n",
       " <chr> & <dbl> & <dbl>\\\\\n",
       "\\hline\n",
       "\t Logistic Regression CAS & 0.1482103 & 0.8107793\\\\\n",
       "\\end{tabular}\n"
      ],
      "text/markdown": [
       "\n",
       "A data.frame: 1 × 3\n",
       "\n",
       "| Model &lt;chr&gt; | Misclassification &lt;dbl&gt; | Area_Under_Curve &lt;dbl&gt; |\n",
       "|---|---|---|\n",
       "| Logistic Regression CAS | 0.1482103 | 0.8107793 |\n",
       "\n"
      ],
      "text/plain": [
       "  Model                   Misclassification Area_Under_Curve\n",
       "1 Logistic Regression CAS 0.1482103         0.8107793       "
      ]
     },
     "metadata": {},
     "output_type": "display_data"
    }
   ],
   "source": [
    "lr_assess_ROC = defCasTable(conn, tablename = \"lr_assess_ROC\")\n",
    "lr_assess_ROC = to.casDataFrame(lr_assess_ROC)\n",
    "cutoff_index = round(lr_assess_ROC[,\"_Cutoff_\"],2)==0.5\n",
    "lr_assess_ROC = lr_assess_ROC[cutoff_index,]\n",
    "lr_metrics_cas = data.frame(\"Model\"=\"Logistic Regression CAS\", \"Misclassification\"=1-lr_assess_ROC[1,\"_ACC_\"], \"Area_Under_Curve\"=lr_assess_ROC[1,\"_C_\"])\n",
    "lr_metrics_cas"
   ]
  },
  {
   "cell_type": "markdown",
   "metadata": {},
   "source": [
    "# Get Pipeline DATA Step Score Code"
   ]
  },
  {
   "cell_type": "code",
   "execution_count": 28,
   "metadata": {},
   "outputs": [],
   "source": [
    "sc1 = cas.dataStep.runCode(conn, code=\"\n",
    "    data score_code_impute (keep = DataStepSrc);\n",
    "        set score_code_impute;\n",
    "    run;\n",
    "\"\n",
    ")\n",
    "\n",
    "score_code_impute = defCasTable(conn, tablename = \"score_code_impute\")\n",
    "score_code_impute = to.casDataFrame(score_code_impute)"
   ]
  },
  {
   "cell_type": "code",
   "execution_count": 29,
   "metadata": {},
   "outputs": [],
   "source": [
    "sc2 = cas.dataStep.runCode(conn, code=\"\n",
    "    data score_code_model (keep = DataStepSrc);\n",
    "        set score_code_model;\n",
    "    run;\n",
    "\"\n",
    ")\n",
    "\n",
    "score_code_model = defCasTable(conn, tablename = \"score_code_model\")\n",
    "score_code_model = to.casDataFrame(score_code_model)"
   ]
  },
  {
   "cell_type": "code",
   "execution_count": 30,
   "metadata": {},
   "outputs": [
    {
     "name": "stdout",
     "output_type": "stream",
     "text": [
      "   _ngbys_ = 1;\n",
      "   _igby_ = 0;\n",
      "   _tnn_ntrans_ = 1;\n",
      "\n",
      "   _fuzcmp_ = 2.22044604925e-10;\n",
      "\n",
      "   array _tnn_vnames_{10}  _temporary_ ; \n",
      "   _tnn_vnames_{1} = IMP_LOAN; \n",
      "   _tnn_vnames_{2} = IMP_MORTDUE; \n",
      "   _tnn_vnames_{3} = IMP_VALUE; \n",
      "   _tnn_vnames_{4} = IMP_YOJ; \n",
      "   _tnn_vnames_{5} = IMP_DEROG; \n",
      "   _tnn_vnames_{6} = IMP_DELINQ; \n",
      "   _tnn_vnames_{7} = IMP_CLAGE; \n",
      "   _tnn_vnames_{8} = IMP_NINQ; \n",
      "   _tnn_vnames_{9} = IMP_CLNO; \n",
      "   _tnn_vnames_{10} = IMP_DEBTINC; \n",
      "\n",
      "   array _vnn_names_{10} _temporary_; \n",
      "   _vnn_names_{1} = CLAGE; \n",
      "   _vnn_names_{2} = CLNO; \n",
      "   _vnn_names_{3} = DEBTINC; \n",
      "   _vnn_names_{4} = DELINQ; \n",
      "   _vnn_names_{5} = DEROG; \n",
      "   _vnn_names_{6} = LOAN; \n",
      "   _vnn_names_{7} = MORTDUE; \n",
      "   _vnn_names_{8} = NINQ; \n",
      "   _vnn_names_{9} = VALUE; \n",
      "   _vnn_names_{10} = YOJ; \n",
      "\n",
      "   array _tnn_ntransvars_{1}  _temporary_   (10 ); \n",
      "\n",
      "\n",
      "   array _tv_nn_indices_{10}  _temporary_   (6 7 9 10 5 4 1 8 2 3 ); \n",
      "\n",
      "   IMP_LOAN = .;\n",
      "   IMP_MORTDUE = .;\n",
      "   IMP_VALUE = .;\n",
      "   IMP_YOJ = .;\n",
      "   IMP_DEROG = .;\n",
      "   IMP_DELINQ = .;\n",
      "   IMP_CLAGE = .;\n",
      "   IMP_NINQ = .;\n",
      "   IMP_CLNO = .;\n",
      "   IMP_DEBTINC = .;\n",
      "\n",
      "   array _tnn_imputetype_{1}   _temporary_   (2 ); \n",
      "\n",
      "\n",
      "   array _tnn_imputeuniquevals_{10}   _temporary_   (16400 65608.5 89453 7 0 0 171.95835108947 1 20 34.9470765807885 \n",
      "      ); \n",
      "\n",
      "   _ct_ = 0;\n",
      "   _trimmed_ = 0;\n",
      "   _impct_ = 0;\n",
      "\n",
      "   do _i_ = 1 to _tnn_ntrans_;\n",
      "      do _j_ = 1 to _tnn_ntransvars_{_i_};\n",
      "\n",
      "         if (_tnn_imputetype_{_i_} ~= 0) then\n",
      "            _impct_ + 1;\n",
      "         _ct_ + 1;\n",
      "         _numval_ = _vnn_names_{_tv_nn_indices_{_ct_}};\n",
      "\n",
      "         if missing(_numval_) then\n",
      "            do;\n",
      "               if _tnn_imputetype_{_i_} = 0 then\n",
      "                  goto _impute_done1_;\n",
      "\n",
      "               else _numval_ = _tnn_imputeuniquevals_{10 *_igby_ + _impct_};\n",
      "            end;\n",
      "         _impute_done1_:;\n",
      "         _tnn_vnames_{_ct_} = _numval_;\n",
      "      end;\n",
      "   end;\n",
      "\n",
      "   IMP_LOAN = _tnn_vnames_{1}; \n",
      "   IMP_MORTDUE = _tnn_vnames_{2}; \n",
      "   IMP_VALUE = _tnn_vnames_{3}; \n",
      "   IMP_YOJ = _tnn_vnames_{4}; \n",
      "   IMP_DEROG = _tnn_vnames_{5}; \n",
      "   IMP_DELINQ = _tnn_vnames_{6}; \n",
      "   IMP_CLAGE = _tnn_vnames_{7}; \n",
      "   IMP_NINQ = _tnn_vnames_{8}; \n",
      "   IMP_CLNO = _tnn_vnames_{9}; \n",
      "   IMP_DEBTINC = _tnn_vnames_{10}; \n",
      "   length  IMP_REASON varchar(*);\n",
      "   length  IMP_JOB varchar(*);\n",
      "   _tcc_ntrans_ = 1;\n",
      "\n",
      "   array _tcc_vnames_{2}  $ 7 _temporary_ ; \n",
      "   _tcc_vnames_{1} = IMP_REASON; \n",
      "   _tcc_vnames_{2} = IMP_JOB; \n",
      "\n",
      "\n",
      "   array _vcc_names_{2} $16 _temporary_; \n",
      "   _vcc_names_{1} = JOB; \n",
      "   _vcc_names_{2} = REASON; \n",
      "\n",
      "   array _tcc_ntransvars_{1}  _temporary_   (2 ); \n",
      "\n",
      "\n",
      "   array _tv_cc_indices_{2}  _temporary_   (2 1 ); \n",
      "\n",
      "   array _tcc_imputetype_{1}   _temporary_   (7 ); \n",
      "\n",
      "\n",
      "   array _tcc_imputeuniquevals_{2}   $7   _temporary_   ('DebtCon' 'Other' ); \n",
      "\n",
      "   _ct_ = 0;\n",
      "   _impct_ = 0;\n",
      "\n",
      "   do _i_ = 1 to _tcc_ntrans_;\n",
      "      do _j_ = 1 to _tcc_ntransvars_{_i_};\n",
      "\n",
      "         if (_tcc_imputetype_{_i_} ~= 0) then\n",
      "            _impct_ + 1;\n",
      "         _ct_ + 1;\n",
      "\n",
      "         length  _ccval_ $ 7;\n",
      "         _ccval_ = put(_vcc_names_{_tv_cc_indices_{_ct_}}, $7.);\n",
      "\n",
      "         if missing(_ccval_) then\n",
      "            do;\n",
      "               if _tcc_imputetype_{_i_} = 0 then\n",
      "                  goto _impute_done2_;\n",
      "               else _ccval_ = left(trim(_tcc_imputeuniquevals_{2 *_igby_ + _impct_}));\n",
      "            end;\n",
      "         _impute_done2_:;\n",
      "         _tcc_vnames_{_ct_} = _ccval_;\n",
      "      end;\n",
      "   end;\n",
      "\n",
      "   IMP_REASON = _tcc_vnames_{1}; \n",
      "   IMP_JOB = _tcc_vnames_{2}; \n",
      "\n",
      "   drop _ngbys_ _igby_ _tnn_ntrans_ _fuzcmp_ _ct_ _trimmed_ _impct_ _i_ _j_ _numval_ _tcc_ntrans_ _ccval_ ; \n",
      "\n",
      "\n",
      " \n",
      "\n",
      "\n",
      "\n",
      "\n",
      "\n",
      "\n",
      "\n",
      "\n",
      "\n",
      "    /*---------------------------------------------------------\n",
      "     Generated SAS Scoring Code\n",
      "     Date: 24May2023:14:27:14\n",
      "     -------------------------------------------------------*/\n",
      " \n",
      "   drop _badval_ _linp_ _temp_ _i_ _j_;\n",
      "   _badval_ = 0;\n",
      "   _linp_   = 0;\n",
      "   _temp_   = 0;\n",
      "   _i_      = 0;\n",
      "   _j_      = 0;\n",
      "   drop MACLOGBIG;\n",
      "   MACLOGBIG= 7.0978271289338392e+02;\n",
      " \n",
      "   array _xrow_0_0_{18} _temporary_;\n",
      "   array _beta_0_0_{18} _temporary_ (    -1.7188366599434\n",
      "          2.900771998323E-7\n",
      "          -0.18559444363936\n",
      "                          0\n",
      "          -0.80241651282392\n",
      "          -1.41855677851079\n",
      "          -0.75050105105748\n",
      "          -0.85055441387362\n",
      "           0.09871159760202\n",
      "                          0\n",
      "           0.56493595260128\n",
      "          -0.00410573035809\n",
      "           0.05964935629946\n",
      "           0.78417034636157\n",
      "          -0.00550549762376\n",
      "           0.18493173793143\n",
      "          -0.00001687992524\n",
      "           -0.0162584803158);\n",
      " \n",
      "   length _IMP_JOB_ $7; drop _IMP_JOB_;\n",
      "   _IMP_JOB_ = left(trim(put(IMP_JOB,$7.)));\n",
      "   length _IMP_REASON_ $7; drop _IMP_REASON_;\n",
      "   _IMP_REASON_ = left(trim(put(IMP_REASON,$7.)));\n",
      "   if missing(IMP_DELINQ) \n",
      "      or missing(IMP_CLNO) \n",
      "      or missing(IMP_CLAGE) \n",
      "      or missing(IMP_NINQ) \n",
      "      or missing(IMP_DEBTINC) \n",
      "      or missing(IMP_DEROG) \n",
      "      or missing(IMP_YOJ) \n",
      "      or missing(IMP_VALUE) \n",
      "      or missing(IMP_LOAN) \n",
      "      then do;\n",
      "         _badval_ = 1;\n",
      "         goto skip_0_0;\n",
      "   end;\n",
      " \n",
      "   do _i_=1 to 18; _xrow_0_0_{_i_} = 0; end;\n",
      " \n",
      "   _xrow_0_0_[1] = 1;\n",
      " \n",
      "   _xrow_0_0_[2] = IMP_VALUE;\n",
      " \n",
      "   _temp_ = 1;\n",
      "   select (_IMP_REASON_);\n",
      "      when ('DebtCon') _xrow_0_0_[3] = _temp_;\n",
      "      when ('HomeImp') _xrow_0_0_[4] = _temp_;\n",
      "      otherwise do; _badval_ = 1; goto skip_0_0; end;\n",
      "   end;\n",
      " \n",
      "   _temp_ = 1;\n",
      "   select (_IMP_JOB_);\n",
      "      when ('Mgr') _xrow_0_0_[5] = _temp_;\n",
      "      when ('Office') _xrow_0_0_[6] = _temp_;\n",
      "      when ('Other') _xrow_0_0_[7] = _temp_;\n",
      "      when ('ProfExe') _xrow_0_0_[8] = _temp_;\n",
      "      when ('Sales') _xrow_0_0_[9] = _temp_;\n",
      "      when ('Self') _xrow_0_0_[10] = _temp_;\n",
      "      otherwise do; _badval_ = 1; goto skip_0_0; end;\n",
      "   end;\n",
      " \n",
      "   _xrow_0_0_[11] = IMP_DEROG;\n",
      " \n",
      "   _xrow_0_0_[12] = IMP_YOJ;\n",
      " \n",
      "   _xrow_0_0_[13] = IMP_DEBTINC;\n",
      " \n",
      "   _xrow_0_0_[14] = IMP_DELINQ;\n",
      " \n",
      "   _xrow_0_0_[15] = IMP_CLAGE;\n",
      " \n",
      "   _xrow_0_0_[16] = IMP_NINQ;\n",
      " \n",
      "   _xrow_0_0_[17] = IMP_LOAN;\n",
      " \n",
      "   _xrow_0_0_[18] = IMP_CLNO;\n",
      " \n",
      "   do _i_=1 to 18;\n",
      "      _linp_ + _xrow_0_0_{_i_} * _beta_0_0_{_i_};\n",
      "   end;\n",
      " \n",
      "   skip_0_0:\n",
      "   label P_BAD = 'Predicted: BAD';\n",
      "   if (_badval_ eq 0) and not missing(_linp_) then do;\n",
      "      if (_linp_ > 0) then do;\n",
      "         P_BAD = 1 / (1+exp(-_linp_));\n",
      "      end; else do;\n",
      "         P_BAD = exp(_linp_) / (1+exp(_linp_));\n",
      "      end;\n",
      "   end; else do;\n",
      "      _linp_ = .;\n",
      "      P_BAD = .;\n",
      "   end;\n",
      " \n"
     ]
    }
   ],
   "source": [
    "score_code = paste(score_code_impute$DataStepSrc, \"\\n\\n\\n\\n\\n\\n\\n\\n\\n\\n\", score_code_model$DataStepSrc)\n",
    "cat(score_code)"
   ]
  },
  {
   "cell_type": "markdown",
   "metadata": {},
   "source": [
    "# End Session"
   ]
  },
  {
   "cell_type": "code",
   "execution_count": 31,
   "metadata": {},
   "outputs": [
    {
     "data": {
      "text/html": [
       "<ol>\n",
       "</ol>\n"
      ],
      "text/latex": [
       "\\begin{enumerate}\n",
       "\\end{enumerate}\n"
      ],
      "text/markdown": [
       "\n",
       "\n"
      ],
      "text/plain": [
       "list()"
      ]
     },
     "metadata": {},
     "output_type": "display_data"
    }
   ],
   "source": [
    "cas.session.endSession(conn)"
   ]
  }
 ],
 "metadata": {
  "kernelspec": {
   "display_name": "R",
   "language": "R",
   "name": "ir"
  },
  "language_info": {
   "codemirror_mode": "r",
   "file_extension": ".r",
   "mimetype": "text/x-r-source",
   "name": "R",
   "pygments_lexer": "r",
   "version": "4.2.2"
  }
 },
 "nbformat": 4,
 "nbformat_minor": 2
}
