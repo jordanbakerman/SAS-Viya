{
 "cells": [
  {
   "cell_type": "markdown",
   "metadata": {},
   "source": [
    "# ML with SAS Viya and the SWAT Package"
   ]
  },
  {
   "cell_type": "markdown",
   "metadata": {},
   "source": [
    "This demonstration shows open source integration with SAS Viya from the Python API."
   ]
  },
  {
   "cell_type": "markdown",
   "metadata": {},
   "source": [
    "# Data"
   ]
  },
  {
   "cell_type": "markdown",
   "metadata": {},
   "source": [
    "| Name      | Model Role | Measurement Level | Description                                                            |\n",
    "|:----------|:-----------|:------------------|:-----------------------------------------------------------------------|\n",
    "| BAD       | Target     | Binary            | 1 = applicant defaulted on loan or delinquent, 0 = applicant paid loan |\n",
    "| CLAGE     | Input      | Interval          | Age of oldest credit line in months                                    |\n",
    "| CLNO      | Input      | Interval          | Number of credit lines                                                 |\n",
    "| DEBTINC   | Input      | Interval          | Debt-to-income ratio                                                   |\n",
    "| DELINQ    | Input      | Interval          | Number of delinquent credit lines                                      |\n",
    "| DEROG     | Input      | Interval          | Number of derogatory reports                                           |\n",
    "| JOB       | Input      | Nominal           | Occupational categories                                                |\n",
    "| LOAN      | Input      | Interval          | Amount of loan request                                                 |\n",
    "| MORTDUE   | Input      | Interval          | Amount due on existing mortgage                                        |\n",
    "| NINQ      | Input      | Interval          | Number of recent credit inquiries                                      |\n",
    "| REASON    | Input      | Binary            | DebtCon = debt consolidation, HomeImp = home improvement               |\n",
    "| VALUE     | Input      | Interval          | Value of current property                                              |\n",
    "| YOJ       | Input      | Interval          | Years at present job                                                   |"
   ]
  },
  {
   "cell_type": "markdown",
   "metadata": {},
   "source": [
    "# Load Packages"
   ]
  },
  {
   "cell_type": "code",
   "execution_count": 1,
   "metadata": {},
   "outputs": [],
   "source": [
    "import swat\n",
    "import pandas as pd\n",
    "import numpy as np\n",
    "from matplotlib import pyplot as plt\n",
    "%matplotlib inline\n",
    "from sasctl import register_model, Session\n",
    "import sasctl.pzmm as pzmm\n",
    "import os\n",
    "import shutil\n",
    "import sys"
   ]
  },
  {
   "cell_type": "markdown",
   "metadata": {},
   "source": [
    "# Get Key Variables"
   ]
  },
  {
   "cell_type": "code",
   "execution_count": 2,
   "metadata": {},
   "outputs": [],
   "source": [
    "os.chdir(\"/\".join(os.getcwd().split(\"\\\\\")[:-1]))\n",
    "from password import wd, hostname, port, username, password, protocol"
   ]
  },
  {
   "cell_type": "markdown",
   "metadata": {
    "tags": []
   },
   "source": [
    "# Connect to CAS"
   ]
  },
  {
   "cell_type": "code",
   "execution_count": 3,
   "metadata": {},
   "outputs": [],
   "source": [
    "conn = swat.CAS(hostname, port, username, password, protocol=protocol)"
   ]
  },
  {
   "cell_type": "markdown",
   "metadata": {},
   "source": [
    "# Load Data"
   ]
  },
  {
   "cell_type": "code",
   "execution_count": 4,
   "metadata": {},
   "outputs": [
    {
     "name": "stdout",
     "output_type": "stream",
     "text": [
      "NOTE: Cloud Analytic Services made the uploaded file available as table HMEQ in caslib CASUSER(jobake).\n",
      "NOTE: The table HMEQ has been created in caslib CASUSER(jobake) from binary data uploaded to Cloud Analytic Services.\n"
     ]
    }
   ],
   "source": [
    "df_cas = conn.read_csv(wd+\"Data/\"+\"hmeq.csv\", casout=dict(name=\"hmeq\", replace=True))"
   ]
  },
  {
   "cell_type": "code",
   "execution_count": 5,
   "metadata": {},
   "outputs": [
    {
     "data": {
      "text/html": [
       "<div class=\"cas-results-key\"><b>&#167; TableInfo</b></div>\n",
       "<div class=\"cas-results-body\">\n",
       "<div>\n",
       "<style scoped>\n",
       "    .dataframe tbody tr th:only-of-type {\n",
       "        vertical-align: middle;\n",
       "    }\n",
       "\n",
       "    .dataframe tbody tr th {\n",
       "        vertical-align: top;\n",
       "    }\n",
       "\n",
       "    .dataframe thead th {\n",
       "        text-align: right;\n",
       "    }\n",
       "</style>\n",
       "<table border=\"1\" class=\"dataframe\">\n",
       "  <thead>\n",
       "    <tr style=\"text-align: right;\">\n",
       "      <th title=\"\"></th>\n",
       "      <th title=\"Name\">Name</th>\n",
       "      <th title=\"Rows\">Rows</th>\n",
       "      <th title=\"Columns\">Columns</th>\n",
       "      <th title=\"Indexed Columns\">IndexedColumns</th>\n",
       "      <th title=\"Encoding\">Encoding</th>\n",
       "      <th title=\"Created\">CreateTimeFormatted</th>\n",
       "      <th title=\"Last Modified\">ModTimeFormatted</th>\n",
       "      <th title=\"Last Accessed\">AccessTimeFormatted</th>\n",
       "      <th title=\"Character Set\">JavaCharSet</th>\n",
       "      <th title=\"CreateTime\">CreateTime</th>\n",
       "      <th title=\"Repeated\">Repeated</th>\n",
       "      <th title=\"View\">View</th>\n",
       "      <th title=\"MultiPart\">MultiPart</th>\n",
       "      <th title=\"Loaded Source\">SourceName</th>\n",
       "      <th title=\"Source Caslib\">SourceCaslib</th>\n",
       "      <th title=\"Compressed\">Compressed</th>\n",
       "      <th title=\"Table Creator\">Creator</th>\n",
       "      <th title=\"Last Table Modifier\">Modifier</th>\n",
       "      <th title=\"Source Modified\">SourceModTimeFormatted</th>\n",
       "      <th title=\"SourceModTime\">SourceModTime</th>\n",
       "    </tr>\n",
       "  </thead>\n",
       "  <tbody>\n",
       "    <tr>\n",
       "      <td>0</td>\n",
       "      <td>HMEQ</td>\n",
       "      <td>5960</td>\n",
       "      <td>13</td>\n",
       "      <td>0</td>\n",
       "      <td>utf-8</td>\n",
       "      <td>2023-06-12T15:41:27-04:00</td>\n",
       "      <td>2023-06-12T15:41:27-04:00</td>\n",
       "      <td>2023-06-12T15:41:27-04:00</td>\n",
       "      <td>UTF8</td>\n",
       "      <td>2.002218e+09</td>\n",
       "      <td>0</td>\n",
       "      <td>0</td>\n",
       "      <td>0</td>\n",
       "      <td></td>\n",
       "      <td></td>\n",
       "      <td>0</td>\n",
       "      <td>jobake</td>\n",
       "      <td></td>\n",
       "      <td>2023-06-12T15:41:27-04:00</td>\n",
       "      <td>2.002218e+09</td>\n",
       "    </tr>\n",
       "  </tbody>\n",
       "</table>\n",
       "</div>\n",
       "</div>\n",
       "<div class=\"cas-output-area\"></div>\n",
       "<p class=\"cas-results-performance\"><small><span class=\"cas-elapsed\">elapsed 0.00565s</span> &#183; <span class=\"cas-user\">user 0.0086s</span> &#183; <span class=\"cas-sys\">sys 0.00322s</span> &#183; <span class=\"cas-memory\">mem 1.82MB</span></small></p>"
      ],
      "text/plain": [
       "[TableInfo]\n",
       "\n",
       "    Name  Rows  Columns  IndexedColumns Encoding        CreateTimeFormatted           ModTimeFormatted        AccessTimeFormatted JavaCharSet    CreateTime       ModTime    AccessTime  Global  Repeated  View  MultiPart SourceName SourceCaslib  Compressed Creator Modifier     SourceModTimeFormatted  SourceModTime\n",
       " 0  HMEQ  5960       13               0    utf-8  2023-06-12T15:41:27-04:00  2023-06-12T15:41:27-04:00  2023-06-12T15:41:27-04:00        UTF8  2.002218e+09  2.002218e+09  2.002218e+09       0         0     0          0                                   0  jobake           2023-06-12T15:41:27-04:00   2.002218e+09\n",
       "\n",
       "+ Elapsed: 0.00565s, user: 0.0086s, sys: 0.00322s, mem: 1.82mb"
      ]
     },
     "execution_count": 5,
     "metadata": {},
     "output_type": "execute_result"
    }
   ],
   "source": [
    "conn.tableInfo()"
   ]
  },
  {
   "cell_type": "markdown",
   "metadata": {},
   "source": [
    "# View Data"
   ]
  },
  {
   "cell_type": "markdown",
   "metadata": {},
   "source": [
    "[SWAT Functionality](https://developer.sas.com/apis/swat/python/1.0.0/api.html)"
   ]
  },
  {
   "cell_type": "code",
   "execution_count": 6,
   "metadata": {},
   "outputs": [
    {
     "data": {
      "text/html": [
       "<div>\n",
       "<style scoped>\n",
       "    .dataframe tbody tr th:only-of-type {\n",
       "        vertical-align: middle;\n",
       "    }\n",
       "\n",
       "    .dataframe tbody tr th {\n",
       "        vertical-align: top;\n",
       "    }\n",
       "\n",
       "    .dataframe thead th {\n",
       "        text-align: right;\n",
       "    }\n",
       "</style>\n",
       "<table border=\"1\" class=\"dataframe\"><caption>Selected Rows from Table HMEQ</caption>\n",
       "  <thead>\n",
       "    <tr style=\"text-align: right;\">\n",
       "      <th title=\"\"></th>\n",
       "      <th title=\"BAD\">BAD</th>\n",
       "      <th title=\"LOAN\">LOAN</th>\n",
       "      <th title=\"MORTDUE\">MORTDUE</th>\n",
       "      <th title=\"VALUE\">VALUE</th>\n",
       "      <th title=\"REASON\">REASON</th>\n",
       "      <th title=\"JOB\">JOB</th>\n",
       "      <th title=\"YOJ\">YOJ</th>\n",
       "      <th title=\"DEROG\">DEROG</th>\n",
       "      <th title=\"DELINQ\">DELINQ</th>\n",
       "      <th title=\"CLAGE\">CLAGE</th>\n",
       "      <th title=\"NINQ\">NINQ</th>\n",
       "      <th title=\"CLNO\">CLNO</th>\n",
       "      <th title=\"DEBTINC\">DEBTINC</th>\n",
       "    </tr>\n",
       "  </thead>\n",
       "  <tbody>\n",
       "    <tr>\n",
       "      <td>0</td>\n",
       "      <td>1.0</td>\n",
       "      <td>1100.0</td>\n",
       "      <td>25860.0</td>\n",
       "      <td>39025.0</td>\n",
       "      <td>HomeImp</td>\n",
       "      <td>Other</td>\n",
       "      <td>10.5</td>\n",
       "      <td>0.0</td>\n",
       "      <td>0.0</td>\n",
       "      <td>94.366667</td>\n",
       "      <td>1.0</td>\n",
       "      <td>9.0</td>\n",
       "      <td>NaN</td>\n",
       "    </tr>\n",
       "    <tr>\n",
       "      <td>1</td>\n",
       "      <td>1.0</td>\n",
       "      <td>1300.0</td>\n",
       "      <td>70053.0</td>\n",
       "      <td>68400.0</td>\n",
       "      <td>HomeImp</td>\n",
       "      <td>Other</td>\n",
       "      <td>7.0</td>\n",
       "      <td>0.0</td>\n",
       "      <td>2.0</td>\n",
       "      <td>121.833333</td>\n",
       "      <td>0.0</td>\n",
       "      <td>14.0</td>\n",
       "      <td>NaN</td>\n",
       "    </tr>\n",
       "    <tr>\n",
       "      <td>2</td>\n",
       "      <td>1.0</td>\n",
       "      <td>1500.0</td>\n",
       "      <td>13500.0</td>\n",
       "      <td>16700.0</td>\n",
       "      <td>HomeImp</td>\n",
       "      <td>Other</td>\n",
       "      <td>4.0</td>\n",
       "      <td>0.0</td>\n",
       "      <td>0.0</td>\n",
       "      <td>149.466667</td>\n",
       "      <td>1.0</td>\n",
       "      <td>10.0</td>\n",
       "      <td>NaN</td>\n",
       "    </tr>\n",
       "    <tr>\n",
       "      <td>3</td>\n",
       "      <td>1.0</td>\n",
       "      <td>1500.0</td>\n",
       "      <td>NaN</td>\n",
       "      <td>NaN</td>\n",
       "      <td></td>\n",
       "      <td></td>\n",
       "      <td>NaN</td>\n",
       "      <td>NaN</td>\n",
       "      <td>NaN</td>\n",
       "      <td>NaN</td>\n",
       "      <td>NaN</td>\n",
       "      <td>NaN</td>\n",
       "      <td>NaN</td>\n",
       "    </tr>\n",
       "    <tr>\n",
       "      <td>4</td>\n",
       "      <td>0.0</td>\n",
       "      <td>1700.0</td>\n",
       "      <td>97800.0</td>\n",
       "      <td>112000.0</td>\n",
       "      <td>HomeImp</td>\n",
       "      <td>Office</td>\n",
       "      <td>3.0</td>\n",
       "      <td>0.0</td>\n",
       "      <td>0.0</td>\n",
       "      <td>93.333333</td>\n",
       "      <td>0.0</td>\n",
       "      <td>14.0</td>\n",
       "      <td>NaN</td>\n",
       "    </tr>\n",
       "  </tbody>\n",
       "</table>\n",
       "</div>"
      ],
      "text/plain": [
       "Selected Rows from Table HMEQ\n",
       "\n",
       "   BAD    LOAN  MORTDUE     VALUE   REASON     JOB   YOJ  DEROG  DELINQ       CLAGE  NINQ  CLNO  DEBTINC\n",
       "0  1.0  1100.0  25860.0   39025.0  HomeImp   Other  10.5    0.0     0.0   94.366667   1.0   9.0      NaN\n",
       "1  1.0  1300.0  70053.0   68400.0  HomeImp   Other   7.0    0.0     2.0  121.833333   0.0  14.0      NaN\n",
       "2  1.0  1500.0  13500.0   16700.0  HomeImp   Other   4.0    0.0     0.0  149.466667   1.0  10.0      NaN\n",
       "3  1.0  1500.0      NaN       NaN                    NaN    NaN     NaN         NaN   NaN   NaN      NaN\n",
       "4  0.0  1700.0  97800.0  112000.0  HomeImp  Office   3.0    0.0     0.0   93.333333   0.0  14.0      NaN"
      ]
     },
     "execution_count": 6,
     "metadata": {},
     "output_type": "execute_result"
    }
   ],
   "source": [
    "df_cas.head()"
   ]
  },
  {
   "cell_type": "code",
   "execution_count": 7,
   "metadata": {},
   "outputs": [
    {
     "data": {
      "text/plain": [
       "BAD            0.199497\n",
       "LOAN       18607.969799\n",
       "MORTDUE    73760.817200\n",
       "dtype: float64"
      ]
     },
     "execution_count": 7,
     "metadata": {},
     "output_type": "execute_result"
    }
   ],
   "source": [
    "df_cas[[\"BAD\",\"LOAN\",\"MORTDUE\"]].mean()"
   ]
  },
  {
   "cell_type": "code",
   "execution_count": 8,
   "metadata": {},
   "outputs": [
    {
     "data": {
      "text/html": [
       "<div>\n",
       "<style scoped>\n",
       "    .dataframe tbody tr th:only-of-type {\n",
       "        vertical-align: middle;\n",
       "    }\n",
       "\n",
       "    .dataframe tbody tr th {\n",
       "        vertical-align: top;\n",
       "    }\n",
       "\n",
       "    .dataframe thead th {\n",
       "        text-align: right;\n",
       "    }\n",
       "</style>\n",
       "<table border=\"1\" class=\"dataframe\">\n",
       "  <thead>\n",
       "    <tr style=\"text-align: right;\">\n",
       "      <th title=\"\"></th>\n",
       "      <th title=\"BAD\">BAD</th>\n",
       "      <th title=\"LOAN\">LOAN</th>\n",
       "      <th title=\"MORTDUE\">MORTDUE</th>\n",
       "      <th title=\"VALUE\">VALUE</th>\n",
       "      <th title=\"REASON\">REASON</th>\n",
       "      <th title=\"JOB\">JOB</th>\n",
       "      <th title=\"YOJ\">YOJ</th>\n",
       "      <th title=\"DEROG\">DEROG</th>\n",
       "      <th title=\"DELINQ\">DELINQ</th>\n",
       "      <th title=\"CLAGE\">CLAGE</th>\n",
       "      <th title=\"NINQ\">NINQ</th>\n",
       "      <th title=\"CLNO\">CLNO</th>\n",
       "      <th title=\"DEBTINC\">DEBTINC</th>\n",
       "    </tr>\n",
       "  </thead>\n",
       "  <tbody>\n",
       "    <tr>\n",
       "      <td>count</td>\n",
       "      <td>5960.000000</td>\n",
       "      <td>5960.000000</td>\n",
       "      <td>5442.000000</td>\n",
       "      <td>5848.000000</td>\n",
       "      <td>5708.0</td>\n",
       "      <td>5681.0</td>\n",
       "      <td>5445.000000</td>\n",
       "      <td>5252.000000</td>\n",
       "      <td>5380.000000</td>\n",
       "      <td>5652.000000</td>\n",
       "      <td>5450.000000</td>\n",
       "      <td>5738.000000</td>\n",
       "      <td>4693.000000</td>\n",
       "    </tr>\n",
       "    <tr>\n",
       "      <td>unique</td>\n",
       "      <td>2.000000</td>\n",
       "      <td>540.000000</td>\n",
       "      <td>5053.000000</td>\n",
       "      <td>5381.000000</td>\n",
       "      <td>2.0</td>\n",
       "      <td>6.0</td>\n",
       "      <td>99.000000</td>\n",
       "      <td>11.000000</td>\n",
       "      <td>14.000000</td>\n",
       "      <td>5314.000000</td>\n",
       "      <td>16.000000</td>\n",
       "      <td>62.000000</td>\n",
       "      <td>4693.000000</td>\n",
       "    </tr>\n",
       "    <tr>\n",
       "      <td>top</td>\n",
       "      <td>0.000000</td>\n",
       "      <td>15000.000000</td>\n",
       "      <td>42000.000000</td>\n",
       "      <td>60000.000000</td>\n",
       "      <td>NaN</td>\n",
       "      <td>NaN</td>\n",
       "      <td>0.000000</td>\n",
       "      <td>0.000000</td>\n",
       "      <td>0.000000</td>\n",
       "      <td>206.966667</td>\n",
       "      <td>0.000000</td>\n",
       "      <td>16.000000</td>\n",
       "      <td>203.312149</td>\n",
       "    </tr>\n",
       "    <tr>\n",
       "      <td>freq</td>\n",
       "      <td>4771.000000</td>\n",
       "      <td>105.000000</td>\n",
       "      <td>11.000000</td>\n",
       "      <td>15.000000</td>\n",
       "      <td>3928.0</td>\n",
       "      <td>2388.0</td>\n",
       "      <td>415.000000</td>\n",
       "      <td>4527.000000</td>\n",
       "      <td>4179.000000</td>\n",
       "      <td>7.000000</td>\n",
       "      <td>2531.000000</td>\n",
       "      <td>316.000000</td>\n",
       "      <td>1.000000</td>\n",
       "    </tr>\n",
       "    <tr>\n",
       "      <td>mean</td>\n",
       "      <td>0.199497</td>\n",
       "      <td>18607.969799</td>\n",
       "      <td>73760.817200</td>\n",
       "      <td>101776.048741</td>\n",
       "      <td>NaN</td>\n",
       "      <td>NaN</td>\n",
       "      <td>8.922268</td>\n",
       "      <td>0.254570</td>\n",
       "      <td>0.449442</td>\n",
       "      <td>179.766275</td>\n",
       "      <td>1.186055</td>\n",
       "      <td>21.296096</td>\n",
       "      <td>33.779915</td>\n",
       "    </tr>\n",
       "    <tr>\n",
       "      <td>std</td>\n",
       "      <td>0.399656</td>\n",
       "      <td>11207.480417</td>\n",
       "      <td>44457.609458</td>\n",
       "      <td>57385.775334</td>\n",
       "      <td>NaN</td>\n",
       "      <td>NaN</td>\n",
       "      <td>7.573982</td>\n",
       "      <td>0.846047</td>\n",
       "      <td>1.127266</td>\n",
       "      <td>85.810092</td>\n",
       "      <td>1.728675</td>\n",
       "      <td>10.138933</td>\n",
       "      <td>8.601746</td>\n",
       "    </tr>\n",
       "    <tr>\n",
       "      <td>min</td>\n",
       "      <td>0.000000</td>\n",
       "      <td>1100.000000</td>\n",
       "      <td>2063.000000</td>\n",
       "      <td>8000.000000</td>\n",
       "      <td>NaN</td>\n",
       "      <td>NaN</td>\n",
       "      <td>0.000000</td>\n",
       "      <td>0.000000</td>\n",
       "      <td>0.000000</td>\n",
       "      <td>0.000000</td>\n",
       "      <td>0.000000</td>\n",
       "      <td>0.000000</td>\n",
       "      <td>0.524499</td>\n",
       "    </tr>\n",
       "    <tr>\n",
       "      <td>25%</td>\n",
       "      <td>0.000000</td>\n",
       "      <td>11100.000000</td>\n",
       "      <td>46268.000000</td>\n",
       "      <td>66069.000000</td>\n",
       "      <td>NaN</td>\n",
       "      <td>NaN</td>\n",
       "      <td>3.000000</td>\n",
       "      <td>0.000000</td>\n",
       "      <td>0.000000</td>\n",
       "      <td>115.103197</td>\n",
       "      <td>0.000000</td>\n",
       "      <td>15.000000</td>\n",
       "      <td>29.140031</td>\n",
       "    </tr>\n",
       "    <tr>\n",
       "      <td>50%</td>\n",
       "      <td>0.000000</td>\n",
       "      <td>16300.000000</td>\n",
       "      <td>65019.000000</td>\n",
       "      <td>89235.500000</td>\n",
       "      <td>NaN</td>\n",
       "      <td>NaN</td>\n",
       "      <td>7.000000</td>\n",
       "      <td>0.000000</td>\n",
       "      <td>0.000000</td>\n",
       "      <td>173.466667</td>\n",
       "      <td>1.000000</td>\n",
       "      <td>20.000000</td>\n",
       "      <td>34.818262</td>\n",
       "    </tr>\n",
       "    <tr>\n",
       "      <td>75%</td>\n",
       "      <td>0.000000</td>\n",
       "      <td>23300.000000</td>\n",
       "      <td>91491.000000</td>\n",
       "      <td>119831.500000</td>\n",
       "      <td>NaN</td>\n",
       "      <td>NaN</td>\n",
       "      <td>13.000000</td>\n",
       "      <td>0.000000</td>\n",
       "      <td>0.000000</td>\n",
       "      <td>231.574834</td>\n",
       "      <td>2.000000</td>\n",
       "      <td>26.000000</td>\n",
       "      <td>39.003141</td>\n",
       "    </tr>\n",
       "    <tr>\n",
       "      <td>max</td>\n",
       "      <td>1.000000</td>\n",
       "      <td>89900.000000</td>\n",
       "      <td>399550.000000</td>\n",
       "      <td>855909.000000</td>\n",
       "      <td>NaN</td>\n",
       "      <td>NaN</td>\n",
       "      <td>41.000000</td>\n",
       "      <td>10.000000</td>\n",
       "      <td>15.000000</td>\n",
       "      <td>1168.233561</td>\n",
       "      <td>17.000000</td>\n",
       "      <td>71.000000</td>\n",
       "      <td>203.312149</td>\n",
       "    </tr>\n",
       "  </tbody>\n",
       "</table>\n",
       "</div>"
      ],
      "text/plain": [
       "                BAD          LOAN        MORTDUE          VALUE  REASON     JOB          YOJ        DEROG       DELINQ        CLAGE         NINQ         CLNO      DEBTINC\n",
       "count   5960.000000   5960.000000    5442.000000    5848.000000  5708.0  5681.0  5445.000000  5252.000000  5380.000000  5652.000000  5450.000000  5738.000000  4693.000000\n",
       "unique     2.000000    540.000000    5053.000000    5381.000000     2.0     6.0    99.000000    11.000000    14.000000  5314.000000    16.000000    62.000000  4693.000000\n",
       "top        0.000000  15000.000000   42000.000000   60000.000000     NaN     NaN     0.000000     0.000000     0.000000   206.966667     0.000000    16.000000   203.312149\n",
       "freq    4771.000000    105.000000      11.000000      15.000000  3928.0  2388.0   415.000000  4527.000000  4179.000000     7.000000  2531.000000   316.000000     1.000000\n",
       "mean       0.199497  18607.969799   73760.817200  101776.048741     NaN     NaN     8.922268     0.254570     0.449442   179.766275     1.186055    21.296096    33.779915\n",
       "std        0.399656  11207.480417   44457.609458   57385.775334     NaN     NaN     7.573982     0.846047     1.127266    85.810092     1.728675    10.138933     8.601746\n",
       "min        0.000000   1100.000000    2063.000000    8000.000000     NaN     NaN     0.000000     0.000000     0.000000     0.000000     0.000000     0.000000     0.524499\n",
       "25%        0.000000  11100.000000   46268.000000   66069.000000     NaN     NaN     3.000000     0.000000     0.000000   115.103197     0.000000    15.000000    29.140031\n",
       "50%        0.000000  16300.000000   65019.000000   89235.500000     NaN     NaN     7.000000     0.000000     0.000000   173.466667     1.000000    20.000000    34.818262\n",
       "75%        0.000000  23300.000000   91491.000000  119831.500000     NaN     NaN    13.000000     0.000000     0.000000   231.574834     2.000000    26.000000    39.003141\n",
       "max        1.000000  89900.000000  399550.000000  855909.000000     NaN     NaN    41.000000    10.000000    15.000000  1168.233561    17.000000    71.000000   203.312149"
      ]
     },
     "execution_count": 8,
     "metadata": {},
     "output_type": "execute_result"
    }
   ],
   "source": [
    "df_cas.describe(include=['numeric', 'character'])"
   ]
  },
  {
   "cell_type": "markdown",
   "metadata": {},
   "source": [
    "[CAS Actions Documentation](https://go.documentation.sas.com/doc/en/pgmsascdc/v_033/allprodsactions/actionSetsByName.htm)"
   ]
  },
  {
   "cell_type": "code",
   "execution_count": 9,
   "metadata": {},
   "outputs": [
    {
     "name": "stdout",
     "output_type": "stream",
     "text": [
      "NOTE: Added action set 'simple'.\n",
      "NOTE: Information for action set 'simple':\n",
      "NOTE:    simple\n",
      "NOTE:       mdSummary - Calculates multidimensional summaries of numeric variables\n",
      "NOTE:       numRows - Shows the number of rows in a Cloud Analytic Services table\n",
      "NOTE:       summary - Generates descriptive statistics of numeric variables such as the sample mean, sample variance, sample size, sum of squares, and so on\n",
      "NOTE:       correlation - Computes Pearson product-moment correlations.\n",
      "NOTE:       regression - Performs a linear regression up to 3rd-order polynomials\n",
      "NOTE:       crossTab - Performs one-way or two-way tabulations\n",
      "NOTE:       distinct - Computes the distinct number of values of the variables in the variable list\n",
      "NOTE:       topK - Returns the top-K and bottom-K distinct values of each variable included in the variable list based on a user-specified ranking order\n",
      "NOTE:       groupBy - Builds BY groups in terms of the variable value combinations given the variables in the variable list\n",
      "NOTE:       freq - Generates a frequency distribution for one or more variables\n",
      "NOTE:       paraCoord - Generates a parallel coordinates plot of the variables in the variable list\n",
      "NOTE:       groupByInfo - Computes the index and frequency of each group, and the index of each record within its group\n",
      "NOTE:       compare - Compares two tables by computing the index and frequency of each group, cumulative frequency, and the index of each record within its group\n"
     ]
    }
   ],
   "source": [
    "conn.loadActionSet('simple')\n",
    "actions = conn.builtins.help(actionSet='simple')"
   ]
  },
  {
   "cell_type": "code",
   "execution_count": 10,
   "metadata": {},
   "outputs": [
    {
     "data": {
      "text/html": [
       "<div class=\"cas-results-key\"><b>&#167; Frequency</b></div>\n",
       "<div class=\"cas-results-body\">\n",
       "<div>\n",
       "<style scoped>\n",
       "    .dataframe tbody tr th:only-of-type {\n",
       "        vertical-align: middle;\n",
       "    }\n",
       "\n",
       "    .dataframe tbody tr th {\n",
       "        vertical-align: top;\n",
       "    }\n",
       "\n",
       "    .dataframe thead th {\n",
       "        text-align: right;\n",
       "    }\n",
       "</style>\n",
       "<table border=\"1\" class=\"dataframe\"><caption>Frequency for HMEQ</caption>\n",
       "  <thead>\n",
       "    <tr style=\"text-align: right;\">\n",
       "      <th title=\"\"></th>\n",
       "      <th title=\"Analysis Variable\">Column</th>\n",
       "      <th title=\"Numeric Value\">NumVar</th>\n",
       "      <th title=\"Character Value\">CharVar</th>\n",
       "      <th title=\"Formatted Value\">FmtVar</th>\n",
       "      <th title=\"Level\">Level</th>\n",
       "      <th title=\"Frequency\">Frequency</th>\n",
       "    </tr>\n",
       "  </thead>\n",
       "  <tbody>\n",
       "    <tr>\n",
       "      <td>0</td>\n",
       "      <td>BAD</td>\n",
       "      <td>0.0</td>\n",
       "      <td></td>\n",
       "      <td>0</td>\n",
       "      <td>1</td>\n",
       "      <td>4771.0</td>\n",
       "    </tr>\n",
       "    <tr>\n",
       "      <td>1</td>\n",
       "      <td>BAD</td>\n",
       "      <td>1.0</td>\n",
       "      <td></td>\n",
       "      <td>1</td>\n",
       "      <td>2</td>\n",
       "      <td>1189.0</td>\n",
       "    </tr>\n",
       "    <tr>\n",
       "      <td>2</td>\n",
       "      <td>JOB</td>\n",
       "      <td>NaN</td>\n",
       "      <td></td>\n",
       "      <td></td>\n",
       "      <td>1</td>\n",
       "      <td>279.0</td>\n",
       "    </tr>\n",
       "    <tr>\n",
       "      <td>3</td>\n",
       "      <td>JOB</td>\n",
       "      <td>NaN</td>\n",
       "      <td>Mgr</td>\n",
       "      <td>Mgr</td>\n",
       "      <td>2</td>\n",
       "      <td>767.0</td>\n",
       "    </tr>\n",
       "    <tr>\n",
       "      <td>4</td>\n",
       "      <td>JOB</td>\n",
       "      <td>NaN</td>\n",
       "      <td>Office</td>\n",
       "      <td>Office</td>\n",
       "      <td>3</td>\n",
       "      <td>948.0</td>\n",
       "    </tr>\n",
       "    <tr>\n",
       "      <td>5</td>\n",
       "      <td>JOB</td>\n",
       "      <td>NaN</td>\n",
       "      <td>Other</td>\n",
       "      <td>Other</td>\n",
       "      <td>4</td>\n",
       "      <td>2388.0</td>\n",
       "    </tr>\n",
       "    <tr>\n",
       "      <td>6</td>\n",
       "      <td>JOB</td>\n",
       "      <td>NaN</td>\n",
       "      <td>ProfExe</td>\n",
       "      <td>ProfExe</td>\n",
       "      <td>5</td>\n",
       "      <td>1276.0</td>\n",
       "    </tr>\n",
       "    <tr>\n",
       "      <td>7</td>\n",
       "      <td>JOB</td>\n",
       "      <td>NaN</td>\n",
       "      <td>Sales</td>\n",
       "      <td>Sales</td>\n",
       "      <td>6</td>\n",
       "      <td>109.0</td>\n",
       "    </tr>\n",
       "    <tr>\n",
       "      <td>8</td>\n",
       "      <td>JOB</td>\n",
       "      <td>NaN</td>\n",
       "      <td>Self</td>\n",
       "      <td>Self</td>\n",
       "      <td>7</td>\n",
       "      <td>193.0</td>\n",
       "    </tr>\n",
       "    <tr>\n",
       "      <td>9</td>\n",
       "      <td>REASON</td>\n",
       "      <td>NaN</td>\n",
       "      <td></td>\n",
       "      <td></td>\n",
       "      <td>1</td>\n",
       "      <td>252.0</td>\n",
       "    </tr>\n",
       "    <tr>\n",
       "      <td>10</td>\n",
       "      <td>REASON</td>\n",
       "      <td>NaN</td>\n",
       "      <td>DebtCon</td>\n",
       "      <td>DebtCon</td>\n",
       "      <td>2</td>\n",
       "      <td>3928.0</td>\n",
       "    </tr>\n",
       "    <tr>\n",
       "      <td>11</td>\n",
       "      <td>REASON</td>\n",
       "      <td>NaN</td>\n",
       "      <td>HomeImp</td>\n",
       "      <td>HomeImp</td>\n",
       "      <td>3</td>\n",
       "      <td>1780.0</td>\n",
       "    </tr>\n",
       "  </tbody>\n",
       "</table>\n",
       "</div>\n",
       "</div>\n",
       "<div class=\"cas-output-area\"></div>\n",
       "<p class=\"cas-results-performance\"><small><span class=\"cas-elapsed\">elapsed 0.0233s</span> &#183; <span class=\"cas-user\">user 0.0153s</span> &#183; <span class=\"cas-sys\">sys 0.051s</span> &#183; <span class=\"cas-memory\">mem 54.7MB</span></small></p>"
      ],
      "text/plain": [
       "[Frequency]\n",
       "\n",
       " Frequency for HMEQ\n",
       " \n",
       "     Column  NumVar  CharVar        FmtVar  Level  Frequency\n",
       " 0      BAD     0.0                      0      1     4771.0\n",
       " 1      BAD     1.0                      1      2     1189.0\n",
       " 2      JOB     NaN                             1      279.0\n",
       " 3      JOB     NaN      Mgr           Mgr      2      767.0\n",
       " 4      JOB     NaN   Office        Office      3      948.0\n",
       " 5      JOB     NaN    Other         Other      4     2388.0\n",
       " 6      JOB     NaN  ProfExe       ProfExe      5     1276.0\n",
       " 7      JOB     NaN    Sales         Sales      6      109.0\n",
       " 8      JOB     NaN     Self          Self      7      193.0\n",
       " 9   REASON     NaN                             1      252.0\n",
       " 10  REASON     NaN  DebtCon       DebtCon      2     3928.0\n",
       " 11  REASON     NaN  HomeImp       HomeImp      3     1780.0\n",
       "\n",
       "+ Elapsed: 0.0233s, user: 0.0153s, sys: 0.051s, mem: 54.7mb"
      ]
     },
     "execution_count": 10,
     "metadata": {},
     "output_type": "execute_result"
    }
   ],
   "source": [
    "conn.simple.freq(\n",
    "    table = \"hmeq\",\n",
    "    inputs = [\"BAD\",\"JOB\",\"REASON\"]\n",
    ")"
   ]
  },
  {
   "cell_type": "code",
   "execution_count": 11,
   "metadata": {},
   "outputs": [
    {
     "name": "stdout",
     "output_type": "stream",
     "text": [
      "NOTE: Added action set 'sampling'.\n",
      "NOTE: Information for action set 'sampling':\n",
      "NOTE:    sampling\n",
      "NOTE:       srs -  Samples a proportion of data from the input table or partitions the data into no more than three portions\n",
      "NOTE:       stratified - Samples a proportion of data or partitions the data into no more than three portions within each stratum\n",
      "NOTE:       oversample - Samples a user-specified proportion of data from the event level and adjusts the ratio between rare events and non-rare events to a user-specified ratio\n",
      "NOTE:       kfold - K-fold partitioning.\n"
     ]
    }
   ],
   "source": [
    "conn.loadActionSet('sampling')\n",
    "actions = conn.builtins.help(actionSet='sampling')"
   ]
  },
  {
   "cell_type": "code",
   "execution_count": 12,
   "metadata": {},
   "outputs": [
    {
     "name": "stdout",
     "output_type": "stream",
     "text": [
      "NOTE: Simple Random Sampling is in effect.\n",
      "NOTE: Using SEED=12345 for sampling.\n"
     ]
    },
    {
     "data": {
      "image/png": "[encoded data removed]",
      "text/plain": [
       "<Figure size 720x720 with 12 Axes>"
      ]
     },
     "metadata": {
      "needs_background": "light"
     },
     "output_type": "display_data"
    }
   ],
   "source": [
    "conn.sampling.srs(\n",
    "    table   = \"hmeq\",\n",
    "    samppct = 50,\n",
    "    seed = 12345,\n",
    "    partind = False,\n",
    "    output  = dict(casOut = dict(name = 'mysam', replace = True),  copyVars = 'ALL')\n",
    ")\n",
    "\n",
    "mysam = conn.CASTable(name = \"mysam\")\n",
    "df_local = mysam.to_frame()\n",
    "df_local.hist(bins=20, figsize=(10,10))\n",
    "plt.show()"
   ]
  },
  {
   "cell_type": "markdown",
   "metadata": {},
   "source": [
    "# Cloud vs Local Data"
   ]
  },
  {
   "cell_type": "code",
   "execution_count": 13,
   "metadata": {},
   "outputs": [
    {
     "data": {
      "text/plain": [
       "swat.cas.table.CASTable"
      ]
     },
     "execution_count": 13,
     "metadata": {},
     "output_type": "execute_result"
    }
   ],
   "source": [
    "type(df_cas)"
   ]
  },
  {
   "cell_type": "code",
   "execution_count": 14,
   "metadata": {},
   "outputs": [
    {
     "data": {
      "text/plain": [
       "swat.dataframe.SASDataFrame"
      ]
     },
     "execution_count": 14,
     "metadata": {},
     "output_type": "execute_result"
    }
   ],
   "source": [
    "type(df_local)"
   ]
  },
  {
   "cell_type": "markdown",
   "metadata": {},
   "source": [
    "# Impute Missing Values"
   ]
  },
  {
   "cell_type": "code",
   "execution_count": 15,
   "metadata": {},
   "outputs": [
    {
     "data": {
      "text/html": [
       "<div>\n",
       "<style scoped>\n",
       "    .dataframe tbody tr th:only-of-type {\n",
       "        vertical-align: middle;\n",
       "    }\n",
       "\n",
       "    .dataframe tbody tr th {\n",
       "        vertical-align: top;\n",
       "    }\n",
       "\n",
       "    .dataframe thead th {\n",
       "        text-align: right;\n",
       "    }\n",
       "</style>\n",
       "<table border=\"1\" class=\"dataframe\"><caption>Distinct Counts for HMEQ</caption>\n",
       "  <thead>\n",
       "    <tr style=\"text-align: right;\">\n",
       "      <th title=\"\"></th>\n",
       "      <th title=\"Analysis Variable\">Column</th>\n",
       "      <th title=\"Number of Missing Values\">NMiss</th>\n",
       "    </tr>\n",
       "  </thead>\n",
       "  <tbody>\n",
       "    <tr>\n",
       "      <td>0</td>\n",
       "      <td>BAD</td>\n",
       "      <td>0.0</td>\n",
       "    </tr>\n",
       "    <tr>\n",
       "      <td>1</td>\n",
       "      <td>LOAN</td>\n",
       "      <td>0.0</td>\n",
       "    </tr>\n",
       "    <tr>\n",
       "      <td>2</td>\n",
       "      <td>MORTDUE</td>\n",
       "      <td>518.0</td>\n",
       "    </tr>\n",
       "    <tr>\n",
       "      <td>3</td>\n",
       "      <td>VALUE</td>\n",
       "      <td>112.0</td>\n",
       "    </tr>\n",
       "    <tr>\n",
       "      <td>4</td>\n",
       "      <td>REASON</td>\n",
       "      <td>252.0</td>\n",
       "    </tr>\n",
       "    <tr>\n",
       "      <td>5</td>\n",
       "      <td>JOB</td>\n",
       "      <td>279.0</td>\n",
       "    </tr>\n",
       "    <tr>\n",
       "      <td>6</td>\n",
       "      <td>YOJ</td>\n",
       "      <td>515.0</td>\n",
       "    </tr>\n",
       "    <tr>\n",
       "      <td>7</td>\n",
       "      <td>DEROG</td>\n",
       "      <td>708.0</td>\n",
       "    </tr>\n",
       "    <tr>\n",
       "      <td>8</td>\n",
       "      <td>DELINQ</td>\n",
       "      <td>580.0</td>\n",
       "    </tr>\n",
       "    <tr>\n",
       "      <td>9</td>\n",
       "      <td>CLAGE</td>\n",
       "      <td>308.0</td>\n",
       "    </tr>\n",
       "    <tr>\n",
       "      <td>10</td>\n",
       "      <td>NINQ</td>\n",
       "      <td>510.0</td>\n",
       "    </tr>\n",
       "    <tr>\n",
       "      <td>11</td>\n",
       "      <td>CLNO</td>\n",
       "      <td>222.0</td>\n",
       "    </tr>\n",
       "    <tr>\n",
       "      <td>12</td>\n",
       "      <td>DEBTINC</td>\n",
       "      <td>1267.0</td>\n",
       "    </tr>\n",
       "  </tbody>\n",
       "</table>\n",
       "</div>"
      ],
      "text/plain": [
       "Distinct Counts for HMEQ\n",
       "\n",
       "     Column   NMiss\n",
       "0       BAD     0.0\n",
       "1      LOAN     0.0\n",
       "2   MORTDUE   518.0\n",
       "3     VALUE   112.0\n",
       "4    REASON   252.0\n",
       "5       JOB   279.0\n",
       "6       YOJ   515.0\n",
       "7     DEROG   708.0\n",
       "8    DELINQ   580.0\n",
       "9     CLAGE   308.0\n",
       "10     NINQ   510.0\n",
       "11     CLNO   222.0\n",
       "12  DEBTINC  1267.0"
      ]
     },
     "execution_count": 15,
     "metadata": {},
     "output_type": "execute_result"
    }
   ],
   "source": [
    "df_cas.distinct()['Distinct'][['Column', 'NMiss']]"
   ]
  },
  {
   "cell_type": "code",
   "execution_count": 16,
   "metadata": {},
   "outputs": [
    {
     "data": {
      "text/html": [
       "<div class=\"cas-results-key\"><b>&#167; ImputeInfo</b></div>\n",
       "<div class=\"cas-results-body\">\n",
       "<div>\n",
       "<style scoped>\n",
       "    .dataframe tbody tr th:only-of-type {\n",
       "        vertical-align: middle;\n",
       "    }\n",
       "\n",
       "    .dataframe tbody tr th {\n",
       "        vertical-align: top;\n",
       "    }\n",
       "\n",
       "    .dataframe thead th {\n",
       "        text-align: right;\n",
       "    }\n",
       "</style>\n",
       "<table border=\"1\" class=\"dataframe\"><caption>Imputation Information for HMEQ</caption>\n",
       "  <thead>\n",
       "    <tr style=\"text-align: right;\">\n",
       "      <th title=\"\"></th>\n",
       "      <th title=\"Variable\">Variable</th>\n",
       "      <th title=\"Imputation Technique\">ImputeTech</th>\n",
       "      <th title=\"Result Variable\">ResultVar</th>\n",
       "      <th title=\"N\">N</th>\n",
       "      <th title=\"NMiss\">NMiss</th>\n",
       "      <th title=\"Imputed Value\">ImputedValueContinuous</th>\n",
       "      <th title=\"Imputed Value\">ImputedValueNominal</th>\n",
       "    </tr>\n",
       "  </thead>\n",
       "  <tbody>\n",
       "    <tr>\n",
       "      <td>0</td>\n",
       "      <td>LOAN</td>\n",
       "      <td>Median</td>\n",
       "      <td>IMP_LOAN</td>\n",
       "      <td>5960.0</td>\n",
       "      <td>0.0</td>\n",
       "      <td>16300.000000</td>\n",
       "      <td></td>\n",
       "    </tr>\n",
       "    <tr>\n",
       "      <td>1</td>\n",
       "      <td>MORTDUE</td>\n",
       "      <td>Median</td>\n",
       "      <td>IMP_MORTDUE</td>\n",
       "      <td>5442.0</td>\n",
       "      <td>518.0</td>\n",
       "      <td>65019.000000</td>\n",
       "      <td></td>\n",
       "    </tr>\n",
       "    <tr>\n",
       "      <td>2</td>\n",
       "      <td>VALUE</td>\n",
       "      <td>Median</td>\n",
       "      <td>IMP_VALUE</td>\n",
       "      <td>5848.0</td>\n",
       "      <td>112.0</td>\n",
       "      <td>89235.500000</td>\n",
       "      <td></td>\n",
       "    </tr>\n",
       "    <tr>\n",
       "      <td>3</td>\n",
       "      <td>REASON</td>\n",
       "      <td>Mode</td>\n",
       "      <td>IMP_REASON</td>\n",
       "      <td>5708.0</td>\n",
       "      <td>252.0</td>\n",
       "      <td>NaN</td>\n",
       "      <td>DebtCon</td>\n",
       "    </tr>\n",
       "    <tr>\n",
       "      <td>4</td>\n",
       "      <td>JOB</td>\n",
       "      <td>Mode</td>\n",
       "      <td>IMP_JOB</td>\n",
       "      <td>5681.0</td>\n",
       "      <td>279.0</td>\n",
       "      <td>NaN</td>\n",
       "      <td>Other</td>\n",
       "    </tr>\n",
       "    <tr>\n",
       "      <td>5</td>\n",
       "      <td>YOJ</td>\n",
       "      <td>Median</td>\n",
       "      <td>IMP_YOJ</td>\n",
       "      <td>5445.0</td>\n",
       "      <td>515.0</td>\n",
       "      <td>7.000000</td>\n",
       "      <td></td>\n",
       "    </tr>\n",
       "    <tr>\n",
       "      <td>6</td>\n",
       "      <td>DEROG</td>\n",
       "      <td>Median</td>\n",
       "      <td>IMP_DEROG</td>\n",
       "      <td>5252.0</td>\n",
       "      <td>708.0</td>\n",
       "      <td>0.000000</td>\n",
       "      <td></td>\n",
       "    </tr>\n",
       "    <tr>\n",
       "      <td>7</td>\n",
       "      <td>DELINQ</td>\n",
       "      <td>Median</td>\n",
       "      <td>IMP_DELINQ</td>\n",
       "      <td>5380.0</td>\n",
       "      <td>580.0</td>\n",
       "      <td>0.000000</td>\n",
       "      <td></td>\n",
       "    </tr>\n",
       "    <tr>\n",
       "      <td>8</td>\n",
       "      <td>CLAGE</td>\n",
       "      <td>Median</td>\n",
       "      <td>IMP_CLAGE</td>\n",
       "      <td>5652.0</td>\n",
       "      <td>308.0</td>\n",
       "      <td>173.466667</td>\n",
       "      <td></td>\n",
       "    </tr>\n",
       "    <tr>\n",
       "      <td>9</td>\n",
       "      <td>NINQ</td>\n",
       "      <td>Median</td>\n",
       "      <td>IMP_NINQ</td>\n",
       "      <td>5450.0</td>\n",
       "      <td>510.0</td>\n",
       "      <td>1.000000</td>\n",
       "      <td></td>\n",
       "    </tr>\n",
       "    <tr>\n",
       "      <td>10</td>\n",
       "      <td>CLNO</td>\n",
       "      <td>Median</td>\n",
       "      <td>IMP_CLNO</td>\n",
       "      <td>5738.0</td>\n",
       "      <td>222.0</td>\n",
       "      <td>20.000000</td>\n",
       "      <td></td>\n",
       "    </tr>\n",
       "    <tr>\n",
       "      <td>11</td>\n",
       "      <td>DEBTINC</td>\n",
       "      <td>Median</td>\n",
       "      <td>IMP_DEBTINC</td>\n",
       "      <td>4693.0</td>\n",
       "      <td>1267.0</td>\n",
       "      <td>34.818262</td>\n",
       "      <td></td>\n",
       "    </tr>\n",
       "  </tbody>\n",
       "</table>\n",
       "</div>\n",
       "</div>\n",
       "<div class=\"cas-results-key\"><hr/><b>&#167; OutputCasTables</b></div>\n",
       "<div class=\"cas-results-body\">\n",
       "<div>\n",
       "<style scoped>\n",
       "    .dataframe tbody tr th:only-of-type {\n",
       "        vertical-align: middle;\n",
       "    }\n",
       "\n",
       "    .dataframe tbody tr th {\n",
       "        vertical-align: top;\n",
       "    }\n",
       "\n",
       "    .dataframe thead th {\n",
       "        text-align: right;\n",
       "    }\n",
       "</style>\n",
       "<table border=\"1\" class=\"dataframe\">\n",
       "  <thead>\n",
       "    <tr style=\"text-align: right;\">\n",
       "      <th title=\"\"></th>\n",
       "      <th title=\"CAS Library\">casLib</th>\n",
       "      <th title=\"Name\">Name</th>\n",
       "      <th title=\"Number of Rows\">Rows</th>\n",
       "      <th title=\"Number of Columns\">Columns</th>\n",
       "      <th title=\"Table\">casTable</th>\n",
       "    </tr>\n",
       "  </thead>\n",
       "  <tbody>\n",
       "    <tr>\n",
       "      <td>0</td>\n",
       "      <td>CASUSER(jobake)</td>\n",
       "      <td>hmeq</td>\n",
       "      <td>5960</td>\n",
       "      <td>25</td>\n",
       "      <td>CASTable('hmeq', caslib='CASUSER(jobake)')</td>\n",
       "    </tr>\n",
       "    <tr>\n",
       "      <td>1</td>\n",
       "      <td>CASUSER(jobake)</td>\n",
       "      <td>score_code_impute</td>\n",
       "      <td>1</td>\n",
       "      <td>10</td>\n",
       "      <td>CASTable('score_code_impute', caslib='CASUSER(...</td>\n",
       "    </tr>\n",
       "  </tbody>\n",
       "</table>\n",
       "</div>\n",
       "</div>\n",
       "<div class=\"cas-output-area\"></div>\n",
       "<p class=\"cas-results-performance\"><small><span class=\"cas-elapsed\">elapsed 0.159s</span> &#183; <span class=\"cas-user\">user 0.128s</span> &#183; <span class=\"cas-sys\">sys 0.192s</span> &#183; <span class=\"cas-memory\">mem 3.96MB</span></small></p>"
      ],
      "text/plain": [
       "[ImputeInfo]\n",
       "\n",
       " Imputation Information for HMEQ\n",
       " \n",
       "    Variable ImputeTech    ResultVar       N   NMiss  ImputedValueContinuous ImputedValueNominal\n",
       " 0      LOAN     Median     IMP_LOAN  5960.0     0.0            16300.000000                    \n",
       " 1   MORTDUE     Median  IMP_MORTDUE  5442.0   518.0            65019.000000                    \n",
       " 2     VALUE     Median    IMP_VALUE  5848.0   112.0            89235.500000                    \n",
       " 3    REASON       Mode   IMP_REASON  5708.0   252.0                     NaN             DebtCon\n",
       " 4       JOB       Mode      IMP_JOB  5681.0   279.0                     NaN               Other\n",
       " 5       YOJ     Median      IMP_YOJ  5445.0   515.0                7.000000                    \n",
       " 6     DEROG     Median    IMP_DEROG  5252.0   708.0                0.000000                    \n",
       " 7    DELINQ     Median   IMP_DELINQ  5380.0   580.0                0.000000                    \n",
       " 8     CLAGE     Median    IMP_CLAGE  5652.0   308.0              173.466667                    \n",
       " 9      NINQ     Median     IMP_NINQ  5450.0   510.0                1.000000                    \n",
       " 10     CLNO     Median     IMP_CLNO  5738.0   222.0               20.000000                    \n",
       " 11  DEBTINC     Median  IMP_DEBTINC  4693.0  1267.0               34.818262                    \n",
       "\n",
       "[OutputCasTables]\n",
       "\n",
       "             casLib               Name  Rows  Columns                                           casTable\n",
       " 0  CASUSER(jobake)               hmeq  5960       25         CASTable('hmeq', caslib='CASUSER(jobake)')\n",
       " 1  CASUSER(jobake)  score_code_impute     1       10  CASTable('score_code_impute', caslib='CASUSER(...\n",
       "\n",
       "+ Elapsed: 0.159s, user: 0.128s, sys: 0.192s, mem: 3.96mb"
      ]
     },
     "execution_count": 16,
     "metadata": {},
     "output_type": "execute_result"
    }
   ],
   "source": [
    "conn.dataPreprocess.impute(\n",
    "    table = \"hmeq\",\n",
    "    methodContinuous = 'MEDIAN',\n",
    "    methodNominal    = 'MODE',\n",
    "    inputs           = list(df_cas)[1:],\n",
    "    copyAllVars      = True,\n",
    "    casOut           = dict(name = \"hmeq\", replace = True),\n",
    "    code = dict(casOut = dict(name = \"score_code_impute\", replace = True))\n",
    ")"
   ]
  },
  {
   "cell_type": "code",
   "execution_count": 17,
   "metadata": {},
   "outputs": [
    {
     "data": {
      "text/plain": [
       "'BAD'"
      ]
     },
     "metadata": {},
     "output_type": "display_data"
    },
    {
     "data": {
      "text/plain": [
       "['IMP_CLAGE',\n",
       " 'IMP_CLNO',\n",
       " 'IMP_DEBTINC',\n",
       " 'IMP_DELINQ',\n",
       " 'IMP_DEROG',\n",
       " 'IMP_LOAN',\n",
       " 'IMP_MORTDUE',\n",
       " 'IMP_NINQ',\n",
       " 'IMP_VALUE',\n",
       " 'IMP_YOJ',\n",
       " 'IMP_JOB',\n",
       " 'IMP_REASON']"
      ]
     },
     "metadata": {},
     "output_type": "display_data"
    },
    {
     "data": {
      "text/plain": [
       "['BAD', 'IMP_JOB', 'IMP_REASON']"
      ]
     },
     "metadata": {},
     "output_type": "display_data"
    }
   ],
   "source": [
    "colinfo = conn.table.columninfo(table=\"hmeq\")['ColumnInfo']\n",
    "colinfo\n",
    "\n",
    "target = colinfo['Column'][0]\n",
    "\n",
    "inputs = list(colinfo['Column'][1:])\n",
    "nominals = list(colinfo.query('Type==\"varchar\"')['Column'])\n",
    "\n",
    "inputs = [k for k in inputs if 'IMP_' in k]\n",
    "nominals = [k for k in nominals if 'IMP_' in k]\n",
    "nominals = [target] + nominals\n",
    "\n",
    "display(target)\n",
    "display(inputs)\n",
    "display(nominals)"
   ]
  },
  {
   "cell_type": "markdown",
   "metadata": {},
   "source": [
    "# Partition Data"
   ]
  },
  {
   "cell_type": "code",
   "execution_count": 18,
   "metadata": {},
   "outputs": [
    {
     "name": "stdout",
     "output_type": "stream",
     "text": [
      "NOTE: Simple Random Sampling is in effect.\n",
      "NOTE: Using SEED=919 for sampling.\n"
     ]
    },
    {
     "data": {
      "text/html": [
       "<div class=\"cas-results-key\"><b>&#167; SRSFreq</b></div>\n",
       "<div class=\"cas-results-body\">\n",
       "<div>\n",
       "<style scoped>\n",
       "    .dataframe tbody tr th:only-of-type {\n",
       "        vertical-align: middle;\n",
       "    }\n",
       "\n",
       "    .dataframe tbody tr th {\n",
       "        vertical-align: top;\n",
       "    }\n",
       "\n",
       "    .dataframe thead th {\n",
       "        text-align: right;\n",
       "    }\n",
       "</style>\n",
       "<table border=\"1\" class=\"dataframe\"><caption>Frequencies</caption>\n",
       "  <thead>\n",
       "    <tr style=\"text-align: right;\">\n",
       "      <th title=\"\"></th>\n",
       "      <th title=\"Number of Obs\">NObs</th>\n",
       "      <th title=\"Sample Size 1\">NSamp1</th>\n",
       "      <th title=\"Sample Size 2\">NSamp2</th>\n",
       "    </tr>\n",
       "  </thead>\n",
       "  <tbody>\n",
       "    <tr>\n",
       "      <td>0</td>\n",
       "      <td>5960</td>\n",
       "      <td>4172</td>\n",
       "      <td>1192</td>\n",
       "    </tr>\n",
       "  </tbody>\n",
       "</table>\n",
       "</div>\n",
       "</div>\n",
       "<div class=\"cas-results-key\"><hr/><b>&#167; OutputCasTables</b></div>\n",
       "<div class=\"cas-results-body\">\n",
       "<div>\n",
       "<style scoped>\n",
       "    .dataframe tbody tr th:only-of-type {\n",
       "        vertical-align: middle;\n",
       "    }\n",
       "\n",
       "    .dataframe tbody tr th {\n",
       "        vertical-align: top;\n",
       "    }\n",
       "\n",
       "    .dataframe thead th {\n",
       "        text-align: right;\n",
       "    }\n",
       "</style>\n",
       "<table border=\"1\" class=\"dataframe\">\n",
       "  <thead>\n",
       "    <tr style=\"text-align: right;\">\n",
       "      <th title=\"\"></th>\n",
       "      <th title=\"CAS Library\">casLib</th>\n",
       "      <th title=\"Name\">Name</th>\n",
       "      <th title=\"Label\">Label</th>\n",
       "      <th title=\"Number of Rows\">Rows</th>\n",
       "      <th title=\"Number of Columns\">Columns</th>\n",
       "      <th title=\"Table\">casTable</th>\n",
       "    </tr>\n",
       "  </thead>\n",
       "  <tbody>\n",
       "    <tr>\n",
       "      <td>0</td>\n",
       "      <td>CASUSER(jobake)</td>\n",
       "      <td>hmeq</td>\n",
       "      <td></td>\n",
       "      <td>5960</td>\n",
       "      <td>26</td>\n",
       "      <td>CASTable('hmeq', caslib='CASUSER(jobake)')</td>\n",
       "    </tr>\n",
       "  </tbody>\n",
       "</table>\n",
       "</div>\n",
       "</div>\n",
       "<div class=\"cas-output-area\"></div>\n",
       "<p class=\"cas-results-performance\"><small><span class=\"cas-elapsed\">elapsed 0.338s</span> &#183; <span class=\"cas-user\">user 0.883s</span> &#183; <span class=\"cas-sys\">sys 0.112s</span> &#183; <span class=\"cas-memory\">mem 408MB</span></small></p>"
      ],
      "text/plain": [
       "[SRSFreq]\n",
       "\n",
       " Frequencies\n",
       " \n",
       "    NObs  NSamp1  NSamp2\n",
       " 0  5960    4172    1192\n",
       "\n",
       "[OutputCasTables]\n",
       "\n",
       "             casLib  Name Label  Rows  Columns                                    casTable\n",
       " 0  CASUSER(jobake)  hmeq        5960       26  CASTable('hmeq', caslib='CASUSER(jobake)')\n",
       "\n",
       "+ Elapsed: 0.338s, user: 0.883s, sys: 0.112s, mem: 408mb"
      ]
     },
     "execution_count": 18,
     "metadata": {},
     "output_type": "execute_result"
    }
   ],
   "source": [
    "conn.sampling.srs(\n",
    "    table   = \"hmeq\",\n",
    "    samppct = 70,\n",
    "    samppct2 = 20,\n",
    "    seed = 919,\n",
    "    partind = True,\n",
    "    output  = dict(casOut = dict(name = \"hmeq\", replace = True),  copyVars = 'ALL')\n",
    ")"
   ]
  },
  {
   "cell_type": "markdown",
   "metadata": {},
   "source": [
    "# Dimension Reduction"
   ]
  },
  {
   "cell_type": "code",
   "execution_count": 19,
   "metadata": {},
   "outputs": [
    {
     "name": "stdout",
     "output_type": "stream",
     "text": [
      "NOTE: Added action set 'varReduce'.\n",
      "NOTE: Information for action set 'varReduce':\n",
      "NOTE:    varReduce\n",
      "NOTE:       unsuper - Provides an action for performing unsupervised dimension reduction\n",
      "NOTE:       super - Provides an action for performing supervised dimension reduction\n"
     ]
    }
   ],
   "source": [
    "conn.loadActionSet('varReduce')\n",
    "actions = conn.builtins.help(actionSet='varReduce')"
   ]
  },
  {
   "cell_type": "code",
   "execution_count": 20,
   "metadata": {},
   "outputs": [],
   "source": [
    "varReduce_obj = conn.varReduce.unsuper(\n",
    "    table = \"hmeq\",\n",
    "    inputs = inputs,\n",
    "    nominals = nominals[1:],\n",
    "    varexp = 0.95\n",
    ")"
   ]
  },
  {
   "cell_type": "code",
   "execution_count": 21,
   "metadata": {},
   "outputs": [
    {
     "data": {
      "text/plain": [
       "['IMP_REASON',\n",
       " 'IMP_VALUE',\n",
       " 'IMP_JOB',\n",
       " 'IMP_DEROG',\n",
       " 'IMP_YOJ',\n",
       " 'IMP_DEBTINC',\n",
       " 'IMP_DELINQ',\n",
       " 'IMP_CLAGE',\n",
       " 'IMP_NINQ',\n",
       " 'IMP_LOAN',\n",
       " 'IMP_CLNO']"
      ]
     },
     "execution_count": 21,
     "metadata": {},
     "output_type": "execute_result"
    }
   ],
   "source": [
    "varReduce_inputs = list(varReduce_obj['SelectedEffects']['Variable'])\n",
    "varReduce_inputs"
   ]
  },
  {
   "cell_type": "code",
   "execution_count": 22,
   "metadata": {},
   "outputs": [
    {
     "name": "stdout",
     "output_type": "stream",
     "text": [
      "The variable IMP_MORTDUE was removed from the input list.\n"
     ]
    }
   ],
   "source": [
    "print(\"The variable\",list(set(inputs) - set(varReduce_inputs))[0],\"was removed from the input list.\")"
   ]
  },
  {
   "cell_type": "markdown",
   "metadata": {},
   "source": [
    "# Logistic Regression"
   ]
  },
  {
   "cell_type": "code",
   "execution_count": 23,
   "metadata": {},
   "outputs": [
    {
     "name": "stdout",
     "output_type": "stream",
     "text": [
      "NOTE: Added action set 'regression'.\n",
      "NOTE: Information for action set 'regression':\n",
      "NOTE:    regression\n",
      "NOTE:       glm - Fits linear regression models using the method of least squares\n",
      "NOTE:       genmod - Fits generalized linear regression models\n",
      "NOTE:       logistic - Fits logistic regression models\n",
      "NOTE:       logisticType3 - computes Type 3 or Joint tests that all parameters for an effect are zero\n",
      "NOTE:       logisticCode - writes SAS DATA step code for computing predicted values of the fitted model\n",
      "NOTE:       genmodScore - creates a table on the server that contains results from scoring observations by using a fitted model\n",
      "NOTE:       logisticScore - creates a table on the server that contains results from scoring observations by using a fitted model\n",
      "NOTE:       glmScore - creates a table on the server that contains results from scoring observations by using a fitted model\n",
      "NOTE:       logisticAssociation - computes indices of rank correlation between predicted probabilities and observed responses used for assessing the predictive ability of a model\n",
      "NOTE:       logisticLackfit - computes the Hosmer and Lemeshow test\n",
      "NOTE:       logisticOddsRatio - creates a table that compares subpopulations by using odds ratios.\n",
      "NOTE:       modelMatrix - creates a table on the server that contains the design matrix associated with a given model statement.\n"
     ]
    }
   ],
   "source": [
    "conn.loadActionSet('regression')\n",
    "actions = conn.builtins.help(actionSet='regression')"
   ]
  },
  {
   "cell_type": "code",
   "execution_count": 24,
   "metadata": {},
   "outputs": [
    {
     "name": "stdout",
     "output_type": "stream",
     "text": [
      "NOTE: Convergence criterion (GCONV=1E-8) satisfied.\n",
      "NOTE: 450971 bytes were written to the table \"lr_model\" in the caslib \"CASUSER(jobake)\".\n"
     ]
    }
   ],
   "source": [
    "lr_model = conn.regression.logistic(\n",
    "    table    = dict(name = \"hmeq\", where = '_PartInd_ = 1'),\n",
    "    classVars = nominals[1:],\n",
    "    model = dict(depvar=target, effects=varReduce_inputs, dist='binomial', link='logit'),\n",
    "    store    = dict(name='lr_model',replace=True)\n",
    ")"
   ]
  },
  {
   "cell_type": "code",
   "execution_count": 25,
   "metadata": {},
   "outputs": [],
   "source": [
    "lr_score = conn.regression.logisticScore(\n",
    "    table    = dict(name = \"hmeq\", where = '_PartInd_ = 2'),\n",
    "    restore = \"lr_model\",\n",
    "    casout = dict(name=\"lr_scored\", replace=True),\n",
    "    copyVars = target\n",
    ")"
   ]
  },
  {
   "cell_type": "code",
   "execution_count": 26,
   "metadata": {},
   "outputs": [
    {
     "data": {
      "text/html": [
       "<div class=\"cas-results-key\"><b>&#167; Fetch</b></div>\n",
       "<div class=\"cas-results-body\">\n",
       "<div>\n",
       "<style scoped>\n",
       "    .dataframe tbody tr th:only-of-type {\n",
       "        vertical-align: middle;\n",
       "    }\n",
       "\n",
       "    .dataframe tbody tr th {\n",
       "        vertical-align: top;\n",
       "    }\n",
       "\n",
       "    .dataframe thead th {\n",
       "        text-align: right;\n",
       "    }\n",
       "</style>\n",
       "<table border=\"1\" class=\"dataframe\"><caption>Selected Rows from Table LR_ASSESS</caption>\n",
       "  <thead>\n",
       "    <tr style=\"text-align: right;\">\n",
       "      <th title=\"\"></th>\n",
       "      <th title=\"Analysis Variable\">_Column_</th>\n",
       "      <th title=\"Event\">_Event_</th>\n",
       "      <th title=\"Depth\">_Depth_</th>\n",
       "      <th title=\"Value\">_Value_</th>\n",
       "      <th title=\"Sum of Frequencies\">_NObs_</th>\n",
       "      <th title=\"Number of Events\">_NEvents_</th>\n",
       "      <th title=\"Best Number of Events\">_NEventsBest_</th>\n",
       "      <th title=\"% Captured Response\">_Resp_</th>\n",
       "      <th title=\"Best % Captured Response\">_RespBest_</th>\n",
       "      <th title=\"Lift\">_Lift_</th>\n",
       "      <th title=\"Cumulative % Captured Response\">_CumResp_</th>\n",
       "      <th title=\"Cumulative Best % Captured Response\">_CumRespBest_</th>\n",
       "      <th title=\"Cumulative Lift\">_CumLift_</th>\n",
       "      <th title=\"Best Cumulative Lift\">_CumLiftBest_</th>\n",
       "      <th title=\"% Response\">_PctResp_</th>\n",
       "      <th title=\"Best % Response\">_PctRespBest_</th>\n",
       "      <th title=\"Cumulative % Response\">_CumPctResp_</th>\n",
       "      <th title=\"Cumulative Best % Response\">_CumPctRespBest_</th>\n",
       "      <th title=\"Gain\">_Gain_</th>\n",
       "      <th title=\"Best Gain\">_GainBest_</th>\n",
       "    </tr>\n",
       "  </thead>\n",
       "  <tbody>\n",
       "    <tr>\n",
       "      <td>0</td>\n",
       "      <td>_PRED_</td>\n",
       "      <td>1</td>\n",
       "      <td>5.0</td>\n",
       "      <td>0.658550</td>\n",
       "      <td>60.0</td>\n",
       "      <td>50.0</td>\n",
       "      <td>60.0</td>\n",
       "      <td>21.551724</td>\n",
       "      <td>25.862069</td>\n",
       "      <td>4.310345</td>\n",
       "      <td>21.551724</td>\n",
       "      <td>25.862069</td>\n",
       "      <td>4.310345</td>\n",
       "      <td>5.172414</td>\n",
       "      <td>83.333333</td>\n",
       "      <td>100.0</td>\n",
       "      <td>83.333333</td>\n",
       "      <td>100.0</td>\n",
       "      <td>3.310345</td>\n",
       "      <td>4.172414</td>\n",
       "    </tr>\n",
       "    <tr>\n",
       "      <td>1</td>\n",
       "      <td>_PRED_</td>\n",
       "      <td>1</td>\n",
       "      <td>10.0</td>\n",
       "      <td>0.441717</td>\n",
       "      <td>60.0</td>\n",
       "      <td>36.0</td>\n",
       "      <td>60.0</td>\n",
       "      <td>15.517241</td>\n",
       "      <td>25.862069</td>\n",
       "      <td>3.103448</td>\n",
       "      <td>37.068966</td>\n",
       "      <td>51.724138</td>\n",
       "      <td>3.706897</td>\n",
       "      <td>5.172414</td>\n",
       "      <td>60.000000</td>\n",
       "      <td>100.0</td>\n",
       "      <td>71.666667</td>\n",
       "      <td>100.0</td>\n",
       "      <td>2.706897</td>\n",
       "      <td>4.172414</td>\n",
       "    </tr>\n",
       "    <tr>\n",
       "      <td>2</td>\n",
       "      <td>_PRED_</td>\n",
       "      <td>1</td>\n",
       "      <td>15.0</td>\n",
       "      <td>0.336316</td>\n",
       "      <td>60.0</td>\n",
       "      <td>18.0</td>\n",
       "      <td>60.0</td>\n",
       "      <td>7.758621</td>\n",
       "      <td>25.862069</td>\n",
       "      <td>1.551724</td>\n",
       "      <td>44.827586</td>\n",
       "      <td>77.586207</td>\n",
       "      <td>2.988506</td>\n",
       "      <td>5.172414</td>\n",
       "      <td>30.000000</td>\n",
       "      <td>100.0</td>\n",
       "      <td>57.777778</td>\n",
       "      <td>100.0</td>\n",
       "      <td>1.988506</td>\n",
       "      <td>4.172414</td>\n",
       "    </tr>\n",
       "  </tbody>\n",
       "</table>\n",
       "</div>\n",
       "</div>\n",
       "<div class=\"cas-output-area\"></div>\n",
       "<p class=\"cas-results-performance\"><small><span class=\"cas-elapsed\">elapsed 0.0118s</span> &#183; <span class=\"cas-user\">user 0.00653s</span> &#183; <span class=\"cas-sys\">sys 0.0203s</span> &#183; <span class=\"cas-memory\">mem 4.95MB</span></small></p>"
      ],
      "text/plain": [
       "[Fetch]\n",
       "\n",
       " Selected Rows from Table LR_ASSESS\n",
       " \n",
       "   _Column_ _Event_  _Depth_   _Value_  _NObs_  _NEvents_  _NEventsBest_     _Resp_  _RespBest_    _Lift_  _LiftBest_  _CumResp_  _CumRespBest_  _CumLift_  _CumLiftBest_  _PctResp_  _PctRespBest_  _CumPctResp_  _CumPctRespBest_    _Gain_  _GainBest_\n",
       " 0   _PRED_       1      5.0  0.658550    60.0       50.0           60.0  21.551724   25.862069  4.310345    5.172414  21.551724      25.862069   4.310345       5.172414  83.333333          100.0     83.333333             100.0  3.310345    4.172414\n",
       " 1   _PRED_       1     10.0  0.441717    60.0       36.0           60.0  15.517241   25.862069  3.103448    5.172414  37.068966      51.724138   3.706897       5.172414  60.000000          100.0     71.666667             100.0  2.706897    4.172414\n",
       " 2   _PRED_       1     15.0  0.336316    60.0       18.0           60.0   7.758621   25.862069  1.551724    5.172414  44.827586      77.586207   2.988506       5.172414  30.000000          100.0     57.777778             100.0  1.988506    4.172414\n",
       "\n",
       "+ Elapsed: 0.0118s, user: 0.00653s, sys: 0.0203s, mem: 4.95mb"
      ]
     },
     "metadata": {},
     "output_type": "display_data"
    },
    {
     "data": {
      "text/html": [
       "<div class=\"cas-results-key\"><b>&#167; Fetch</b></div>\n",
       "<div class=\"cas-results-body\">\n",
       "<div>\n",
       "<style scoped>\n",
       "    .dataframe tbody tr th:only-of-type {\n",
       "        vertical-align: middle;\n",
       "    }\n",
       "\n",
       "    .dataframe tbody tr th {\n",
       "        vertical-align: top;\n",
       "    }\n",
       "\n",
       "    .dataframe thead th {\n",
       "        text-align: right;\n",
       "    }\n",
       "</style>\n",
       "<table border=\"1\" class=\"dataframe\"><caption>Selected Rows from Table LR_ASSESS_ROC</caption>\n",
       "  <thead>\n",
       "    <tr style=\"text-align: right;\">\n",
       "      <th title=\"\"></th>\n",
       "      <th title=\"Analysis Variable\">_Column_</th>\n",
       "      <th title=\"Event\">_Event_</th>\n",
       "      <th title=\"Cutoff\">_Cutoff_</th>\n",
       "      <th title=\"True Positive\">_TP_</th>\n",
       "      <th title=\"False Positive\">_FP_</th>\n",
       "      <th title=\"False Negative\">_FN_</th>\n",
       "      <th title=\"True Negative\">_TN_</th>\n",
       "      <th title=\"Sensitivity\">_Sensitivity_</th>\n",
       "      <th title=\"Specificity\">_Specificity_</th>\n",
       "      <th title=\"KS Cutoff\">_KS_</th>\n",
       "      <th title=\"False Positive Rate\">_FPR_</th>\n",
       "      <th title=\"Accuracy\">_ACC_</th>\n",
       "      <th title=\"False Discovery Rate\">_FDR_</th>\n",
       "      <th title=\"F1 Score\">_F1_</th>\n",
       "      <th title=\"Area Under ROC\">_C_</th>\n",
       "      <th title=\"Gini Coefficient\">_GINI_</th>\n",
       "      <th title=\"Gamma\">_GAMMA_</th>\n",
       "      <th title=\"Tau\">_TAU_</th>\n",
       "      <th title=\"Misclassification (Event)\">_MiscEvent_</th>\n",
       "      <th title=\"False Negative Rate\">_FNR_</th>\n",
       "    </tr>\n",
       "  </thead>\n",
       "  <tbody>\n",
       "    <tr>\n",
       "      <td>0</td>\n",
       "      <td>_PRED_</td>\n",
       "      <td>1</td>\n",
       "      <td>0.00</td>\n",
       "      <td>232.0</td>\n",
       "      <td>960.0</td>\n",
       "      <td>0.0</td>\n",
       "      <td>0.0</td>\n",
       "      <td>1.000000</td>\n",
       "      <td>0.000000</td>\n",
       "      <td>0.0</td>\n",
       "      <td>1.000000</td>\n",
       "      <td>0.194631</td>\n",
       "      <td>0.805369</td>\n",
       "      <td>0.325843</td>\n",
       "      <td>0.782269</td>\n",
       "      <td>0.564538</td>\n",
       "      <td>0.57407</td>\n",
       "      <td>0.177131</td>\n",
       "      <td>0.805369</td>\n",
       "      <td>0.000000</td>\n",
       "    </tr>\n",
       "    <tr>\n",
       "      <td>1</td>\n",
       "      <td>_PRED_</td>\n",
       "      <td>1</td>\n",
       "      <td>0.01</td>\n",
       "      <td>230.0</td>\n",
       "      <td>952.0</td>\n",
       "      <td>2.0</td>\n",
       "      <td>8.0</td>\n",
       "      <td>0.991379</td>\n",
       "      <td>0.008333</td>\n",
       "      <td>0.0</td>\n",
       "      <td>0.991667</td>\n",
       "      <td>0.199664</td>\n",
       "      <td>0.805415</td>\n",
       "      <td>0.325318</td>\n",
       "      <td>0.782269</td>\n",
       "      <td>0.564538</td>\n",
       "      <td>0.57407</td>\n",
       "      <td>0.177131</td>\n",
       "      <td>0.800336</td>\n",
       "      <td>0.008621</td>\n",
       "    </tr>\n",
       "    <tr>\n",
       "      <td>2</td>\n",
       "      <td>_PRED_</td>\n",
       "      <td>1</td>\n",
       "      <td>0.02</td>\n",
       "      <td>228.0</td>\n",
       "      <td>936.0</td>\n",
       "      <td>4.0</td>\n",
       "      <td>24.0</td>\n",
       "      <td>0.982759</td>\n",
       "      <td>0.025000</td>\n",
       "      <td>0.0</td>\n",
       "      <td>0.975000</td>\n",
       "      <td>0.211409</td>\n",
       "      <td>0.804124</td>\n",
       "      <td>0.326648</td>\n",
       "      <td>0.782269</td>\n",
       "      <td>0.564538</td>\n",
       "      <td>0.57407</td>\n",
       "      <td>0.177131</td>\n",
       "      <td>0.788591</td>\n",
       "      <td>0.017241</td>\n",
       "    </tr>\n",
       "  </tbody>\n",
       "</table>\n",
       "</div>\n",
       "</div>\n",
       "<div class=\"cas-output-area\"></div>\n",
       "<p class=\"cas-results-performance\"><small><span class=\"cas-elapsed\">elapsed 0.0139s</span> &#183; <span class=\"cas-user\">user 0.000648s</span> &#183; <span class=\"cas-sys\">sys 0.0277s</span> &#183; <span class=\"cas-memory\">mem 4.96MB</span></small></p>"
      ],
      "text/plain": [
       "[Fetch]\n",
       "\n",
       " Selected Rows from Table LR_ASSESS_ROC\n",
       " \n",
       "   _Column_ _Event_  _Cutoff_   _TP_   _FP_  _FN_  _TN_  _Sensitivity_  _Specificity_  _KS_     _KS2_   _FHALF_     _FPR_     _ACC_     _FDR_      _F1_       _C_    _GINI_  _GAMMA_     _TAU_  _MiscEvent_     _FNR_\n",
       " 0   _PRED_       1      0.00  232.0  960.0   0.0   0.0       1.000000       0.000000   0.0  0.000000  0.232000  1.000000  0.194631  0.805369  0.325843  0.782269  0.564538  0.57407  0.177131     0.805369  0.000000\n",
       " 1   _PRED_       1      0.01  230.0  952.0   2.0   8.0       0.991379       0.008333   0.0 -0.000287  0.231855  0.991667  0.199664  0.805415  0.325318  0.782269  0.564538  0.57407  0.177131     0.800336  0.008621\n",
       " 2   _PRED_       1      0.02  228.0  936.0   4.0  24.0       0.982759       0.025000   0.0  0.007759  0.233224  0.975000  0.211409  0.804124  0.326648  0.782269  0.564538  0.57407  0.177131     0.788591  0.017241\n",
       "\n",
       "+ Elapsed: 0.0139s, user: 0.000648s, sys: 0.0277s, mem: 4.96mb"
      ]
     },
     "execution_count": 26,
     "metadata": {},
     "output_type": "execute_result"
    }
   ],
   "source": [
    "lr_assess = conn.percentile.assess(\n",
    "   table = 'lr_scored',\n",
    "   inputs = \"_PRED_\",\n",
    "   casout = dict(name=\"lr_assess\",replace=True),\n",
    "   response = target,\n",
    "   event = \"1\"\n",
    ")\n",
    "\n",
    "display(conn.table.fetch(table=\"lr_assess\", to=3))\n",
    "conn.table.fetch(table=\"lr_assess_ROC\", to=3)"
   ]
  },
  {
   "cell_type": "code",
   "execution_count": 27,
   "metadata": {},
   "outputs": [
    {
     "data": {
      "text/html": [
       "<div>\n",
       "<style scoped>\n",
       "    .dataframe tbody tr th:only-of-type {\n",
       "        vertical-align: middle;\n",
       "    }\n",
       "\n",
       "    .dataframe tbody tr th {\n",
       "        vertical-align: top;\n",
       "    }\n",
       "\n",
       "    .dataframe thead th {\n",
       "        text-align: right;\n",
       "    }\n",
       "</style>\n",
       "<table border=\"1\" class=\"dataframe\">\n",
       "  <thead>\n",
       "    <tr style=\"text-align: right;\">\n",
       "      <th></th>\n",
       "      <th>Model</th>\n",
       "      <th>Misclassification</th>\n",
       "      <th>Area Under Curve</th>\n",
       "    </tr>\n",
       "  </thead>\n",
       "  <tbody>\n",
       "    <tr>\n",
       "      <th>0</th>\n",
       "      <td>Logistic Regression CAS</td>\n",
       "      <td>0.153523</td>\n",
       "      <td>0.782269</td>\n",
       "    </tr>\n",
       "  </tbody>\n",
       "</table>\n",
       "</div>"
      ],
      "text/plain": [
       "                     Model  Misclassification  Area Under Curve\n",
       "0  Logistic Regression CAS           0.153523          0.782269"
      ]
     },
     "execution_count": 27,
     "metadata": {},
     "output_type": "execute_result"
    }
   ],
   "source": [
    "lr_assess_ROC = conn.CASTable(name = \"lr_assess_ROC\")\n",
    "lr_assess_ROC = lr_assess_ROC.to_frame()\n",
    "lr_assess_ROC['Model'] = 'Logistic Regression CAS'\n",
    "cutoff_index = round(lr_assess_ROC['_Cutoff_'],2)==0.5\n",
    "lr_assess_ROC = lr_assess_ROC[cutoff_index].reset_index(drop=True)\n",
    "lr_metrics_cas = pd.DataFrame([[\"Logistic Regression CAS\", 1-lr_assess_ROC['_ACC_'][0], lr_assess_ROC['_C_'][0]]], columns=[\"Model\", \"Misclassification\", \"Area Under Curve\"])\n",
    "lr_metrics_cas"
   ]
  },
  {
   "cell_type": "markdown",
   "metadata": {},
   "source": [
    "# Decision Tree"
   ]
  },
  {
   "cell_type": "code",
   "execution_count": 28,
   "metadata": {},
   "outputs": [
    {
     "name": "stdout",
     "output_type": "stream",
     "text": [
      "NOTE: Added action set 'decisionTree'.\n",
      "NOTE: Information for action set 'decisionTree':\n",
      "NOTE:    decisionTree\n",
      "NOTE:       dtreeTrain - Trains a decision tree\n",
      "NOTE:       dtreeScore - Scores a table using a decision tree model\n",
      "NOTE:       dtreeSplit - Splits decision tree nodes\n",
      "NOTE:       dtreePrune - Prune a decision tree\n",
      "NOTE:       dtreeMerge - Merges decision tree nodes\n",
      "NOTE:       dtreeCode - Generates DATA step scoring code from a decision tree model\n",
      "NOTE:       forestTrain - Trains a forest. This action requires a SAS Visual Data Mining and Machine Learning license\n",
      "NOTE:       forestScore - Scores a table using a forest model\n",
      "NOTE:       forestCode - Generates DATA step scoring code from a forest model\n",
      "NOTE:       gbtreeTrain - Trains a gradient boosting tree. This action requires a SAS Visual Data Mining and Machine Learning license\n",
      "NOTE:       gbtreeScore - Scores a table using a gradient boosting tree model\n",
      "NOTE:       gbtreeCode - Generates DATA step scoring code from a gradient boosting tree model\n",
      "NOTE:       dtreeExportModel - Export the aStore model for a tree model table\n"
     ]
    }
   ],
   "source": [
    "conn.loadActionSet('decisionTree')\n",
    "actions = conn.builtins.help(actionSet='decisionTree')"
   ]
  },
  {
   "cell_type": "code",
   "execution_count": 29,
   "metadata": {},
   "outputs": [
    {
     "data": {
      "text/html": [
       "<div>\n",
       "<style scoped>\n",
       "    .dataframe tbody tr th:only-of-type {\n",
       "        vertical-align: middle;\n",
       "    }\n",
       "\n",
       "    .dataframe tbody tr th {\n",
       "        vertical-align: top;\n",
       "    }\n",
       "\n",
       "    .dataframe thead th {\n",
       "        text-align: right;\n",
       "    }\n",
       "</style>\n",
       "<table border=\"1\" class=\"dataframe\">\n",
       "  <thead>\n",
       "    <tr style=\"text-align: right;\">\n",
       "      <th></th>\n",
       "      <th>Model</th>\n",
       "      <th>Misclassification</th>\n",
       "      <th>Area Under Curve</th>\n",
       "    </tr>\n",
       "  </thead>\n",
       "  <tbody>\n",
       "    <tr>\n",
       "      <th>0</th>\n",
       "      <td>Decision Tree CAS</td>\n",
       "      <td>0.15604</td>\n",
       "      <td>0.673076</td>\n",
       "    </tr>\n",
       "  </tbody>\n",
       "</table>\n",
       "</div>"
      ],
      "text/plain": [
       "               Model  Misclassification  Area Under Curve\n",
       "0  Decision Tree CAS            0.15604          0.673076"
      ]
     },
     "execution_count": 29,
     "metadata": {},
     "output_type": "execute_result"
    }
   ],
   "source": [
    "dt_model = conn.decisionTree.dtreeTrain(\n",
    "    table    = dict(name = \"hmeq\", where = '_PartInd_ = 1'),\n",
    "    target   = target, \n",
    "    inputs   = varReduce_inputs, \n",
    "    nominals = nominals,\n",
    "    casOut   = dict(name = 'dt_model', replace = True)\n",
    ")\n",
    "\n",
    "dt_score = conn.decisionTree.dtreeScore(\n",
    "    table    = dict(name = \"hmeq\", where = '_PartInd_ = 2'),\n",
    "    model = \"dt_model\",\n",
    "    casout = dict(name=\"dt_scored\",replace=True),\n",
    "    copyVars = target,\n",
    "    encodename = True,\n",
    "    assessonerow = True\n",
    ")\n",
    "\n",
    "dt_assess = conn.percentile.assess(\n",
    "   table = \"dt_scored\",\n",
    "   inputs = \"P_BAD1\",\n",
    "   casout = dict(name=\"dt_assess\",replace=True),\n",
    "   response = target,\n",
    "   event = \"1\"\n",
    ")\n",
    "\n",
    "dt_assess_ROC = conn.CASTable(name = \"dt_assess_ROC\")\n",
    "dt_assess_ROC = dt_assess_ROC.to_frame()\n",
    "cutoff_index = round(dt_assess_ROC['_Cutoff_'],2)==0.5\n",
    "dt_assess_ROC = dt_assess_ROC[cutoff_index].reset_index(drop=True)\n",
    "dt_metrics_cas = pd.DataFrame([[\"Decision Tree CAS\", 1-dt_assess_ROC['_ACC_'][0], dt_assess_ROC['_C_'][0]]], columns=[\"Model\", \"Misclassification\", \"Area Under Curve\"])\n",
    "dt_metrics_cas"
   ]
  },
  {
   "cell_type": "markdown",
   "metadata": {},
   "source": [
    "# Random Forest"
   ]
  },
  {
   "cell_type": "code",
   "execution_count": 30,
   "metadata": {},
   "outputs": [
    {
     "data": {
      "text/html": [
       "<div>\n",
       "<style scoped>\n",
       "    .dataframe tbody tr th:only-of-type {\n",
       "        vertical-align: middle;\n",
       "    }\n",
       "\n",
       "    .dataframe tbody tr th {\n",
       "        vertical-align: top;\n",
       "    }\n",
       "\n",
       "    .dataframe thead th {\n",
       "        text-align: right;\n",
       "    }\n",
       "</style>\n",
       "<table border=\"1\" class=\"dataframe\">\n",
       "  <thead>\n",
       "    <tr style=\"text-align: right;\">\n",
       "      <th></th>\n",
       "      <th>Model</th>\n",
       "      <th>Misclassification</th>\n",
       "      <th>Area Under Curve</th>\n",
       "    </tr>\n",
       "  </thead>\n",
       "  <tbody>\n",
       "    <tr>\n",
       "      <th>0</th>\n",
       "      <td>Random Forest CAS</td>\n",
       "      <td>0.156879</td>\n",
       "      <td>0.75412</td>\n",
       "    </tr>\n",
       "  </tbody>\n",
       "</table>\n",
       "</div>"
      ],
      "text/plain": [
       "               Model  Misclassification  Area Under Curve\n",
       "0  Random Forest CAS           0.156879           0.75412"
      ]
     },
     "execution_count": 30,
     "metadata": {},
     "output_type": "execute_result"
    }
   ],
   "source": [
    "rf_model = conn.decisionTree.forestTrain(\n",
    "    table    = dict(name = \"hmeq\", where = '_PartInd_ = 1'),\n",
    "    target   = target, \n",
    "    inputs   = varReduce_inputs, \n",
    "    nominals = nominals,\n",
    "    casOut   = dict(name = 'rf_model', replace = True)\n",
    ")\n",
    "\n",
    "rf_score = conn.decisionTree.forestScore(\n",
    "    table    = dict(name = \"hmeq\", where = '_PartInd_ = 2'),\n",
    "    model = \"rf_model\",\n",
    "    casout = dict(name=\"rf_scored\",replace=True),\n",
    "    copyVars = target,\n",
    "    encodename = True,\n",
    "    assessonerow = True\n",
    ")\n",
    "\n",
    "rf_assess = conn.percentile.assess(\n",
    "   table = \"rf_scored\",\n",
    "   inputs = \"P_BAD1\",\n",
    "   casout = dict(name=\"rf_assess\",replace=True),\n",
    "   response = target,\n",
    "   event = \"1\"\n",
    ")\n",
    "\n",
    "rf_assess_ROC = conn.CASTable(name = \"rf_assess_ROC\")\n",
    "rf_assess_ROC = rf_assess_ROC.to_frame()\n",
    "cutoff_index = round(rf_assess_ROC['_Cutoff_'],2)==0.5\n",
    "rf_assess_ROC = rf_assess_ROC[cutoff_index].reset_index(drop=True)\n",
    "rf_metrics_cas = pd.DataFrame([[\"Random Forest CAS\", 1-rf_assess_ROC['_ACC_'][0], rf_assess_ROC['_C_'][0]]], columns=[\"Model\", \"Misclassification\", \"Area Under Curve\"])\n",
    "rf_metrics_cas"
   ]
  },
  {
   "cell_type": "markdown",
   "metadata": {},
   "source": [
    "# Gradient Boosting"
   ]
  },
  {
   "cell_type": "code",
   "execution_count": 31,
   "metadata": {},
   "outputs": [
    {
     "data": {
      "text/html": [
       "<div>\n",
       "<style scoped>\n",
       "    .dataframe tbody tr th:only-of-type {\n",
       "        vertical-align: middle;\n",
       "    }\n",
       "\n",
       "    .dataframe tbody tr th {\n",
       "        vertical-align: top;\n",
       "    }\n",
       "\n",
       "    .dataframe thead th {\n",
       "        text-align: right;\n",
       "    }\n",
       "</style>\n",
       "<table border=\"1\" class=\"dataframe\">\n",
       "  <thead>\n",
       "    <tr style=\"text-align: right;\">\n",
       "      <th></th>\n",
       "      <th>Model</th>\n",
       "      <th>Misclassification</th>\n",
       "      <th>Area Under Curve</th>\n",
       "    </tr>\n",
       "  </thead>\n",
       "  <tbody>\n",
       "    <tr>\n",
       "      <th>0</th>\n",
       "      <td>Gradient Boosting CAS</td>\n",
       "      <td>0.118289</td>\n",
       "      <td>0.911371</td>\n",
       "    </tr>\n",
       "  </tbody>\n",
       "</table>\n",
       "</div>"
      ],
      "text/plain": [
       "                   Model  Misclassification  Area Under Curve\n",
       "0  Gradient Boosting CAS           0.118289          0.911371"
      ]
     },
     "execution_count": 31,
     "metadata": {},
     "output_type": "execute_result"
    }
   ],
   "source": [
    "gb_model = conn.decisionTree.gbtreeTrain(\n",
    "    table    = dict(name = \"hmeq\", where = '_PartInd_ = 1'),\n",
    "    target   = target, \n",
    "    inputs   = varReduce_inputs, \n",
    "    nominals = nominals,\n",
    "    casOut   = dict(name = 'gb_model', replace = True)\n",
    ")\n",
    "\n",
    "gb_score = conn.decisionTree.gbtreeScore(\n",
    "    table    = dict(name = \"hmeq\", where = '_PartInd_ = 2'),\n",
    "    model = \"gb_model\",\n",
    "    casout = dict(name=\"gb_scored\",replace=True),\n",
    "    copyVars = target,\n",
    "    encodename = True,\n",
    "    assessonerow = True\n",
    ")\n",
    "\n",
    "gb_assess = conn.percentile.assess(\n",
    "   table = \"gb_scored\",\n",
    "   inputs = \"P_BAD1\",\n",
    "   casout = dict(name=\"gb_assess\",replace=True),\n",
    "   response = target,\n",
    "   event = \"1\"\n",
    ")\n",
    "\n",
    "gb_assess_ROC = conn.CASTable(name = \"gb_assess_ROC\")\n",
    "gb_assess_ROC = gb_assess_ROC.to_frame()\n",
    "cutoff_index = round(gb_assess_ROC['_Cutoff_'],2)==0.5\n",
    "gb_assess_ROC = gb_assess_ROC[cutoff_index].reset_index(drop=True)\n",
    "gb_metrics_cas = pd.DataFrame([[\"Gradient Boosting CAS\", 1-gb_assess_ROC['_ACC_'][0], gb_assess_ROC['_C_'][0]]], columns=[\"Model\", \"Misclassification\", \"Area Under Curve\"])\n",
    "gb_metrics_cas"
   ]
  },
  {
   "cell_type": "markdown",
   "metadata": {},
   "source": [
    "# Deep Learning"
   ]
  },
  {
   "cell_type": "code",
   "execution_count": 32,
   "metadata": {},
   "outputs": [
    {
     "name": "stdout",
     "output_type": "stream",
     "text": [
      "NOTE: Added action set 'deepLearn'.\n",
      "NOTE: Information for action set 'deepLearn':\n",
      "NOTE:    deepLearn\n",
      "NOTE:       buildModel - Creates an empty Deep Learning model\n",
      "NOTE:       addLayer - Adds a layer to a Deep Learning model\n",
      "NOTE:       removeLayer - Removes a layer from a Deep Learning model\n",
      "NOTE:       dlPrune - Prunes a layer in a Deep Learning model\n",
      "NOTE:       modelInfo - Displays model information\n",
      "NOTE:       dlTune - Tunes hyperparameters for Deep Learning model\n",
      "NOTE:       dlTrain - Trains a Deep Learning model\n",
      "NOTE:       dlScore - Scores a table using a Deep Learning model\n",
      "NOTE:       dlExportModel - Exports a Deep Learning model\n",
      "NOTE:       dlLabelTarget - Assigns the target label information\n",
      "NOTE:       dlImportModelWeights - Imports model weights from an external source\n",
      "NOTE:       dlJoin - Joins the data table and the annotation table\n"
     ]
    }
   ],
   "source": [
    "conn.loadActionSet('deepLearn')\n",
    "actions = conn.builtins.help(actionSet='deepLearn')"
   ]
  },
  {
   "cell_type": "code",
   "execution_count": 33,
   "metadata": {},
   "outputs": [
    {
     "data": {
      "text/html": [
       "<div class=\"cas-results-key\"><b>&#167; ModelInfo</b></div>\n",
       "<div class=\"cas-results-body\">\n",
       "<div>\n",
       "<style scoped>\n",
       "    .dataframe tbody tr th:only-of-type {\n",
       "        vertical-align: middle;\n",
       "    }\n",
       "\n",
       "    .dataframe tbody tr th {\n",
       "        vertical-align: top;\n",
       "    }\n",
       "\n",
       "    .dataframe thead th {\n",
       "        text-align: right;\n",
       "    }\n",
       "</style>\n",
       "<table border=\"1\" class=\"dataframe\">\n",
       "  <thead>\n",
       "    <tr style=\"text-align: right;\">\n",
       "      <th title=\"\"></th>\n",
       "      <th title=\"Descr\">Descr</th>\n",
       "      <th title=\"Value\">Value</th>\n",
       "    </tr>\n",
       "  </thead>\n",
       "  <tbody>\n",
       "    <tr>\n",
       "      <td>0</td>\n",
       "      <td>Model Name</td>\n",
       "      <td>dnn</td>\n",
       "    </tr>\n",
       "    <tr>\n",
       "      <td>1</td>\n",
       "      <td>Model Type</td>\n",
       "      <td>Deep Neural Network</td>\n",
       "    </tr>\n",
       "    <tr>\n",
       "      <td>2</td>\n",
       "      <td>Number of Layers</td>\n",
       "      <td>4</td>\n",
       "    </tr>\n",
       "    <tr>\n",
       "      <td>3</td>\n",
       "      <td>Number of Input Layers</td>\n",
       "      <td>1</td>\n",
       "    </tr>\n",
       "    <tr>\n",
       "      <td>4</td>\n",
       "      <td>Number of Output Layers</td>\n",
       "      <td>1</td>\n",
       "    </tr>\n",
       "    <tr>\n",
       "      <td>5</td>\n",
       "      <td>Number of Fully Connected Layers</td>\n",
       "      <td>2</td>\n",
       "    </tr>\n",
       "  </tbody>\n",
       "</table>\n",
       "</div>\n",
       "</div>\n",
       "<div class=\"cas-output-area\"></div>\n",
       "<p class=\"cas-results-performance\"><small><span class=\"cas-elapsed\">elapsed 0.0357s</span> &#183; <span class=\"cas-user\">user 0.156s</span> &#183; <span class=\"cas-sys\">sys 0.0935s</span> &#183; <span class=\"cas-memory\">mem 25.6MB</span></small></p>"
      ],
      "text/plain": [
       "[ModelInfo]\n",
       "\n",
       "                               Descr                Value\n",
       " 0                        Model Name                  dnn\n",
       " 1                        Model Type  Deep Neural Network\n",
       " 2                  Number of Layers                    4\n",
       " 3            Number of Input Layers                    1\n",
       " 4           Number of Output Layers                    1\n",
       " 5  Number of Fully Connected Layers                    2\n",
       "\n",
       "+ Elapsed: 0.0357s, user: 0.156s, sys: 0.0935s, mem: 25.6mb"
      ]
     },
     "execution_count": 33,
     "metadata": {},
     "output_type": "execute_result"
    }
   ],
   "source": [
    "conn.deepLearn.buildModel(\n",
    "    model = dict(name='dnn',replace=True),\n",
    "    type = 'dnn'\n",
    ")\n",
    "\n",
    "conn.deepLearn.addLayer(\n",
    "    model = 'dnn',\n",
    "    layer = dict(type='input', std='STD'),\n",
    "    replace=True,\n",
    "    name = 'data'\n",
    ")\n",
    "\n",
    "conn.deepLearn.addLayer(\n",
    "    model = 'dnn',\n",
    "    layer = dict(type='fc', n=15),\n",
    "    srcLayers = 'data',\n",
    "    replace=True,\n",
    "    name = 'hl1'\n",
    ")\n",
    "\n",
    "conn.deepLearn.addLayer(\n",
    "    model = 'dnn',\n",
    "    layer = dict(type='fc', n=15),\n",
    "    srcLayers = 'hl1',\n",
    "    replace=True,\n",
    "    name = 'hl2'\n",
    ")\n",
    "\n",
    "conn.deepLearn.addLayer(\n",
    "    model = 'dnn',\n",
    "    layer = dict(type='output'),\n",
    "    srcLayers = 'hl2',\n",
    "    replace=True,\n",
    "    name = 'output'\n",
    ")\n",
    "\n",
    "conn.deepLearn.modelInfo(\n",
    "    modelTable = 'dnn'\n",
    ")"
   ]
  },
  {
   "cell_type": "code",
   "execution_count": 34,
   "metadata": {},
   "outputs": [
    {
     "name": "stdout",
     "output_type": "stream",
     "text": [
      "NOTE:  Synchronous mode is enabled.\n",
      "NOTE:  The total number of parameters is 542.\n",
      "NOTE:  The approximate memory cost is 2.00 MB.\n",
      "NOTE:  The total number of workers is 3.\n",
      "NOTE:  The total number of threads on each worker is 48.\n",
      "NOTE:  The maximum mini-batch size per thread on each worker is 50.\n",
      "NOTE:  The maximum mini-batch size across all workers for the synchronous mode is 7200.\n",
      "NOTE:  The optimization reached the maximum number of epochs.\n",
      "NOTE:  The total time is       3.08 (s).\n"
     ]
    },
    {
     "data": {
      "text/html": [
       "<div>\n",
       "<style scoped>\n",
       "    .dataframe tbody tr th:only-of-type {\n",
       "        vertical-align: middle;\n",
       "    }\n",
       "\n",
       "    .dataframe tbody tr th {\n",
       "        vertical-align: top;\n",
       "    }\n",
       "\n",
       "    .dataframe thead th {\n",
       "        text-align: right;\n",
       "    }\n",
       "</style>\n",
       "<table border=\"1\" class=\"dataframe\">\n",
       "  <thead>\n",
       "    <tr style=\"text-align: right;\">\n",
       "      <th></th>\n",
       "      <th>Model</th>\n",
       "      <th>Misclassification</th>\n",
       "      <th>Area Under Curve</th>\n",
       "    </tr>\n",
       "  </thead>\n",
       "  <tbody>\n",
       "    <tr>\n",
       "      <th>0</th>\n",
       "      <td>Neural Network CAS</td>\n",
       "      <td>0.135906</td>\n",
       "      <td>0.842852</td>\n",
       "    </tr>\n",
       "  </tbody>\n",
       "</table>\n",
       "</div>"
      ],
      "text/plain": [
       "                Model  Misclassification  Area Under Curve\n",
       "0  Neural Network CAS           0.135906          0.842852"
      ]
     },
     "execution_count": 34,
     "metadata": {},
     "output_type": "execute_result"
    }
   ],
   "source": [
    "conn.deepLearn.dlTrain(\n",
    "    table = dict(name = \"hmeq\", where = '_PartInd_ = 1'),\n",
    "    target = target,\n",
    "    inputs = varReduce_inputs,\n",
    "    nominals = nominals,\n",
    "    modelTable='dnn',\n",
    "    modelWeights=dict(name='dnn_trained_weights',replace=True),\n",
    "    optimizer = dict(miniBatchSize=50, maxEpochs=75,  loglevel=1,\n",
    "                     algorithm=dict(method='adam'))\n",
    ")\n",
    "\n",
    "conn.deepLearn.dlScore(\n",
    "    table = dict(name = \"hmeq\", where = '_PartInd_ = 2'),\n",
    "    model = 'dnn',\n",
    "    initWeights = 'dnn_trained_weights',\n",
    "    copyVars = target,\n",
    "    casout = dict(name='dnn_scored', replace=True)\n",
    ")\n",
    "\n",
    "conn.percentile.assess(\n",
    "   table = \"dnn_scored\",\n",
    "   inputs = \"_DL_P0_\",\n",
    "   casout = dict(name=\"dnn_assess\",replace=True),\n",
    "   response = target,\n",
    "   event = \"1\"\n",
    ")\n",
    "\n",
    "nn_assess_ROC = conn.CASTable(name = \"dnn_assess_ROC\")\n",
    "nn_assess_ROC = nn_assess_ROC.to_frame()\n",
    "cutoff_index = round(nn_assess_ROC['_Cutoff_'],2)==0.5\n",
    "nn_assess_ROC = nn_assess_ROC[cutoff_index].reset_index(drop=True)\n",
    "nn_metrics_cas = pd.DataFrame([[\"Neural Network CAS\", 1-nn_assess_ROC['_ACC_'][0], nn_assess_ROC['_C_'][0]]], columns=[\"Model\", \"Misclassification\", \"Area Under Curve\"])\n",
    "nn_metrics_cas"
   ]
  },
  {
   "cell_type": "markdown",
   "metadata": {},
   "source": [
    "# Hyperparameter Tuning"
   ]
  },
  {
   "cell_type": "code",
   "execution_count": 35,
   "metadata": {},
   "outputs": [
    {
     "data": {
      "text/html": [
       "<div>\n",
       "<style scoped>\n",
       "    .dataframe tbody tr th:only-of-type {\n",
       "        vertical-align: middle;\n",
       "    }\n",
       "\n",
       "    .dataframe tbody tr th {\n",
       "        vertical-align: top;\n",
       "    }\n",
       "\n",
       "    .dataframe thead th {\n",
       "        text-align: right;\n",
       "    }\n",
       "</style>\n",
       "<table border=\"1\" class=\"dataframe\">\n",
       "  <thead>\n",
       "    <tr style=\"text-align: right;\">\n",
       "      <th></th>\n",
       "      <th>Model</th>\n",
       "      <th>Misclassification</th>\n",
       "      <th>Area Under Curve</th>\n",
       "    </tr>\n",
       "  </thead>\n",
       "  <tbody>\n",
       "    <tr>\n",
       "      <th>0</th>\n",
       "      <td>Gradient Boosting CAS</td>\n",
       "      <td>0.118289</td>\n",
       "      <td>0.911371</td>\n",
       "    </tr>\n",
       "    <tr>\n",
       "      <th>1</th>\n",
       "      <td>Neural Network CAS</td>\n",
       "      <td>0.135906</td>\n",
       "      <td>0.842852</td>\n",
       "    </tr>\n",
       "    <tr>\n",
       "      <th>2</th>\n",
       "      <td>Logistic Regression CAS</td>\n",
       "      <td>0.153523</td>\n",
       "      <td>0.782269</td>\n",
       "    </tr>\n",
       "    <tr>\n",
       "      <th>3</th>\n",
       "      <td>Decision Tree CAS</td>\n",
       "      <td>0.156040</td>\n",
       "      <td>0.673076</td>\n",
       "    </tr>\n",
       "    <tr>\n",
       "      <th>4</th>\n",
       "      <td>Random Forest CAS</td>\n",
       "      <td>0.156879</td>\n",
       "      <td>0.754120</td>\n",
       "    </tr>\n",
       "  </tbody>\n",
       "</table>\n",
       "</div>"
      ],
      "text/plain": [
       "                     Model  Misclassification  Area Under Curve\n",
       "0    Gradient Boosting CAS           0.118289          0.911371\n",
       "1       Neural Network CAS           0.135906          0.842852\n",
       "2  Logistic Regression CAS           0.153523          0.782269\n",
       "3        Decision Tree CAS           0.156040          0.673076\n",
       "4        Random Forest CAS           0.156879          0.754120"
      ]
     },
     "execution_count": 35,
     "metadata": {},
     "output_type": "execute_result"
    }
   ],
   "source": [
    "all_models_cas = pd.concat([lr_metrics_cas, dt_metrics_cas, rf_metrics_cas, gb_metrics_cas, nn_metrics_cas])\n",
    "all_models_cas.sort_values('Misclassification').reset_index(drop=True)"
   ]
  },
  {
   "cell_type": "code",
   "execution_count": 36,
   "metadata": {},
   "outputs": [
    {
     "name": "stdout",
     "output_type": "stream",
     "text": [
      "NOTE: Added action set 'autotune'.\n",
      "NOTE: Information for action set 'autotune':\n",
      "NOTE:    autotune\n",
      "NOTE:       tuneSvm - Automatically adjusts support vector machine parameters to tune a model for minimum error\n",
      "NOTE:       tuneForest - Automatically adjusts forest parameters to tune a model for minimum error\n",
      "NOTE:       tuneDecisionTree - Automatically adjusts decision tree parameters to tune a model for minimum error\n",
      "NOTE:       tuneNeuralNet - Automatically adjusts neural network parameters to tune a model for minimum error\n",
      "NOTE:       tuneGradientBoostTree - Automatically adjusts gradient boosting tree parameters to tune a model for minimum error\n",
      "NOTE:       tuneFactMac - Automatically adjusts factorization machine parameters to tune a model for minimum error\n",
      "NOTE:       tuneBnet - Automatically adjusts Bayesian network classifier parameters to tune a model for minimum error\n",
      "NOTE:       tuneTsne - Automatically adjusts t-Distributed Stochastic Neighbor Embedding algorithm parameters to tune for minimum loss\n",
      "NOTE:       tuneGraphMultiReg - Automatically adjusts Generalized Linear Multitask Learning technique parameters to tune for best objective metric value\n",
      "NOTE:       tuneAll - Automatically tunes hyperparameters for multiple models types concurrently.\n",
      "NOTE:       tuneLabelSpread - Automatically adjusts Label Spreading technique parameters to tune for best objective metric value\n",
      "NOTE:       modelComposer - Automatically tunes hyperparameters for multiple models types concurrently, with optimal allocations.\n",
      "NOTE:       tuneGlm - Automatically adjusts linear regression parameters to tune a model for minimum error\n",
      "NOTE:       tuneLogistic - Automatically adjusts logistic regression parameters to tune a model for minimum error\n",
      "NOTE:       tuneGPReg - Automatically adjusts Gaussian process regression parameters to tune a model for minimum error\n",
      "NOTE:       tuneGPClass - Automatically adjusts Gaussian process classification parameters to tune a model for minimum error\n"
     ]
    }
   ],
   "source": [
    "conn.loadActionSet('autotune')\n",
    "actions = conn.builtins.help(actionSet='autotune')"
   ]
  },
  {
   "cell_type": "code",
   "execution_count": 37,
   "metadata": {},
   "outputs": [
    {
     "name": "stdout",
     "output_type": "stream",
     "text": [
      "NOTE: Autotune is started for 'Gradient Boosting Tree' model.\n",
      "NOTE: Autotune option SEARCHMETHOD='GA'.\n",
      "NOTE: Autotune option MAXEVALS=10.\n",
      "NOTE: Autotune option MAXTIME=60 (sec.).\n",
      "NOTE: Autotune option SEED=802.\n",
      "NOTE: Autotune objective is 'Misclassification'.\n",
      "NOTE: Early stopping is activated; 'NTREE' will not be tuned.\n",
      "NOTE: Autotune number of parallel evaluations is set to 3, each using 1 worker nodes.\n",
      "NOTE: Automatic early stopping is activated with STAGNATION=4;  set EARLYSTOP=false to deactivate.\n",
      "         Iteration       Evals     Best Objective  Elapsed Time\n",
      "                 0           1             0.2014          0.89\n",
      "                 1          10             0.1135          4.45\n",
      "NOTE: Data was partitioned during tuning, to tune based on validation score; the final model is trained and scored on all data.\n",
      "NOTE: 4670814 bytes were written to the table \"gb_tune_astore\" in the caslib \"CASUSER(jobake)\".\n",
      "NOTE: The number of trees used in the final model is 92.\n",
      "NOTE: Autotune time is 7.53 seconds.\n"
     ]
    },
    {
     "data": {
      "text/html": [
       "<div>\n",
       "<style scoped>\n",
       "    .dataframe tbody tr th:only-of-type {\n",
       "        vertical-align: middle;\n",
       "    }\n",
       "\n",
       "    .dataframe tbody tr th {\n",
       "        vertical-align: top;\n",
       "    }\n",
       "\n",
       "    .dataframe thead th {\n",
       "        text-align: right;\n",
       "    }\n",
       "</style>\n",
       "<table border=\"1\" class=\"dataframe\"><caption>Best Configuration</caption>\n",
       "  <thead>\n",
       "    <tr style=\"text-align: right;\">\n",
       "      <th title=\"\"></th>\n",
       "      <th title=\"Parameter\">Parameter</th>\n",
       "      <th title=\"Internal Name\">Name</th>\n",
       "      <th title=\"Value\">Value</th>\n",
       "    </tr>\n",
       "  </thead>\n",
       "  <tbody>\n",
       "    <tr>\n",
       "      <td>0</td>\n",
       "      <td>Evaluation</td>\n",
       "      <td>Evaluation</td>\n",
       "      <td>5</td>\n",
       "    </tr>\n",
       "    <tr>\n",
       "      <td>1</td>\n",
       "      <td>Number of Variables to Try</td>\n",
       "      <td>M</td>\n",
       "      <td>8</td>\n",
       "    </tr>\n",
       "    <tr>\n",
       "      <td>2</td>\n",
       "      <td>Learning Rate</td>\n",
       "      <td>LEARNINGRATE</td>\n",
       "      <td>0.34</td>\n",
       "    </tr>\n",
       "    <tr>\n",
       "      <td>3</td>\n",
       "      <td>Sampling Rate</td>\n",
       "      <td>SUBSAMPLERATE</td>\n",
       "      <td>0.5</td>\n",
       "    </tr>\n",
       "    <tr>\n",
       "      <td>4</td>\n",
       "      <td>Lasso</td>\n",
       "      <td>LASSO</td>\n",
       "      <td>1.11111111</td>\n",
       "    </tr>\n",
       "    <tr>\n",
       "      <td>5</td>\n",
       "      <td>Ridge</td>\n",
       "      <td>RIDGE</td>\n",
       "      <td>1.11111111</td>\n",
       "    </tr>\n",
       "    <tr>\n",
       "      <td>6</td>\n",
       "      <td>Number of Bins</td>\n",
       "      <td>NBINS</td>\n",
       "      <td>91</td>\n",
       "    </tr>\n",
       "    <tr>\n",
       "      <td>7</td>\n",
       "      <td>Maximum Tree Levels</td>\n",
       "      <td>MAXLEVEL</td>\n",
       "      <td>7</td>\n",
       "    </tr>\n",
       "    <tr>\n",
       "      <td>8</td>\n",
       "      <td>Misclassification</td>\n",
       "      <td>Objective</td>\n",
       "      <td>0.1135091926</td>\n",
       "    </tr>\n",
       "  </tbody>\n",
       "</table>\n",
       "</div>"
      ],
      "text/plain": [
       "Best Configuration\n",
       "\n",
       "                    Parameter           Name         Value\n",
       "0                  Evaluation     Evaluation             5\n",
       "1  Number of Variables to Try              M             8\n",
       "2               Learning Rate   LEARNINGRATE          0.34\n",
       "3               Sampling Rate  SUBSAMPLERATE           0.5\n",
       "4                       Lasso          LASSO    1.11111111\n",
       "5                       Ridge          RIDGE    1.11111111\n",
       "6              Number of Bins          NBINS            91\n",
       "7         Maximum Tree Levels       MAXLEVEL             7\n",
       "8           Misclassification      Objective  0.1135091926"
      ]
     },
     "execution_count": 37,
     "metadata": {},
     "output_type": "execute_result"
    }
   ],
   "source": [
    "gb_tune_model = conn.autotune.tuneGradientBoostTree(\n",
    "    trainOptions = dict(\n",
    "        table    = dict(name = \"hmeq\", where = '_PartInd_ = 1'),\n",
    "        target   = target, \n",
    "        inputs   = varReduce_inputs, \n",
    "        nominals = nominals,\n",
    "        savestate = dict(name='gb_tune_astore', replace=True),\n",
    "        casOut   = dict(name = 'gb_tune_model', replace = True) ) ,\n",
    "    tunerOptions = dict(seed = 802, maxEvals = 10, maxTime = 60, searchmethod='GA', objective=\"MCE\")\n",
    ")\n",
    "\n",
    "gb_tune_model[\"BestConfiguration\"]"
   ]
  },
  {
   "cell_type": "code",
   "execution_count": 38,
   "metadata": {},
   "outputs": [
    {
     "data": {
      "text/html": [
       "<div>\n",
       "<style scoped>\n",
       "    .dataframe tbody tr th:only-of-type {\n",
       "        vertical-align: middle;\n",
       "    }\n",
       "\n",
       "    .dataframe tbody tr th {\n",
       "        vertical-align: top;\n",
       "    }\n",
       "\n",
       "    .dataframe thead th {\n",
       "        text-align: right;\n",
       "    }\n",
       "</style>\n",
       "<table border=\"1\" class=\"dataframe\">\n",
       "  <thead>\n",
       "    <tr style=\"text-align: right;\">\n",
       "      <th></th>\n",
       "      <th>Model</th>\n",
       "      <th>Misclassification</th>\n",
       "      <th>Area Under Curve</th>\n",
       "    </tr>\n",
       "  </thead>\n",
       "  <tbody>\n",
       "    <tr>\n",
       "      <th>0</th>\n",
       "      <td>Tuned Gradient Boosting CAS</td>\n",
       "      <td>0.081376</td>\n",
       "      <td>0.937691</td>\n",
       "    </tr>\n",
       "    <tr>\n",
       "      <th>1</th>\n",
       "      <td>Gradient Boosting CAS</td>\n",
       "      <td>0.118289</td>\n",
       "      <td>0.911371</td>\n",
       "    </tr>\n",
       "    <tr>\n",
       "      <th>2</th>\n",
       "      <td>Neural Network CAS</td>\n",
       "      <td>0.135906</td>\n",
       "      <td>0.842852</td>\n",
       "    </tr>\n",
       "    <tr>\n",
       "      <th>3</th>\n",
       "      <td>Logistic Regression CAS</td>\n",
       "      <td>0.153523</td>\n",
       "      <td>0.782269</td>\n",
       "    </tr>\n",
       "    <tr>\n",
       "      <th>4</th>\n",
       "      <td>Decision Tree CAS</td>\n",
       "      <td>0.156040</td>\n",
       "      <td>0.673076</td>\n",
       "    </tr>\n",
       "    <tr>\n",
       "      <th>5</th>\n",
       "      <td>Random Forest CAS</td>\n",
       "      <td>0.156879</td>\n",
       "      <td>0.754120</td>\n",
       "    </tr>\n",
       "  </tbody>\n",
       "</table>\n",
       "</div>"
      ],
      "text/plain": [
       "                         Model  Misclassification  Area Under Curve\n",
       "0  Tuned Gradient Boosting CAS           0.081376          0.937691\n",
       "1        Gradient Boosting CAS           0.118289          0.911371\n",
       "2           Neural Network CAS           0.135906          0.842852\n",
       "3      Logistic Regression CAS           0.153523          0.782269\n",
       "4            Decision Tree CAS           0.156040          0.673076\n",
       "5            Random Forest CAS           0.156879          0.754120"
      ]
     },
     "execution_count": 38,
     "metadata": {},
     "output_type": "execute_result"
    }
   ],
   "source": [
    "gb_tune_score = conn.decisionTree.gbtreeScore(\n",
    "    table    = dict(name = \"hmeq\", where = '_PartInd_ = 2'),\n",
    "    model = \"gb_tune_model\",\n",
    "    casout = dict(name=\"gb_tune_scored\",replace=True),\n",
    "    copyVars = target,\n",
    "    encodename = True,\n",
    "    assessonerow = True\n",
    ")\n",
    "\n",
    "gb_tune_assess = conn.percentile.assess(\n",
    "   table = \"gb_tune_scored\",\n",
    "   inputs = \"P_BAD1\",\n",
    "   casout = dict(name=\"gb_tune_assess\",replace=True),\n",
    "   response = target,\n",
    "   event = \"1\"\n",
    ")\n",
    "\n",
    "gb_tune_assess_ROC = conn.CASTable(name = \"gb_tune_assess_ROC\")\n",
    "gb_tune_assess_ROC = gb_tune_assess_ROC.to_frame()\n",
    "cutoff_index = round(gb_tune_assess_ROC['_Cutoff_'],2)==0.5\n",
    "gb_tune_assess_ROC = gb_tune_assess_ROC[cutoff_index].reset_index(drop=True)\n",
    "gb_tune_metrics_cas = pd.DataFrame([[\"Tuned Gradient Boosting CAS\", 1-gb_tune_assess_ROC['_ACC_'][0], gb_tune_assess_ROC['_C_'][0]]], columns=[\"Model\", \"Misclassification\", \"Area Under Curve\"])\n",
    "all_models_cas = pd.concat([all_models_cas, gb_tune_metrics_cas])\n",
    "all_models_cas.sort_values('Misclassification').reset_index(drop=True)"
   ]
  },
  {
   "cell_type": "markdown",
   "metadata": {},
   "source": [
    "# Model Interpretability"
   ]
  },
  {
   "cell_type": "code",
   "execution_count": 39,
   "metadata": {},
   "outputs": [
    {
     "name": "stdout",
     "output_type": "stream",
     "text": [
      "NOTE: Added action set 'explainModel'.\n",
      "NOTE: Information for action set 'explainModel':\n",
      "NOTE:    explainModel\n",
      "NOTE:       linearExplainer - Uses linear models to explain already trained models. Supports global linear surrogates as well as the local methods: LIME and KERNEL SHAP.\n",
      "NOTE:       partialDependence - Computes the partial dependence of an already trained model.\n",
      "NOTE:       shapleyExplainer - Computes Shapley value estimates for a query given a reference table\n"
     ]
    }
   ],
   "source": [
    "conn.loadActionSet('explainModel')\n",
    "actions = conn.builtins.help(actionSet='explainModel')"
   ]
  },
  {
   "cell_type": "code",
   "execution_count": 40,
   "metadata": {},
   "outputs": [
    {
     "name": "stdout",
     "output_type": "stream",
     "text": [
      "NOTE: Starting the partialDependence action.\n",
      "NOTE: Generating replicates.\n",
      "NOTE: Finished generating replicates.\n",
      "NOTE: The size of the replicates dataset is approximately 5.4656 MB. To reduce the size of the dataset, decrease the value of the NBINS, MAXLEVELS, or SAMPLESIZE parameter.\n",
      "NOTE: The CAS table 'PartialDependence' in caslib 'CASUSER(jobake)' has 50 rows and 4 columns.\n"
     ]
    },
    {
     "data": {
      "text/html": [
       "<div>\n",
       "<style scoped>\n",
       "    .dataframe tbody tr th:only-of-type {\n",
       "        vertical-align: middle;\n",
       "    }\n",
       "\n",
       "    .dataframe tbody tr th {\n",
       "        vertical-align: top;\n",
       "    }\n",
       "\n",
       "    .dataframe thead th {\n",
       "        text-align: right;\n",
       "    }\n",
       "</style>\n",
       "<table border=\"1\" class=\"dataframe\"><caption>Partial Dependence</caption>\n",
       "  <thead>\n",
       "    <tr style=\"text-align: right;\">\n",
       "      <th title=\"\"></th>\n",
       "      <th title=\"Bin (IMP_DEBTINC)\">Bin</th>\n",
       "      <th title=\"IMP_DEBTINC\">IMP_DEBTINC</th>\n",
       "      <th title=\"Mean Prediction (P_BAD1)\">MeanPrediction</th>\n",
       "      <th title=\"Standard Error (P_BAD1)\">StdErr</th>\n",
       "    </tr>\n",
       "  </thead>\n",
       "  <tbody>\n",
       "    <tr>\n",
       "      <td>0</td>\n",
       "      <td>1</td>\n",
       "      <td>0.524499</td>\n",
       "      <td>0.101511</td>\n",
       "      <td>0.007193</td>\n",
       "    </tr>\n",
       "    <tr>\n",
       "      <td>1</td>\n",
       "      <td>2</td>\n",
       "      <td>4.663023</td>\n",
       "      <td>0.101511</td>\n",
       "      <td>0.007193</td>\n",
       "    </tr>\n",
       "    <tr>\n",
       "      <td>2</td>\n",
       "      <td>3</td>\n",
       "      <td>8.801546</td>\n",
       "      <td>0.101511</td>\n",
       "      <td>0.007193</td>\n",
       "    </tr>\n",
       "    <tr>\n",
       "      <td>3</td>\n",
       "      <td>4</td>\n",
       "      <td>12.940070</td>\n",
       "      <td>0.101511</td>\n",
       "      <td>0.007193</td>\n",
       "    </tr>\n",
       "    <tr>\n",
       "      <td>4</td>\n",
       "      <td>5</td>\n",
       "      <td>17.078593</td>\n",
       "      <td>0.090113</td>\n",
       "      <td>0.006884</td>\n",
       "    </tr>\n",
       "  </tbody>\n",
       "</table>\n",
       "</div>"
      ],
      "text/plain": [
       "Partial Dependence\n",
       "\n",
       "   Bin  IMP_DEBTINC  MeanPrediction    StdErr\n",
       "0    1     0.524499        0.101511  0.007193\n",
       "1    2     4.663023        0.101511  0.007193\n",
       "2    3     8.801546        0.101511  0.007193\n",
       "3    4    12.940070        0.101511  0.007193\n",
       "4    5    17.078593        0.090113  0.006884"
      ]
     },
     "execution_count": 40,
     "metadata": {},
     "output_type": "execute_result"
    }
   ],
   "source": [
    "pd_obj = conn.explainmodel.partialdependence(\n",
    "    table = \"hmeq\",\n",
    "    modelTable = \"gb_tune_astore\",\n",
    "    inputs = varReduce_inputs,\n",
    "    nominals = nominals[1:],\n",
    "    predictedTarget = \"P_BAD1\",\n",
    "    analysisVariable = dict(name=\"IMP_DEBTINC\", nbins=50),\n",
    "    outputTables     = dict(names=\"PartialDependence\", replace=True),\n",
    ")\n",
    "\n",
    "pd_obj[\"PartialDependence\"].head()"
   ]
  },
  {
   "cell_type": "code",
   "execution_count": 41,
   "metadata": {},
   "outputs": [
    {
     "name": "stderr",
     "output_type": "stream",
     "text": [
      "C:\\Users\\jobake\\AppData\\Local\\Continuum\\anaconda3\\lib\\site-packages\\matplotlib\\cbook\\__init__.py:1402: FutureWarning: Support for multi-dimensional indexing (e.g. `obj[:, None]`) is deprecated and will be removed in a future version.  Convert to a numpy array before indexing instead.\n",
      "  x[:, None]\n",
      "C:\\Users\\jobake\\AppData\\Local\\Continuum\\anaconda3\\lib\\site-packages\\matplotlib\\axes\\_base.py:276: FutureWarning: Support for multi-dimensional indexing (e.g. `obj[:, None]`) is deprecated and will be removed in a future version.  Convert to a numpy array before indexing instead.\n",
      "  x = x[:, np.newaxis]\n",
      "C:\\Users\\jobake\\AppData\\Local\\Continuum\\anaconda3\\lib\\site-packages\\matplotlib\\axes\\_base.py:278: FutureWarning: Support for multi-dimensional indexing (e.g. `obj[:, None]`) is deprecated and will be removed in a future version.  Convert to a numpy array before indexing instead.\n",
      "  y = y[:, np.newaxis]\n"
     ]
    },
    {
     "data": {
      "image/png": "[encoded data removed]",
      "text/plain": [
       "<Figure size 576x576 with 1 Axes>"
      ]
     },
     "metadata": {
      "needs_background": "light"
     },
     "output_type": "display_data"
    }
   ],
   "source": [
    "pd_table = conn.CASTable(name=\"PartialDependence\")\n",
    "pd_table = pd_table.to_frame()\n",
    "pd_table[\"lb\"] = pd_table[\"MeanPrediction\"] - 2*pd_table[\"StdErr\"]\n",
    "pd_table[\"ub\"] = pd_table[\"MeanPrediction\"] + 2*pd_table[\"StdErr\"]\n",
    "\n",
    "plt.figure(figsize=(8,8))\n",
    "plt.plot( 'IMP_DEBTINC', 'MeanPrediction', data=pd_table, color='blue', linewidth=4)\n",
    "plt.plot( 'IMP_DEBTINC', 'lb', data=pd_table, color='red', linewidth=2, linestyle='dashed')\n",
    "plt.plot( 'IMP_DEBTINC', 'ub', data=pd_table, color='red', linewidth=2, linestyle='dashed')\n",
    "plt.xlabel('Debt to Income Ratio', fontsize=20)\n",
    "plt.ylabel('Probability of Home Equity Default', fontsize=20)\n",
    "plt.title('Partial Dependence Plot', fontsize=25)\n",
    "plt.show()"
   ]
  },
  {
   "cell_type": "markdown",
   "metadata": {},
   "source": [
    "# Score All Partitions"
   ]
  },
  {
   "cell_type": "code",
   "execution_count": 42,
   "metadata": {},
   "outputs": [],
   "source": [
    "gb_tune_score = conn.decisionTree.gbtreeScore(\n",
    "    table    = \"hmeq\",\n",
    "    model = \"gb_tune_model\",\n",
    "    casout = dict(name=\"gb_tune_scored\",replace=True),\n",
    "    copyVars = [target,\"_PartInd_\"],\n",
    "    encodename = True,\n",
    "    assessonerow = True\n",
    ")\n",
    "\n",
    "conn.dataStep.runCode(code='''\n",
    "    data train_obs_preds (keep = BAD P_BAD1) valid_obs_preds (keep = BAD P_BAD1) test_obs_preds (keep = BAD P_BAD1);\n",
    "        set gb_tune_scored;\n",
    "        if _partind_ = 1 then output train_obs_preds;\n",
    "        else if _partind_ = 2 then output valid_obs_preds;\n",
    "        else output test_obs_preds;\n",
    "    run;\n",
    "'''\n",
    ")\n",
    "\n",
    "df_train_obs_preds = pd.DataFrame(conn.CASTable(name=\"train_obs_preds\").to_frame())\n",
    "df_valid_obs_preds = pd.DataFrame(conn.CASTable(name=\"valid_obs_preds\").to_frame())\n",
    "df_test_obs_preds = pd.DataFrame(conn.CASTable(name=\"test_obs_preds\").to_frame())"
   ]
  },
  {
   "cell_type": "markdown",
   "metadata": {},
   "source": [
    "# Create Metadata Directory"
   ]
  },
  {
   "cell_type": "code",
   "execution_count": 43,
   "metadata": {},
   "outputs": [],
   "source": [
    "output_dir = os.getcwd()+\"\\\\Model_Manager\\\\Metadata\"\n",
    "model_name = \"Python_CAS_GB_Tune_Pipeline_DSSC\"\n",
    "data_name = \"HMEQ\"\n",
    "zip_folder = output_dir +\"\\\\\"+ data_name +\"_\"+ model_name"
   ]
  },
  {
   "cell_type": "code",
   "execution_count": 44,
   "metadata": {},
   "outputs": [],
   "source": [
    "if os.path.exists(zip_folder):\n",
    "    shutil.rmtree(zip_folder)\n",
    "\n",
    "os.makedirs(zip_folder)"
   ]
  },
  {
   "cell_type": "markdown",
   "metadata": {},
   "source": [
    "# Save Imputation DATA Step Score Code"
   ]
  },
  {
   "cell_type": "code",
   "execution_count": 45,
   "metadata": {},
   "outputs": [
    {
     "data": {
      "text/html": [
       "<div>\n",
       "<style scoped>\n",
       "    .dataframe tbody tr th:only-of-type {\n",
       "        vertical-align: middle;\n",
       "    }\n",
       "\n",
       "    .dataframe tbody tr th {\n",
       "        vertical-align: top;\n",
       "    }\n",
       "\n",
       "    .dataframe thead th {\n",
       "        text-align: right;\n",
       "    }\n",
       "</style>\n",
       "<table border=\"1\" class=\"dataframe\"><caption>Selected Rows from Table SCORE_CODE_IMPUTE</caption>\n",
       "  <thead>\n",
       "    <tr style=\"text-align: right;\">\n",
       "      <th title=\"\"></th>\n",
       "      <th title=\"DataStepSrc\">DataStepSrc</th>\n",
       "    </tr>\n",
       "  </thead>\n",
       "  <tbody>\n",
       "    <tr>\n",
       "      <td>0</td>\n",
       "      <td>_ngbys_ = 1;\\n   _igby_ = 0;\\n   _tnn_ntran...</td>\n",
       "    </tr>\n",
       "  </tbody>\n",
       "</table>\n",
       "</div>"
      ],
      "text/plain": [
       "Selected Rows from Table SCORE_CODE_IMPUTE\n",
       "\n",
       "                                         DataStepSrc\n",
       "0     _ngbys_ = 1;\\n   _igby_ = 0;\\n   _tnn_ntran..."
      ]
     },
     "execution_count": 45,
     "metadata": {},
     "output_type": "execute_result"
    }
   ],
   "source": [
    "conn.dataStep.runCode(code='''\n",
    "    data score_code_impute (keep = DataStepSrc);\n",
    "        set score_code_impute;\n",
    "    run;\n",
    "'''\n",
    ")\n",
    "\n",
    "score_code_impute = conn.CASTable(name = \"score_code_impute\")\n",
    "score_code_impute = score_code_impute.to_frame()\n",
    "np.savetxt(zip_folder+\"\\\\score_code_impute.txt\", score_code_impute.values, fmt=\"%s\")\n",
    "score_code_impute[:100]"
   ]
  },
  {
   "cell_type": "markdown",
   "metadata": {},
   "source": [
    "# Save Model DATA Step Score Code"
   ]
  },
  {
   "cell_type": "code",
   "execution_count": 46,
   "metadata": {},
   "outputs": [
    {
     "data": {
      "text/html": [
       "<div class=\"cas-results-key\"><b>&#167; OutputCasTables</b></div>\n",
       "<div class=\"cas-results-body\">\n",
       "<div>\n",
       "<style scoped>\n",
       "    .dataframe tbody tr th:only-of-type {\n",
       "        vertical-align: middle;\n",
       "    }\n",
       "\n",
       "    .dataframe tbody tr th {\n",
       "        vertical-align: top;\n",
       "    }\n",
       "\n",
       "    .dataframe thead th {\n",
       "        text-align: right;\n",
       "    }\n",
       "</style>\n",
       "<table border=\"1\" class=\"dataframe\">\n",
       "  <thead>\n",
       "    <tr style=\"text-align: right;\">\n",
       "      <th title=\"\"></th>\n",
       "      <th title=\"CAS Library\">casLib</th>\n",
       "      <th title=\"Name\">Name</th>\n",
       "      <th title=\"Number of Rows\">Rows</th>\n",
       "      <th title=\"Number of Columns\">Columns</th>\n",
       "      <th title=\"Table\">casTable</th>\n",
       "    </tr>\n",
       "  </thead>\n",
       "  <tbody>\n",
       "    <tr>\n",
       "      <td>0</td>\n",
       "      <td>CASUSER(jobake)</td>\n",
       "      <td>score_code_model</td>\n",
       "      <td>1</td>\n",
       "      <td>10</td>\n",
       "      <td>CASTable('score_code_model', caslib='CASUSER(j...</td>\n",
       "    </tr>\n",
       "  </tbody>\n",
       "</table>\n",
       "</div>\n",
       "</div>\n",
       "<div class=\"cas-output-area\"></div>\n",
       "<p class=\"cas-results-performance\"><small><span class=\"cas-elapsed\">elapsed 0.153s</span> &#183; <span class=\"cas-user\">user 0.153s</span> &#183; <span class=\"cas-sys\">sys 0.159s</span> &#183; <span class=\"cas-memory\">mem 82.1MB</span></small></p>"
      ],
      "text/plain": [
       "[OutputCasTables]\n",
       "\n",
       "             casLib              Name  Rows  Columns                                           casTable\n",
       " 0  CASUSER(jobake)  score_code_model     1       10  CASTable('score_code_model', caslib='CASUSER(j...\n",
       "\n",
       "+ Elapsed: 0.153s, user: 0.153s, sys: 0.159s, mem: 82.1mb"
      ]
     },
     "execution_count": 46,
     "metadata": {},
     "output_type": "execute_result"
    }
   ],
   "source": [
    "conn.decisionTree.gbtreeCode(\n",
    "    modelTable = \"gb_tune_model\",\n",
    "    code = dict(casOut = dict(name = \"score_code_model\", replace = True))\n",
    ")"
   ]
  },
  {
   "cell_type": "code",
   "execution_count": 47,
   "metadata": {},
   "outputs": [
    {
     "data": {
      "text/html": [
       "<div>\n",
       "<style scoped>\n",
       "    .dataframe tbody tr th:only-of-type {\n",
       "        vertical-align: middle;\n",
       "    }\n",
       "\n",
       "    .dataframe tbody tr th {\n",
       "        vertical-align: top;\n",
       "    }\n",
       "\n",
       "    .dataframe thead th {\n",
       "        text-align: right;\n",
       "    }\n",
       "</style>\n",
       "<table border=\"1\" class=\"dataframe\"><caption>Selected Rows from Table SCORE_CODE_MODEL</caption>\n",
       "  <thead>\n",
       "    <tr style=\"text-align: right;\">\n",
       "      <th title=\"\"></th>\n",
       "      <th title=\"DataStepSrc\">DataStepSrc</th>\n",
       "    </tr>\n",
       "  </thead>\n",
       "  <tbody>\n",
       "    <tr>\n",
       "      <td>0</td>\n",
       "      <td>length _strfmt_499625599_ $7; drop _strfmt_...</td>\n",
       "    </tr>\n",
       "  </tbody>\n",
       "</table>\n",
       "</div>"
      ],
      "text/plain": [
       "Selected Rows from Table SCORE_CODE_MODEL\n",
       "\n",
       "                                         DataStepSrc\n",
       "0     length _strfmt_499625599_ $7; drop _strfmt_..."
      ]
     },
     "execution_count": 47,
     "metadata": {},
     "output_type": "execute_result"
    }
   ],
   "source": [
    "conn.dataStep.runCode(code='''\n",
    "    data score_code_model (keep = DataStepSrc);\n",
    "        set score_code_model;\n",
    "    run;\n",
    "'''\n",
    ")\n",
    "\n",
    "score_code_model = conn.CASTable(name = \"score_code_model\")\n",
    "score_code_model = score_code_model.to_frame()\n",
    "np.savetxt(zip_folder+\"\\\\score_code_model.txt\", score_code_model.values, fmt=\"%s\")\n",
    "score_code_model[:100]"
   ]
  },
  {
   "cell_type": "markdown",
   "metadata": {},
   "source": [
    "# Save Pipeline DATA Step Score Code"
   ]
  },
  {
   "cell_type": "code",
   "execution_count": 48,
   "metadata": {},
   "outputs": [],
   "source": [
    "score_code = score_code_impute[\"DataStepSrc\"][0] + \"\\n\\n\\n\\n\\n\\n\\n\\n\\n\\n\" + score_code_model[\"DataStepSrc\"][0]\n",
    "score_code = pd.DataFrame([score_code], columns=[\"DataStepSrc\"])\n",
    "np.savetxt(zip_folder+\"\\\\score_code.txt\", score_code.values, fmt=\"%s\")"
   ]
  },
  {
   "cell_type": "markdown",
   "metadata": {},
   "source": [
    "# Register Model"
   ]
  },
  {
   "cell_type": "code",
   "execution_count": 49,
   "metadata": {},
   "outputs": [],
   "source": [
    "# sess = Session(hostname, username, password)"
   ]
  },
  {
   "cell_type": "code",
   "execution_count": 50,
   "metadata": {},
   "outputs": [],
   "source": [
    "model_name = \"Python_CAS_GB_Tune_Pipeline_DSSC\"\n",
    "project = \"MM_OS_Test\"\n",
    "metric_labels = ['EM_EVENTPROBABILITY', 'EM_CLASSIFICATION']\n",
    "output_data = pd.DataFrame(columns=metric_labels, data=[[0.5, 'A']])\n",
    "target_event_level = 1\n",
    "\n",
    "model_info = dict(\n",
    "    name = model_name,\n",
    "    description = \"A CAS Model with DATA Step Score Code\",\n",
    "    scoreCodeType = \"DATA step\",\n",
    "    algorithm = \"Gradient Boosting\",\n",
    "    modeler = \"jobake\",\n",
    "    tool = \"CAS\",\n",
    "    function = \"Classification\",\n",
    "    targetVariable = target,\n",
    "    targetLevel = \"Binary\",\n",
    "    classificationEventProbabilityVariableName = \"P_BAD1\",\n",
    "    classificationTargetEventValue = 1,\n",
    "    trainTable = \"hmeq\"\n",
    ")"
   ]
  },
  {
   "cell_type": "code",
   "execution_count": 51,
   "metadata": {},
   "outputs": [
    {
     "name": "stdout",
     "output_type": "stream",
     "text": [
      "inputVar.json was successfully written and saved to C:\\Users\\jobake\\FSBU\\Model_Manager\\Metadata\\HMEQ_Python_CAS_GB_Tune_Pipeline_DSSC\\inputVar.json\n",
      "outputVar.json was successfully written and saved to C:\\Users\\jobake\\FSBU\\Model_Manager\\Metadata\\HMEQ_Python_CAS_GB_Tune_Pipeline_DSSC\\outputVar.json\n"
     ]
    }
   ],
   "source": [
    "pzmm.JSONFiles().writeVarJSON(inputData = df_local[list(df_local)[1:]], \n",
    "                              isInput = True, \n",
    "                              jPath = zip_folder)\n",
    "\n",
    "pzmm.JSONFiles().writeVarJSON(inputData = output_data, \n",
    "                              isInput = False, \n",
    "                              jPath = zip_folder)"
   ]
  },
  {
   "cell_type": "code",
   "execution_count": 52,
   "metadata": {},
   "outputs": [
    {
     "name": "stdout",
     "output_type": "stream",
     "text": [
      "dmcas_fitstat.json was successfully written and saved to C:\\Users\\jobake\\FSBU\\Model_Manager\\Metadata\\HMEQ_Python_CAS_GB_Tune_Pipeline_DSSC\\dmcas_fitstat.json\n",
      "NOTE: Added action set 'percentile'.\n",
      "NOTE: Cloud Analytic Services made the uploaded file available as table SCOREDVALUES in caslib CASUSER(jobake).\n",
      "NOTE: The table SCOREDVALUES has been created in caslib CASUSER(jobake) from binary data uploaded to Cloud Analytic Services.\n",
      "NOTE: Cloud Analytic Services made the uploaded file available as table SCOREDVALUES in caslib CASUSER(jobake).\n",
      "NOTE: The table SCOREDVALUES has been created in caslib CASUSER(jobake) from binary data uploaded to Cloud Analytic Services.\n",
      "NOTE: Cloud Analytic Services made the uploaded file available as table SCOREDVALUES in caslib CASUSER(jobake).\n",
      "NOTE: The table SCOREDVALUES has been created in caslib CASUSER(jobake) from binary data uploaded to Cloud Analytic Services.\n",
      "dmcas_roc.json was successfully written and saved to C:\\Users\\jobake\\FSBU\\Model_Manager\\Metadata\\HMEQ_Python_CAS_GB_Tune_Pipeline_DSSC\\dmcas_roc.json\n",
      "dmcas_lift.json was successfully written and saved to C:\\Users\\jobake\\FSBU\\Model_Manager\\Metadata\\HMEQ_Python_CAS_GB_Tune_Pipeline_DSSC\\dmcas_lift.json\n"
     ]
    }
   ],
   "source": [
    "pzmm.JSONFiles().calculateFitStat(trainData = df_train_obs_preds, \n",
    "                                  validateData = df_valid_obs_preds, \n",
    "                                  testData = df_test_obs_preds, \n",
    "                                  jPath = zip_folder)\n",
    "\n",
    "pzmm.JSONFiles().generateROCLiftStat(targetName = target, \n",
    "                                     targetValue = target_event_level, \n",
    "                                     swatConn = conn, \n",
    "                                     trainData = df_train_obs_preds, \n",
    "                                     validateData = df_valid_obs_preds, \n",
    "                                     testData = df_test_obs_preds, \n",
    "                                     jPath = zip_folder)"
   ]
  },
  {
   "cell_type": "code",
   "execution_count": 53,
   "metadata": {},
   "outputs": [],
   "source": [
    "files = [\n",
    "    dict(name=\"Score code\", file=open(zip_folder+\"/score_code.txt\"), role='Score code'),\n",
    "    dict(name=\"Inputs\", file=open(zip_folder+\"/inputVar.json\"), role='Input variables'),\n",
    "    dict(name=\"Outputs\", file=open(zip_folder+\"/outputVar.json\"), role='Output variables'),\n",
    "    dict(name=\"Fitstat\", file=open(zip_folder+\"/dmcas_fitstat.json\"), role='Properties and Metadata'),\n",
    "    dict(name=\"ROC\", file=open(zip_folder+\"/dmcas_roc.json\"), role='Properties and Metadata'),\n",
    "    dict(name=\"Lift\", file=open(zip_folder+\"/dmcas_lift.json\"), role='Properties and Metadata')\n",
    "]"
   ]
  },
  {
   "cell_type": "code",
   "execution_count": 54,
   "metadata": {},
   "outputs": [],
   "source": [
    "# model = register_model(model_info, name=model_name, project=project, files=files, force=False)"
   ]
  },
  {
   "cell_type": "markdown",
   "metadata": {},
   "source": [
    "# End Session"
   ]
  },
  {
   "cell_type": "code",
   "execution_count": 55,
   "metadata": {},
   "outputs": [
    {
     "data": {
      "text/html": [
       "<div class=\"cas-output-area\"></div>\n",
       "<p class=\"cas-results-performance\"><small><span class=\"cas-elapsed\">elapsed 0.00489s</span> &#183; <span class=\"cas-user\">user 0.000395s</span> &#183; <span class=\"cas-sys\">sys 0.0081s</span> &#183; <span class=\"cas-memory\">mem 1.02MB</span></small></p>"
      ],
      "text/plain": [
       "+ Elapsed: 0.00489s, user: 0.000395s, sys: 0.0081s, mem: 1.02mb"
      ]
     },
     "execution_count": 55,
     "metadata": {},
     "output_type": "execute_result"
    }
   ],
   "source": [
    "conn.session.endSession()"
   ]
  }
 ],
 "metadata": {
  "kernelspec": {
   "display_name": "Python 3",
   "language": "python",
   "name": "python3"
  },
  "language_info": {
   "codemirror_mode": {
    "name": "ipython",
    "version": 3
   },
   "file_extension": ".py",
   "mimetype": "text/x-python",
   "name": "python",
   "nbconvert_exporter": "python",
   "pygments_lexer": "ipython3",
   "version": "3.7.4"
  }
 },
 "nbformat": 4,
 "nbformat_minor": 2
}
