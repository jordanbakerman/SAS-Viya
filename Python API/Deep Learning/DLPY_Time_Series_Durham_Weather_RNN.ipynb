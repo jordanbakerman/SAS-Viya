{
 "cells": [
  {
   "cell_type": "markdown",
   "metadata": {},
   "source": [
    "# DLPY Time Series RNN"
   ]
  },
  {
   "cell_type": "markdown",
   "metadata": {},
   "source": [
    "The National Centers for Environmental Information (NCEI) provides public access to environmental data archives. The data set **DURHAM** contains hourly weather information for the city of Durham, North Carolina from 2008 to 2017, approximately 90,000 observations. The goal is to use a recurrent neural network to forecast the maximum hourly temperature in Durham, North Carolina.  "
   ]
  },
  {
   "cell_type": "markdown",
   "metadata": {},
   "source": [
    "| Name       | Model Role | Measurement Level | Description                                                            |\n",
    "|:-----------|:-----------|:------------------|:-----------------------------------------------------------------------|\n",
    "| LST_DATE   | Date       | Date              | Date of each observation in YYYYMMDD format                            |\n",
    "| LST_TIME   | Input      | Nominal           | Hour of the observation (0-2300 by 100)                                |\n",
    "| T_MAX      | Target     | Interval          | Maximum air temperature in degrees C during the hour                   |\n",
    "| P_CALC     | Input      | Interval          | Total amount of percipitation in mm during the hour                    |"
   ]
  },
  {
   "cell_type": "markdown",
   "metadata": {},
   "source": [
    "# Load Packages"
   ]
  },
  {
   "cell_type": "code",
   "execution_count": 1,
   "metadata": {},
   "outputs": [],
   "source": [
    "import swat\n",
    "import pandas as pd\n",
    "import datetime\n",
    "from matplotlib import pyplot as plt\n",
    "%matplotlib inline\n",
    "swat.options.cas.print_messages = True\n",
    "import dlpy\n",
    "from dlpy import Model, Sequential, TimeseriesTable\n",
    "from dlpy.layers import *\n",
    "from dlpy.applications import *\n",
    "from dlpy.timeseries import plot_timeseries\n",
    "from dlpy.model import Optimizer, AdamSolver, Sequence, DLPyDict"
   ]
  },
  {
   "cell_type": "markdown",
   "metadata": {},
   "source": [
    "# Connect to CAS"
   ]
  },
  {
   "cell_type": "code",
   "execution_count": 2,
   "metadata": {},
   "outputs": [],
   "source": [
    "conn = swat.CAS(\"server\", 30571, \"student\", \"Metadata0\")"
   ]
  },
  {
   "cell_type": "markdown",
   "metadata": {},
   "source": [
    "# Load Data onto the Server"
   ]
  },
  {
   "cell_type": "code",
   "execution_count": 3,
   "metadata": {},
   "outputs": [
    {
     "name": "stdout",
     "output_type": "stream",
     "text": [
      "NOTE: Cloud Analytic Services made the uploaded file available as table DURHAM in caslib CASUSER(student).\n",
      "NOTE: The table DURHAM has been created in caslib CASUSER(student) from binary data uploaded to Cloud Analytic Services.\n"
     ]
    }
   ],
   "source": [
    "durham_tbl = TimeseriesTable.from_localfile(conn, path=\"D:\\Workshop\\Winsas\\VOSI\\durham_v2.csv\", \n",
    "                                            casout=dict(name=\"durham\", replace=True))"
   ]
  },
  {
   "cell_type": "code",
   "execution_count": 4,
   "metadata": {},
   "outputs": [
    {
     "data": {
      "text/html": [
       "<div>\n",
       "<style scoped>\n",
       "    .dataframe tbody tr th:only-of-type {\n",
       "        vertical-align: middle;\n",
       "    }\n",
       "\n",
       "    .dataframe tbody tr th {\n",
       "        vertical-align: top;\n",
       "    }\n",
       "\n",
       "    .dataframe thead th {\n",
       "        text-align: right;\n",
       "    }\n",
       "</style>\n",
       "<table border=\"1\" class=\"dataframe\"><caption>Selected Rows from Table DURHAM</caption>\n",
       "  <thead>\n",
       "    <tr style=\"text-align: right;\">\n",
       "      <th title=\"\"></th>\n",
       "      <th title=\"LST_DATE\">LST_DATE</th>\n",
       "      <th title=\"LST_TIME\">LST_TIME</th>\n",
       "      <th title=\"T_MAX\">T_MAX</th>\n",
       "      <th title=\"P_CALC\">P_CALC</th>\n",
       "      <th title=\"year\">year</th>\n",
       "      <th title=\"month\">month</th>\n",
       "      <th title=\"day\">day</th>\n",
       "      <th title=\"hour\">hour</th>\n",
       "      <th title=\"datetime\">datetime</th>\n",
       "      <th title=\"day_of_year\">day_of_year</th>\n",
       "      <th title=\"sin_day_of_year\">sin_day_of_year</th>\n",
       "      <th title=\"cos_day_of_year\">cos_day_of_year</th>\n",
       "      <th title=\"sin_Hr\">sin_Hr</th>\n",
       "      <th title=\"cos_Hr\">cos_Hr</th>\n",
       "    </tr>\n",
       "  </thead>\n",
       "  <tbody>\n",
       "    <tr>\n",
       "      <td>0</td>\n",
       "      <td>20160929.0</td>\n",
       "      <td>400.0</td>\n",
       "      <td>18.1</td>\n",
       "      <td>0.0</td>\n",
       "      <td>2016.0</td>\n",
       "      <td>9.0</td>\n",
       "      <td>29.0</td>\n",
       "      <td>4.0</td>\n",
       "      <td>2016-09-29 04:00:00</td>\n",
       "      <td>273.0</td>\n",
       "      <td>-0.99987</td>\n",
       "      <td>-0.016127</td>\n",
       "      <td>0.866025</td>\n",
       "      <td>5.000000e-01</td>\n",
       "    </tr>\n",
       "    <tr>\n",
       "      <td>1</td>\n",
       "      <td>20160929.0</td>\n",
       "      <td>500.0</td>\n",
       "      <td>18.0</td>\n",
       "      <td>0.0</td>\n",
       "      <td>2016.0</td>\n",
       "      <td>9.0</td>\n",
       "      <td>29.0</td>\n",
       "      <td>5.0</td>\n",
       "      <td>2016-09-29 05:00:00</td>\n",
       "      <td>273.0</td>\n",
       "      <td>-0.99987</td>\n",
       "      <td>-0.016127</td>\n",
       "      <td>0.965926</td>\n",
       "      <td>2.588190e-01</td>\n",
       "    </tr>\n",
       "    <tr>\n",
       "      <td>2</td>\n",
       "      <td>20160929.0</td>\n",
       "      <td>600.0</td>\n",
       "      <td>17.9</td>\n",
       "      <td>0.0</td>\n",
       "      <td>2016.0</td>\n",
       "      <td>9.0</td>\n",
       "      <td>29.0</td>\n",
       "      <td>6.0</td>\n",
       "      <td>2016-09-29 06:00:00</td>\n",
       "      <td>273.0</td>\n",
       "      <td>-0.99987</td>\n",
       "      <td>-0.016127</td>\n",
       "      <td>1.000000</td>\n",
       "      <td>6.123234e-17</td>\n",
       "    </tr>\n",
       "    <tr>\n",
       "      <td>3</td>\n",
       "      <td>20160929.0</td>\n",
       "      <td>700.0</td>\n",
       "      <td>17.9</td>\n",
       "      <td>0.0</td>\n",
       "      <td>2016.0</td>\n",
       "      <td>9.0</td>\n",
       "      <td>29.0</td>\n",
       "      <td>7.0</td>\n",
       "      <td>2016-09-29 07:00:00</td>\n",
       "      <td>273.0</td>\n",
       "      <td>-0.99987</td>\n",
       "      <td>-0.016127</td>\n",
       "      <td>0.965926</td>\n",
       "      <td>-2.588190e-01</td>\n",
       "    </tr>\n",
       "    <tr>\n",
       "      <td>4</td>\n",
       "      <td>20160929.0</td>\n",
       "      <td>800.0</td>\n",
       "      <td>18.5</td>\n",
       "      <td>0.0</td>\n",
       "      <td>2016.0</td>\n",
       "      <td>9.0</td>\n",
       "      <td>29.0</td>\n",
       "      <td>8.0</td>\n",
       "      <td>2016-09-29 08:00:00</td>\n",
       "      <td>273.0</td>\n",
       "      <td>-0.99987</td>\n",
       "      <td>-0.016127</td>\n",
       "      <td>0.866025</td>\n",
       "      <td>-5.000000e-01</td>\n",
       "    </tr>\n",
       "  </tbody>\n",
       "</table>\n",
       "</div>"
      ],
      "text/plain": [
       "Selected Rows from Table DURHAM\n",
       "\n",
       "     LST_DATE  LST_TIME  T_MAX  P_CALC    year  month   day  hour             datetime  day_of_year  sin_day_of_year  cos_day_of_year    sin_Hr        cos_Hr\n",
       "0  20160929.0     400.0   18.1     0.0  2016.0    9.0  29.0   4.0  2016-09-29 04:00:00        273.0         -0.99987        -0.016127  0.866025  5.000000e-01\n",
       "1  20160929.0     500.0   18.0     0.0  2016.0    9.0  29.0   5.0  2016-09-29 05:00:00        273.0         -0.99987        -0.016127  0.965926  2.588190e-01\n",
       "2  20160929.0     600.0   17.9     0.0  2016.0    9.0  29.0   6.0  2016-09-29 06:00:00        273.0         -0.99987        -0.016127  1.000000  6.123234e-17\n",
       "3  20160929.0     700.0   17.9     0.0  2016.0    9.0  29.0   7.0  2016-09-29 07:00:00        273.0         -0.99987        -0.016127  0.965926 -2.588190e-01\n",
       "4  20160929.0     800.0   18.5     0.0  2016.0    9.0  29.0   8.0  2016-09-29 08:00:00        273.0         -0.99987        -0.016127  0.866025 -5.000000e-01"
      ]
     },
     "execution_count": 4,
     "metadata": {},
     "output_type": "execute_result"
    }
   ],
   "source": [
    "durham_tbl.head()"
   ]
  },
  {
   "cell_type": "markdown",
   "metadata": {},
   "source": [
    "# Formatting"
   ]
  },
  {
   "cell_type": "code",
   "execution_count": 5,
   "metadata": {},
   "outputs": [
    {
     "name": "stdout",
     "output_type": "stream",
     "text": [
      "NOTE: Timeseries formatting is completed.\n"
     ]
    }
   ],
   "source": [
    "timeseries_list = ['T_MAX','P_CALC','sin_Hr','cos_Hr', 'sin_day_of_year','cos_day_of_year']\n",
    "durham_tbl.timeseries_formatting(timeid='datetime',timeseries=timeseries_list, extra_columns=[], timeid_informat='anydtdtm19.')"
   ]
  },
  {
   "cell_type": "markdown",
   "metadata": {},
   "source": [
    "# Accumulate Time Series"
   ]
  },
  {
   "cell_type": "code",
   "execution_count": 6,
   "metadata": {},
   "outputs": [
    {
     "name": "stdout",
     "output_type": "stream",
     "text": [
      "NOTE: Added action set 'timeData'.\n",
      "NOTE: Timeseries are accumulated to the frequency of hour\n"
     ]
    }
   ],
   "source": [
    "durham_tbl.timeseries_accumlation(acc_interval='hour', acc_method_byvar={'T_MAX':'max', \n",
    "                                                                         'sin_Hr':'avg',\n",
    "                                                                         'cos_Hr':'avg',\n",
    "                                                                        'sin_day_of_year':'avg', \n",
    "                                                                        'cos_day_of_year':'avg'})"
   ]
  },
  {
   "cell_type": "markdown",
   "metadata": {},
   "source": [
    "# Prepare Subsequences"
   ]
  },
  {
   "cell_type": "code",
   "execution_count": 7,
   "metadata": {},
   "outputs": [
    {
     "name": "stdout",
     "output_type": "stream",
     "text": [
      "NOTE: timeseries subsequences are prepared with subsequence length = 5\n"
     ]
    }
   ],
   "source": [
    "durham_tbl.prepare_subsequences(seq_len=5, target='T_MAX', predictor_timeseries=timeseries_list)"
   ]
  },
  {
   "cell_type": "code",
   "execution_count": 8,
   "metadata": {},
   "outputs": [
    {
     "data": {
      "text/html": [
       "<div>\n",
       "<style scoped>\n",
       "    .dataframe tbody tr th:only-of-type {\n",
       "        vertical-align: middle;\n",
       "    }\n",
       "\n",
       "    .dataframe tbody tr th {\n",
       "        vertical-align: top;\n",
       "    }\n",
       "\n",
       "    .dataframe thead th {\n",
       "        text-align: right;\n",
       "    }\n",
       "</style>\n",
       "<table border=\"1\" class=\"dataframe\"><caption>Selected Rows from Table DURHAM</caption>\n",
       "  <thead>\n",
       "    <tr style=\"text-align: right;\">\n",
       "      <th title=\"\"></th>\n",
       "      <th title=\"datetime\">datetime</th>\n",
       "      <th title=\"T_MAX\">T_MAX</th>\n",
       "      <th title=\"P_CALC\">P_CALC</th>\n",
       "      <th title=\"sin_Hr\">sin_Hr</th>\n",
       "      <th title=\"cos_Hr\">cos_Hr</th>\n",
       "      <th title=\"sin_day_of_year\">sin_day_of_year</th>\n",
       "      <th title=\"cos_day_of_year\">cos_day_of_year</th>\n",
       "      <th title=\"P_CALC_lag1\">P_CALC_lag1</th>\n",
       "      <th title=\"P_CALC_lag2\">P_CALC_lag2</th>\n",
       "      <th title=\"P_CALC_lag3\">P_CALC_lag3</th>\n",
       "      <th title=\"...\">...</th>\n",
       "      <th title=\"cos_day_of_year_lag2\">cos_day_of_year_lag2</th>\n",
       "      <th title=\"cos_day_of_year_lag3\">cos_day_of_year_lag3</th>\n",
       "      <th title=\"cos_day_of_year_lag4\">cos_day_of_year_lag4</th>\n",
       "      <th title=\"T_MAX_lag1\">T_MAX_lag1</th>\n",
       "      <th title=\"T_MAX_lag2\">T_MAX_lag2</th>\n",
       "      <th title=\"T_MAX_lag3\">T_MAX_lag3</th>\n",
       "      <th title=\"T_MAX_lag4\">T_MAX_lag4</th>\n",
       "      <th title=\"T_MAX_lag5\">T_MAX_lag5</th>\n",
       "      <th title=\"xlen\">xlen</th>\n",
       "      <th title=\"ylen\">ylen</th>\n",
       "    </tr>\n",
       "  </thead>\n",
       "  <tbody>\n",
       "    <tr>\n",
       "      <td>0</td>\n",
       "      <td>2008-01-01 01:00:00</td>\n",
       "      <td>6.7</td>\n",
       "      <td>0.0</td>\n",
       "      <td>0.258819</td>\n",
       "      <td>0.965926</td>\n",
       "      <td>0.017202</td>\n",
       "      <td>0.999852</td>\n",
       "      <td>0.0</td>\n",
       "      <td>0.0</td>\n",
       "      <td>0.0</td>\n",
       "      <td>...</td>\n",
       "      <td>0.999991</td>\n",
       "      <td>0.999991</td>\n",
       "      <td>0.999991</td>\n",
       "      <td>6.5</td>\n",
       "      <td>6.9</td>\n",
       "      <td>7.2</td>\n",
       "      <td>7.7</td>\n",
       "      <td>6.8</td>\n",
       "      <td>5.0</td>\n",
       "      <td>1.0</td>\n",
       "    </tr>\n",
       "    <tr>\n",
       "      <td>1</td>\n",
       "      <td>2008-01-01 02:00:00</td>\n",
       "      <td>5.8</td>\n",
       "      <td>0.0</td>\n",
       "      <td>0.500000</td>\n",
       "      <td>0.866025</td>\n",
       "      <td>0.017202</td>\n",
       "      <td>0.999852</td>\n",
       "      <td>0.0</td>\n",
       "      <td>0.0</td>\n",
       "      <td>0.0</td>\n",
       "      <td>...</td>\n",
       "      <td>0.999852</td>\n",
       "      <td>0.999991</td>\n",
       "      <td>0.999991</td>\n",
       "      <td>6.7</td>\n",
       "      <td>6.5</td>\n",
       "      <td>6.9</td>\n",
       "      <td>7.2</td>\n",
       "      <td>7.7</td>\n",
       "      <td>5.0</td>\n",
       "      <td>1.0</td>\n",
       "    </tr>\n",
       "    <tr>\n",
       "      <td>2</td>\n",
       "      <td>2008-01-01 03:00:00</td>\n",
       "      <td>5.1</td>\n",
       "      <td>0.0</td>\n",
       "      <td>0.707107</td>\n",
       "      <td>0.707107</td>\n",
       "      <td>0.017202</td>\n",
       "      <td>0.999852</td>\n",
       "      <td>0.0</td>\n",
       "      <td>0.0</td>\n",
       "      <td>0.0</td>\n",
       "      <td>...</td>\n",
       "      <td>0.999852</td>\n",
       "      <td>0.999852</td>\n",
       "      <td>0.999991</td>\n",
       "      <td>5.8</td>\n",
       "      <td>6.7</td>\n",
       "      <td>6.5</td>\n",
       "      <td>6.9</td>\n",
       "      <td>7.2</td>\n",
       "      <td>5.0</td>\n",
       "      <td>1.0</td>\n",
       "    </tr>\n",
       "    <tr>\n",
       "      <td>3</td>\n",
       "      <td>2008-01-01 04:00:00</td>\n",
       "      <td>5.4</td>\n",
       "      <td>0.0</td>\n",
       "      <td>0.866025</td>\n",
       "      <td>0.500000</td>\n",
       "      <td>0.017202</td>\n",
       "      <td>0.999852</td>\n",
       "      <td>0.0</td>\n",
       "      <td>0.0</td>\n",
       "      <td>0.0</td>\n",
       "      <td>...</td>\n",
       "      <td>0.999852</td>\n",
       "      <td>0.999852</td>\n",
       "      <td>0.999852</td>\n",
       "      <td>5.1</td>\n",
       "      <td>5.8</td>\n",
       "      <td>6.7</td>\n",
       "      <td>6.5</td>\n",
       "      <td>6.9</td>\n",
       "      <td>5.0</td>\n",
       "      <td>1.0</td>\n",
       "    </tr>\n",
       "    <tr>\n",
       "      <td>4</td>\n",
       "      <td>2008-01-01 05:00:00</td>\n",
       "      <td>4.7</td>\n",
       "      <td>0.0</td>\n",
       "      <td>0.965926</td>\n",
       "      <td>0.258819</td>\n",
       "      <td>0.017202</td>\n",
       "      <td>0.999852</td>\n",
       "      <td>0.0</td>\n",
       "      <td>0.0</td>\n",
       "      <td>0.0</td>\n",
       "      <td>...</td>\n",
       "      <td>0.999852</td>\n",
       "      <td>0.999852</td>\n",
       "      <td>0.999852</td>\n",
       "      <td>5.4</td>\n",
       "      <td>5.1</td>\n",
       "      <td>5.8</td>\n",
       "      <td>6.7</td>\n",
       "      <td>6.5</td>\n",
       "      <td>5.0</td>\n",
       "      <td>1.0</td>\n",
       "    </tr>\n",
       "  </tbody>\n",
       "</table>\n",
       "<p>5 rows × 34 columns</p>\n",
       "</div>"
      ],
      "text/plain": [
       "Selected Rows from Table DURHAM\n",
       "\n",
       "             datetime  T_MAX  P_CALC    sin_Hr    cos_Hr  sin_day_of_year  cos_day_of_year  P_CALC_lag1  P_CALC_lag2  P_CALC_lag3  P_CALC_lag4  sin_Hr_lag1  sin_Hr_lag2  sin_Hr_lag3  sin_Hr_lag4  cos_Hr_lag1  cos_Hr_lag2  cos_Hr_lag3  cos_Hr_lag4  sin_day_of_year_lag1  sin_day_of_year_lag2  sin_day_of_year_lag3  sin_day_of_year_lag4  cos_day_of_year_lag1  cos_day_of_year_lag2  cos_day_of_year_lag3  cos_day_of_year_lag4  T_MAX_lag1  T_MAX_lag2  T_MAX_lag3  T_MAX_lag4  T_MAX_lag5  xlen  ylen\n",
       "0 2008-01-01 01:00:00    6.7     0.0  0.258819  0.965926         0.017202         0.999852          0.0          0.0          0.0          0.0     0.000000    -0.258819    -0.500000    -0.707107     1.000000     0.965926     0.866025     0.707107              0.017202             -0.004301             -0.004301             -0.004301              0.999852              0.999991              0.999991              0.999991         6.5         6.9         7.2         7.7         6.8   5.0   1.0\n",
       "1 2008-01-01 02:00:00    5.8     0.0  0.500000  0.866025         0.017202         0.999852          0.0          0.0          0.0          0.0     0.258819     0.000000    -0.258819    -0.500000     0.965926     1.000000     0.965926     0.866025              0.017202              0.017202             -0.004301             -0.004301              0.999852              0.999852              0.999991              0.999991         6.7         6.5         6.9         7.2         7.7   5.0   1.0\n",
       "2 2008-01-01 03:00:00    5.1     0.0  0.707107  0.707107         0.017202         0.999852          0.0          0.0          0.0          0.0     0.500000     0.258819     0.000000    -0.258819     0.866025     0.965926     1.000000     0.965926              0.017202              0.017202              0.017202             -0.004301              0.999852              0.999852              0.999852              0.999991         5.8         6.7         6.5         6.9         7.2   5.0   1.0\n",
       "3 2008-01-01 04:00:00    5.4     0.0  0.866025  0.500000         0.017202         0.999852          0.0          0.0          0.0          0.0     0.707107     0.500000     0.258819     0.000000     0.707107     0.866025     0.965926     1.000000              0.017202              0.017202              0.017202              0.017202              0.999852              0.999852              0.999852              0.999852         5.1         5.8         6.7         6.5         6.9   5.0   1.0\n",
       "4 2008-01-01 05:00:00    4.7     0.0  0.965926  0.258819         0.017202         0.999852          0.0          0.0          0.0          0.0     0.866025     0.707107     0.500000     0.258819     0.500000     0.707107     0.866025     0.965926              0.017202              0.017202              0.017202              0.017202              0.999852              0.999852              0.999852              0.999852         5.4         5.1         5.8         6.7         6.5   5.0   1.0"
      ]
     },
     "execution_count": 8,
     "metadata": {},
     "output_type": "execute_result"
    }
   ],
   "source": [
    "durham_tbl.head()"
   ]
  },
  {
   "cell_type": "markdown",
   "metadata": {},
   "source": [
    "# Partition the Data"
   ]
  },
  {
   "cell_type": "code",
   "execution_count": 9,
   "metadata": {},
   "outputs": [
    {
     "name": "stdout",
     "output_type": "stream",
     "text": [
      "NOTE: Training set has 78678 observations\n",
      "NOTE: Validation set has 7223 observations\n",
      "NOTE: Testing set has 1432 observations\n"
     ]
    }
   ],
   "source": [
    "validation_start = datetime.date(2017,1,1)\n",
    "testing_start = datetime.date(2017,11,1)\n",
    "train_tbl, valid_tbl, test_tbl = durham_tbl.timeseries_partition(validation_start=validation_start, testing_start=testing_start)"
   ]
  },
  {
   "cell_type": "markdown",
   "metadata": {},
   "source": [
    "# Build the Model"
   ]
  },
  {
   "cell_type": "code",
   "execution_count": 10,
   "metadata": {},
   "outputs": [
    {
     "name": "stdout",
     "output_type": "stream",
     "text": [
      "NOTE: Input layer added.\n",
      "NOTE: Recurrent layer added.\n",
      "NOTE: Recurrent layer added.\n",
      "NOTE: Output layer added.\n",
      "NOTE: Model compiled successfully.\n"
     ]
    }
   ],
   "source": [
    "simple_lstm = Sequential(conn, model_table='simple_cnn')\n",
    "simple_lstm.add(InputLayer(std=\"std\"))\n",
    "simple_lstm.add(Recurrent(rnn_type=\"lstm\", n=15, init=\"xavier\", output_type=\"samelength\"))\n",
    "simple_lstm.add(Recurrent(rnn_type=\"lstm\", n=15, init=\"xavier\", output_type=\"encoding\"))\n",
    "simple_lstm.add(OutputLayer(act=\"identity\"))"
   ]
  },
  {
   "cell_type": "code",
   "execution_count": 11,
   "metadata": {},
   "outputs": [
    {
     "data": {
      "text/html": [
       "<div class=\"cas-results-key\"><b>&#167; ModelInfo</b></div>\n",
       "<div class=\"cas-results-body\">\n",
       "<div>\n",
       "<style scoped>\n",
       "    .dataframe tbody tr th:only-of-type {\n",
       "        vertical-align: middle;\n",
       "    }\n",
       "\n",
       "    .dataframe tbody tr th {\n",
       "        vertical-align: top;\n",
       "    }\n",
       "\n",
       "    .dataframe thead th {\n",
       "        text-align: right;\n",
       "    }\n",
       "</style>\n",
       "<table border=\"1\" class=\"dataframe\">\n",
       "  <thead>\n",
       "    <tr style=\"text-align: right;\">\n",
       "      <th title=\"\"></th>\n",
       "      <th title=\"Descr\">Descr</th>\n",
       "      <th title=\"Value\">Value</th>\n",
       "    </tr>\n",
       "  </thead>\n",
       "  <tbody>\n",
       "    <tr>\n",
       "      <td>0</td>\n",
       "      <td>Model Name</td>\n",
       "      <td>simple_cnn</td>\n",
       "    </tr>\n",
       "    <tr>\n",
       "      <td>1</td>\n",
       "      <td>Model Type</td>\n",
       "      <td>Recurrent Neural Network</td>\n",
       "    </tr>\n",
       "    <tr>\n",
       "      <td>2</td>\n",
       "      <td>Number of Layers</td>\n",
       "      <td>4</td>\n",
       "    </tr>\n",
       "    <tr>\n",
       "      <td>3</td>\n",
       "      <td>Number of Input Layers</td>\n",
       "      <td>1</td>\n",
       "    </tr>\n",
       "    <tr>\n",
       "      <td>4</td>\n",
       "      <td>Number of Output Layers</td>\n",
       "      <td>1</td>\n",
       "    </tr>\n",
       "    <tr>\n",
       "      <td>5</td>\n",
       "      <td>Number of Convolutional Layers</td>\n",
       "      <td>0</td>\n",
       "    </tr>\n",
       "    <tr>\n",
       "      <td>6</td>\n",
       "      <td>Number of Pooling Layers</td>\n",
       "      <td>0</td>\n",
       "    </tr>\n",
       "    <tr>\n",
       "      <td>7</td>\n",
       "      <td>Number of Fully Connected Layers</td>\n",
       "      <td>0</td>\n",
       "    </tr>\n",
       "    <tr>\n",
       "      <td>8</td>\n",
       "      <td>Number of Recurrent Layers</td>\n",
       "      <td>2</td>\n",
       "    </tr>\n",
       "  </tbody>\n",
       "</table>\n",
       "</div>\n",
       "</div>\n",
       "<div class=\"cas-output-area\"></div>\n",
       "<p class=\"cas-results-performance\"><small><span class=\"cas-elapsed\">elapsed 0.00449s</span> &#183; <span class=\"cas-user\">user 0.00343s</span> &#183; <span class=\"cas-sys\">sys 0.00398s</span> &#183; <span class=\"cas-memory\">mem 3.09MB</span></small></p>"
      ],
      "text/plain": [
       "[ModelInfo]\n",
       "\n",
       "                               Descr                     Value\n",
       " 0                        Model Name                simple_cnn\n",
       " 1                        Model Type  Recurrent Neural Network\n",
       " 2                  Number of Layers                         4\n",
       " 3            Number of Input Layers                         1\n",
       " 4           Number of Output Layers                         1\n",
       " 5    Number of Convolutional Layers                         0\n",
       " 6          Number of Pooling Layers                         0\n",
       " 7  Number of Fully Connected Layers                         0\n",
       " 8        Number of Recurrent Layers                         2\n",
       "\n",
       "+ Elapsed: 0.00449s, user: 0.00343s, sys: 0.00398s, mem: 3.09mb"
      ]
     },
     "execution_count": 11,
     "metadata": {},
     "output_type": "execute_result"
    }
   ],
   "source": [
    "simple_lstm.get_model_info()"
   ]
  },
  {
   "cell_type": "code",
   "execution_count": 12,
   "metadata": {},
   "outputs": [
    {
     "data": {
      "text/html": [
       "<div>\n",
       "<style scoped>\n",
       "    .dataframe tbody tr th:only-of-type {\n",
       "        vertical-align: middle;\n",
       "    }\n",
       "\n",
       "    .dataframe tbody tr th {\n",
       "        vertical-align: top;\n",
       "    }\n",
       "\n",
       "    .dataframe thead th {\n",
       "        text-align: right;\n",
       "    }\n",
       "</style>\n",
       "<table border=\"1\" class=\"dataframe\">\n",
       "  <thead>\n",
       "    <tr style=\"text-align: right;\">\n",
       "      <th></th>\n",
       "      <th>Layer Id</th>\n",
       "      <th>Layer</th>\n",
       "      <th>Type</th>\n",
       "      <th>Activation</th>\n",
       "      <th>Output Size</th>\n",
       "    </tr>\n",
       "  </thead>\n",
       "  <tbody>\n",
       "    <tr>\n",
       "      <th>0</th>\n",
       "      <td>0</td>\n",
       "      <td>Input1</td>\n",
       "      <td>input</td>\n",
       "      <td>None</td>\n",
       "      <td>0</td>\n",
       "    </tr>\n",
       "    <tr>\n",
       "      <th>1</th>\n",
       "      <td>1</td>\n",
       "      <td>Rec.1</td>\n",
       "      <td>recurrent</td>\n",
       "      <td>Auto</td>\n",
       "      <td>15</td>\n",
       "    </tr>\n",
       "    <tr>\n",
       "      <th>2</th>\n",
       "      <td>2</td>\n",
       "      <td>Rec.2</td>\n",
       "      <td>recurrent</td>\n",
       "      <td>Auto</td>\n",
       "      <td>15</td>\n",
       "    </tr>\n",
       "    <tr>\n",
       "      <th>3</th>\n",
       "      <td>3</td>\n",
       "      <td>Output1</td>\n",
       "      <td>output</td>\n",
       "      <td>Identity</td>\n",
       "      <td>None</td>\n",
       "    </tr>\n",
       "  </tbody>\n",
       "</table>\n",
       "</div>"
      ],
      "text/plain": [
       "   Layer Id    Layer       Type Activation Output Size\n",
       "0         0   Input1      input       None           0\n",
       "1         1    Rec.1  recurrent       Auto          15\n",
       "2         2    Rec.2  recurrent       Auto          15\n",
       "3         3  Output1     output   Identity        None"
      ]
     },
     "execution_count": 12,
     "metadata": {},
     "output_type": "execute_result"
    }
   ],
   "source": [
    "simple_lstm.print_summary()"
   ]
  },
  {
   "cell_type": "code",
   "execution_count": 13,
   "metadata": {},
   "outputs": [
    {
     "data": {
      "image/svg+xml": [
       "<?xml version=\"1.0\" encoding=\"UTF-8\" standalone=\"no\"?>\r\n",
       "<!DOCTYPE svg PUBLIC \"-//W3C//DTD SVG 1.1//EN\"\r\n",
       " \"http://www.w3.org/Graphics/SVG/1.1/DTD/svg11.dtd\">\r\n",
       "<!-- Generated by graphviz version 2.38.0 (20140413.2041)\r\n",
       " -->\r\n",
       "<!-- Title: simple_cnn Pages: 1 -->\r\n",
       "<svg width=\"158pt\" height=\"241pt\"\r\n",
       " viewBox=\"0.00 0.00 158.00 241.00\" xmlns=\"http://www.w3.org/2000/svg\" xmlns:xlink=\"http://www.w3.org/1999/xlink\">\r\n",
       "<g id=\"graph0\" class=\"graph\" transform=\"scale(1 1) rotate(0) translate(4 237)\">\r\n",
       "<title>simple_cnn</title>\r\n",
       "<polygon fill=\"white\" stroke=\"none\" points=\"-4,4 -4,-237 154,-237 154,4 -4,4\"/>\r\n",
       "<!-- Input1 -->\r\n",
       "<g id=\"node1\" class=\"node\"><title>Input1</title>\r\n",
       "<polygon fill=\"#3288bd\" fill-opacity=\"0.250980\" stroke=\"#3288bd\" points=\"12.5,-210.5 12.5,-232.5 119.5,-232.5 119.5,-210.5 12.5,-210.5\"/>\r\n",
       "<text text-anchor=\"middle\" x=\"66\" y=\"-217.8\" font-family=\"Helvetica,sans-Serif\" font-size=\"14.00\">Input1(input)</text>\r\n",
       "</g>\r\n",
       "<!-- Rec.1 -->\r\n",
       "<g id=\"node2\" class=\"node\"><title>Rec.1</title>\r\n",
       "<polygon fill=\"#abdda4\" fill-opacity=\"0.250980\" stroke=\"#abdda4\" points=\"0,-140.5 0,-162.5 132,-162.5 132,-140.5 0,-140.5\"/>\r\n",
       "<text text-anchor=\"middle\" x=\"66\" y=\"-147.8\" font-family=\"Helvetica,sans-Serif\" font-size=\"14.00\">Rec.1(recurrent)</text>\r\n",
       "</g>\r\n",
       "<!-- Input1&#45;&gt;Rec.1 -->\r\n",
       "<g id=\"edge1\" class=\"edge\"><title>Input1&#45;&gt;Rec.1</title>\r\n",
       "<path fill=\"none\" stroke=\"#5677f3\" d=\"M66,-210.466C66,-200.623 66,-185.327 66,-172.919\"/>\r\n",
       "<polygon fill=\"#5677f3\" stroke=\"#5677f3\" points=\"69.5001,-172.575 66,-162.575 62.5001,-172.575 69.5001,-172.575\"/>\r\n",
       "<text text-anchor=\"middle\" x=\"72\" y=\"-184\" font-family=\"Helvetica,sans-Serif\" font-size=\"10.00\"> 0 </text>\r\n",
       "</g>\r\n",
       "<!-- Rec.1&#45;&gt;Rec.1 -->\r\n",
       "<g id=\"edge2\" class=\"edge\"><title>Rec.1&#45;&gt;Rec.1</title>\r\n",
       "<path fill=\"none\" stroke=\"#5677f3\" d=\"M132.201,-157.371C142.768,-156.512 150,-154.555 150,-151.5 150,-149.543 147.032,-148.037 142.12,-146.981\"/>\r\n",
       "<polygon fill=\"#5677f3\" stroke=\"#5677f3\" points=\"142.582,-143.512 132.201,-145.629 141.637,-150.447 142.582,-143.512\"/>\r\n",
       "</g>\r\n",
       "<!-- Rec.2 -->\r\n",
       "<g id=\"node3\" class=\"node\"><title>Rec.2</title>\r\n",
       "<polygon fill=\"#abdda4\" fill-opacity=\"0.250980\" stroke=\"#abdda4\" points=\"0,-70.5 0,-92.5 132,-92.5 132,-70.5 0,-70.5\"/>\r\n",
       "<text text-anchor=\"middle\" x=\"66\" y=\"-77.8\" font-family=\"Helvetica,sans-Serif\" font-size=\"14.00\">Rec.2(recurrent)</text>\r\n",
       "</g>\r\n",
       "<!-- Rec.1&#45;&gt;Rec.2 -->\r\n",
       "<g id=\"edge3\" class=\"edge\"><title>Rec.1&#45;&gt;Rec.2</title>\r\n",
       "<path fill=\"none\" stroke=\"#5677f3\" d=\"M66,-140.466C66,-130.623 66,-115.327 66,-102.919\"/>\r\n",
       "<polygon fill=\"#5677f3\" stroke=\"#5677f3\" points=\"69.5001,-102.575 66,-92.5748 62.5001,-102.575 69.5001,-102.575\"/>\r\n",
       "<text text-anchor=\"middle\" x=\"74.5\" y=\"-114\" font-family=\"Helvetica,sans-Serif\" font-size=\"10.00\"> 15 </text>\r\n",
       "</g>\r\n",
       "<!-- Rec.2&#45;&gt;Rec.2 -->\r\n",
       "<g id=\"edge4\" class=\"edge\"><title>Rec.2&#45;&gt;Rec.2</title>\r\n",
       "<path fill=\"none\" stroke=\"#5677f3\" d=\"M132.201,-87.3707C142.768,-86.5116 150,-84.5547 150,-81.5 150,-79.5431 147.032,-78.0367 142.12,-76.9809\"/>\r\n",
       "<polygon fill=\"#5677f3\" stroke=\"#5677f3\" points=\"142.582,-73.5116 132.201,-75.6293 141.637,-80.4475 142.582,-73.5116\"/>\r\n",
       "</g>\r\n",
       "<!-- Output1 -->\r\n",
       "<g id=\"node4\" class=\"node\"><title>Output1</title>\r\n",
       "<polygon fill=\"#5e4fa2\" fill-opacity=\"0.125490\" stroke=\"#5e4fa2\" points=\"2.5,-0.5 2.5,-22.5 129.5,-22.5 129.5,-0.5 2.5,-0.5\"/>\r\n",
       "<text text-anchor=\"middle\" x=\"66\" y=\"-7.8\" font-family=\"Helvetica,sans-Serif\" font-size=\"14.00\">Output1(output)</text>\r\n",
       "</g>\r\n",
       "<!-- Rec.2&#45;&gt;Output1 -->\r\n",
       "<g id=\"edge5\" class=\"edge\"><title>Rec.2&#45;&gt;Output1</title>\r\n",
       "<path fill=\"none\" stroke=\"#5677f3\" d=\"M66,-70.4664C66,-60.6231 66,-45.327 66,-32.9189\"/>\r\n",
       "<polygon fill=\"#5677f3\" stroke=\"#5677f3\" points=\"69.5001,-32.5748 66,-22.5748 62.5001,-32.5748 69.5001,-32.5748\"/>\r\n",
       "<text text-anchor=\"middle\" x=\"74.5\" y=\"-44\" font-family=\"Helvetica,sans-Serif\" font-size=\"10.00\"> 15 </text>\r\n",
       "</g>\r\n",
       "</g>\r\n",
       "</svg>\r\n"
      ],
      "text/plain": [
       "<graphviz.dot.Digraph at 0x14f3c847340>"
      ]
     },
     "execution_count": 13,
     "metadata": {},
     "output_type": "execute_result"
    }
   ],
   "source": [
    "simple_lstm.plot_network()"
   ]
  },
  {
   "cell_type": "markdown",
   "metadata": {},
   "source": [
    "# Train the Model"
   ]
  },
  {
   "cell_type": "code",
   "execution_count": 14,
   "metadata": {},
   "outputs": [
    {
     "name": "stdout",
     "output_type": "stream",
     "text": [
      "NOTE: Training from scratch.\n"
     ]
    }
   ],
   "source": [
    "optimizer = Optimizer(algorithm=AdamSolver(learning_rate=0.01), mini_batch_size=32, seed=1234, max_epochs=50)                   \n",
    "seq_spec  = Sequence(**train_tbl.sequence_opt)\n",
    "result = simple_lstm.fit(train_tbl, valid_table=valid_tbl, optimizer=optimizer, sequence=seq_spec, **train_tbl.inputs_target)"
   ]
  },
  {
   "cell_type": "markdown",
   "metadata": {},
   "source": [
    "# Score the Model"
   ]
  },
  {
   "cell_type": "code",
   "execution_count": 15,
   "metadata": {},
   "outputs": [
    {
     "data": {
      "text/html": [
       "<div>\n",
       "<style scoped>\n",
       "    .dataframe tbody tr th:only-of-type {\n",
       "        vertical-align: middle;\n",
       "    }\n",
       "\n",
       "    .dataframe tbody tr th {\n",
       "        vertical-align: top;\n",
       "    }\n",
       "\n",
       "    .dataframe thead th {\n",
       "        text-align: right;\n",
       "    }\n",
       "</style>\n",
       "<table border=\"1\" class=\"dataframe\">\n",
       "  <thead>\n",
       "    <tr style=\"text-align: right;\">\n",
       "      <th title=\"\"></th>\n",
       "      <th title=\"Descr\">Descr</th>\n",
       "      <th title=\"Value\">Value</th>\n",
       "    </tr>\n",
       "  </thead>\n",
       "  <tbody>\n",
       "    <tr>\n",
       "      <td>0</td>\n",
       "      <td>Number of Observations Read</td>\n",
       "      <td>1432</td>\n",
       "    </tr>\n",
       "    <tr>\n",
       "      <td>1</td>\n",
       "      <td>Number of Observations Used</td>\n",
       "      <td>1432</td>\n",
       "    </tr>\n",
       "    <tr>\n",
       "      <td>2</td>\n",
       "      <td>Mean Squared Error</td>\n",
       "      <td>0.601747</td>\n",
       "    </tr>\n",
       "    <tr>\n",
       "      <td>3</td>\n",
       "      <td>Loss Error</td>\n",
       "      <td>0.300874</td>\n",
       "    </tr>\n",
       "  </tbody>\n",
       "</table>\n",
       "</div>"
      ],
      "text/plain": [
       "                         Descr         Value\n",
       "0  Number of Observations Read          1432\n",
       "1  Number of Observations Used          1432\n",
       "2           Mean Squared Error      0.601747\n",
       "3                   Loss Error      0.300874"
      ]
     },
     "execution_count": 15,
     "metadata": {},
     "output_type": "execute_result"
    }
   ],
   "source": [
    "scored_info = simple_lstm.predict(test_tbl)\n",
    "scored_table = scored_info['OutputCasTables']['Name'][0]\n",
    "scored_info['ScoreInfo']"
   ]
  },
  {
   "cell_type": "markdown",
   "metadata": {},
   "source": [
    "# Analyze Results Locally"
   ]
  },
  {
   "cell_type": "code",
   "execution_count": 16,
   "metadata": {
    "scrolled": true
   },
   "outputs": [
    {
     "data": {
      "text/html": [
       "<div>\n",
       "<style scoped>\n",
       "    .dataframe tbody tr th:only-of-type {\n",
       "        vertical-align: middle;\n",
       "    }\n",
       "\n",
       "    .dataframe tbody tr th {\n",
       "        vertical-align: top;\n",
       "    }\n",
       "\n",
       "    .dataframe thead th {\n",
       "        text-align: right;\n",
       "    }\n",
       "</style>\n",
       "<table border=\"1\" class=\"dataframe\"><caption>Selected Rows from Table VALID_RES_AXPNKE</caption>\n",
       "  <thead>\n",
       "    <tr style=\"text-align: right;\">\n",
       "      <th title=\"\"></th>\n",
       "      <th title=\"datetime\">datetime</th>\n",
       "      <th title=\"T_MAX\">T_MAX</th>\n",
       "      <th title=\"P_CALC\">P_CALC</th>\n",
       "      <th title=\"sin_Hr\">sin_Hr</th>\n",
       "      <th title=\"cos_Hr\">cos_Hr</th>\n",
       "      <th title=\"sin_day_of_year\">sin_day_of_year</th>\n",
       "      <th title=\"cos_day_of_year\">cos_day_of_year</th>\n",
       "      <th title=\"P_CALC_lag1\">P_CALC_lag1</th>\n",
       "      <th title=\"P_CALC_lag2\">P_CALC_lag2</th>\n",
       "      <th title=\"P_CALC_lag3\">P_CALC_lag3</th>\n",
       "      <th title=\"...\">...</th>\n",
       "      <th title=\"cos_day_of_year_lag4\">cos_day_of_year_lag4</th>\n",
       "      <th title=\"T_MAX_lag1\">T_MAX_lag1</th>\n",
       "      <th title=\"T_MAX_lag2\">T_MAX_lag2</th>\n",
       "      <th title=\"T_MAX_lag3\">T_MAX_lag3</th>\n",
       "      <th title=\"T_MAX_lag4\">T_MAX_lag4</th>\n",
       "      <th title=\"T_MAX_lag5\">T_MAX_lag5</th>\n",
       "      <th title=\"xlen\">xlen</th>\n",
       "      <th title=\"ylen\">ylen</th>\n",
       "      <th title=\"split_id\">split_id</th>\n",
       "      <th title=\"_DL_Pred_\">_DL_Pred_</th>\n",
       "    </tr>\n",
       "  </thead>\n",
       "  <tbody>\n",
       "    <tr>\n",
       "      <td>0</td>\n",
       "      <td>2017-11-01 00:00:00</td>\n",
       "      <td>7.5</td>\n",
       "      <td>0.0</td>\n",
       "      <td>0.000000</td>\n",
       "      <td>1.000000</td>\n",
       "      <td>-0.8606</td>\n",
       "      <td>0.509282</td>\n",
       "      <td>0.0</td>\n",
       "      <td>0.0</td>\n",
       "      <td>0.0</td>\n",
       "      <td>...</td>\n",
       "      <td>0.494403</td>\n",
       "      <td>7.9</td>\n",
       "      <td>8.7</td>\n",
       "      <td>9.6</td>\n",
       "      <td>11.2</td>\n",
       "      <td>12.6</td>\n",
       "      <td>5.0</td>\n",
       "      <td>1.0</td>\n",
       "      <td>test</td>\n",
       "      <td>7.350939</td>\n",
       "    </tr>\n",
       "    <tr>\n",
       "      <td>1</td>\n",
       "      <td>2017-11-01 01:00:00</td>\n",
       "      <td>6.9</td>\n",
       "      <td>0.0</td>\n",
       "      <td>0.258819</td>\n",
       "      <td>0.965926</td>\n",
       "      <td>-0.8606</td>\n",
       "      <td>0.509282</td>\n",
       "      <td>0.0</td>\n",
       "      <td>0.0</td>\n",
       "      <td>0.0</td>\n",
       "      <td>...</td>\n",
       "      <td>0.494403</td>\n",
       "      <td>7.5</td>\n",
       "      <td>7.9</td>\n",
       "      <td>8.7</td>\n",
       "      <td>9.6</td>\n",
       "      <td>11.2</td>\n",
       "      <td>5.0</td>\n",
       "      <td>1.0</td>\n",
       "      <td>test</td>\n",
       "      <td>7.174779</td>\n",
       "    </tr>\n",
       "    <tr>\n",
       "      <td>2</td>\n",
       "      <td>2017-11-01 02:00:00</td>\n",
       "      <td>6.5</td>\n",
       "      <td>0.0</td>\n",
       "      <td>0.500000</td>\n",
       "      <td>0.866025</td>\n",
       "      <td>-0.8606</td>\n",
       "      <td>0.509282</td>\n",
       "      <td>0.0</td>\n",
       "      <td>0.0</td>\n",
       "      <td>0.0</td>\n",
       "      <td>...</td>\n",
       "      <td>0.494403</td>\n",
       "      <td>6.9</td>\n",
       "      <td>7.5</td>\n",
       "      <td>7.9</td>\n",
       "      <td>8.7</td>\n",
       "      <td>9.6</td>\n",
       "      <td>5.0</td>\n",
       "      <td>1.0</td>\n",
       "      <td>test</td>\n",
       "      <td>6.593699</td>\n",
       "    </tr>\n",
       "    <tr>\n",
       "      <td>3</td>\n",
       "      <td>2017-11-01 03:00:00</td>\n",
       "      <td>6.3</td>\n",
       "      <td>0.0</td>\n",
       "      <td>0.707107</td>\n",
       "      <td>0.707107</td>\n",
       "      <td>-0.8606</td>\n",
       "      <td>0.509282</td>\n",
       "      <td>0.0</td>\n",
       "      <td>0.0</td>\n",
       "      <td>0.0</td>\n",
       "      <td>...</td>\n",
       "      <td>0.494403</td>\n",
       "      <td>6.5</td>\n",
       "      <td>6.9</td>\n",
       "      <td>7.5</td>\n",
       "      <td>7.9</td>\n",
       "      <td>8.7</td>\n",
       "      <td>5.0</td>\n",
       "      <td>1.0</td>\n",
       "      <td>test</td>\n",
       "      <td>6.269394</td>\n",
       "    </tr>\n",
       "    <tr>\n",
       "      <td>4</td>\n",
       "      <td>2017-11-01 04:00:00</td>\n",
       "      <td>6.1</td>\n",
       "      <td>0.0</td>\n",
       "      <td>0.866025</td>\n",
       "      <td>0.500000</td>\n",
       "      <td>-0.8606</td>\n",
       "      <td>0.509282</td>\n",
       "      <td>0.0</td>\n",
       "      <td>0.0</td>\n",
       "      <td>0.0</td>\n",
       "      <td>...</td>\n",
       "      <td>0.509282</td>\n",
       "      <td>6.3</td>\n",
       "      <td>6.5</td>\n",
       "      <td>6.9</td>\n",
       "      <td>7.5</td>\n",
       "      <td>7.9</td>\n",
       "      <td>5.0</td>\n",
       "      <td>1.0</td>\n",
       "      <td>test</td>\n",
       "      <td>6.169186</td>\n",
       "    </tr>\n",
       "  </tbody>\n",
       "</table>\n",
       "<p>5 rows × 36 columns</p>\n",
       "</div>"
      ],
      "text/plain": [
       "Selected Rows from Table VALID_RES_AXPNKE\n",
       "\n",
       "             datetime  T_MAX  P_CALC    sin_Hr    cos_Hr  sin_day_of_year  cos_day_of_year  P_CALC_lag1  P_CALC_lag2  P_CALC_lag3  P_CALC_lag4  sin_Hr_lag1  sin_Hr_lag2  sin_Hr_lag3  sin_Hr_lag4  cos_Hr_lag1  cos_Hr_lag2  cos_Hr_lag3  cos_Hr_lag4  sin_day_of_year_lag1  sin_day_of_year_lag2  sin_day_of_year_lag3  sin_day_of_year_lag4  cos_day_of_year_lag1  cos_day_of_year_lag2  cos_day_of_year_lag3  cos_day_of_year_lag4  T_MAX_lag1  T_MAX_lag2  T_MAX_lag3  T_MAX_lag4  T_MAX_lag5  xlen  ylen split_id  _DL_Pred_\n",
       "0 2017-11-01 00:00:00    7.5     0.0  0.000000  1.000000          -0.8606         0.509282          0.0          0.0          0.0          0.0    -0.258819    -0.500000    -0.707107    -0.866025     0.965926     0.866025     0.707107     0.500000             -0.869233             -0.869233             -0.869233             -0.869233              0.494403              0.494403              0.494403              0.494403         7.9         8.7         9.6        11.2        12.6   5.0   1.0     test   7.350939\n",
       "1 2017-11-01 01:00:00    6.9     0.0  0.258819  0.965926          -0.8606         0.509282          0.0          0.0          0.0          0.0     0.000000    -0.258819    -0.500000    -0.707107     1.000000     0.965926     0.866025     0.707107             -0.860600             -0.869233             -0.869233             -0.869233              0.509282              0.494403              0.494403              0.494403         7.5         7.9         8.7         9.6        11.2   5.0   1.0     test   7.174779\n",
       "2 2017-11-01 02:00:00    6.5     0.0  0.500000  0.866025          -0.8606         0.509282          0.0          0.0          0.0          0.0     0.258819     0.000000    -0.258819    -0.500000     0.965926     1.000000     0.965926     0.866025             -0.860600             -0.860600             -0.869233             -0.869233              0.509282              0.509282              0.494403              0.494403         6.9         7.5         7.9         8.7         9.6   5.0   1.0     test   6.593699\n",
       "3 2017-11-01 03:00:00    6.3     0.0  0.707107  0.707107          -0.8606         0.509282          0.0          0.0          0.0          0.0     0.500000     0.258819     0.000000    -0.258819     0.866025     0.965926     1.000000     0.965926             -0.860600             -0.860600             -0.860600             -0.869233              0.509282              0.509282              0.509282              0.494403         6.5         6.9         7.5         7.9         8.7   5.0   1.0     test   6.269394\n",
       "4 2017-11-01 04:00:00    6.1     0.0  0.866025  0.500000          -0.8606         0.509282          0.0          0.0          0.0          0.0     0.707107     0.500000     0.258819     0.000000     0.707107     0.866025     0.965926     1.000000             -0.860600             -0.860600             -0.860600             -0.860600              0.509282              0.509282              0.509282              0.509282         6.3         6.5         6.9         7.5         7.9   5.0   1.0     test   6.169186"
      ]
     },
     "metadata": {},
     "output_type": "display_data"
    },
    {
     "data": {
      "text/plain": [
       "(1432, 36)"
      ]
     },
     "execution_count": 16,
     "metadata": {},
     "output_type": "execute_result"
    }
   ],
   "source": [
    "df = conn.CASTable(name=scored_table)\n",
    "df = df.to_frame()\n",
    "display(df.head())\n",
    "df.shape"
   ]
  },
  {
   "cell_type": "code",
   "execution_count": 17,
   "metadata": {},
   "outputs": [
    {
     "name": "stdout",
     "output_type": "stream",
     "text": [
      "Average absolute error = 0.5322\n"
     ]
    }
   ],
   "source": [
    "print('Average absolute error = ' + str(round(abs(df['T_MAX']- df['_DL_Pred_']).mean(),4)))"
   ]
  },
  {
   "cell_type": "code",
   "execution_count": 18,
   "metadata": {},
   "outputs": [
    {
     "data": {
      "image/png": "[encoded data removed]",
      "text/plain": [
       "<Figure size 576x576 with 1 Axes>"
      ]
     },
     "metadata": {
      "needs_background": "light"
     },
     "output_type": "display_data"
    }
   ],
   "source": [
    "plt.figure(figsize=(8,8))\n",
    "plt.plot(df['T_MAX'][:1000], color='blue', linewidth=1, label='Observed')\n",
    "plt.plot(df['_DL_Pred_'][:1000], color='red', linewidth=1, label='Predicted')\n",
    "plt.title('A Thousand Hour Forecast', fontsize=15)\n",
    "plt.xlabel('Hour', fontsize=15)\n",
    "plt.ylabel('Celsius', fontsize=15)\n",
    "plt.legend(loc='lower right', fontsize=15)\n",
    "plt.show()"
   ]
  },
  {
   "cell_type": "markdown",
   "metadata": {
    "collapsed": true
   },
   "source": [
    "# End the Session"
   ]
  },
  {
   "cell_type": "code",
   "execution_count": 19,
   "metadata": {},
   "outputs": [
    {
     "data": {
      "text/html": [
       "<div class=\"cas-output-area\"></div>\n",
       "<p class=\"cas-results-performance\"><small><span class=\"cas-elapsed\">elapsed 0.0002s</span> &#183; <span class=\"cas-user\">user 0.000187s</span> &#183; <span class=\"cas-memory\">mem 0.222MB</span></small></p>"
      ],
      "text/plain": [
       "+ Elapsed: 0.0002s, user: 0.000187s, mem: 0.222mb"
      ]
     },
     "execution_count": 19,
     "metadata": {},
     "output_type": "execute_result"
    }
   ],
   "source": [
    "conn.session.endSession()"
   ]
  }
 ],
 "metadata": {
  "kernelspec": {
   "display_name": "Python 3",
   "language": "python",
   "name": "python3"
  },
  "language_info": {
   "codemirror_mode": {
    "name": "ipython",
    "version": 3
   },
   "file_extension": ".py",
   "mimetype": "text/x-python",
   "name": "python",
   "nbconvert_exporter": "python",
   "pygments_lexer": "ipython3",
   "version": "3.8.5"
  }
 },
 "nbformat": 4,
 "nbformat_minor": 2
}
